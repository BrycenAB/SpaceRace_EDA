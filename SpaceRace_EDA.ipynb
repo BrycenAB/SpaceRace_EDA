{
 "cells": [
  {
   "cell_type": "markdown",
   "source": [
    "# Overview\n",
    "\n",
    "## About the data\n",
    "* The data is from __[Kaggle/agirlcoding](https://www.kaggle.com/agirlcoding/all-space-missions-from-1957)__\n",
    "* The data contains information about all space missions from 1957 to 2020\n",
    "* Columns:\n",
    "    * Company Name - Name of the company\n",
    "    * Location - Location of the launch\n",
    "    * Datum - Date and time of the launch\n",
    "    * Detail - Rocket name\n",
    "    * Satus Rocket - Status of the rocket\n",
    "    * Launch Cost  - Cost of the rocket (original column name is \"Rocket\")\n",
    "    * Status Mission - Status of the mission\n",
    "* Missing values in the data:\n",
    "    * Company Name - 0\n",
    "    * Location - 0\n",
    "    * Datum - 0\n",
    "    * Detail - 0\n",
    "    * Satus Rocket - 0\n",
    "    * Launch Cost  - 3360\n",
    "    * Status Mission - 0\n",
    "* Data types:\n",
    "    * Company Name - String\n",
    "    * Location - String\n",
    "    * Datum - String\n",
    "    * Detail - String\n",
    "    * Satus Rocket - String\n",
    "    * Launch Cost  - Float\n",
    "    * Status Mission - String\n",
    "\n",
    "## Questions:\n",
    "* How did the rate of launches change over the years?\n",
    "* How many launches per location ?\n",
    "* How many launches per company ?\n",
    "* What is the success rate of all launches ?\n",
    "* What is the success rate of all launches per year?\n",
    "* How has the cost of the launches changed over time ?\n",
    "* How has the cost of launches changed over time per company ?\n"
   ],
   "metadata": {
    "collapsed": false
   }
  },
  {
   "cell_type": "code",
   "execution_count": 70,
   "outputs": [
    {
     "data": {
      "text/plain": "   Unnamed: 0.1  Unnamed: 0 Company Name  \\\n0             0           0       SpaceX   \n1             1           1         CASC   \n2             2           2       SpaceX   \n3             3           3    Roscosmos   \n4             4           4          ULA   \n\n                                            Location  \\\n0         LC-39A, Kennedy Space Center, Florida, USA   \n1  Site 9401 (SLS-2), Jiuquan Satellite Launch Ce...   \n2                      Pad A, Boca Chica, Texas, USA   \n3       Site 200/39, Baikonur Cosmodrome, Kazakhstan   \n4           SLC-41, Cape Canaveral AFS, Florida, USA   \n\n                        Datum                                        Detail  \\\n0  Fri Aug 07, 2020 05:12 UTC  Falcon 9 Block 5 | Starlink V1 L9 & BlackSky   \n1  Thu Aug 06, 2020 04:01 UTC           Long March 2D | Gaofen-9 04 & Q-SAT   \n2  Tue Aug 04, 2020 23:57 UTC            Starship Prototype | 150 Meter Hop   \n3  Thu Jul 30, 2020 21:25 UTC  Proton-M/Briz-M | Ekspress-80 & Ekspress-103   \n4  Thu Jul 30, 2020 11:50 UTC                    Atlas V 541 | Perseverance   \n\n  Status Rocket  Launch Cost Status Mission  \n0  StatusActive        50.0         Success  \n1  StatusActive       29.75         Success  \n2  StatusActive          NaN        Success  \n3  StatusActive        65.0         Success  \n4  StatusActive       145.0         Success  ",
      "text/html": "<div>\n<style scoped>\n    .dataframe tbody tr th:only-of-type {\n        vertical-align: middle;\n    }\n\n    .dataframe tbody tr th {\n        vertical-align: top;\n    }\n\n    .dataframe thead th {\n        text-align: right;\n    }\n</style>\n<table border=\"1\" class=\"dataframe\">\n  <thead>\n    <tr style=\"text-align: right;\">\n      <th></th>\n      <th>Unnamed: 0.1</th>\n      <th>Unnamed: 0</th>\n      <th>Company Name</th>\n      <th>Location</th>\n      <th>Datum</th>\n      <th>Detail</th>\n      <th>Status Rocket</th>\n      <th>Launch Cost</th>\n      <th>Status Mission</th>\n    </tr>\n  </thead>\n  <tbody>\n    <tr>\n      <th>0</th>\n      <td>0</td>\n      <td>0</td>\n      <td>SpaceX</td>\n      <td>LC-39A, Kennedy Space Center, Florida, USA</td>\n      <td>Fri Aug 07, 2020 05:12 UTC</td>\n      <td>Falcon 9 Block 5 | Starlink V1 L9 &amp; BlackSky</td>\n      <td>StatusActive</td>\n      <td>50.0</td>\n      <td>Success</td>\n    </tr>\n    <tr>\n      <th>1</th>\n      <td>1</td>\n      <td>1</td>\n      <td>CASC</td>\n      <td>Site 9401 (SLS-2), Jiuquan Satellite Launch Ce...</td>\n      <td>Thu Aug 06, 2020 04:01 UTC</td>\n      <td>Long March 2D | Gaofen-9 04 &amp; Q-SAT</td>\n      <td>StatusActive</td>\n      <td>29.75</td>\n      <td>Success</td>\n    </tr>\n    <tr>\n      <th>2</th>\n      <td>2</td>\n      <td>2</td>\n      <td>SpaceX</td>\n      <td>Pad A, Boca Chica, Texas, USA</td>\n      <td>Tue Aug 04, 2020 23:57 UTC</td>\n      <td>Starship Prototype | 150 Meter Hop</td>\n      <td>StatusActive</td>\n      <td>NaN</td>\n      <td>Success</td>\n    </tr>\n    <tr>\n      <th>3</th>\n      <td>3</td>\n      <td>3</td>\n      <td>Roscosmos</td>\n      <td>Site 200/39, Baikonur Cosmodrome, Kazakhstan</td>\n      <td>Thu Jul 30, 2020 21:25 UTC</td>\n      <td>Proton-M/Briz-M | Ekspress-80 &amp; Ekspress-103</td>\n      <td>StatusActive</td>\n      <td>65.0</td>\n      <td>Success</td>\n    </tr>\n    <tr>\n      <th>4</th>\n      <td>4</td>\n      <td>4</td>\n      <td>ULA</td>\n      <td>SLC-41, Cape Canaveral AFS, Florida, USA</td>\n      <td>Thu Jul 30, 2020 11:50 UTC</td>\n      <td>Atlas V 541 | Perseverance</td>\n      <td>StatusActive</td>\n      <td>145.0</td>\n      <td>Success</td>\n    </tr>\n  </tbody>\n</table>\n</div>"
     },
     "execution_count": 70,
     "metadata": {},
     "output_type": "execute_result"
    }
   ],
   "source": [
    "import pandas as pd\n",
    "import plotly.express as px\n",
    "\n",
    "df = pd.read_csv('Space_Corrected.csv')\n",
    "df.head()"
   ],
   "metadata": {
    "collapsed": false,
    "ExecuteTime": {
     "end_time": "2023-07-13T23:39:19.148782900Z",
     "start_time": "2023-07-13T23:39:18.927071900Z"
    }
   }
  },
  {
   "cell_type": "code",
   "execution_count": 71,
   "outputs": [
    {
     "data": {
      "text/plain": "  Company Name                                           Location  \\\n0       SpaceX         LC-39A, Kennedy Space Center, Florida, USA   \n1         CASC  Site 9401 (SLS-2), Jiuquan Satellite Launch Ce...   \n2       SpaceX                      Pad A, Boca Chica, Texas, USA   \n3    Roscosmos       Site 200/39, Baikonur Cosmodrome, Kazakhstan   \n4          ULA           SLC-41, Cape Canaveral AFS, Florida, USA   \n\n                        Datum                                        Detail  \\\n0  Fri Aug 07, 2020 05:12 UTC  Falcon 9 Block 5 | Starlink V1 L9 & BlackSky   \n1  Thu Aug 06, 2020 04:01 UTC           Long March 2D | Gaofen-9 04 & Q-SAT   \n2  Tue Aug 04, 2020 23:57 UTC            Starship Prototype | 150 Meter Hop   \n3  Thu Jul 30, 2020 21:25 UTC  Proton-M/Briz-M | Ekspress-80 & Ekspress-103   \n4  Thu Jul 30, 2020 11:50 UTC                    Atlas V 541 | Perseverance   \n\n  Status Rocket  Launch Cost Status Mission  \n0  StatusActive        50.0         Success  \n1  StatusActive       29.75         Success  \n2  StatusActive          NaN        Success  \n3  StatusActive        65.0         Success  \n4  StatusActive       145.0         Success  ",
      "text/html": "<div>\n<style scoped>\n    .dataframe tbody tr th:only-of-type {\n        vertical-align: middle;\n    }\n\n    .dataframe tbody tr th {\n        vertical-align: top;\n    }\n\n    .dataframe thead th {\n        text-align: right;\n    }\n</style>\n<table border=\"1\" class=\"dataframe\">\n  <thead>\n    <tr style=\"text-align: right;\">\n      <th></th>\n      <th>Company Name</th>\n      <th>Location</th>\n      <th>Datum</th>\n      <th>Detail</th>\n      <th>Status Rocket</th>\n      <th>Launch Cost</th>\n      <th>Status Mission</th>\n    </tr>\n  </thead>\n  <tbody>\n    <tr>\n      <th>0</th>\n      <td>SpaceX</td>\n      <td>LC-39A, Kennedy Space Center, Florida, USA</td>\n      <td>Fri Aug 07, 2020 05:12 UTC</td>\n      <td>Falcon 9 Block 5 | Starlink V1 L9 &amp; BlackSky</td>\n      <td>StatusActive</td>\n      <td>50.0</td>\n      <td>Success</td>\n    </tr>\n    <tr>\n      <th>1</th>\n      <td>CASC</td>\n      <td>Site 9401 (SLS-2), Jiuquan Satellite Launch Ce...</td>\n      <td>Thu Aug 06, 2020 04:01 UTC</td>\n      <td>Long March 2D | Gaofen-9 04 &amp; Q-SAT</td>\n      <td>StatusActive</td>\n      <td>29.75</td>\n      <td>Success</td>\n    </tr>\n    <tr>\n      <th>2</th>\n      <td>SpaceX</td>\n      <td>Pad A, Boca Chica, Texas, USA</td>\n      <td>Tue Aug 04, 2020 23:57 UTC</td>\n      <td>Starship Prototype | 150 Meter Hop</td>\n      <td>StatusActive</td>\n      <td>NaN</td>\n      <td>Success</td>\n    </tr>\n    <tr>\n      <th>3</th>\n      <td>Roscosmos</td>\n      <td>Site 200/39, Baikonur Cosmodrome, Kazakhstan</td>\n      <td>Thu Jul 30, 2020 21:25 UTC</td>\n      <td>Proton-M/Briz-M | Ekspress-80 &amp; Ekspress-103</td>\n      <td>StatusActive</td>\n      <td>65.0</td>\n      <td>Success</td>\n    </tr>\n    <tr>\n      <th>4</th>\n      <td>ULA</td>\n      <td>SLC-41, Cape Canaveral AFS, Florida, USA</td>\n      <td>Thu Jul 30, 2020 11:50 UTC</td>\n      <td>Atlas V 541 | Perseverance</td>\n      <td>StatusActive</td>\n      <td>145.0</td>\n      <td>Success</td>\n    </tr>\n  </tbody>\n</table>\n</div>"
     },
     "execution_count": 71,
     "metadata": {},
     "output_type": "execute_result"
    }
   ],
   "source": [
    "# remove unnecessary columns\n",
    "df = df.drop(columns=['Unnamed: 0'])\n",
    "df = df.drop(columns=['Unnamed: 0.1'])\n",
    "df.head()"
   ],
   "metadata": {
    "collapsed": false,
    "ExecuteTime": {
     "end_time": "2023-07-13T23:39:19.150270900Z",
     "start_time": "2023-07-13T23:39:18.967744400Z"
    }
   }
  },
  {
   "cell_type": "code",
   "execution_count": 72,
   "outputs": [
    {
     "name": "stdout",
     "output_type": "stream",
     "text": [
      "<class 'pandas.core.frame.DataFrame'>\n",
      "RangeIndex: 4324 entries, 0 to 4323\n",
      "Data columns (total 7 columns):\n",
      " #   Column          Non-Null Count  Dtype \n",
      "---  ------          --------------  ----- \n",
      " 0   Company Name    4324 non-null   object\n",
      " 1   Location        4324 non-null   object\n",
      " 2   Datum           4324 non-null   object\n",
      " 3   Detail          4324 non-null   object\n",
      " 4   Status Rocket   4324 non-null   object\n",
      " 5    Launch Cost    964 non-null    object\n",
      " 6   Status Mission  4324 non-null   object\n",
      "dtypes: object(7)\n",
      "memory usage: 236.6+ KB\n"
     ]
    }
   ],
   "source": [
    "df.info()"
   ],
   "metadata": {
    "collapsed": false,
    "ExecuteTime": {
     "end_time": "2023-07-13T23:39:19.150766900Z",
     "start_time": "2023-07-13T23:39:18.999487500Z"
    }
   }
  },
  {
   "cell_type": "code",
   "execution_count": 73,
   "outputs": [
    {
     "data": {
      "text/plain": "Company Name         0\nLocation             0\nDatum                0\nDetail               0\nStatus Rocket        0\n Launch Cost      3360\nStatus Mission       0\ndtype: int64"
     },
     "execution_count": 73,
     "metadata": {},
     "output_type": "execute_result"
    }
   ],
   "source": [
    "df.isnull().sum()"
   ],
   "metadata": {
    "collapsed": false,
    "ExecuteTime": {
     "end_time": "2023-07-13T23:39:19.152254900Z",
     "start_time": "2023-07-13T23:39:19.027263400Z"
    }
   }
  },
  {
   "cell_type": "code",
   "execution_count": 74,
   "outputs": [
    {
     "name": "stdout",
     "output_type": "stream",
     "text": [
      "Total number of launches: 4324\n"
     ]
    }
   ],
   "source": [
    "print('Total number of launches: ' + str(df['Company Name'].count()))"
   ],
   "metadata": {
    "collapsed": false,
    "ExecuteTime": {
     "end_time": "2023-07-13T23:39:19.152254900Z",
     "start_time": "2023-07-13T23:39:19.061487700Z"
    }
   }
  },
  {
   "cell_type": "code",
   "execution_count": 75,
   "outputs": [
    {
     "data": {
      "text/plain": "RVSN USSR           1777\nArianespace          279\nCASC                 251\nGeneral Dynamics     251\nNASA                 203\nVKS RF               201\nUS Air Force         161\nULA                  140\nBoeing               136\nMartin Marietta      114\nSpaceX               100\nMHI                   84\nNorthrop              83\nLockheed              79\nISRO                  76\nRoscosmos             55\nILS                   46\nSea Launch            36\nISAS                  30\nKosmotras             22\nUS Navy               17\nISA                   13\nRocket Lab            13\nEurockot              13\nESA                   13\nBlue Origin           12\nIAI                   11\nExPace                10\nASI                    9\nCNES                   8\nAMBA                   8\nMITT                   7\nJAXA                   7\nLand Launch            7\nUT                     5\nKCST                   5\nCASIC                  5\nExos                   4\nCECLES                 4\nArm??e de l'Air        4\nKARI                   3\nSRC                    3\nAEB                    3\nRAE                    2\nOKB-586                2\nYuzhmash               2\nLandspace              1\nDouglas                1\nEER                    1\nStarsem                1\nVirgin Orbit           1\nIRGC                   1\ni-Space                1\nOneSpace               1\nSandia                 1\nKhrunichev             1\nName: Company Name, dtype: int64"
     },
     "execution_count": 75,
     "metadata": {},
     "output_type": "execute_result"
    }
   ],
   "source": [
    "# number of launches per company\n",
    "df['Company Name'].value_counts()"
   ],
   "metadata": {
    "collapsed": false,
    "ExecuteTime": {
     "end_time": "2023-07-13T23:39:19.152751Z",
     "start_time": "2023-07-13T23:39:19.075871700Z"
    }
   }
  },
  {
   "cell_type": "code",
   "execution_count": 76,
   "outputs": [
    {
     "data": {
      "text/plain": "Success              3879\nFailure               339\nPartial Failure       102\nPrelaunch Failure       4\nName: Status Mission, dtype: int64"
     },
     "execution_count": 76,
     "metadata": {},
     "output_type": "execute_result"
    }
   ],
   "source": [
    "df['Status Mission'].value_counts()"
   ],
   "metadata": {
    "collapsed": false,
    "ExecuteTime": {
     "end_time": "2023-07-13T23:39:19.152751Z",
     "start_time": "2023-07-13T23:39:19.103153Z"
    }
   }
  },
  {
   "cell_type": "code",
   "execution_count": 77,
   "outputs": [
    {
     "data": {
      "text/plain": "Site 31/6, Baikonur Cosmodrome, Kazakhstan               235\nSite 132/1, Plesetsk Cosmodrome, Russia                  216\nSite 43/4, Plesetsk Cosmodrome, Russia                   202\nSite 41/1, Plesetsk Cosmodrome, Russia                   198\nSite 1/5, Baikonur Cosmodrome, Kazakhstan                193\n                                                        ... \nJiuquan Satellite Launch Center, China                     1\nLP-41, Kauai, Pacific Missile Range Facility               1\nTai Rui Barge, Yellow Sea                                  1\nLaunch Plateform, Shahrud Missile Test Site                1\nK-496 Submarine, Barents Sea Launch Area, Barents Sea      1\nName: Location, Length: 137, dtype: int64"
     },
     "execution_count": 77,
     "metadata": {},
     "output_type": "execute_result"
    }
   ],
   "source": [
    "df['Location'].value_counts()"
   ],
   "metadata": {
    "collapsed": false,
    "ExecuteTime": {
     "end_time": "2023-07-13T23:39:19.177055500Z",
     "start_time": "2023-07-13T23:39:19.126463400Z"
    }
   }
  },
  {
   "cell_type": "markdown",
   "source": [
    "# Data Cleaning"
   ],
   "metadata": {
    "collapsed": false
   }
  },
  {
   "cell_type": "code",
   "execution_count": 78,
   "outputs": [
    {
     "data": {
      "text/plain": "  Company Name                                           Location  \\\n0       SpaceX         LC-39A, Kennedy Space Center, Florida, USA   \n1         CASC  Site 9401 (SLS-2), Jiuquan Satellite Launch Ce...   \n2       SpaceX                      Pad A, Boca Chica, Texas, USA   \n3    Roscosmos       Site 200/39, Baikonur Cosmodrome, Kazakhstan   \n4          ULA           SLC-41, Cape Canaveral AFS, Florida, USA   \n\n                      Datum                                        Detail  \\\n0 2020-08-07 05:12:00+00:00  Falcon 9 Block 5 | Starlink V1 L9 & BlackSky   \n1 2020-08-06 04:01:00+00:00           Long March 2D | Gaofen-9 04 & Q-SAT   \n2 2020-08-04 23:57:00+00:00            Starship Prototype | 150 Meter Hop   \n3 2020-07-30 21:25:00+00:00  Proton-M/Briz-M | Ekspress-80 & Ekspress-103   \n4 2020-07-30 11:50:00+00:00                    Atlas V 541 | Perseverance   \n\n  Status Rocket  Launch Cost Status Mission    Year  Month  \n0  StatusActive        50.0         Success  2020.0    8.0  \n1  StatusActive       29.75         Success  2020.0    8.0  \n2  StatusActive          NaN        Success  2020.0    8.0  \n3  StatusActive        65.0         Success  2020.0    7.0  \n4  StatusActive       145.0         Success  2020.0    7.0  ",
      "text/html": "<div>\n<style scoped>\n    .dataframe tbody tr th:only-of-type {\n        vertical-align: middle;\n    }\n\n    .dataframe tbody tr th {\n        vertical-align: top;\n    }\n\n    .dataframe thead th {\n        text-align: right;\n    }\n</style>\n<table border=\"1\" class=\"dataframe\">\n  <thead>\n    <tr style=\"text-align: right;\">\n      <th></th>\n      <th>Company Name</th>\n      <th>Location</th>\n      <th>Datum</th>\n      <th>Detail</th>\n      <th>Status Rocket</th>\n      <th>Launch Cost</th>\n      <th>Status Mission</th>\n      <th>Year</th>\n      <th>Month</th>\n    </tr>\n  </thead>\n  <tbody>\n    <tr>\n      <th>0</th>\n      <td>SpaceX</td>\n      <td>LC-39A, Kennedy Space Center, Florida, USA</td>\n      <td>2020-08-07 05:12:00+00:00</td>\n      <td>Falcon 9 Block 5 | Starlink V1 L9 &amp; BlackSky</td>\n      <td>StatusActive</td>\n      <td>50.0</td>\n      <td>Success</td>\n      <td>2020.0</td>\n      <td>8.0</td>\n    </tr>\n    <tr>\n      <th>1</th>\n      <td>CASC</td>\n      <td>Site 9401 (SLS-2), Jiuquan Satellite Launch Ce...</td>\n      <td>2020-08-06 04:01:00+00:00</td>\n      <td>Long March 2D | Gaofen-9 04 &amp; Q-SAT</td>\n      <td>StatusActive</td>\n      <td>29.75</td>\n      <td>Success</td>\n      <td>2020.0</td>\n      <td>8.0</td>\n    </tr>\n    <tr>\n      <th>2</th>\n      <td>SpaceX</td>\n      <td>Pad A, Boca Chica, Texas, USA</td>\n      <td>2020-08-04 23:57:00+00:00</td>\n      <td>Starship Prototype | 150 Meter Hop</td>\n      <td>StatusActive</td>\n      <td>NaN</td>\n      <td>Success</td>\n      <td>2020.0</td>\n      <td>8.0</td>\n    </tr>\n    <tr>\n      <th>3</th>\n      <td>Roscosmos</td>\n      <td>Site 200/39, Baikonur Cosmodrome, Kazakhstan</td>\n      <td>2020-07-30 21:25:00+00:00</td>\n      <td>Proton-M/Briz-M | Ekspress-80 &amp; Ekspress-103</td>\n      <td>StatusActive</td>\n      <td>65.0</td>\n      <td>Success</td>\n      <td>2020.0</td>\n      <td>7.0</td>\n    </tr>\n    <tr>\n      <th>4</th>\n      <td>ULA</td>\n      <td>SLC-41, Cape Canaveral AFS, Florida, USA</td>\n      <td>2020-07-30 11:50:00+00:00</td>\n      <td>Atlas V 541 | Perseverance</td>\n      <td>StatusActive</td>\n      <td>145.0</td>\n      <td>Success</td>\n      <td>2020.0</td>\n      <td>7.0</td>\n    </tr>\n  </tbody>\n</table>\n</div>"
     },
     "execution_count": 78,
     "metadata": {},
     "output_type": "execute_result"
    }
   ],
   "source": [
    "from datetime import datetime, timezone\n",
    "\n",
    "# Convert 'datum' column to datetime\n",
    "df['Datum'] = pd.to_datetime(df['Datum'], format='%a %b %d, %Y %H:%M %Z', errors='coerce')\n",
    "df.head(50)\n",
    "\n",
    "# create a new column with the year of the launch\n",
    "df['Year'] = df['Datum'].dt.year\n",
    "\n",
    "# create a new column with the month of the launch\n",
    "df['Month'] = df['Datum'].dt.month\n",
    "\n",
    "df.head()"
   ],
   "metadata": {
    "collapsed": false,
    "ExecuteTime": {
     "end_time": "2023-07-13T23:39:19.373967900Z",
     "start_time": "2023-07-13T23:39:19.138367Z"
    }
   }
  },
  {
   "cell_type": "markdown",
   "source": [
    "# Data visualization\n",
    "\n",
    "## How did the rate of launches change over the years?"
   ],
   "metadata": {
    "collapsed": false
   }
  },
  {
   "cell_type": "code",
   "execution_count": 79,
   "outputs": [
    {
     "data": {
      "application/vnd.plotly.v1+json": {
       "data": [
        {
         "alignmentgroup": "True",
         "hovertemplate": "Year=%{marker.color}<br>Count=%{y}<extra></extra>",
         "legendgroup": "",
         "marker": {
          "color": [
           2018.0,
           1971.0,
           1975.0,
           1976.0,
           1977.0,
           2019.0,
           1970.0,
           1967.0,
           1969.0,
           1968.0,
           1973.0,
           1966.0,
           1974.0,
           1972.0,
           1978.0,
           2017.0,
           2016.0,
           1965.0,
           1962.0,
           1990.0,
           1985.0,
           1997.0,
           1984.0,
           1998.0,
           1981.0,
           1982.0,
           1983.0,
           2020.0,
           1994.0,
           1992.0,
           1993.0,
           1986.0,
           1996.0,
           1995.0,
           1991.0,
           2000.0,
           1964.0,
           1988.0,
           1987.0,
           1999.0,
           1980.0,
           1961.0,
           2014.0,
           1989.0,
           2006.0,
           2007.0,
           2009.0,
           2003.0,
           2008.0,
           2013.0,
           2015.0,
           2002.0,
           1979.0,
           2001.0,
           2011.0,
           2004.0,
           1960.0,
           1963.0,
           2005.0,
           2010.0,
           2012.0,
           1958.0,
           1959.0,
           1957.0
          ],
          "coloraxis": "coloraxis",
          "pattern": {
           "shape": ""
          }
         },
         "name": "",
         "offsetgroup": "",
         "orientation": "v",
         "showlegend": false,
         "textposition": "auto",
         "x": [
          2018.0,
          1971.0,
          1975.0,
          1976.0,
          1977.0,
          2019.0,
          1970.0,
          1967.0,
          1969.0,
          1968.0,
          1973.0,
          1966.0,
          1974.0,
          1972.0,
          1978.0,
          2017.0,
          2016.0,
          1965.0,
          1962.0,
          1990.0,
          1985.0,
          1997.0,
          1984.0,
          1998.0,
          1981.0,
          1982.0,
          1983.0,
          2020.0,
          1994.0,
          1992.0,
          1993.0,
          1986.0,
          1996.0,
          1995.0,
          1991.0,
          2000.0,
          1964.0,
          1988.0,
          1987.0,
          1999.0,
          1980.0,
          1961.0,
          2014.0,
          1989.0,
          2006.0,
          2007.0,
          2009.0,
          2003.0,
          2008.0,
          2013.0,
          2015.0,
          2002.0,
          1979.0,
          2001.0,
          2011.0,
          2004.0,
          1960.0,
          1963.0,
          2005.0,
          2010.0,
          2012.0,
          1958.0,
          1959.0,
          1957.0
         ],
         "xaxis": "x",
         "y": [
          117,
          116,
          112,
          109,
          109,
          107,
          106,
          102,
          101,
          100,
          99,
          98,
          97,
          96,
          93,
          90,
          88,
          86,
          81,
          76,
          71,
          69,
          67,
          67,
          66,
          66,
          64,
          63,
          62,
          62,
          61,
          61,
          60,
          60,
          57,
          57,
          56,
          56,
          54,
          53,
          52,
          52,
          52,
          50,
          49,
          49,
          49,
          49,
          47,
          46,
          46,
          46,
          46,
          42,
          41,
          39,
          38,
          38,
          37,
          36,
          34,
          22,
          20,
          3
         ],
         "yaxis": "y",
         "type": "bar"
        }
       ],
       "layout": {
        "template": {
         "data": {
          "histogram2dcontour": [
           {
            "type": "histogram2dcontour",
            "colorbar": {
             "outlinewidth": 0,
             "ticks": ""
            },
            "colorscale": [
             [
              0.0,
              "#0d0887"
             ],
             [
              0.1111111111111111,
              "#46039f"
             ],
             [
              0.2222222222222222,
              "#7201a8"
             ],
             [
              0.3333333333333333,
              "#9c179e"
             ],
             [
              0.4444444444444444,
              "#bd3786"
             ],
             [
              0.5555555555555556,
              "#d8576b"
             ],
             [
              0.6666666666666666,
              "#ed7953"
             ],
             [
              0.7777777777777778,
              "#fb9f3a"
             ],
             [
              0.8888888888888888,
              "#fdca26"
             ],
             [
              1.0,
              "#f0f921"
             ]
            ]
           }
          ],
          "choropleth": [
           {
            "type": "choropleth",
            "colorbar": {
             "outlinewidth": 0,
             "ticks": ""
            }
           }
          ],
          "histogram2d": [
           {
            "type": "histogram2d",
            "colorbar": {
             "outlinewidth": 0,
             "ticks": ""
            },
            "colorscale": [
             [
              0.0,
              "#0d0887"
             ],
             [
              0.1111111111111111,
              "#46039f"
             ],
             [
              0.2222222222222222,
              "#7201a8"
             ],
             [
              0.3333333333333333,
              "#9c179e"
             ],
             [
              0.4444444444444444,
              "#bd3786"
             ],
             [
              0.5555555555555556,
              "#d8576b"
             ],
             [
              0.6666666666666666,
              "#ed7953"
             ],
             [
              0.7777777777777778,
              "#fb9f3a"
             ],
             [
              0.8888888888888888,
              "#fdca26"
             ],
             [
              1.0,
              "#f0f921"
             ]
            ]
           }
          ],
          "heatmap": [
           {
            "type": "heatmap",
            "colorbar": {
             "outlinewidth": 0,
             "ticks": ""
            },
            "colorscale": [
             [
              0.0,
              "#0d0887"
             ],
             [
              0.1111111111111111,
              "#46039f"
             ],
             [
              0.2222222222222222,
              "#7201a8"
             ],
             [
              0.3333333333333333,
              "#9c179e"
             ],
             [
              0.4444444444444444,
              "#bd3786"
             ],
             [
              0.5555555555555556,
              "#d8576b"
             ],
             [
              0.6666666666666666,
              "#ed7953"
             ],
             [
              0.7777777777777778,
              "#fb9f3a"
             ],
             [
              0.8888888888888888,
              "#fdca26"
             ],
             [
              1.0,
              "#f0f921"
             ]
            ]
           }
          ],
          "heatmapgl": [
           {
            "type": "heatmapgl",
            "colorbar": {
             "outlinewidth": 0,
             "ticks": ""
            },
            "colorscale": [
             [
              0.0,
              "#0d0887"
             ],
             [
              0.1111111111111111,
              "#46039f"
             ],
             [
              0.2222222222222222,
              "#7201a8"
             ],
             [
              0.3333333333333333,
              "#9c179e"
             ],
             [
              0.4444444444444444,
              "#bd3786"
             ],
             [
              0.5555555555555556,
              "#d8576b"
             ],
             [
              0.6666666666666666,
              "#ed7953"
             ],
             [
              0.7777777777777778,
              "#fb9f3a"
             ],
             [
              0.8888888888888888,
              "#fdca26"
             ],
             [
              1.0,
              "#f0f921"
             ]
            ]
           }
          ],
          "contourcarpet": [
           {
            "type": "contourcarpet",
            "colorbar": {
             "outlinewidth": 0,
             "ticks": ""
            }
           }
          ],
          "contour": [
           {
            "type": "contour",
            "colorbar": {
             "outlinewidth": 0,
             "ticks": ""
            },
            "colorscale": [
             [
              0.0,
              "#0d0887"
             ],
             [
              0.1111111111111111,
              "#46039f"
             ],
             [
              0.2222222222222222,
              "#7201a8"
             ],
             [
              0.3333333333333333,
              "#9c179e"
             ],
             [
              0.4444444444444444,
              "#bd3786"
             ],
             [
              0.5555555555555556,
              "#d8576b"
             ],
             [
              0.6666666666666666,
              "#ed7953"
             ],
             [
              0.7777777777777778,
              "#fb9f3a"
             ],
             [
              0.8888888888888888,
              "#fdca26"
             ],
             [
              1.0,
              "#f0f921"
             ]
            ]
           }
          ],
          "surface": [
           {
            "type": "surface",
            "colorbar": {
             "outlinewidth": 0,
             "ticks": ""
            },
            "colorscale": [
             [
              0.0,
              "#0d0887"
             ],
             [
              0.1111111111111111,
              "#46039f"
             ],
             [
              0.2222222222222222,
              "#7201a8"
             ],
             [
              0.3333333333333333,
              "#9c179e"
             ],
             [
              0.4444444444444444,
              "#bd3786"
             ],
             [
              0.5555555555555556,
              "#d8576b"
             ],
             [
              0.6666666666666666,
              "#ed7953"
             ],
             [
              0.7777777777777778,
              "#fb9f3a"
             ],
             [
              0.8888888888888888,
              "#fdca26"
             ],
             [
              1.0,
              "#f0f921"
             ]
            ]
           }
          ],
          "mesh3d": [
           {
            "type": "mesh3d",
            "colorbar": {
             "outlinewidth": 0,
             "ticks": ""
            }
           }
          ],
          "scatter": [
           {
            "marker": {
             "line": {
              "color": "#283442"
             }
            },
            "type": "scatter"
           }
          ],
          "parcoords": [
           {
            "type": "parcoords",
            "line": {
             "colorbar": {
              "outlinewidth": 0,
              "ticks": ""
             }
            }
           }
          ],
          "scatterpolargl": [
           {
            "type": "scatterpolargl",
            "marker": {
             "colorbar": {
              "outlinewidth": 0,
              "ticks": ""
             }
            }
           }
          ],
          "bar": [
           {
            "error_x": {
             "color": "#f2f5fa"
            },
            "error_y": {
             "color": "#f2f5fa"
            },
            "marker": {
             "line": {
              "color": "rgb(17,17,17)",
              "width": 0.5
             },
             "pattern": {
              "fillmode": "overlay",
              "size": 10,
              "solidity": 0.2
             }
            },
            "type": "bar"
           }
          ],
          "scattergeo": [
           {
            "type": "scattergeo",
            "marker": {
             "colorbar": {
              "outlinewidth": 0,
              "ticks": ""
             }
            }
           }
          ],
          "scatterpolar": [
           {
            "type": "scatterpolar",
            "marker": {
             "colorbar": {
              "outlinewidth": 0,
              "ticks": ""
             }
            }
           }
          ],
          "histogram": [
           {
            "marker": {
             "pattern": {
              "fillmode": "overlay",
              "size": 10,
              "solidity": 0.2
             }
            },
            "type": "histogram"
           }
          ],
          "scattergl": [
           {
            "marker": {
             "line": {
              "color": "#283442"
             }
            },
            "type": "scattergl"
           }
          ],
          "scatter3d": [
           {
            "type": "scatter3d",
            "line": {
             "colorbar": {
              "outlinewidth": 0,
              "ticks": ""
             }
            },
            "marker": {
             "colorbar": {
              "outlinewidth": 0,
              "ticks": ""
             }
            }
           }
          ],
          "scattermapbox": [
           {
            "type": "scattermapbox",
            "marker": {
             "colorbar": {
              "outlinewidth": 0,
              "ticks": ""
             }
            }
           }
          ],
          "scatterternary": [
           {
            "type": "scatterternary",
            "marker": {
             "colorbar": {
              "outlinewidth": 0,
              "ticks": ""
             }
            }
           }
          ],
          "scattercarpet": [
           {
            "type": "scattercarpet",
            "marker": {
             "colorbar": {
              "outlinewidth": 0,
              "ticks": ""
             }
            }
           }
          ],
          "carpet": [
           {
            "aaxis": {
             "endlinecolor": "#A2B1C6",
             "gridcolor": "#506784",
             "linecolor": "#506784",
             "minorgridcolor": "#506784",
             "startlinecolor": "#A2B1C6"
            },
            "baxis": {
             "endlinecolor": "#A2B1C6",
             "gridcolor": "#506784",
             "linecolor": "#506784",
             "minorgridcolor": "#506784",
             "startlinecolor": "#A2B1C6"
            },
            "type": "carpet"
           }
          ],
          "table": [
           {
            "cells": {
             "fill": {
              "color": "#506784"
             },
             "line": {
              "color": "rgb(17,17,17)"
             }
            },
            "header": {
             "fill": {
              "color": "#2a3f5f"
             },
             "line": {
              "color": "rgb(17,17,17)"
             }
            },
            "type": "table"
           }
          ],
          "barpolar": [
           {
            "marker": {
             "line": {
              "color": "rgb(17,17,17)",
              "width": 0.5
             },
             "pattern": {
              "fillmode": "overlay",
              "size": 10,
              "solidity": 0.2
             }
            },
            "type": "barpolar"
           }
          ],
          "pie": [
           {
            "automargin": true,
            "type": "pie"
           }
          ]
         },
         "layout": {
          "autotypenumbers": "strict",
          "colorway": [
           "#636efa",
           "#EF553B",
           "#00cc96",
           "#ab63fa",
           "#FFA15A",
           "#19d3f3",
           "#FF6692",
           "#B6E880",
           "#FF97FF",
           "#FECB52"
          ],
          "font": {
           "color": "#f2f5fa"
          },
          "hovermode": "closest",
          "hoverlabel": {
           "align": "left"
          },
          "paper_bgcolor": "rgb(17,17,17)",
          "plot_bgcolor": "rgb(17,17,17)",
          "polar": {
           "bgcolor": "rgb(17,17,17)",
           "angularaxis": {
            "gridcolor": "#506784",
            "linecolor": "#506784",
            "ticks": ""
           },
           "radialaxis": {
            "gridcolor": "#506784",
            "linecolor": "#506784",
            "ticks": ""
           }
          },
          "ternary": {
           "bgcolor": "rgb(17,17,17)",
           "aaxis": {
            "gridcolor": "#506784",
            "linecolor": "#506784",
            "ticks": ""
           },
           "baxis": {
            "gridcolor": "#506784",
            "linecolor": "#506784",
            "ticks": ""
           },
           "caxis": {
            "gridcolor": "#506784",
            "linecolor": "#506784",
            "ticks": ""
           }
          },
          "coloraxis": {
           "colorbar": {
            "outlinewidth": 0,
            "ticks": ""
           }
          },
          "colorscale": {
           "sequential": [
            [
             0.0,
             "#0d0887"
            ],
            [
             0.1111111111111111,
             "#46039f"
            ],
            [
             0.2222222222222222,
             "#7201a8"
            ],
            [
             0.3333333333333333,
             "#9c179e"
            ],
            [
             0.4444444444444444,
             "#bd3786"
            ],
            [
             0.5555555555555556,
             "#d8576b"
            ],
            [
             0.6666666666666666,
             "#ed7953"
            ],
            [
             0.7777777777777778,
             "#fb9f3a"
            ],
            [
             0.8888888888888888,
             "#fdca26"
            ],
            [
             1.0,
             "#f0f921"
            ]
           ],
           "sequentialminus": [
            [
             0.0,
             "#0d0887"
            ],
            [
             0.1111111111111111,
             "#46039f"
            ],
            [
             0.2222222222222222,
             "#7201a8"
            ],
            [
             0.3333333333333333,
             "#9c179e"
            ],
            [
             0.4444444444444444,
             "#bd3786"
            ],
            [
             0.5555555555555556,
             "#d8576b"
            ],
            [
             0.6666666666666666,
             "#ed7953"
            ],
            [
             0.7777777777777778,
             "#fb9f3a"
            ],
            [
             0.8888888888888888,
             "#fdca26"
            ],
            [
             1.0,
             "#f0f921"
            ]
           ],
           "diverging": [
            [
             0,
             "#8e0152"
            ],
            [
             0.1,
             "#c51b7d"
            ],
            [
             0.2,
             "#de77ae"
            ],
            [
             0.3,
             "#f1b6da"
            ],
            [
             0.4,
             "#fde0ef"
            ],
            [
             0.5,
             "#f7f7f7"
            ],
            [
             0.6,
             "#e6f5d0"
            ],
            [
             0.7,
             "#b8e186"
            ],
            [
             0.8,
             "#7fbc41"
            ],
            [
             0.9,
             "#4d9221"
            ],
            [
             1,
             "#276419"
            ]
           ]
          },
          "xaxis": {
           "gridcolor": "#283442",
           "linecolor": "#506784",
           "ticks": "",
           "title": {
            "standoff": 15
           },
           "zerolinecolor": "#283442",
           "automargin": true,
           "zerolinewidth": 2
          },
          "yaxis": {
           "gridcolor": "#283442",
           "linecolor": "#506784",
           "ticks": "",
           "title": {
            "standoff": 15
           },
           "zerolinecolor": "#283442",
           "automargin": true,
           "zerolinewidth": 2
          },
          "scene": {
           "xaxis": {
            "backgroundcolor": "rgb(17,17,17)",
            "gridcolor": "#506784",
            "linecolor": "#506784",
            "showbackground": true,
            "ticks": "",
            "zerolinecolor": "#C8D4E3",
            "gridwidth": 2
           },
           "yaxis": {
            "backgroundcolor": "rgb(17,17,17)",
            "gridcolor": "#506784",
            "linecolor": "#506784",
            "showbackground": true,
            "ticks": "",
            "zerolinecolor": "#C8D4E3",
            "gridwidth": 2
           },
           "zaxis": {
            "backgroundcolor": "rgb(17,17,17)",
            "gridcolor": "#506784",
            "linecolor": "#506784",
            "showbackground": true,
            "ticks": "",
            "zerolinecolor": "#C8D4E3",
            "gridwidth": 2
           }
          },
          "shapedefaults": {
           "line": {
            "color": "#f2f5fa"
           }
          },
          "annotationdefaults": {
           "arrowcolor": "#f2f5fa",
           "arrowhead": 0,
           "arrowwidth": 1
          },
          "geo": {
           "bgcolor": "rgb(17,17,17)",
           "landcolor": "rgb(17,17,17)",
           "subunitcolor": "#506784",
           "showland": true,
           "showlakes": true,
           "lakecolor": "rgb(17,17,17)"
          },
          "title": {
           "x": 0.05
          },
          "updatemenudefaults": {
           "bgcolor": "#506784",
           "borderwidth": 0
          },
          "sliderdefaults": {
           "bgcolor": "#C8D4E3",
           "borderwidth": 1,
           "bordercolor": "rgb(17,17,17)",
           "tickwidth": 0
          },
          "mapbox": {
           "style": "dark"
          }
         }
        },
        "xaxis": {
         "anchor": "y",
         "domain": [
          0.0,
          1.0
         ],
         "title": {
          "text": "Year"
         }
        },
        "yaxis": {
         "anchor": "x",
         "domain": [
          0.0,
          1.0
         ],
         "title": {
          "text": "Count"
         }
        },
        "coloraxis": {
         "colorbar": {
          "title": {
           "text": "Year"
          }
         },
         "colorscale": [
          [
           0.0,
           "#0d0887"
          ],
          [
           0.1111111111111111,
           "#46039f"
          ],
          [
           0.2222222222222222,
           "#7201a8"
          ],
          [
           0.3333333333333333,
           "#9c179e"
          ],
          [
           0.4444444444444444,
           "#bd3786"
          ],
          [
           0.5555555555555556,
           "#d8576b"
          ],
          [
           0.6666666666666666,
           "#ed7953"
          ],
          [
           0.7777777777777778,
           "#fb9f3a"
          ],
          [
           0.8888888888888888,
           "#fdca26"
          ],
          [
           1.0,
           "#f0f921"
          ]
         ]
        },
        "legend": {
         "tracegroupgap": 0
        },
        "title": {
         "text": "Number of launches by year"
        },
        "barmode": "relative"
       },
       "config": {
        "plotlyServerURL": "https://plot.ly"
       }
      },
      "text/html": "<div>                            <div id=\"98682719-5ce1-4cd2-bd0d-8b485a401adf\" class=\"plotly-graph-div\" style=\"height:525px; width:100%;\"></div>            <script type=\"text/javascript\">                require([\"plotly\"], function(Plotly) {                    window.PLOTLYENV=window.PLOTLYENV || {};                                    if (document.getElementById(\"98682719-5ce1-4cd2-bd0d-8b485a401adf\")) {                    Plotly.newPlot(                        \"98682719-5ce1-4cd2-bd0d-8b485a401adf\",                        [{\"alignmentgroup\":\"True\",\"hovertemplate\":\"Year=%{marker.color}\\u003cbr\\u003eCount=%{y}\\u003cextra\\u003e\\u003c\\u002fextra\\u003e\",\"legendgroup\":\"\",\"marker\":{\"color\":[2018.0,1971.0,1975.0,1976.0,1977.0,2019.0,1970.0,1967.0,1969.0,1968.0,1973.0,1966.0,1974.0,1972.0,1978.0,2017.0,2016.0,1965.0,1962.0,1990.0,1985.0,1997.0,1984.0,1998.0,1981.0,1982.0,1983.0,2020.0,1994.0,1992.0,1993.0,1986.0,1996.0,1995.0,1991.0,2000.0,1964.0,1988.0,1987.0,1999.0,1980.0,1961.0,2014.0,1989.0,2006.0,2007.0,2009.0,2003.0,2008.0,2013.0,2015.0,2002.0,1979.0,2001.0,2011.0,2004.0,1960.0,1963.0,2005.0,2010.0,2012.0,1958.0,1959.0,1957.0],\"coloraxis\":\"coloraxis\",\"pattern\":{\"shape\":\"\"}},\"name\":\"\",\"offsetgroup\":\"\",\"orientation\":\"v\",\"showlegend\":false,\"textposition\":\"auto\",\"x\":[2018.0,1971.0,1975.0,1976.0,1977.0,2019.0,1970.0,1967.0,1969.0,1968.0,1973.0,1966.0,1974.0,1972.0,1978.0,2017.0,2016.0,1965.0,1962.0,1990.0,1985.0,1997.0,1984.0,1998.0,1981.0,1982.0,1983.0,2020.0,1994.0,1992.0,1993.0,1986.0,1996.0,1995.0,1991.0,2000.0,1964.0,1988.0,1987.0,1999.0,1980.0,1961.0,2014.0,1989.0,2006.0,2007.0,2009.0,2003.0,2008.0,2013.0,2015.0,2002.0,1979.0,2001.0,2011.0,2004.0,1960.0,1963.0,2005.0,2010.0,2012.0,1958.0,1959.0,1957.0],\"xaxis\":\"x\",\"y\":[117,116,112,109,109,107,106,102,101,100,99,98,97,96,93,90,88,86,81,76,71,69,67,67,66,66,64,63,62,62,61,61,60,60,57,57,56,56,54,53,52,52,52,50,49,49,49,49,47,46,46,46,46,42,41,39,38,38,37,36,34,22,20,3],\"yaxis\":\"y\",\"type\":\"bar\"}],                        {\"template\":{\"data\":{\"histogram2dcontour\":[{\"type\":\"histogram2dcontour\",\"colorbar\":{\"outlinewidth\":0,\"ticks\":\"\"},\"colorscale\":[[0.0,\"#0d0887\"],[0.1111111111111111,\"#46039f\"],[0.2222222222222222,\"#7201a8\"],[0.3333333333333333,\"#9c179e\"],[0.4444444444444444,\"#bd3786\"],[0.5555555555555556,\"#d8576b\"],[0.6666666666666666,\"#ed7953\"],[0.7777777777777778,\"#fb9f3a\"],[0.8888888888888888,\"#fdca26\"],[1.0,\"#f0f921\"]]}],\"choropleth\":[{\"type\":\"choropleth\",\"colorbar\":{\"outlinewidth\":0,\"ticks\":\"\"}}],\"histogram2d\":[{\"type\":\"histogram2d\",\"colorbar\":{\"outlinewidth\":0,\"ticks\":\"\"},\"colorscale\":[[0.0,\"#0d0887\"],[0.1111111111111111,\"#46039f\"],[0.2222222222222222,\"#7201a8\"],[0.3333333333333333,\"#9c179e\"],[0.4444444444444444,\"#bd3786\"],[0.5555555555555556,\"#d8576b\"],[0.6666666666666666,\"#ed7953\"],[0.7777777777777778,\"#fb9f3a\"],[0.8888888888888888,\"#fdca26\"],[1.0,\"#f0f921\"]]}],\"heatmap\":[{\"type\":\"heatmap\",\"colorbar\":{\"outlinewidth\":0,\"ticks\":\"\"},\"colorscale\":[[0.0,\"#0d0887\"],[0.1111111111111111,\"#46039f\"],[0.2222222222222222,\"#7201a8\"],[0.3333333333333333,\"#9c179e\"],[0.4444444444444444,\"#bd3786\"],[0.5555555555555556,\"#d8576b\"],[0.6666666666666666,\"#ed7953\"],[0.7777777777777778,\"#fb9f3a\"],[0.8888888888888888,\"#fdca26\"],[1.0,\"#f0f921\"]]}],\"heatmapgl\":[{\"type\":\"heatmapgl\",\"colorbar\":{\"outlinewidth\":0,\"ticks\":\"\"},\"colorscale\":[[0.0,\"#0d0887\"],[0.1111111111111111,\"#46039f\"],[0.2222222222222222,\"#7201a8\"],[0.3333333333333333,\"#9c179e\"],[0.4444444444444444,\"#bd3786\"],[0.5555555555555556,\"#d8576b\"],[0.6666666666666666,\"#ed7953\"],[0.7777777777777778,\"#fb9f3a\"],[0.8888888888888888,\"#fdca26\"],[1.0,\"#f0f921\"]]}],\"contourcarpet\":[{\"type\":\"contourcarpet\",\"colorbar\":{\"outlinewidth\":0,\"ticks\":\"\"}}],\"contour\":[{\"type\":\"contour\",\"colorbar\":{\"outlinewidth\":0,\"ticks\":\"\"},\"colorscale\":[[0.0,\"#0d0887\"],[0.1111111111111111,\"#46039f\"],[0.2222222222222222,\"#7201a8\"],[0.3333333333333333,\"#9c179e\"],[0.4444444444444444,\"#bd3786\"],[0.5555555555555556,\"#d8576b\"],[0.6666666666666666,\"#ed7953\"],[0.7777777777777778,\"#fb9f3a\"],[0.8888888888888888,\"#fdca26\"],[1.0,\"#f0f921\"]]}],\"surface\":[{\"type\":\"surface\",\"colorbar\":{\"outlinewidth\":0,\"ticks\":\"\"},\"colorscale\":[[0.0,\"#0d0887\"],[0.1111111111111111,\"#46039f\"],[0.2222222222222222,\"#7201a8\"],[0.3333333333333333,\"#9c179e\"],[0.4444444444444444,\"#bd3786\"],[0.5555555555555556,\"#d8576b\"],[0.6666666666666666,\"#ed7953\"],[0.7777777777777778,\"#fb9f3a\"],[0.8888888888888888,\"#fdca26\"],[1.0,\"#f0f921\"]]}],\"mesh3d\":[{\"type\":\"mesh3d\",\"colorbar\":{\"outlinewidth\":0,\"ticks\":\"\"}}],\"scatter\":[{\"marker\":{\"line\":{\"color\":\"#283442\"}},\"type\":\"scatter\"}],\"parcoords\":[{\"type\":\"parcoords\",\"line\":{\"colorbar\":{\"outlinewidth\":0,\"ticks\":\"\"}}}],\"scatterpolargl\":[{\"type\":\"scatterpolargl\",\"marker\":{\"colorbar\":{\"outlinewidth\":0,\"ticks\":\"\"}}}],\"bar\":[{\"error_x\":{\"color\":\"#f2f5fa\"},\"error_y\":{\"color\":\"#f2f5fa\"},\"marker\":{\"line\":{\"color\":\"rgb(17,17,17)\",\"width\":0.5},\"pattern\":{\"fillmode\":\"overlay\",\"size\":10,\"solidity\":0.2}},\"type\":\"bar\"}],\"scattergeo\":[{\"type\":\"scattergeo\",\"marker\":{\"colorbar\":{\"outlinewidth\":0,\"ticks\":\"\"}}}],\"scatterpolar\":[{\"type\":\"scatterpolar\",\"marker\":{\"colorbar\":{\"outlinewidth\":0,\"ticks\":\"\"}}}],\"histogram\":[{\"marker\":{\"pattern\":{\"fillmode\":\"overlay\",\"size\":10,\"solidity\":0.2}},\"type\":\"histogram\"}],\"scattergl\":[{\"marker\":{\"line\":{\"color\":\"#283442\"}},\"type\":\"scattergl\"}],\"scatter3d\":[{\"type\":\"scatter3d\",\"line\":{\"colorbar\":{\"outlinewidth\":0,\"ticks\":\"\"}},\"marker\":{\"colorbar\":{\"outlinewidth\":0,\"ticks\":\"\"}}}],\"scattermapbox\":[{\"type\":\"scattermapbox\",\"marker\":{\"colorbar\":{\"outlinewidth\":0,\"ticks\":\"\"}}}],\"scatterternary\":[{\"type\":\"scatterternary\",\"marker\":{\"colorbar\":{\"outlinewidth\":0,\"ticks\":\"\"}}}],\"scattercarpet\":[{\"type\":\"scattercarpet\",\"marker\":{\"colorbar\":{\"outlinewidth\":0,\"ticks\":\"\"}}}],\"carpet\":[{\"aaxis\":{\"endlinecolor\":\"#A2B1C6\",\"gridcolor\":\"#506784\",\"linecolor\":\"#506784\",\"minorgridcolor\":\"#506784\",\"startlinecolor\":\"#A2B1C6\"},\"baxis\":{\"endlinecolor\":\"#A2B1C6\",\"gridcolor\":\"#506784\",\"linecolor\":\"#506784\",\"minorgridcolor\":\"#506784\",\"startlinecolor\":\"#A2B1C6\"},\"type\":\"carpet\"}],\"table\":[{\"cells\":{\"fill\":{\"color\":\"#506784\"},\"line\":{\"color\":\"rgb(17,17,17)\"}},\"header\":{\"fill\":{\"color\":\"#2a3f5f\"},\"line\":{\"color\":\"rgb(17,17,17)\"}},\"type\":\"table\"}],\"barpolar\":[{\"marker\":{\"line\":{\"color\":\"rgb(17,17,17)\",\"width\":0.5},\"pattern\":{\"fillmode\":\"overlay\",\"size\":10,\"solidity\":0.2}},\"type\":\"barpolar\"}],\"pie\":[{\"automargin\":true,\"type\":\"pie\"}]},\"layout\":{\"autotypenumbers\":\"strict\",\"colorway\":[\"#636efa\",\"#EF553B\",\"#00cc96\",\"#ab63fa\",\"#FFA15A\",\"#19d3f3\",\"#FF6692\",\"#B6E880\",\"#FF97FF\",\"#FECB52\"],\"font\":{\"color\":\"#f2f5fa\"},\"hovermode\":\"closest\",\"hoverlabel\":{\"align\":\"left\"},\"paper_bgcolor\":\"rgb(17,17,17)\",\"plot_bgcolor\":\"rgb(17,17,17)\",\"polar\":{\"bgcolor\":\"rgb(17,17,17)\",\"angularaxis\":{\"gridcolor\":\"#506784\",\"linecolor\":\"#506784\",\"ticks\":\"\"},\"radialaxis\":{\"gridcolor\":\"#506784\",\"linecolor\":\"#506784\",\"ticks\":\"\"}},\"ternary\":{\"bgcolor\":\"rgb(17,17,17)\",\"aaxis\":{\"gridcolor\":\"#506784\",\"linecolor\":\"#506784\",\"ticks\":\"\"},\"baxis\":{\"gridcolor\":\"#506784\",\"linecolor\":\"#506784\",\"ticks\":\"\"},\"caxis\":{\"gridcolor\":\"#506784\",\"linecolor\":\"#506784\",\"ticks\":\"\"}},\"coloraxis\":{\"colorbar\":{\"outlinewidth\":0,\"ticks\":\"\"}},\"colorscale\":{\"sequential\":[[0.0,\"#0d0887\"],[0.1111111111111111,\"#46039f\"],[0.2222222222222222,\"#7201a8\"],[0.3333333333333333,\"#9c179e\"],[0.4444444444444444,\"#bd3786\"],[0.5555555555555556,\"#d8576b\"],[0.6666666666666666,\"#ed7953\"],[0.7777777777777778,\"#fb9f3a\"],[0.8888888888888888,\"#fdca26\"],[1.0,\"#f0f921\"]],\"sequentialminus\":[[0.0,\"#0d0887\"],[0.1111111111111111,\"#46039f\"],[0.2222222222222222,\"#7201a8\"],[0.3333333333333333,\"#9c179e\"],[0.4444444444444444,\"#bd3786\"],[0.5555555555555556,\"#d8576b\"],[0.6666666666666666,\"#ed7953\"],[0.7777777777777778,\"#fb9f3a\"],[0.8888888888888888,\"#fdca26\"],[1.0,\"#f0f921\"]],\"diverging\":[[0,\"#8e0152\"],[0.1,\"#c51b7d\"],[0.2,\"#de77ae\"],[0.3,\"#f1b6da\"],[0.4,\"#fde0ef\"],[0.5,\"#f7f7f7\"],[0.6,\"#e6f5d0\"],[0.7,\"#b8e186\"],[0.8,\"#7fbc41\"],[0.9,\"#4d9221\"],[1,\"#276419\"]]},\"xaxis\":{\"gridcolor\":\"#283442\",\"linecolor\":\"#506784\",\"ticks\":\"\",\"title\":{\"standoff\":15},\"zerolinecolor\":\"#283442\",\"automargin\":true,\"zerolinewidth\":2},\"yaxis\":{\"gridcolor\":\"#283442\",\"linecolor\":\"#506784\",\"ticks\":\"\",\"title\":{\"standoff\":15},\"zerolinecolor\":\"#283442\",\"automargin\":true,\"zerolinewidth\":2},\"scene\":{\"xaxis\":{\"backgroundcolor\":\"rgb(17,17,17)\",\"gridcolor\":\"#506784\",\"linecolor\":\"#506784\",\"showbackground\":true,\"ticks\":\"\",\"zerolinecolor\":\"#C8D4E3\",\"gridwidth\":2},\"yaxis\":{\"backgroundcolor\":\"rgb(17,17,17)\",\"gridcolor\":\"#506784\",\"linecolor\":\"#506784\",\"showbackground\":true,\"ticks\":\"\",\"zerolinecolor\":\"#C8D4E3\",\"gridwidth\":2},\"zaxis\":{\"backgroundcolor\":\"rgb(17,17,17)\",\"gridcolor\":\"#506784\",\"linecolor\":\"#506784\",\"showbackground\":true,\"ticks\":\"\",\"zerolinecolor\":\"#C8D4E3\",\"gridwidth\":2}},\"shapedefaults\":{\"line\":{\"color\":\"#f2f5fa\"}},\"annotationdefaults\":{\"arrowcolor\":\"#f2f5fa\",\"arrowhead\":0,\"arrowwidth\":1},\"geo\":{\"bgcolor\":\"rgb(17,17,17)\",\"landcolor\":\"rgb(17,17,17)\",\"subunitcolor\":\"#506784\",\"showland\":true,\"showlakes\":true,\"lakecolor\":\"rgb(17,17,17)\"},\"title\":{\"x\":0.05},\"updatemenudefaults\":{\"bgcolor\":\"#506784\",\"borderwidth\":0},\"sliderdefaults\":{\"bgcolor\":\"#C8D4E3\",\"borderwidth\":1,\"bordercolor\":\"rgb(17,17,17)\",\"tickwidth\":0},\"mapbox\":{\"style\":\"dark\"}}},\"xaxis\":{\"anchor\":\"y\",\"domain\":[0.0,1.0],\"title\":{\"text\":\"Year\"}},\"yaxis\":{\"anchor\":\"x\",\"domain\":[0.0,1.0],\"title\":{\"text\":\"Count\"}},\"coloraxis\":{\"colorbar\":{\"title\":{\"text\":\"Year\"}},\"colorscale\":[[0.0,\"#0d0887\"],[0.1111111111111111,\"#46039f\"],[0.2222222222222222,\"#7201a8\"],[0.3333333333333333,\"#9c179e\"],[0.4444444444444444,\"#bd3786\"],[0.5555555555555556,\"#d8576b\"],[0.6666666666666666,\"#ed7953\"],[0.7777777777777778,\"#fb9f3a\"],[0.8888888888888888,\"#fdca26\"],[1.0,\"#f0f921\"]]},\"legend\":{\"tracegroupgap\":0},\"title\":{\"text\":\"Number of launches by year\"},\"barmode\":\"relative\"},                        {\"responsive\": true}                    ).then(function(){\n                            \nvar gd = document.getElementById('98682719-5ce1-4cd2-bd0d-8b485a401adf');\nvar x = new MutationObserver(function (mutations, observer) {{\n        var display = window.getComputedStyle(gd).display;\n        if (!display || display === 'none') {{\n            console.log([gd, 'removed!']);\n            Plotly.purge(gd);\n            observer.disconnect();\n        }}\n}});\n\n// Listen for the removal of the full notebook cells\nvar notebookContainer = gd.closest('#notebook-container');\nif (notebookContainer) {{\n    x.observe(notebookContainer, {childList: true});\n}}\n\n// Listen for the clearing of the current output cell\nvar outputEl = gd.closest('.output');\nif (outputEl) {{\n    x.observe(outputEl, {childList: true});\n}}\n\n                        })                };                });            </script>        </div>"
     },
     "metadata": {},
     "output_type": "display_data"
    }
   ],
   "source": [
    "# create a new dataframe with the number of launches by year\n",
    "df_year = df['Year'].value_counts().reset_index()\n",
    "\n",
    "rename = {\n",
    "    'index': 'Year',\n",
    "    'Year': 'Count'\n",
    "}\n",
    "\n",
    "df_year = df_year.rename(columns=rename)\n",
    "\n",
    "# graph with year being the color\n",
    "fig = px.bar(df_year, x='Year', y='Count', color='Year', title='Number of launches by year' , )\n",
    "fig.show()"
   ],
   "metadata": {
    "collapsed": false,
    "ExecuteTime": {
     "end_time": "2023-07-13T23:39:19.476638700Z",
     "start_time": "2023-07-13T23:39:19.238560Z"
    }
   }
  },
  {
   "cell_type": "markdown",
   "source": [
    "## How many launches per location ?"
   ],
   "metadata": {
    "collapsed": false
   }
  },
  {
   "cell_type": "code",
   "execution_count": 80,
   "outputs": [
    {
     "data": {
      "application/vnd.plotly.v1+json": {
       "data": [
        {
         "alignmentgroup": "True",
         "hovertemplate": "index=%{x}<br>count=%{y}<extra></extra>",
         "legendgroup": " Russia",
         "marker": {
          "color": "#636efa",
          "pattern": {
           "shape": ""
          }
         },
         "name": " Russia",
         "offsetgroup": " Russia",
         "orientation": "v",
         "showlegend": true,
         "textposition": "auto",
         "x": [
          " Russia"
         ],
         "xaxis": "x",
         "y": [
          1395
         ],
         "yaxis": "y",
         "type": "bar"
        },
        {
         "alignmentgroup": "True",
         "hovertemplate": "index=%{x}<br>count=%{y}<extra></extra>",
         "legendgroup": " USA",
         "marker": {
          "color": "#EF553B",
          "pattern": {
           "shape": ""
          }
         },
         "name": " USA",
         "offsetgroup": " USA",
         "orientation": "v",
         "showlegend": true,
         "textposition": "auto",
         "x": [
          " USA"
         ],
         "xaxis": "x",
         "y": [
          1344
         ],
         "yaxis": "y",
         "type": "bar"
        },
        {
         "alignmentgroup": "True",
         "hovertemplate": "index=%{x}<br>count=%{y}<extra></extra>",
         "legendgroup": " Kazakhstan",
         "marker": {
          "color": "#00cc96",
          "pattern": {
           "shape": ""
          }
         },
         "name": " Kazakhstan",
         "offsetgroup": " Kazakhstan",
         "orientation": "v",
         "showlegend": true,
         "textposition": "auto",
         "x": [
          " Kazakhstan"
         ],
         "xaxis": "x",
         "y": [
          701
         ],
         "yaxis": "y",
         "type": "bar"
        },
        {
         "alignmentgroup": "True",
         "hovertemplate": "index=%{x}<br>count=%{y}<extra></extra>",
         "legendgroup": " France",
         "marker": {
          "color": "#ab63fa",
          "pattern": {
           "shape": ""
          }
         },
         "name": " France",
         "offsetgroup": " France",
         "orientation": "v",
         "showlegend": true,
         "textposition": "auto",
         "x": [
          " France"
         ],
         "xaxis": "x",
         "y": [
          303
         ],
         "yaxis": "y",
         "type": "bar"
        },
        {
         "alignmentgroup": "True",
         "hovertemplate": "index=%{x}<br>count=%{y}<extra></extra>",
         "legendgroup": " China",
         "marker": {
          "color": "#FFA15A",
          "pattern": {
           "shape": ""
          }
         },
         "name": " China",
         "offsetgroup": " China",
         "orientation": "v",
         "showlegend": true,
         "textposition": "auto",
         "x": [
          " China"
         ],
         "xaxis": "x",
         "y": [
          268
         ],
         "yaxis": "y",
         "type": "bar"
        },
        {
         "alignmentgroup": "True",
         "hovertemplate": "index=%{x}<br>count=%{y}<extra></extra>",
         "legendgroup": " Japan",
         "marker": {
          "color": "#19d3f3",
          "pattern": {
           "shape": ""
          }
         },
         "name": " Japan",
         "offsetgroup": " Japan",
         "orientation": "v",
         "showlegend": true,
         "textposition": "auto",
         "x": [
          " Japan"
         ],
         "xaxis": "x",
         "y": [
          126
         ],
         "yaxis": "y",
         "type": "bar"
        },
        {
         "alignmentgroup": "True",
         "hovertemplate": "index=%{x}<br>count=%{y}<extra></extra>",
         "legendgroup": " India",
         "marker": {
          "color": "#FF6692",
          "pattern": {
           "shape": ""
          }
         },
         "name": " India",
         "offsetgroup": " India",
         "orientation": "v",
         "showlegend": true,
         "textposition": "auto",
         "x": [
          " India"
         ],
         "xaxis": "x",
         "y": [
          76
         ],
         "yaxis": "y",
         "type": "bar"
        },
        {
         "alignmentgroup": "True",
         "hovertemplate": "index=%{x}<br>count=%{y}<extra></extra>",
         "legendgroup": " Pacific Ocean",
         "marker": {
          "color": "#B6E880",
          "pattern": {
           "shape": ""
          }
         },
         "name": " Pacific Ocean",
         "offsetgroup": " Pacific Ocean",
         "orientation": "v",
         "showlegend": true,
         "textposition": "auto",
         "x": [
          " Pacific Ocean"
         ],
         "xaxis": "x",
         "y": [
          36
         ],
         "yaxis": "y",
         "type": "bar"
        },
        {
         "alignmentgroup": "True",
         "hovertemplate": "index=%{x}<br>count=%{y}<extra></extra>",
         "legendgroup": " New Zealand",
         "marker": {
          "color": "#FF97FF",
          "pattern": {
           "shape": ""
          }
         },
         "name": " New Zealand",
         "offsetgroup": " New Zealand",
         "orientation": "v",
         "showlegend": true,
         "textposition": "auto",
         "x": [
          " New Zealand"
         ],
         "xaxis": "x",
         "y": [
          13
         ],
         "yaxis": "y",
         "type": "bar"
        },
        {
         "alignmentgroup": "True",
         "hovertemplate": "index=%{x}<br>count=%{y}<extra></extra>",
         "legendgroup": " Iran",
         "marker": {
          "color": "#FECB52",
          "pattern": {
           "shape": ""
          }
         },
         "name": " Iran",
         "offsetgroup": " Iran",
         "orientation": "v",
         "showlegend": true,
         "textposition": "auto",
         "x": [
          " Iran"
         ],
         "xaxis": "x",
         "y": [
          13
         ],
         "yaxis": "y",
         "type": "bar"
        },
        {
         "alignmentgroup": "True",
         "hovertemplate": "index=%{x}<br>count=%{y}<extra></extra>",
         "legendgroup": " Israel",
         "marker": {
          "color": "#636efa",
          "pattern": {
           "shape": ""
          }
         },
         "name": " Israel",
         "offsetgroup": " Israel",
         "orientation": "v",
         "showlegend": true,
         "textposition": "auto",
         "x": [
          " Israel"
         ],
         "xaxis": "x",
         "y": [
          11
         ],
         "yaxis": "y",
         "type": "bar"
        },
        {
         "alignmentgroup": "True",
         "hovertemplate": "index=%{x}<br>count=%{y}<extra></extra>",
         "legendgroup": " Kenya",
         "marker": {
          "color": "#EF553B",
          "pattern": {
           "shape": ""
          }
         },
         "name": " Kenya",
         "offsetgroup": " Kenya",
         "orientation": "v",
         "showlegend": true,
         "textposition": "auto",
         "x": [
          " Kenya"
         ],
         "xaxis": "x",
         "y": [
          9
         ],
         "yaxis": "y",
         "type": "bar"
        },
        {
         "alignmentgroup": "True",
         "hovertemplate": "index=%{x}<br>count=%{y}<extra></extra>",
         "legendgroup": " Australia",
         "marker": {
          "color": "#00cc96",
          "pattern": {
           "shape": ""
          }
         },
         "name": " Australia",
         "offsetgroup": " Australia",
         "orientation": "v",
         "showlegend": true,
         "textposition": "auto",
         "x": [
          " Australia"
         ],
         "xaxis": "x",
         "y": [
          6
         ],
         "yaxis": "y",
         "type": "bar"
        },
        {
         "alignmentgroup": "True",
         "hovertemplate": "index=%{x}<br>count=%{y}<extra></extra>",
         "legendgroup": " North Korea",
         "marker": {
          "color": "#ab63fa",
          "pattern": {
           "shape": ""
          }
         },
         "name": " North Korea",
         "offsetgroup": " North Korea",
         "orientation": "v",
         "showlegend": true,
         "textposition": "auto",
         "x": [
          " North Korea"
         ],
         "xaxis": "x",
         "y": [
          5
         ],
         "yaxis": "y",
         "type": "bar"
        },
        {
         "alignmentgroup": "True",
         "hovertemplate": "index=%{x}<br>count=%{y}<extra></extra>",
         "legendgroup": " New Mexico",
         "marker": {
          "color": "#FFA15A",
          "pattern": {
           "shape": ""
          }
         },
         "name": " New Mexico",
         "offsetgroup": " New Mexico",
         "orientation": "v",
         "showlegend": true,
         "textposition": "auto",
         "x": [
          " New Mexico"
         ],
         "xaxis": "x",
         "y": [
          4
         ],
         "yaxis": "y",
         "type": "bar"
        },
        {
         "alignmentgroup": "True",
         "hovertemplate": "index=%{x}<br>count=%{y}<extra></extra>",
         "legendgroup": " Barents Sea",
         "marker": {
          "color": "#19d3f3",
          "pattern": {
           "shape": ""
          }
         },
         "name": " Barents Sea",
         "offsetgroup": " Barents Sea",
         "orientation": "v",
         "showlegend": true,
         "textposition": "auto",
         "x": [
          " Barents Sea"
         ],
         "xaxis": "x",
         "y": [
          3
         ],
         "yaxis": "y",
         "type": "bar"
        },
        {
         "alignmentgroup": "True",
         "hovertemplate": "index=%{x}<br>count=%{y}<extra></extra>",
         "legendgroup": " South Korea",
         "marker": {
          "color": "#FF6692",
          "pattern": {
           "shape": ""
          }
         },
         "name": " South Korea",
         "offsetgroup": " South Korea",
         "orientation": "v",
         "showlegend": true,
         "textposition": "auto",
         "x": [
          " South Korea"
         ],
         "xaxis": "x",
         "y": [
          3
         ],
         "yaxis": "y",
         "type": "bar"
        },
        {
         "alignmentgroup": "True",
         "hovertemplate": "index=%{x}<br>count=%{y}<extra></extra>",
         "legendgroup": " Brazil",
         "marker": {
          "color": "#B6E880",
          "pattern": {
           "shape": ""
          }
         },
         "name": " Brazil",
         "offsetgroup": " Brazil",
         "orientation": "v",
         "showlegend": true,
         "textposition": "auto",
         "x": [
          " Brazil"
         ],
         "xaxis": "x",
         "y": [
          3
         ],
         "yaxis": "y",
         "type": "bar"
        },
        {
         "alignmentgroup": "True",
         "hovertemplate": "index=%{x}<br>count=%{y}<extra></extra>",
         "legendgroup": " Gran Canaria",
         "marker": {
          "color": "#FF97FF",
          "pattern": {
           "shape": ""
          }
         },
         "name": " Gran Canaria",
         "offsetgroup": " Gran Canaria",
         "orientation": "v",
         "showlegend": true,
         "textposition": "auto",
         "x": [
          " Gran Canaria"
         ],
         "xaxis": "x",
         "y": [
          2
         ],
         "yaxis": "y",
         "type": "bar"
        },
        {
         "alignmentgroup": "True",
         "hovertemplate": "index=%{x}<br>count=%{y}<extra></extra>",
         "legendgroup": " Pacific Missile Range Facility",
         "marker": {
          "color": "#FECB52",
          "pattern": {
           "shape": ""
          }
         },
         "name": " Pacific Missile Range Facility",
         "offsetgroup": " Pacific Missile Range Facility",
         "orientation": "v",
         "showlegend": true,
         "textposition": "auto",
         "x": [
          " Pacific Missile Range Facility"
         ],
         "xaxis": "x",
         "y": [
          1
         ],
         "yaxis": "y",
         "type": "bar"
        },
        {
         "alignmentgroup": "True",
         "hovertemplate": "index=%{x}<br>count=%{y}<extra></extra>",
         "legendgroup": " Shahrud Missile Test Site",
         "marker": {
          "color": "#636efa",
          "pattern": {
           "shape": ""
          }
         },
         "name": " Shahrud Missile Test Site",
         "offsetgroup": " Shahrud Missile Test Site",
         "orientation": "v",
         "showlegend": true,
         "textposition": "auto",
         "x": [
          " Shahrud Missile Test Site"
         ],
         "xaxis": "x",
         "y": [
          1
         ],
         "yaxis": "y",
         "type": "bar"
        },
        {
         "alignmentgroup": "True",
         "hovertemplate": "index=%{x}<br>count=%{y}<extra></extra>",
         "legendgroup": " Yellow Sea",
         "marker": {
          "color": "#EF553B",
          "pattern": {
           "shape": ""
          }
         },
         "name": " Yellow Sea",
         "offsetgroup": " Yellow Sea",
         "orientation": "v",
         "showlegend": true,
         "textposition": "auto",
         "x": [
          " Yellow Sea"
         ],
         "xaxis": "x",
         "y": [
          1
         ],
         "yaxis": "y",
         "type": "bar"
        }
       ],
       "layout": {
        "template": {
         "data": {
          "histogram2dcontour": [
           {
            "type": "histogram2dcontour",
            "colorbar": {
             "outlinewidth": 0,
             "ticks": ""
            },
            "colorscale": [
             [
              0.0,
              "#0d0887"
             ],
             [
              0.1111111111111111,
              "#46039f"
             ],
             [
              0.2222222222222222,
              "#7201a8"
             ],
             [
              0.3333333333333333,
              "#9c179e"
             ],
             [
              0.4444444444444444,
              "#bd3786"
             ],
             [
              0.5555555555555556,
              "#d8576b"
             ],
             [
              0.6666666666666666,
              "#ed7953"
             ],
             [
              0.7777777777777778,
              "#fb9f3a"
             ],
             [
              0.8888888888888888,
              "#fdca26"
             ],
             [
              1.0,
              "#f0f921"
             ]
            ]
           }
          ],
          "choropleth": [
           {
            "type": "choropleth",
            "colorbar": {
             "outlinewidth": 0,
             "ticks": ""
            }
           }
          ],
          "histogram2d": [
           {
            "type": "histogram2d",
            "colorbar": {
             "outlinewidth": 0,
             "ticks": ""
            },
            "colorscale": [
             [
              0.0,
              "#0d0887"
             ],
             [
              0.1111111111111111,
              "#46039f"
             ],
             [
              0.2222222222222222,
              "#7201a8"
             ],
             [
              0.3333333333333333,
              "#9c179e"
             ],
             [
              0.4444444444444444,
              "#bd3786"
             ],
             [
              0.5555555555555556,
              "#d8576b"
             ],
             [
              0.6666666666666666,
              "#ed7953"
             ],
             [
              0.7777777777777778,
              "#fb9f3a"
             ],
             [
              0.8888888888888888,
              "#fdca26"
             ],
             [
              1.0,
              "#f0f921"
             ]
            ]
           }
          ],
          "heatmap": [
           {
            "type": "heatmap",
            "colorbar": {
             "outlinewidth": 0,
             "ticks": ""
            },
            "colorscale": [
             [
              0.0,
              "#0d0887"
             ],
             [
              0.1111111111111111,
              "#46039f"
             ],
             [
              0.2222222222222222,
              "#7201a8"
             ],
             [
              0.3333333333333333,
              "#9c179e"
             ],
             [
              0.4444444444444444,
              "#bd3786"
             ],
             [
              0.5555555555555556,
              "#d8576b"
             ],
             [
              0.6666666666666666,
              "#ed7953"
             ],
             [
              0.7777777777777778,
              "#fb9f3a"
             ],
             [
              0.8888888888888888,
              "#fdca26"
             ],
             [
              1.0,
              "#f0f921"
             ]
            ]
           }
          ],
          "heatmapgl": [
           {
            "type": "heatmapgl",
            "colorbar": {
             "outlinewidth": 0,
             "ticks": ""
            },
            "colorscale": [
             [
              0.0,
              "#0d0887"
             ],
             [
              0.1111111111111111,
              "#46039f"
             ],
             [
              0.2222222222222222,
              "#7201a8"
             ],
             [
              0.3333333333333333,
              "#9c179e"
             ],
             [
              0.4444444444444444,
              "#bd3786"
             ],
             [
              0.5555555555555556,
              "#d8576b"
             ],
             [
              0.6666666666666666,
              "#ed7953"
             ],
             [
              0.7777777777777778,
              "#fb9f3a"
             ],
             [
              0.8888888888888888,
              "#fdca26"
             ],
             [
              1.0,
              "#f0f921"
             ]
            ]
           }
          ],
          "contourcarpet": [
           {
            "type": "contourcarpet",
            "colorbar": {
             "outlinewidth": 0,
             "ticks": ""
            }
           }
          ],
          "contour": [
           {
            "type": "contour",
            "colorbar": {
             "outlinewidth": 0,
             "ticks": ""
            },
            "colorscale": [
             [
              0.0,
              "#0d0887"
             ],
             [
              0.1111111111111111,
              "#46039f"
             ],
             [
              0.2222222222222222,
              "#7201a8"
             ],
             [
              0.3333333333333333,
              "#9c179e"
             ],
             [
              0.4444444444444444,
              "#bd3786"
             ],
             [
              0.5555555555555556,
              "#d8576b"
             ],
             [
              0.6666666666666666,
              "#ed7953"
             ],
             [
              0.7777777777777778,
              "#fb9f3a"
             ],
             [
              0.8888888888888888,
              "#fdca26"
             ],
             [
              1.0,
              "#f0f921"
             ]
            ]
           }
          ],
          "surface": [
           {
            "type": "surface",
            "colorbar": {
             "outlinewidth": 0,
             "ticks": ""
            },
            "colorscale": [
             [
              0.0,
              "#0d0887"
             ],
             [
              0.1111111111111111,
              "#46039f"
             ],
             [
              0.2222222222222222,
              "#7201a8"
             ],
             [
              0.3333333333333333,
              "#9c179e"
             ],
             [
              0.4444444444444444,
              "#bd3786"
             ],
             [
              0.5555555555555556,
              "#d8576b"
             ],
             [
              0.6666666666666666,
              "#ed7953"
             ],
             [
              0.7777777777777778,
              "#fb9f3a"
             ],
             [
              0.8888888888888888,
              "#fdca26"
             ],
             [
              1.0,
              "#f0f921"
             ]
            ]
           }
          ],
          "mesh3d": [
           {
            "type": "mesh3d",
            "colorbar": {
             "outlinewidth": 0,
             "ticks": ""
            }
           }
          ],
          "scatter": [
           {
            "marker": {
             "line": {
              "color": "#283442"
             }
            },
            "type": "scatter"
           }
          ],
          "parcoords": [
           {
            "type": "parcoords",
            "line": {
             "colorbar": {
              "outlinewidth": 0,
              "ticks": ""
             }
            }
           }
          ],
          "scatterpolargl": [
           {
            "type": "scatterpolargl",
            "marker": {
             "colorbar": {
              "outlinewidth": 0,
              "ticks": ""
             }
            }
           }
          ],
          "bar": [
           {
            "error_x": {
             "color": "#f2f5fa"
            },
            "error_y": {
             "color": "#f2f5fa"
            },
            "marker": {
             "line": {
              "color": "rgb(17,17,17)",
              "width": 0.5
             },
             "pattern": {
              "fillmode": "overlay",
              "size": 10,
              "solidity": 0.2
             }
            },
            "type": "bar"
           }
          ],
          "scattergeo": [
           {
            "type": "scattergeo",
            "marker": {
             "colorbar": {
              "outlinewidth": 0,
              "ticks": ""
             }
            }
           }
          ],
          "scatterpolar": [
           {
            "type": "scatterpolar",
            "marker": {
             "colorbar": {
              "outlinewidth": 0,
              "ticks": ""
             }
            }
           }
          ],
          "histogram": [
           {
            "marker": {
             "pattern": {
              "fillmode": "overlay",
              "size": 10,
              "solidity": 0.2
             }
            },
            "type": "histogram"
           }
          ],
          "scattergl": [
           {
            "marker": {
             "line": {
              "color": "#283442"
             }
            },
            "type": "scattergl"
           }
          ],
          "scatter3d": [
           {
            "type": "scatter3d",
            "line": {
             "colorbar": {
              "outlinewidth": 0,
              "ticks": ""
             }
            },
            "marker": {
             "colorbar": {
              "outlinewidth": 0,
              "ticks": ""
             }
            }
           }
          ],
          "scattermapbox": [
           {
            "type": "scattermapbox",
            "marker": {
             "colorbar": {
              "outlinewidth": 0,
              "ticks": ""
             }
            }
           }
          ],
          "scatterternary": [
           {
            "type": "scatterternary",
            "marker": {
             "colorbar": {
              "outlinewidth": 0,
              "ticks": ""
             }
            }
           }
          ],
          "scattercarpet": [
           {
            "type": "scattercarpet",
            "marker": {
             "colorbar": {
              "outlinewidth": 0,
              "ticks": ""
             }
            }
           }
          ],
          "carpet": [
           {
            "aaxis": {
             "endlinecolor": "#A2B1C6",
             "gridcolor": "#506784",
             "linecolor": "#506784",
             "minorgridcolor": "#506784",
             "startlinecolor": "#A2B1C6"
            },
            "baxis": {
             "endlinecolor": "#A2B1C6",
             "gridcolor": "#506784",
             "linecolor": "#506784",
             "minorgridcolor": "#506784",
             "startlinecolor": "#A2B1C6"
            },
            "type": "carpet"
           }
          ],
          "table": [
           {
            "cells": {
             "fill": {
              "color": "#506784"
             },
             "line": {
              "color": "rgb(17,17,17)"
             }
            },
            "header": {
             "fill": {
              "color": "#2a3f5f"
             },
             "line": {
              "color": "rgb(17,17,17)"
             }
            },
            "type": "table"
           }
          ],
          "barpolar": [
           {
            "marker": {
             "line": {
              "color": "rgb(17,17,17)",
              "width": 0.5
             },
             "pattern": {
              "fillmode": "overlay",
              "size": 10,
              "solidity": 0.2
             }
            },
            "type": "barpolar"
           }
          ],
          "pie": [
           {
            "automargin": true,
            "type": "pie"
           }
          ]
         },
         "layout": {
          "autotypenumbers": "strict",
          "colorway": [
           "#636efa",
           "#EF553B",
           "#00cc96",
           "#ab63fa",
           "#FFA15A",
           "#19d3f3",
           "#FF6692",
           "#B6E880",
           "#FF97FF",
           "#FECB52"
          ],
          "font": {
           "color": "#f2f5fa"
          },
          "hovermode": "closest",
          "hoverlabel": {
           "align": "left"
          },
          "paper_bgcolor": "rgb(17,17,17)",
          "plot_bgcolor": "rgb(17,17,17)",
          "polar": {
           "bgcolor": "rgb(17,17,17)",
           "angularaxis": {
            "gridcolor": "#506784",
            "linecolor": "#506784",
            "ticks": ""
           },
           "radialaxis": {
            "gridcolor": "#506784",
            "linecolor": "#506784",
            "ticks": ""
           }
          },
          "ternary": {
           "bgcolor": "rgb(17,17,17)",
           "aaxis": {
            "gridcolor": "#506784",
            "linecolor": "#506784",
            "ticks": ""
           },
           "baxis": {
            "gridcolor": "#506784",
            "linecolor": "#506784",
            "ticks": ""
           },
           "caxis": {
            "gridcolor": "#506784",
            "linecolor": "#506784",
            "ticks": ""
           }
          },
          "coloraxis": {
           "colorbar": {
            "outlinewidth": 0,
            "ticks": ""
           }
          },
          "colorscale": {
           "sequential": [
            [
             0.0,
             "#0d0887"
            ],
            [
             0.1111111111111111,
             "#46039f"
            ],
            [
             0.2222222222222222,
             "#7201a8"
            ],
            [
             0.3333333333333333,
             "#9c179e"
            ],
            [
             0.4444444444444444,
             "#bd3786"
            ],
            [
             0.5555555555555556,
             "#d8576b"
            ],
            [
             0.6666666666666666,
             "#ed7953"
            ],
            [
             0.7777777777777778,
             "#fb9f3a"
            ],
            [
             0.8888888888888888,
             "#fdca26"
            ],
            [
             1.0,
             "#f0f921"
            ]
           ],
           "sequentialminus": [
            [
             0.0,
             "#0d0887"
            ],
            [
             0.1111111111111111,
             "#46039f"
            ],
            [
             0.2222222222222222,
             "#7201a8"
            ],
            [
             0.3333333333333333,
             "#9c179e"
            ],
            [
             0.4444444444444444,
             "#bd3786"
            ],
            [
             0.5555555555555556,
             "#d8576b"
            ],
            [
             0.6666666666666666,
             "#ed7953"
            ],
            [
             0.7777777777777778,
             "#fb9f3a"
            ],
            [
             0.8888888888888888,
             "#fdca26"
            ],
            [
             1.0,
             "#f0f921"
            ]
           ],
           "diverging": [
            [
             0,
             "#8e0152"
            ],
            [
             0.1,
             "#c51b7d"
            ],
            [
             0.2,
             "#de77ae"
            ],
            [
             0.3,
             "#f1b6da"
            ],
            [
             0.4,
             "#fde0ef"
            ],
            [
             0.5,
             "#f7f7f7"
            ],
            [
             0.6,
             "#e6f5d0"
            ],
            [
             0.7,
             "#b8e186"
            ],
            [
             0.8,
             "#7fbc41"
            ],
            [
             0.9,
             "#4d9221"
            ],
            [
             1,
             "#276419"
            ]
           ]
          },
          "xaxis": {
           "gridcolor": "#283442",
           "linecolor": "#506784",
           "ticks": "",
           "title": {
            "standoff": 15
           },
           "zerolinecolor": "#283442",
           "automargin": true,
           "zerolinewidth": 2
          },
          "yaxis": {
           "gridcolor": "#283442",
           "linecolor": "#506784",
           "ticks": "",
           "title": {
            "standoff": 15
           },
           "zerolinecolor": "#283442",
           "automargin": true,
           "zerolinewidth": 2
          },
          "scene": {
           "xaxis": {
            "backgroundcolor": "rgb(17,17,17)",
            "gridcolor": "#506784",
            "linecolor": "#506784",
            "showbackground": true,
            "ticks": "",
            "zerolinecolor": "#C8D4E3",
            "gridwidth": 2
           },
           "yaxis": {
            "backgroundcolor": "rgb(17,17,17)",
            "gridcolor": "#506784",
            "linecolor": "#506784",
            "showbackground": true,
            "ticks": "",
            "zerolinecolor": "#C8D4E3",
            "gridwidth": 2
           },
           "zaxis": {
            "backgroundcolor": "rgb(17,17,17)",
            "gridcolor": "#506784",
            "linecolor": "#506784",
            "showbackground": true,
            "ticks": "",
            "zerolinecolor": "#C8D4E3",
            "gridwidth": 2
           }
          },
          "shapedefaults": {
           "line": {
            "color": "#f2f5fa"
           }
          },
          "annotationdefaults": {
           "arrowcolor": "#f2f5fa",
           "arrowhead": 0,
           "arrowwidth": 1
          },
          "geo": {
           "bgcolor": "rgb(17,17,17)",
           "landcolor": "rgb(17,17,17)",
           "subunitcolor": "#506784",
           "showland": true,
           "showlakes": true,
           "lakecolor": "rgb(17,17,17)"
          },
          "title": {
           "x": 0.05
          },
          "updatemenudefaults": {
           "bgcolor": "#506784",
           "borderwidth": 0
          },
          "sliderdefaults": {
           "bgcolor": "#C8D4E3",
           "borderwidth": 1,
           "bordercolor": "rgb(17,17,17)",
           "tickwidth": 0
          },
          "mapbox": {
           "style": "dark"
          }
         }
        },
        "xaxis": {
         "anchor": "y",
         "domain": [
          0.0,
          1.0
         ],
         "title": {
          "text": "index"
         },
         "categoryorder": "array",
         "categoryarray": [
          " Russia",
          " USA",
          " Kazakhstan",
          " France",
          " China",
          " Japan",
          " India",
          " Pacific Ocean",
          " New Zealand",
          " Iran",
          " Israel",
          " Kenya",
          " Australia",
          " North Korea",
          " New Mexico",
          " Barents Sea",
          " South Korea",
          " Brazil",
          " Gran Canaria",
          " Pacific Missile Range Facility",
          " Shahrud Missile Test Site",
          " Yellow Sea"
         ]
        },
        "yaxis": {
         "anchor": "x",
         "domain": [
          0.0,
          1.0
         ],
         "title": {
          "text": "count"
         }
        },
        "legend": {
         "title": {
          "text": "index"
         },
         "tracegroupgap": 0
        },
        "title": {
         "text": "Number of launches by location"
        },
        "barmode": "relative"
       },
       "config": {
        "plotlyServerURL": "https://plot.ly"
       }
      },
      "text/html": "<div>                            <div id=\"165b18dd-6bda-473b-90b0-3dca4a775f9c\" class=\"plotly-graph-div\" style=\"height:525px; width:100%;\"></div>            <script type=\"text/javascript\">                require([\"plotly\"], function(Plotly) {                    window.PLOTLYENV=window.PLOTLYENV || {};                                    if (document.getElementById(\"165b18dd-6bda-473b-90b0-3dca4a775f9c\")) {                    Plotly.newPlot(                        \"165b18dd-6bda-473b-90b0-3dca4a775f9c\",                        [{\"alignmentgroup\":\"True\",\"hovertemplate\":\"index=%{x}\\u003cbr\\u003ecount=%{y}\\u003cextra\\u003e\\u003c\\u002fextra\\u003e\",\"legendgroup\":\" Russia\",\"marker\":{\"color\":\"#636efa\",\"pattern\":{\"shape\":\"\"}},\"name\":\" Russia\",\"offsetgroup\":\" Russia\",\"orientation\":\"v\",\"showlegend\":true,\"textposition\":\"auto\",\"x\":[\" Russia\"],\"xaxis\":\"x\",\"y\":[1395],\"yaxis\":\"y\",\"type\":\"bar\"},{\"alignmentgroup\":\"True\",\"hovertemplate\":\"index=%{x}\\u003cbr\\u003ecount=%{y}\\u003cextra\\u003e\\u003c\\u002fextra\\u003e\",\"legendgroup\":\" USA\",\"marker\":{\"color\":\"#EF553B\",\"pattern\":{\"shape\":\"\"}},\"name\":\" USA\",\"offsetgroup\":\" USA\",\"orientation\":\"v\",\"showlegend\":true,\"textposition\":\"auto\",\"x\":[\" USA\"],\"xaxis\":\"x\",\"y\":[1344],\"yaxis\":\"y\",\"type\":\"bar\"},{\"alignmentgroup\":\"True\",\"hovertemplate\":\"index=%{x}\\u003cbr\\u003ecount=%{y}\\u003cextra\\u003e\\u003c\\u002fextra\\u003e\",\"legendgroup\":\" Kazakhstan\",\"marker\":{\"color\":\"#00cc96\",\"pattern\":{\"shape\":\"\"}},\"name\":\" Kazakhstan\",\"offsetgroup\":\" Kazakhstan\",\"orientation\":\"v\",\"showlegend\":true,\"textposition\":\"auto\",\"x\":[\" Kazakhstan\"],\"xaxis\":\"x\",\"y\":[701],\"yaxis\":\"y\",\"type\":\"bar\"},{\"alignmentgroup\":\"True\",\"hovertemplate\":\"index=%{x}\\u003cbr\\u003ecount=%{y}\\u003cextra\\u003e\\u003c\\u002fextra\\u003e\",\"legendgroup\":\" France\",\"marker\":{\"color\":\"#ab63fa\",\"pattern\":{\"shape\":\"\"}},\"name\":\" France\",\"offsetgroup\":\" France\",\"orientation\":\"v\",\"showlegend\":true,\"textposition\":\"auto\",\"x\":[\" France\"],\"xaxis\":\"x\",\"y\":[303],\"yaxis\":\"y\",\"type\":\"bar\"},{\"alignmentgroup\":\"True\",\"hovertemplate\":\"index=%{x}\\u003cbr\\u003ecount=%{y}\\u003cextra\\u003e\\u003c\\u002fextra\\u003e\",\"legendgroup\":\" China\",\"marker\":{\"color\":\"#FFA15A\",\"pattern\":{\"shape\":\"\"}},\"name\":\" China\",\"offsetgroup\":\" China\",\"orientation\":\"v\",\"showlegend\":true,\"textposition\":\"auto\",\"x\":[\" China\"],\"xaxis\":\"x\",\"y\":[268],\"yaxis\":\"y\",\"type\":\"bar\"},{\"alignmentgroup\":\"True\",\"hovertemplate\":\"index=%{x}\\u003cbr\\u003ecount=%{y}\\u003cextra\\u003e\\u003c\\u002fextra\\u003e\",\"legendgroup\":\" Japan\",\"marker\":{\"color\":\"#19d3f3\",\"pattern\":{\"shape\":\"\"}},\"name\":\" Japan\",\"offsetgroup\":\" Japan\",\"orientation\":\"v\",\"showlegend\":true,\"textposition\":\"auto\",\"x\":[\" Japan\"],\"xaxis\":\"x\",\"y\":[126],\"yaxis\":\"y\",\"type\":\"bar\"},{\"alignmentgroup\":\"True\",\"hovertemplate\":\"index=%{x}\\u003cbr\\u003ecount=%{y}\\u003cextra\\u003e\\u003c\\u002fextra\\u003e\",\"legendgroup\":\" India\",\"marker\":{\"color\":\"#FF6692\",\"pattern\":{\"shape\":\"\"}},\"name\":\" India\",\"offsetgroup\":\" India\",\"orientation\":\"v\",\"showlegend\":true,\"textposition\":\"auto\",\"x\":[\" India\"],\"xaxis\":\"x\",\"y\":[76],\"yaxis\":\"y\",\"type\":\"bar\"},{\"alignmentgroup\":\"True\",\"hovertemplate\":\"index=%{x}\\u003cbr\\u003ecount=%{y}\\u003cextra\\u003e\\u003c\\u002fextra\\u003e\",\"legendgroup\":\" Pacific Ocean\",\"marker\":{\"color\":\"#B6E880\",\"pattern\":{\"shape\":\"\"}},\"name\":\" Pacific Ocean\",\"offsetgroup\":\" Pacific Ocean\",\"orientation\":\"v\",\"showlegend\":true,\"textposition\":\"auto\",\"x\":[\" Pacific Ocean\"],\"xaxis\":\"x\",\"y\":[36],\"yaxis\":\"y\",\"type\":\"bar\"},{\"alignmentgroup\":\"True\",\"hovertemplate\":\"index=%{x}\\u003cbr\\u003ecount=%{y}\\u003cextra\\u003e\\u003c\\u002fextra\\u003e\",\"legendgroup\":\" New Zealand\",\"marker\":{\"color\":\"#FF97FF\",\"pattern\":{\"shape\":\"\"}},\"name\":\" New Zealand\",\"offsetgroup\":\" New Zealand\",\"orientation\":\"v\",\"showlegend\":true,\"textposition\":\"auto\",\"x\":[\" New Zealand\"],\"xaxis\":\"x\",\"y\":[13],\"yaxis\":\"y\",\"type\":\"bar\"},{\"alignmentgroup\":\"True\",\"hovertemplate\":\"index=%{x}\\u003cbr\\u003ecount=%{y}\\u003cextra\\u003e\\u003c\\u002fextra\\u003e\",\"legendgroup\":\" Iran\",\"marker\":{\"color\":\"#FECB52\",\"pattern\":{\"shape\":\"\"}},\"name\":\" Iran\",\"offsetgroup\":\" Iran\",\"orientation\":\"v\",\"showlegend\":true,\"textposition\":\"auto\",\"x\":[\" Iran\"],\"xaxis\":\"x\",\"y\":[13],\"yaxis\":\"y\",\"type\":\"bar\"},{\"alignmentgroup\":\"True\",\"hovertemplate\":\"index=%{x}\\u003cbr\\u003ecount=%{y}\\u003cextra\\u003e\\u003c\\u002fextra\\u003e\",\"legendgroup\":\" Israel\",\"marker\":{\"color\":\"#636efa\",\"pattern\":{\"shape\":\"\"}},\"name\":\" Israel\",\"offsetgroup\":\" Israel\",\"orientation\":\"v\",\"showlegend\":true,\"textposition\":\"auto\",\"x\":[\" Israel\"],\"xaxis\":\"x\",\"y\":[11],\"yaxis\":\"y\",\"type\":\"bar\"},{\"alignmentgroup\":\"True\",\"hovertemplate\":\"index=%{x}\\u003cbr\\u003ecount=%{y}\\u003cextra\\u003e\\u003c\\u002fextra\\u003e\",\"legendgroup\":\" Kenya\",\"marker\":{\"color\":\"#EF553B\",\"pattern\":{\"shape\":\"\"}},\"name\":\" Kenya\",\"offsetgroup\":\" Kenya\",\"orientation\":\"v\",\"showlegend\":true,\"textposition\":\"auto\",\"x\":[\" Kenya\"],\"xaxis\":\"x\",\"y\":[9],\"yaxis\":\"y\",\"type\":\"bar\"},{\"alignmentgroup\":\"True\",\"hovertemplate\":\"index=%{x}\\u003cbr\\u003ecount=%{y}\\u003cextra\\u003e\\u003c\\u002fextra\\u003e\",\"legendgroup\":\" Australia\",\"marker\":{\"color\":\"#00cc96\",\"pattern\":{\"shape\":\"\"}},\"name\":\" Australia\",\"offsetgroup\":\" Australia\",\"orientation\":\"v\",\"showlegend\":true,\"textposition\":\"auto\",\"x\":[\" Australia\"],\"xaxis\":\"x\",\"y\":[6],\"yaxis\":\"y\",\"type\":\"bar\"},{\"alignmentgroup\":\"True\",\"hovertemplate\":\"index=%{x}\\u003cbr\\u003ecount=%{y}\\u003cextra\\u003e\\u003c\\u002fextra\\u003e\",\"legendgroup\":\" North Korea\",\"marker\":{\"color\":\"#ab63fa\",\"pattern\":{\"shape\":\"\"}},\"name\":\" North Korea\",\"offsetgroup\":\" North Korea\",\"orientation\":\"v\",\"showlegend\":true,\"textposition\":\"auto\",\"x\":[\" North Korea\"],\"xaxis\":\"x\",\"y\":[5],\"yaxis\":\"y\",\"type\":\"bar\"},{\"alignmentgroup\":\"True\",\"hovertemplate\":\"index=%{x}\\u003cbr\\u003ecount=%{y}\\u003cextra\\u003e\\u003c\\u002fextra\\u003e\",\"legendgroup\":\" New Mexico\",\"marker\":{\"color\":\"#FFA15A\",\"pattern\":{\"shape\":\"\"}},\"name\":\" New Mexico\",\"offsetgroup\":\" New Mexico\",\"orientation\":\"v\",\"showlegend\":true,\"textposition\":\"auto\",\"x\":[\" New Mexico\"],\"xaxis\":\"x\",\"y\":[4],\"yaxis\":\"y\",\"type\":\"bar\"},{\"alignmentgroup\":\"True\",\"hovertemplate\":\"index=%{x}\\u003cbr\\u003ecount=%{y}\\u003cextra\\u003e\\u003c\\u002fextra\\u003e\",\"legendgroup\":\" Barents Sea\",\"marker\":{\"color\":\"#19d3f3\",\"pattern\":{\"shape\":\"\"}},\"name\":\" Barents Sea\",\"offsetgroup\":\" Barents Sea\",\"orientation\":\"v\",\"showlegend\":true,\"textposition\":\"auto\",\"x\":[\" Barents Sea\"],\"xaxis\":\"x\",\"y\":[3],\"yaxis\":\"y\",\"type\":\"bar\"},{\"alignmentgroup\":\"True\",\"hovertemplate\":\"index=%{x}\\u003cbr\\u003ecount=%{y}\\u003cextra\\u003e\\u003c\\u002fextra\\u003e\",\"legendgroup\":\" South Korea\",\"marker\":{\"color\":\"#FF6692\",\"pattern\":{\"shape\":\"\"}},\"name\":\" South Korea\",\"offsetgroup\":\" South Korea\",\"orientation\":\"v\",\"showlegend\":true,\"textposition\":\"auto\",\"x\":[\" South Korea\"],\"xaxis\":\"x\",\"y\":[3],\"yaxis\":\"y\",\"type\":\"bar\"},{\"alignmentgroup\":\"True\",\"hovertemplate\":\"index=%{x}\\u003cbr\\u003ecount=%{y}\\u003cextra\\u003e\\u003c\\u002fextra\\u003e\",\"legendgroup\":\" Brazil\",\"marker\":{\"color\":\"#B6E880\",\"pattern\":{\"shape\":\"\"}},\"name\":\" Brazil\",\"offsetgroup\":\" Brazil\",\"orientation\":\"v\",\"showlegend\":true,\"textposition\":\"auto\",\"x\":[\" Brazil\"],\"xaxis\":\"x\",\"y\":[3],\"yaxis\":\"y\",\"type\":\"bar\"},{\"alignmentgroup\":\"True\",\"hovertemplate\":\"index=%{x}\\u003cbr\\u003ecount=%{y}\\u003cextra\\u003e\\u003c\\u002fextra\\u003e\",\"legendgroup\":\" Gran Canaria\",\"marker\":{\"color\":\"#FF97FF\",\"pattern\":{\"shape\":\"\"}},\"name\":\" Gran Canaria\",\"offsetgroup\":\" Gran Canaria\",\"orientation\":\"v\",\"showlegend\":true,\"textposition\":\"auto\",\"x\":[\" Gran Canaria\"],\"xaxis\":\"x\",\"y\":[2],\"yaxis\":\"y\",\"type\":\"bar\"},{\"alignmentgroup\":\"True\",\"hovertemplate\":\"index=%{x}\\u003cbr\\u003ecount=%{y}\\u003cextra\\u003e\\u003c\\u002fextra\\u003e\",\"legendgroup\":\" Pacific Missile Range Facility\",\"marker\":{\"color\":\"#FECB52\",\"pattern\":{\"shape\":\"\"}},\"name\":\" Pacific Missile Range Facility\",\"offsetgroup\":\" Pacific Missile Range Facility\",\"orientation\":\"v\",\"showlegend\":true,\"textposition\":\"auto\",\"x\":[\" Pacific Missile Range Facility\"],\"xaxis\":\"x\",\"y\":[1],\"yaxis\":\"y\",\"type\":\"bar\"},{\"alignmentgroup\":\"True\",\"hovertemplate\":\"index=%{x}\\u003cbr\\u003ecount=%{y}\\u003cextra\\u003e\\u003c\\u002fextra\\u003e\",\"legendgroup\":\" Shahrud Missile Test Site\",\"marker\":{\"color\":\"#636efa\",\"pattern\":{\"shape\":\"\"}},\"name\":\" Shahrud Missile Test Site\",\"offsetgroup\":\" Shahrud Missile Test Site\",\"orientation\":\"v\",\"showlegend\":true,\"textposition\":\"auto\",\"x\":[\" Shahrud Missile Test Site\"],\"xaxis\":\"x\",\"y\":[1],\"yaxis\":\"y\",\"type\":\"bar\"},{\"alignmentgroup\":\"True\",\"hovertemplate\":\"index=%{x}\\u003cbr\\u003ecount=%{y}\\u003cextra\\u003e\\u003c\\u002fextra\\u003e\",\"legendgroup\":\" Yellow Sea\",\"marker\":{\"color\":\"#EF553B\",\"pattern\":{\"shape\":\"\"}},\"name\":\" Yellow Sea\",\"offsetgroup\":\" Yellow Sea\",\"orientation\":\"v\",\"showlegend\":true,\"textposition\":\"auto\",\"x\":[\" Yellow Sea\"],\"xaxis\":\"x\",\"y\":[1],\"yaxis\":\"y\",\"type\":\"bar\"}],                        {\"template\":{\"data\":{\"histogram2dcontour\":[{\"type\":\"histogram2dcontour\",\"colorbar\":{\"outlinewidth\":0,\"ticks\":\"\"},\"colorscale\":[[0.0,\"#0d0887\"],[0.1111111111111111,\"#46039f\"],[0.2222222222222222,\"#7201a8\"],[0.3333333333333333,\"#9c179e\"],[0.4444444444444444,\"#bd3786\"],[0.5555555555555556,\"#d8576b\"],[0.6666666666666666,\"#ed7953\"],[0.7777777777777778,\"#fb9f3a\"],[0.8888888888888888,\"#fdca26\"],[1.0,\"#f0f921\"]]}],\"choropleth\":[{\"type\":\"choropleth\",\"colorbar\":{\"outlinewidth\":0,\"ticks\":\"\"}}],\"histogram2d\":[{\"type\":\"histogram2d\",\"colorbar\":{\"outlinewidth\":0,\"ticks\":\"\"},\"colorscale\":[[0.0,\"#0d0887\"],[0.1111111111111111,\"#46039f\"],[0.2222222222222222,\"#7201a8\"],[0.3333333333333333,\"#9c179e\"],[0.4444444444444444,\"#bd3786\"],[0.5555555555555556,\"#d8576b\"],[0.6666666666666666,\"#ed7953\"],[0.7777777777777778,\"#fb9f3a\"],[0.8888888888888888,\"#fdca26\"],[1.0,\"#f0f921\"]]}],\"heatmap\":[{\"type\":\"heatmap\",\"colorbar\":{\"outlinewidth\":0,\"ticks\":\"\"},\"colorscale\":[[0.0,\"#0d0887\"],[0.1111111111111111,\"#46039f\"],[0.2222222222222222,\"#7201a8\"],[0.3333333333333333,\"#9c179e\"],[0.4444444444444444,\"#bd3786\"],[0.5555555555555556,\"#d8576b\"],[0.6666666666666666,\"#ed7953\"],[0.7777777777777778,\"#fb9f3a\"],[0.8888888888888888,\"#fdca26\"],[1.0,\"#f0f921\"]]}],\"heatmapgl\":[{\"type\":\"heatmapgl\",\"colorbar\":{\"outlinewidth\":0,\"ticks\":\"\"},\"colorscale\":[[0.0,\"#0d0887\"],[0.1111111111111111,\"#46039f\"],[0.2222222222222222,\"#7201a8\"],[0.3333333333333333,\"#9c179e\"],[0.4444444444444444,\"#bd3786\"],[0.5555555555555556,\"#d8576b\"],[0.6666666666666666,\"#ed7953\"],[0.7777777777777778,\"#fb9f3a\"],[0.8888888888888888,\"#fdca26\"],[1.0,\"#f0f921\"]]}],\"contourcarpet\":[{\"type\":\"contourcarpet\",\"colorbar\":{\"outlinewidth\":0,\"ticks\":\"\"}}],\"contour\":[{\"type\":\"contour\",\"colorbar\":{\"outlinewidth\":0,\"ticks\":\"\"},\"colorscale\":[[0.0,\"#0d0887\"],[0.1111111111111111,\"#46039f\"],[0.2222222222222222,\"#7201a8\"],[0.3333333333333333,\"#9c179e\"],[0.4444444444444444,\"#bd3786\"],[0.5555555555555556,\"#d8576b\"],[0.6666666666666666,\"#ed7953\"],[0.7777777777777778,\"#fb9f3a\"],[0.8888888888888888,\"#fdca26\"],[1.0,\"#f0f921\"]]}],\"surface\":[{\"type\":\"surface\",\"colorbar\":{\"outlinewidth\":0,\"ticks\":\"\"},\"colorscale\":[[0.0,\"#0d0887\"],[0.1111111111111111,\"#46039f\"],[0.2222222222222222,\"#7201a8\"],[0.3333333333333333,\"#9c179e\"],[0.4444444444444444,\"#bd3786\"],[0.5555555555555556,\"#d8576b\"],[0.6666666666666666,\"#ed7953\"],[0.7777777777777778,\"#fb9f3a\"],[0.8888888888888888,\"#fdca26\"],[1.0,\"#f0f921\"]]}],\"mesh3d\":[{\"type\":\"mesh3d\",\"colorbar\":{\"outlinewidth\":0,\"ticks\":\"\"}}],\"scatter\":[{\"marker\":{\"line\":{\"color\":\"#283442\"}},\"type\":\"scatter\"}],\"parcoords\":[{\"type\":\"parcoords\",\"line\":{\"colorbar\":{\"outlinewidth\":0,\"ticks\":\"\"}}}],\"scatterpolargl\":[{\"type\":\"scatterpolargl\",\"marker\":{\"colorbar\":{\"outlinewidth\":0,\"ticks\":\"\"}}}],\"bar\":[{\"error_x\":{\"color\":\"#f2f5fa\"},\"error_y\":{\"color\":\"#f2f5fa\"},\"marker\":{\"line\":{\"color\":\"rgb(17,17,17)\",\"width\":0.5},\"pattern\":{\"fillmode\":\"overlay\",\"size\":10,\"solidity\":0.2}},\"type\":\"bar\"}],\"scattergeo\":[{\"type\":\"scattergeo\",\"marker\":{\"colorbar\":{\"outlinewidth\":0,\"ticks\":\"\"}}}],\"scatterpolar\":[{\"type\":\"scatterpolar\",\"marker\":{\"colorbar\":{\"outlinewidth\":0,\"ticks\":\"\"}}}],\"histogram\":[{\"marker\":{\"pattern\":{\"fillmode\":\"overlay\",\"size\":10,\"solidity\":0.2}},\"type\":\"histogram\"}],\"scattergl\":[{\"marker\":{\"line\":{\"color\":\"#283442\"}},\"type\":\"scattergl\"}],\"scatter3d\":[{\"type\":\"scatter3d\",\"line\":{\"colorbar\":{\"outlinewidth\":0,\"ticks\":\"\"}},\"marker\":{\"colorbar\":{\"outlinewidth\":0,\"ticks\":\"\"}}}],\"scattermapbox\":[{\"type\":\"scattermapbox\",\"marker\":{\"colorbar\":{\"outlinewidth\":0,\"ticks\":\"\"}}}],\"scatterternary\":[{\"type\":\"scatterternary\",\"marker\":{\"colorbar\":{\"outlinewidth\":0,\"ticks\":\"\"}}}],\"scattercarpet\":[{\"type\":\"scattercarpet\",\"marker\":{\"colorbar\":{\"outlinewidth\":0,\"ticks\":\"\"}}}],\"carpet\":[{\"aaxis\":{\"endlinecolor\":\"#A2B1C6\",\"gridcolor\":\"#506784\",\"linecolor\":\"#506784\",\"minorgridcolor\":\"#506784\",\"startlinecolor\":\"#A2B1C6\"},\"baxis\":{\"endlinecolor\":\"#A2B1C6\",\"gridcolor\":\"#506784\",\"linecolor\":\"#506784\",\"minorgridcolor\":\"#506784\",\"startlinecolor\":\"#A2B1C6\"},\"type\":\"carpet\"}],\"table\":[{\"cells\":{\"fill\":{\"color\":\"#506784\"},\"line\":{\"color\":\"rgb(17,17,17)\"}},\"header\":{\"fill\":{\"color\":\"#2a3f5f\"},\"line\":{\"color\":\"rgb(17,17,17)\"}},\"type\":\"table\"}],\"barpolar\":[{\"marker\":{\"line\":{\"color\":\"rgb(17,17,17)\",\"width\":0.5},\"pattern\":{\"fillmode\":\"overlay\",\"size\":10,\"solidity\":0.2}},\"type\":\"barpolar\"}],\"pie\":[{\"automargin\":true,\"type\":\"pie\"}]},\"layout\":{\"autotypenumbers\":\"strict\",\"colorway\":[\"#636efa\",\"#EF553B\",\"#00cc96\",\"#ab63fa\",\"#FFA15A\",\"#19d3f3\",\"#FF6692\",\"#B6E880\",\"#FF97FF\",\"#FECB52\"],\"font\":{\"color\":\"#f2f5fa\"},\"hovermode\":\"closest\",\"hoverlabel\":{\"align\":\"left\"},\"paper_bgcolor\":\"rgb(17,17,17)\",\"plot_bgcolor\":\"rgb(17,17,17)\",\"polar\":{\"bgcolor\":\"rgb(17,17,17)\",\"angularaxis\":{\"gridcolor\":\"#506784\",\"linecolor\":\"#506784\",\"ticks\":\"\"},\"radialaxis\":{\"gridcolor\":\"#506784\",\"linecolor\":\"#506784\",\"ticks\":\"\"}},\"ternary\":{\"bgcolor\":\"rgb(17,17,17)\",\"aaxis\":{\"gridcolor\":\"#506784\",\"linecolor\":\"#506784\",\"ticks\":\"\"},\"baxis\":{\"gridcolor\":\"#506784\",\"linecolor\":\"#506784\",\"ticks\":\"\"},\"caxis\":{\"gridcolor\":\"#506784\",\"linecolor\":\"#506784\",\"ticks\":\"\"}},\"coloraxis\":{\"colorbar\":{\"outlinewidth\":0,\"ticks\":\"\"}},\"colorscale\":{\"sequential\":[[0.0,\"#0d0887\"],[0.1111111111111111,\"#46039f\"],[0.2222222222222222,\"#7201a8\"],[0.3333333333333333,\"#9c179e\"],[0.4444444444444444,\"#bd3786\"],[0.5555555555555556,\"#d8576b\"],[0.6666666666666666,\"#ed7953\"],[0.7777777777777778,\"#fb9f3a\"],[0.8888888888888888,\"#fdca26\"],[1.0,\"#f0f921\"]],\"sequentialminus\":[[0.0,\"#0d0887\"],[0.1111111111111111,\"#46039f\"],[0.2222222222222222,\"#7201a8\"],[0.3333333333333333,\"#9c179e\"],[0.4444444444444444,\"#bd3786\"],[0.5555555555555556,\"#d8576b\"],[0.6666666666666666,\"#ed7953\"],[0.7777777777777778,\"#fb9f3a\"],[0.8888888888888888,\"#fdca26\"],[1.0,\"#f0f921\"]],\"diverging\":[[0,\"#8e0152\"],[0.1,\"#c51b7d\"],[0.2,\"#de77ae\"],[0.3,\"#f1b6da\"],[0.4,\"#fde0ef\"],[0.5,\"#f7f7f7\"],[0.6,\"#e6f5d0\"],[0.7,\"#b8e186\"],[0.8,\"#7fbc41\"],[0.9,\"#4d9221\"],[1,\"#276419\"]]},\"xaxis\":{\"gridcolor\":\"#283442\",\"linecolor\":\"#506784\",\"ticks\":\"\",\"title\":{\"standoff\":15},\"zerolinecolor\":\"#283442\",\"automargin\":true,\"zerolinewidth\":2},\"yaxis\":{\"gridcolor\":\"#283442\",\"linecolor\":\"#506784\",\"ticks\":\"\",\"title\":{\"standoff\":15},\"zerolinecolor\":\"#283442\",\"automargin\":true,\"zerolinewidth\":2},\"scene\":{\"xaxis\":{\"backgroundcolor\":\"rgb(17,17,17)\",\"gridcolor\":\"#506784\",\"linecolor\":\"#506784\",\"showbackground\":true,\"ticks\":\"\",\"zerolinecolor\":\"#C8D4E3\",\"gridwidth\":2},\"yaxis\":{\"backgroundcolor\":\"rgb(17,17,17)\",\"gridcolor\":\"#506784\",\"linecolor\":\"#506784\",\"showbackground\":true,\"ticks\":\"\",\"zerolinecolor\":\"#C8D4E3\",\"gridwidth\":2},\"zaxis\":{\"backgroundcolor\":\"rgb(17,17,17)\",\"gridcolor\":\"#506784\",\"linecolor\":\"#506784\",\"showbackground\":true,\"ticks\":\"\",\"zerolinecolor\":\"#C8D4E3\",\"gridwidth\":2}},\"shapedefaults\":{\"line\":{\"color\":\"#f2f5fa\"}},\"annotationdefaults\":{\"arrowcolor\":\"#f2f5fa\",\"arrowhead\":0,\"arrowwidth\":1},\"geo\":{\"bgcolor\":\"rgb(17,17,17)\",\"landcolor\":\"rgb(17,17,17)\",\"subunitcolor\":\"#506784\",\"showland\":true,\"showlakes\":true,\"lakecolor\":\"rgb(17,17,17)\"},\"title\":{\"x\":0.05},\"updatemenudefaults\":{\"bgcolor\":\"#506784\",\"borderwidth\":0},\"sliderdefaults\":{\"bgcolor\":\"#C8D4E3\",\"borderwidth\":1,\"bordercolor\":\"rgb(17,17,17)\",\"tickwidth\":0},\"mapbox\":{\"style\":\"dark\"}}},\"xaxis\":{\"anchor\":\"y\",\"domain\":[0.0,1.0],\"title\":{\"text\":\"index\"},\"categoryorder\":\"array\",\"categoryarray\":[\" Russia\",\" USA\",\" Kazakhstan\",\" France\",\" China\",\" Japan\",\" India\",\" Pacific Ocean\",\" New Zealand\",\" Iran\",\" Israel\",\" Kenya\",\" Australia\",\" North Korea\",\" New Mexico\",\" Barents Sea\",\" South Korea\",\" Brazil\",\" Gran Canaria\",\" Pacific Missile Range Facility\",\" Shahrud Missile Test Site\",\" Yellow Sea\"]},\"yaxis\":{\"anchor\":\"x\",\"domain\":[0.0,1.0],\"title\":{\"text\":\"count\"}},\"legend\":{\"title\":{\"text\":\"index\"},\"tracegroupgap\":0},\"title\":{\"text\":\"Number of launches by location\"},\"barmode\":\"relative\"},                        {\"responsive\": true}                    ).then(function(){\n                            \nvar gd = document.getElementById('165b18dd-6bda-473b-90b0-3dca4a775f9c');\nvar x = new MutationObserver(function (mutations, observer) {{\n        var display = window.getComputedStyle(gd).display;\n        if (!display || display === 'none') {{\n            console.log([gd, 'removed!']);\n            Plotly.purge(gd);\n            observer.disconnect();\n        }}\n}});\n\n// Listen for the removal of the full notebook cells\nvar notebookContainer = gd.closest('#notebook-container');\nif (notebookContainer) {{\n    x.observe(notebookContainer, {childList: true});\n}}\n\n// Listen for the clearing of the current output cell\nvar outputEl = gd.closest('.output');\nif (outputEl) {{\n    x.observe(outputEl, {childList: true});\n}}\n\n                        })                };                });            </script>        </div>"
     },
     "metadata": {},
     "output_type": "display_data"
    }
   ],
   "source": [
    "# create a new dataframe with the number of launches by location\n",
    "df_loc = df['Location'].value_counts().reset_index()\n",
    "\n",
    "# rename Location element to last string in the location string\n",
    "df_loc['index'] = df_loc['index'].str.split(',').str[-1]\n",
    "\n",
    "# get total number of launches by location\n",
    "total = df_loc['Location'].sum()\n",
    "\n",
    "# create a new dataframe containing unique locations and the number of launches\n",
    "df_loc = df_loc.groupby('index').sum().reset_index()\n",
    "\n",
    "# add column with count of launches by location\n",
    "df_loc['count'] = df_loc['Location']\n",
    "\n",
    "# sort dataframe by number of launches\n",
    "df_loc = df_loc.sort_values(by='count', ascending=False)\n",
    "\n",
    "# graph with location being the color\n",
    "fig = px.bar(df_loc, x='index', y='count', color='index', title='Number of launches by location')\n",
    "fig.show()"
   ],
   "metadata": {
    "collapsed": false,
    "ExecuteTime": {
     "end_time": "2023-07-13T23:39:19.516815600Z",
     "start_time": "2023-07-13T23:39:19.305023500Z"
    }
   }
  },
  {
   "cell_type": "markdown",
   "source": [
    "## How many launches per company ?"
   ],
   "metadata": {
    "collapsed": false
   }
  },
  {
   "cell_type": "code",
   "execution_count": 81,
   "outputs": [
    {
     "data": {
      "application/vnd.plotly.v1+json": {
       "data": [
        {
         "alignmentgroup": "True",
         "hovertemplate": "Company Name=%{x}<br>count=%{y}<extra></extra>",
         "legendgroup": "RVSN USSR",
         "marker": {
          "color": "#636efa",
          "pattern": {
           "shape": ""
          }
         },
         "name": "RVSN USSR",
         "offsetgroup": "RVSN USSR",
         "orientation": "v",
         "showlegend": true,
         "textposition": "auto",
         "x": [
          "RVSN USSR"
         ],
         "xaxis": "x",
         "y": [
          1777
         ],
         "yaxis": "y",
         "type": "bar"
        },
        {
         "alignmentgroup": "True",
         "hovertemplate": "Company Name=%{x}<br>count=%{y}<extra></extra>",
         "legendgroup": "Arianespace",
         "marker": {
          "color": "#EF553B",
          "pattern": {
           "shape": ""
          }
         },
         "name": "Arianespace",
         "offsetgroup": "Arianespace",
         "orientation": "v",
         "showlegend": true,
         "textposition": "auto",
         "x": [
          "Arianespace"
         ],
         "xaxis": "x",
         "y": [
          279
         ],
         "yaxis": "y",
         "type": "bar"
        },
        {
         "alignmentgroup": "True",
         "hovertemplate": "Company Name=%{x}<br>count=%{y}<extra></extra>",
         "legendgroup": "General Dynamics",
         "marker": {
          "color": "#00cc96",
          "pattern": {
           "shape": ""
          }
         },
         "name": "General Dynamics",
         "offsetgroup": "General Dynamics",
         "orientation": "v",
         "showlegend": true,
         "textposition": "auto",
         "x": [
          "General Dynamics"
         ],
         "xaxis": "x",
         "y": [
          251
         ],
         "yaxis": "y",
         "type": "bar"
        },
        {
         "alignmentgroup": "True",
         "hovertemplate": "Company Name=%{x}<br>count=%{y}<extra></extra>",
         "legendgroup": "CASC",
         "marker": {
          "color": "#ab63fa",
          "pattern": {
           "shape": ""
          }
         },
         "name": "CASC",
         "offsetgroup": "CASC",
         "orientation": "v",
         "showlegend": true,
         "textposition": "auto",
         "x": [
          "CASC"
         ],
         "xaxis": "x",
         "y": [
          251
         ],
         "yaxis": "y",
         "type": "bar"
        },
        {
         "alignmentgroup": "True",
         "hovertemplate": "Company Name=%{x}<br>count=%{y}<extra></extra>",
         "legendgroup": "NASA",
         "marker": {
          "color": "#FFA15A",
          "pattern": {
           "shape": ""
          }
         },
         "name": "NASA",
         "offsetgroup": "NASA",
         "orientation": "v",
         "showlegend": true,
         "textposition": "auto",
         "x": [
          "NASA"
         ],
         "xaxis": "x",
         "y": [
          203
         ],
         "yaxis": "y",
         "type": "bar"
        },
        {
         "alignmentgroup": "True",
         "hovertemplate": "Company Name=%{x}<br>count=%{y}<extra></extra>",
         "legendgroup": "VKS RF",
         "marker": {
          "color": "#19d3f3",
          "pattern": {
           "shape": ""
          }
         },
         "name": "VKS RF",
         "offsetgroup": "VKS RF",
         "orientation": "v",
         "showlegend": true,
         "textposition": "auto",
         "x": [
          "VKS RF"
         ],
         "xaxis": "x",
         "y": [
          201
         ],
         "yaxis": "y",
         "type": "bar"
        },
        {
         "alignmentgroup": "True",
         "hovertemplate": "Company Name=%{x}<br>count=%{y}<extra></extra>",
         "legendgroup": "US Air Force",
         "marker": {
          "color": "#FF6692",
          "pattern": {
           "shape": ""
          }
         },
         "name": "US Air Force",
         "offsetgroup": "US Air Force",
         "orientation": "v",
         "showlegend": true,
         "textposition": "auto",
         "x": [
          "US Air Force"
         ],
         "xaxis": "x",
         "y": [
          161
         ],
         "yaxis": "y",
         "type": "bar"
        },
        {
         "alignmentgroup": "True",
         "hovertemplate": "Company Name=%{x}<br>count=%{y}<extra></extra>",
         "legendgroup": "ULA",
         "marker": {
          "color": "#B6E880",
          "pattern": {
           "shape": ""
          }
         },
         "name": "ULA",
         "offsetgroup": "ULA",
         "orientation": "v",
         "showlegend": true,
         "textposition": "auto",
         "x": [
          "ULA"
         ],
         "xaxis": "x",
         "y": [
          140
         ],
         "yaxis": "y",
         "type": "bar"
        },
        {
         "alignmentgroup": "True",
         "hovertemplate": "Company Name=%{x}<br>count=%{y}<extra></extra>",
         "legendgroup": "Boeing",
         "marker": {
          "color": "#FF97FF",
          "pattern": {
           "shape": ""
          }
         },
         "name": "Boeing",
         "offsetgroup": "Boeing",
         "orientation": "v",
         "showlegend": true,
         "textposition": "auto",
         "x": [
          "Boeing"
         ],
         "xaxis": "x",
         "y": [
          136
         ],
         "yaxis": "y",
         "type": "bar"
        },
        {
         "alignmentgroup": "True",
         "hovertemplate": "Company Name=%{x}<br>count=%{y}<extra></extra>",
         "legendgroup": "Martin Marietta",
         "marker": {
          "color": "#FECB52",
          "pattern": {
           "shape": ""
          }
         },
         "name": "Martin Marietta",
         "offsetgroup": "Martin Marietta",
         "orientation": "v",
         "showlegend": true,
         "textposition": "auto",
         "x": [
          "Martin Marietta"
         ],
         "xaxis": "x",
         "y": [
          114
         ],
         "yaxis": "y",
         "type": "bar"
        },
        {
         "alignmentgroup": "True",
         "hovertemplate": "Company Name=%{x}<br>count=%{y}<extra></extra>",
         "legendgroup": "SpaceX",
         "marker": {
          "color": "#636efa",
          "pattern": {
           "shape": ""
          }
         },
         "name": "SpaceX",
         "offsetgroup": "SpaceX",
         "orientation": "v",
         "showlegend": true,
         "textposition": "auto",
         "x": [
          "SpaceX"
         ],
         "xaxis": "x",
         "y": [
          100
         ],
         "yaxis": "y",
         "type": "bar"
        },
        {
         "alignmentgroup": "True",
         "hovertemplate": "Company Name=%{x}<br>count=%{y}<extra></extra>",
         "legendgroup": "MHI",
         "marker": {
          "color": "#EF553B",
          "pattern": {
           "shape": ""
          }
         },
         "name": "MHI",
         "offsetgroup": "MHI",
         "orientation": "v",
         "showlegend": true,
         "textposition": "auto",
         "x": [
          "MHI"
         ],
         "xaxis": "x",
         "y": [
          84
         ],
         "yaxis": "y",
         "type": "bar"
        },
        {
         "alignmentgroup": "True",
         "hovertemplate": "Company Name=%{x}<br>count=%{y}<extra></extra>",
         "legendgroup": "Northrop",
         "marker": {
          "color": "#00cc96",
          "pattern": {
           "shape": ""
          }
         },
         "name": "Northrop",
         "offsetgroup": "Northrop",
         "orientation": "v",
         "showlegend": true,
         "textposition": "auto",
         "x": [
          "Northrop"
         ],
         "xaxis": "x",
         "y": [
          83
         ],
         "yaxis": "y",
         "type": "bar"
        },
        {
         "alignmentgroup": "True",
         "hovertemplate": "Company Name=%{x}<br>count=%{y}<extra></extra>",
         "legendgroup": "Lockheed",
         "marker": {
          "color": "#ab63fa",
          "pattern": {
           "shape": ""
          }
         },
         "name": "Lockheed",
         "offsetgroup": "Lockheed",
         "orientation": "v",
         "showlegend": true,
         "textposition": "auto",
         "x": [
          "Lockheed"
         ],
         "xaxis": "x",
         "y": [
          79
         ],
         "yaxis": "y",
         "type": "bar"
        },
        {
         "alignmentgroup": "True",
         "hovertemplate": "Company Name=%{x}<br>count=%{y}<extra></extra>",
         "legendgroup": "ISRO",
         "marker": {
          "color": "#FFA15A",
          "pattern": {
           "shape": ""
          }
         },
         "name": "ISRO",
         "offsetgroup": "ISRO",
         "orientation": "v",
         "showlegend": true,
         "textposition": "auto",
         "x": [
          "ISRO"
         ],
         "xaxis": "x",
         "y": [
          76
         ],
         "yaxis": "y",
         "type": "bar"
        },
        {
         "alignmentgroup": "True",
         "hovertemplate": "Company Name=%{x}<br>count=%{y}<extra></extra>",
         "legendgroup": "Roscosmos",
         "marker": {
          "color": "#19d3f3",
          "pattern": {
           "shape": ""
          }
         },
         "name": "Roscosmos",
         "offsetgroup": "Roscosmos",
         "orientation": "v",
         "showlegend": true,
         "textposition": "auto",
         "x": [
          "Roscosmos"
         ],
         "xaxis": "x",
         "y": [
          55
         ],
         "yaxis": "y",
         "type": "bar"
        },
        {
         "alignmentgroup": "True",
         "hovertemplate": "Company Name=%{x}<br>count=%{y}<extra></extra>",
         "legendgroup": "ILS",
         "marker": {
          "color": "#FF6692",
          "pattern": {
           "shape": ""
          }
         },
         "name": "ILS",
         "offsetgroup": "ILS",
         "orientation": "v",
         "showlegend": true,
         "textposition": "auto",
         "x": [
          "ILS"
         ],
         "xaxis": "x",
         "y": [
          46
         ],
         "yaxis": "y",
         "type": "bar"
        },
        {
         "alignmentgroup": "True",
         "hovertemplate": "Company Name=%{x}<br>count=%{y}<extra></extra>",
         "legendgroup": "Sea Launch",
         "marker": {
          "color": "#B6E880",
          "pattern": {
           "shape": ""
          }
         },
         "name": "Sea Launch",
         "offsetgroup": "Sea Launch",
         "orientation": "v",
         "showlegend": true,
         "textposition": "auto",
         "x": [
          "Sea Launch"
         ],
         "xaxis": "x",
         "y": [
          36
         ],
         "yaxis": "y",
         "type": "bar"
        },
        {
         "alignmentgroup": "True",
         "hovertemplate": "Company Name=%{x}<br>count=%{y}<extra></extra>",
         "legendgroup": "ISAS",
         "marker": {
          "color": "#FF97FF",
          "pattern": {
           "shape": ""
          }
         },
         "name": "ISAS",
         "offsetgroup": "ISAS",
         "orientation": "v",
         "showlegend": true,
         "textposition": "auto",
         "x": [
          "ISAS"
         ],
         "xaxis": "x",
         "y": [
          30
         ],
         "yaxis": "y",
         "type": "bar"
        },
        {
         "alignmentgroup": "True",
         "hovertemplate": "Company Name=%{x}<br>count=%{y}<extra></extra>",
         "legendgroup": "Kosmotras",
         "marker": {
          "color": "#FECB52",
          "pattern": {
           "shape": ""
          }
         },
         "name": "Kosmotras",
         "offsetgroup": "Kosmotras",
         "orientation": "v",
         "showlegend": true,
         "textposition": "auto",
         "x": [
          "Kosmotras"
         ],
         "xaxis": "x",
         "y": [
          22
         ],
         "yaxis": "y",
         "type": "bar"
        }
       ],
       "layout": {
        "template": {
         "data": {
          "histogram2dcontour": [
           {
            "type": "histogram2dcontour",
            "colorbar": {
             "outlinewidth": 0,
             "ticks": ""
            },
            "colorscale": [
             [
              0.0,
              "#0d0887"
             ],
             [
              0.1111111111111111,
              "#46039f"
             ],
             [
              0.2222222222222222,
              "#7201a8"
             ],
             [
              0.3333333333333333,
              "#9c179e"
             ],
             [
              0.4444444444444444,
              "#bd3786"
             ],
             [
              0.5555555555555556,
              "#d8576b"
             ],
             [
              0.6666666666666666,
              "#ed7953"
             ],
             [
              0.7777777777777778,
              "#fb9f3a"
             ],
             [
              0.8888888888888888,
              "#fdca26"
             ],
             [
              1.0,
              "#f0f921"
             ]
            ]
           }
          ],
          "choropleth": [
           {
            "type": "choropleth",
            "colorbar": {
             "outlinewidth": 0,
             "ticks": ""
            }
           }
          ],
          "histogram2d": [
           {
            "type": "histogram2d",
            "colorbar": {
             "outlinewidth": 0,
             "ticks": ""
            },
            "colorscale": [
             [
              0.0,
              "#0d0887"
             ],
             [
              0.1111111111111111,
              "#46039f"
             ],
             [
              0.2222222222222222,
              "#7201a8"
             ],
             [
              0.3333333333333333,
              "#9c179e"
             ],
             [
              0.4444444444444444,
              "#bd3786"
             ],
             [
              0.5555555555555556,
              "#d8576b"
             ],
             [
              0.6666666666666666,
              "#ed7953"
             ],
             [
              0.7777777777777778,
              "#fb9f3a"
             ],
             [
              0.8888888888888888,
              "#fdca26"
             ],
             [
              1.0,
              "#f0f921"
             ]
            ]
           }
          ],
          "heatmap": [
           {
            "type": "heatmap",
            "colorbar": {
             "outlinewidth": 0,
             "ticks": ""
            },
            "colorscale": [
             [
              0.0,
              "#0d0887"
             ],
             [
              0.1111111111111111,
              "#46039f"
             ],
             [
              0.2222222222222222,
              "#7201a8"
             ],
             [
              0.3333333333333333,
              "#9c179e"
             ],
             [
              0.4444444444444444,
              "#bd3786"
             ],
             [
              0.5555555555555556,
              "#d8576b"
             ],
             [
              0.6666666666666666,
              "#ed7953"
             ],
             [
              0.7777777777777778,
              "#fb9f3a"
             ],
             [
              0.8888888888888888,
              "#fdca26"
             ],
             [
              1.0,
              "#f0f921"
             ]
            ]
           }
          ],
          "heatmapgl": [
           {
            "type": "heatmapgl",
            "colorbar": {
             "outlinewidth": 0,
             "ticks": ""
            },
            "colorscale": [
             [
              0.0,
              "#0d0887"
             ],
             [
              0.1111111111111111,
              "#46039f"
             ],
             [
              0.2222222222222222,
              "#7201a8"
             ],
             [
              0.3333333333333333,
              "#9c179e"
             ],
             [
              0.4444444444444444,
              "#bd3786"
             ],
             [
              0.5555555555555556,
              "#d8576b"
             ],
             [
              0.6666666666666666,
              "#ed7953"
             ],
             [
              0.7777777777777778,
              "#fb9f3a"
             ],
             [
              0.8888888888888888,
              "#fdca26"
             ],
             [
              1.0,
              "#f0f921"
             ]
            ]
           }
          ],
          "contourcarpet": [
           {
            "type": "contourcarpet",
            "colorbar": {
             "outlinewidth": 0,
             "ticks": ""
            }
           }
          ],
          "contour": [
           {
            "type": "contour",
            "colorbar": {
             "outlinewidth": 0,
             "ticks": ""
            },
            "colorscale": [
             [
              0.0,
              "#0d0887"
             ],
             [
              0.1111111111111111,
              "#46039f"
             ],
             [
              0.2222222222222222,
              "#7201a8"
             ],
             [
              0.3333333333333333,
              "#9c179e"
             ],
             [
              0.4444444444444444,
              "#bd3786"
             ],
             [
              0.5555555555555556,
              "#d8576b"
             ],
             [
              0.6666666666666666,
              "#ed7953"
             ],
             [
              0.7777777777777778,
              "#fb9f3a"
             ],
             [
              0.8888888888888888,
              "#fdca26"
             ],
             [
              1.0,
              "#f0f921"
             ]
            ]
           }
          ],
          "surface": [
           {
            "type": "surface",
            "colorbar": {
             "outlinewidth": 0,
             "ticks": ""
            },
            "colorscale": [
             [
              0.0,
              "#0d0887"
             ],
             [
              0.1111111111111111,
              "#46039f"
             ],
             [
              0.2222222222222222,
              "#7201a8"
             ],
             [
              0.3333333333333333,
              "#9c179e"
             ],
             [
              0.4444444444444444,
              "#bd3786"
             ],
             [
              0.5555555555555556,
              "#d8576b"
             ],
             [
              0.6666666666666666,
              "#ed7953"
             ],
             [
              0.7777777777777778,
              "#fb9f3a"
             ],
             [
              0.8888888888888888,
              "#fdca26"
             ],
             [
              1.0,
              "#f0f921"
             ]
            ]
           }
          ],
          "mesh3d": [
           {
            "type": "mesh3d",
            "colorbar": {
             "outlinewidth": 0,
             "ticks": ""
            }
           }
          ],
          "scatter": [
           {
            "marker": {
             "line": {
              "color": "#283442"
             }
            },
            "type": "scatter"
           }
          ],
          "parcoords": [
           {
            "type": "parcoords",
            "line": {
             "colorbar": {
              "outlinewidth": 0,
              "ticks": ""
             }
            }
           }
          ],
          "scatterpolargl": [
           {
            "type": "scatterpolargl",
            "marker": {
             "colorbar": {
              "outlinewidth": 0,
              "ticks": ""
             }
            }
           }
          ],
          "bar": [
           {
            "error_x": {
             "color": "#f2f5fa"
            },
            "error_y": {
             "color": "#f2f5fa"
            },
            "marker": {
             "line": {
              "color": "rgb(17,17,17)",
              "width": 0.5
             },
             "pattern": {
              "fillmode": "overlay",
              "size": 10,
              "solidity": 0.2
             }
            },
            "type": "bar"
           }
          ],
          "scattergeo": [
           {
            "type": "scattergeo",
            "marker": {
             "colorbar": {
              "outlinewidth": 0,
              "ticks": ""
             }
            }
           }
          ],
          "scatterpolar": [
           {
            "type": "scatterpolar",
            "marker": {
             "colorbar": {
              "outlinewidth": 0,
              "ticks": ""
             }
            }
           }
          ],
          "histogram": [
           {
            "marker": {
             "pattern": {
              "fillmode": "overlay",
              "size": 10,
              "solidity": 0.2
             }
            },
            "type": "histogram"
           }
          ],
          "scattergl": [
           {
            "marker": {
             "line": {
              "color": "#283442"
             }
            },
            "type": "scattergl"
           }
          ],
          "scatter3d": [
           {
            "type": "scatter3d",
            "line": {
             "colorbar": {
              "outlinewidth": 0,
              "ticks": ""
             }
            },
            "marker": {
             "colorbar": {
              "outlinewidth": 0,
              "ticks": ""
             }
            }
           }
          ],
          "scattermapbox": [
           {
            "type": "scattermapbox",
            "marker": {
             "colorbar": {
              "outlinewidth": 0,
              "ticks": ""
             }
            }
           }
          ],
          "scatterternary": [
           {
            "type": "scatterternary",
            "marker": {
             "colorbar": {
              "outlinewidth": 0,
              "ticks": ""
             }
            }
           }
          ],
          "scattercarpet": [
           {
            "type": "scattercarpet",
            "marker": {
             "colorbar": {
              "outlinewidth": 0,
              "ticks": ""
             }
            }
           }
          ],
          "carpet": [
           {
            "aaxis": {
             "endlinecolor": "#A2B1C6",
             "gridcolor": "#506784",
             "linecolor": "#506784",
             "minorgridcolor": "#506784",
             "startlinecolor": "#A2B1C6"
            },
            "baxis": {
             "endlinecolor": "#A2B1C6",
             "gridcolor": "#506784",
             "linecolor": "#506784",
             "minorgridcolor": "#506784",
             "startlinecolor": "#A2B1C6"
            },
            "type": "carpet"
           }
          ],
          "table": [
           {
            "cells": {
             "fill": {
              "color": "#506784"
             },
             "line": {
              "color": "rgb(17,17,17)"
             }
            },
            "header": {
             "fill": {
              "color": "#2a3f5f"
             },
             "line": {
              "color": "rgb(17,17,17)"
             }
            },
            "type": "table"
           }
          ],
          "barpolar": [
           {
            "marker": {
             "line": {
              "color": "rgb(17,17,17)",
              "width": 0.5
             },
             "pattern": {
              "fillmode": "overlay",
              "size": 10,
              "solidity": 0.2
             }
            },
            "type": "barpolar"
           }
          ],
          "pie": [
           {
            "automargin": true,
            "type": "pie"
           }
          ]
         },
         "layout": {
          "autotypenumbers": "strict",
          "colorway": [
           "#636efa",
           "#EF553B",
           "#00cc96",
           "#ab63fa",
           "#FFA15A",
           "#19d3f3",
           "#FF6692",
           "#B6E880",
           "#FF97FF",
           "#FECB52"
          ],
          "font": {
           "color": "#f2f5fa"
          },
          "hovermode": "closest",
          "hoverlabel": {
           "align": "left"
          },
          "paper_bgcolor": "rgb(17,17,17)",
          "plot_bgcolor": "rgb(17,17,17)",
          "polar": {
           "bgcolor": "rgb(17,17,17)",
           "angularaxis": {
            "gridcolor": "#506784",
            "linecolor": "#506784",
            "ticks": ""
           },
           "radialaxis": {
            "gridcolor": "#506784",
            "linecolor": "#506784",
            "ticks": ""
           }
          },
          "ternary": {
           "bgcolor": "rgb(17,17,17)",
           "aaxis": {
            "gridcolor": "#506784",
            "linecolor": "#506784",
            "ticks": ""
           },
           "baxis": {
            "gridcolor": "#506784",
            "linecolor": "#506784",
            "ticks": ""
           },
           "caxis": {
            "gridcolor": "#506784",
            "linecolor": "#506784",
            "ticks": ""
           }
          },
          "coloraxis": {
           "colorbar": {
            "outlinewidth": 0,
            "ticks": ""
           }
          },
          "colorscale": {
           "sequential": [
            [
             0.0,
             "#0d0887"
            ],
            [
             0.1111111111111111,
             "#46039f"
            ],
            [
             0.2222222222222222,
             "#7201a8"
            ],
            [
             0.3333333333333333,
             "#9c179e"
            ],
            [
             0.4444444444444444,
             "#bd3786"
            ],
            [
             0.5555555555555556,
             "#d8576b"
            ],
            [
             0.6666666666666666,
             "#ed7953"
            ],
            [
             0.7777777777777778,
             "#fb9f3a"
            ],
            [
             0.8888888888888888,
             "#fdca26"
            ],
            [
             1.0,
             "#f0f921"
            ]
           ],
           "sequentialminus": [
            [
             0.0,
             "#0d0887"
            ],
            [
             0.1111111111111111,
             "#46039f"
            ],
            [
             0.2222222222222222,
             "#7201a8"
            ],
            [
             0.3333333333333333,
             "#9c179e"
            ],
            [
             0.4444444444444444,
             "#bd3786"
            ],
            [
             0.5555555555555556,
             "#d8576b"
            ],
            [
             0.6666666666666666,
             "#ed7953"
            ],
            [
             0.7777777777777778,
             "#fb9f3a"
            ],
            [
             0.8888888888888888,
             "#fdca26"
            ],
            [
             1.0,
             "#f0f921"
            ]
           ],
           "diverging": [
            [
             0,
             "#8e0152"
            ],
            [
             0.1,
             "#c51b7d"
            ],
            [
             0.2,
             "#de77ae"
            ],
            [
             0.3,
             "#f1b6da"
            ],
            [
             0.4,
             "#fde0ef"
            ],
            [
             0.5,
             "#f7f7f7"
            ],
            [
             0.6,
             "#e6f5d0"
            ],
            [
             0.7,
             "#b8e186"
            ],
            [
             0.8,
             "#7fbc41"
            ],
            [
             0.9,
             "#4d9221"
            ],
            [
             1,
             "#276419"
            ]
           ]
          },
          "xaxis": {
           "gridcolor": "#283442",
           "linecolor": "#506784",
           "ticks": "",
           "title": {
            "standoff": 15
           },
           "zerolinecolor": "#283442",
           "automargin": true,
           "zerolinewidth": 2
          },
          "yaxis": {
           "gridcolor": "#283442",
           "linecolor": "#506784",
           "ticks": "",
           "title": {
            "standoff": 15
           },
           "zerolinecolor": "#283442",
           "automargin": true,
           "zerolinewidth": 2
          },
          "scene": {
           "xaxis": {
            "backgroundcolor": "rgb(17,17,17)",
            "gridcolor": "#506784",
            "linecolor": "#506784",
            "showbackground": true,
            "ticks": "",
            "zerolinecolor": "#C8D4E3",
            "gridwidth": 2
           },
           "yaxis": {
            "backgroundcolor": "rgb(17,17,17)",
            "gridcolor": "#506784",
            "linecolor": "#506784",
            "showbackground": true,
            "ticks": "",
            "zerolinecolor": "#C8D4E3",
            "gridwidth": 2
           },
           "zaxis": {
            "backgroundcolor": "rgb(17,17,17)",
            "gridcolor": "#506784",
            "linecolor": "#506784",
            "showbackground": true,
            "ticks": "",
            "zerolinecolor": "#C8D4E3",
            "gridwidth": 2
           }
          },
          "shapedefaults": {
           "line": {
            "color": "#f2f5fa"
           }
          },
          "annotationdefaults": {
           "arrowcolor": "#f2f5fa",
           "arrowhead": 0,
           "arrowwidth": 1
          },
          "geo": {
           "bgcolor": "rgb(17,17,17)",
           "landcolor": "rgb(17,17,17)",
           "subunitcolor": "#506784",
           "showland": true,
           "showlakes": true,
           "lakecolor": "rgb(17,17,17)"
          },
          "title": {
           "x": 0.05
          },
          "updatemenudefaults": {
           "bgcolor": "#506784",
           "borderwidth": 0
          },
          "sliderdefaults": {
           "bgcolor": "#C8D4E3",
           "borderwidth": 1,
           "bordercolor": "rgb(17,17,17)",
           "tickwidth": 0
          },
          "mapbox": {
           "style": "dark"
          }
         }
        },
        "xaxis": {
         "anchor": "y",
         "domain": [
          0.0,
          1.0
         ],
         "title": {
          "text": "Company Name"
         },
         "categoryorder": "array",
         "categoryarray": [
          "RVSN USSR",
          "Arianespace",
          "General Dynamics",
          "CASC",
          "NASA",
          "VKS RF",
          "US Air Force",
          "ULA",
          "Boeing",
          "Martin Marietta",
          "SpaceX",
          "MHI",
          "Northrop",
          "Lockheed",
          "ISRO",
          "Roscosmos",
          "ILS",
          "Sea Launch",
          "ISAS",
          "Kosmotras"
         ]
        },
        "yaxis": {
         "anchor": "x",
         "domain": [
          0.0,
          1.0
         ],
         "title": {
          "text": "count"
         }
        },
        "legend": {
         "title": {
          "text": "Company Name"
         },
         "tracegroupgap": 0
        },
        "title": {
         "text": "Top 20 Number of launches by company"
        },
        "barmode": "relative"
       },
       "config": {
        "plotlyServerURL": "https://plot.ly"
       }
      },
      "text/html": "<div>                            <div id=\"857d5e4b-5e7d-42db-8bbd-53bdd5b80ee6\" class=\"plotly-graph-div\" style=\"height:525px; width:100%;\"></div>            <script type=\"text/javascript\">                require([\"plotly\"], function(Plotly) {                    window.PLOTLYENV=window.PLOTLYENV || {};                                    if (document.getElementById(\"857d5e4b-5e7d-42db-8bbd-53bdd5b80ee6\")) {                    Plotly.newPlot(                        \"857d5e4b-5e7d-42db-8bbd-53bdd5b80ee6\",                        [{\"alignmentgroup\":\"True\",\"hovertemplate\":\"Company Name=%{x}\\u003cbr\\u003ecount=%{y}\\u003cextra\\u003e\\u003c\\u002fextra\\u003e\",\"legendgroup\":\"RVSN USSR\",\"marker\":{\"color\":\"#636efa\",\"pattern\":{\"shape\":\"\"}},\"name\":\"RVSN USSR\",\"offsetgroup\":\"RVSN USSR\",\"orientation\":\"v\",\"showlegend\":true,\"textposition\":\"auto\",\"x\":[\"RVSN USSR\"],\"xaxis\":\"x\",\"y\":[1777],\"yaxis\":\"y\",\"type\":\"bar\"},{\"alignmentgroup\":\"True\",\"hovertemplate\":\"Company Name=%{x}\\u003cbr\\u003ecount=%{y}\\u003cextra\\u003e\\u003c\\u002fextra\\u003e\",\"legendgroup\":\"Arianespace\",\"marker\":{\"color\":\"#EF553B\",\"pattern\":{\"shape\":\"\"}},\"name\":\"Arianespace\",\"offsetgroup\":\"Arianespace\",\"orientation\":\"v\",\"showlegend\":true,\"textposition\":\"auto\",\"x\":[\"Arianespace\"],\"xaxis\":\"x\",\"y\":[279],\"yaxis\":\"y\",\"type\":\"bar\"},{\"alignmentgroup\":\"True\",\"hovertemplate\":\"Company Name=%{x}\\u003cbr\\u003ecount=%{y}\\u003cextra\\u003e\\u003c\\u002fextra\\u003e\",\"legendgroup\":\"General Dynamics\",\"marker\":{\"color\":\"#00cc96\",\"pattern\":{\"shape\":\"\"}},\"name\":\"General Dynamics\",\"offsetgroup\":\"General Dynamics\",\"orientation\":\"v\",\"showlegend\":true,\"textposition\":\"auto\",\"x\":[\"General Dynamics\"],\"xaxis\":\"x\",\"y\":[251],\"yaxis\":\"y\",\"type\":\"bar\"},{\"alignmentgroup\":\"True\",\"hovertemplate\":\"Company Name=%{x}\\u003cbr\\u003ecount=%{y}\\u003cextra\\u003e\\u003c\\u002fextra\\u003e\",\"legendgroup\":\"CASC\",\"marker\":{\"color\":\"#ab63fa\",\"pattern\":{\"shape\":\"\"}},\"name\":\"CASC\",\"offsetgroup\":\"CASC\",\"orientation\":\"v\",\"showlegend\":true,\"textposition\":\"auto\",\"x\":[\"CASC\"],\"xaxis\":\"x\",\"y\":[251],\"yaxis\":\"y\",\"type\":\"bar\"},{\"alignmentgroup\":\"True\",\"hovertemplate\":\"Company Name=%{x}\\u003cbr\\u003ecount=%{y}\\u003cextra\\u003e\\u003c\\u002fextra\\u003e\",\"legendgroup\":\"NASA\",\"marker\":{\"color\":\"#FFA15A\",\"pattern\":{\"shape\":\"\"}},\"name\":\"NASA\",\"offsetgroup\":\"NASA\",\"orientation\":\"v\",\"showlegend\":true,\"textposition\":\"auto\",\"x\":[\"NASA\"],\"xaxis\":\"x\",\"y\":[203],\"yaxis\":\"y\",\"type\":\"bar\"},{\"alignmentgroup\":\"True\",\"hovertemplate\":\"Company Name=%{x}\\u003cbr\\u003ecount=%{y}\\u003cextra\\u003e\\u003c\\u002fextra\\u003e\",\"legendgroup\":\"VKS RF\",\"marker\":{\"color\":\"#19d3f3\",\"pattern\":{\"shape\":\"\"}},\"name\":\"VKS RF\",\"offsetgroup\":\"VKS RF\",\"orientation\":\"v\",\"showlegend\":true,\"textposition\":\"auto\",\"x\":[\"VKS RF\"],\"xaxis\":\"x\",\"y\":[201],\"yaxis\":\"y\",\"type\":\"bar\"},{\"alignmentgroup\":\"True\",\"hovertemplate\":\"Company Name=%{x}\\u003cbr\\u003ecount=%{y}\\u003cextra\\u003e\\u003c\\u002fextra\\u003e\",\"legendgroup\":\"US Air Force\",\"marker\":{\"color\":\"#FF6692\",\"pattern\":{\"shape\":\"\"}},\"name\":\"US Air Force\",\"offsetgroup\":\"US Air Force\",\"orientation\":\"v\",\"showlegend\":true,\"textposition\":\"auto\",\"x\":[\"US Air Force\"],\"xaxis\":\"x\",\"y\":[161],\"yaxis\":\"y\",\"type\":\"bar\"},{\"alignmentgroup\":\"True\",\"hovertemplate\":\"Company Name=%{x}\\u003cbr\\u003ecount=%{y}\\u003cextra\\u003e\\u003c\\u002fextra\\u003e\",\"legendgroup\":\"ULA\",\"marker\":{\"color\":\"#B6E880\",\"pattern\":{\"shape\":\"\"}},\"name\":\"ULA\",\"offsetgroup\":\"ULA\",\"orientation\":\"v\",\"showlegend\":true,\"textposition\":\"auto\",\"x\":[\"ULA\"],\"xaxis\":\"x\",\"y\":[140],\"yaxis\":\"y\",\"type\":\"bar\"},{\"alignmentgroup\":\"True\",\"hovertemplate\":\"Company Name=%{x}\\u003cbr\\u003ecount=%{y}\\u003cextra\\u003e\\u003c\\u002fextra\\u003e\",\"legendgroup\":\"Boeing\",\"marker\":{\"color\":\"#FF97FF\",\"pattern\":{\"shape\":\"\"}},\"name\":\"Boeing\",\"offsetgroup\":\"Boeing\",\"orientation\":\"v\",\"showlegend\":true,\"textposition\":\"auto\",\"x\":[\"Boeing\"],\"xaxis\":\"x\",\"y\":[136],\"yaxis\":\"y\",\"type\":\"bar\"},{\"alignmentgroup\":\"True\",\"hovertemplate\":\"Company Name=%{x}\\u003cbr\\u003ecount=%{y}\\u003cextra\\u003e\\u003c\\u002fextra\\u003e\",\"legendgroup\":\"Martin Marietta\",\"marker\":{\"color\":\"#FECB52\",\"pattern\":{\"shape\":\"\"}},\"name\":\"Martin Marietta\",\"offsetgroup\":\"Martin Marietta\",\"orientation\":\"v\",\"showlegend\":true,\"textposition\":\"auto\",\"x\":[\"Martin Marietta\"],\"xaxis\":\"x\",\"y\":[114],\"yaxis\":\"y\",\"type\":\"bar\"},{\"alignmentgroup\":\"True\",\"hovertemplate\":\"Company Name=%{x}\\u003cbr\\u003ecount=%{y}\\u003cextra\\u003e\\u003c\\u002fextra\\u003e\",\"legendgroup\":\"SpaceX\",\"marker\":{\"color\":\"#636efa\",\"pattern\":{\"shape\":\"\"}},\"name\":\"SpaceX\",\"offsetgroup\":\"SpaceX\",\"orientation\":\"v\",\"showlegend\":true,\"textposition\":\"auto\",\"x\":[\"SpaceX\"],\"xaxis\":\"x\",\"y\":[100],\"yaxis\":\"y\",\"type\":\"bar\"},{\"alignmentgroup\":\"True\",\"hovertemplate\":\"Company Name=%{x}\\u003cbr\\u003ecount=%{y}\\u003cextra\\u003e\\u003c\\u002fextra\\u003e\",\"legendgroup\":\"MHI\",\"marker\":{\"color\":\"#EF553B\",\"pattern\":{\"shape\":\"\"}},\"name\":\"MHI\",\"offsetgroup\":\"MHI\",\"orientation\":\"v\",\"showlegend\":true,\"textposition\":\"auto\",\"x\":[\"MHI\"],\"xaxis\":\"x\",\"y\":[84],\"yaxis\":\"y\",\"type\":\"bar\"},{\"alignmentgroup\":\"True\",\"hovertemplate\":\"Company Name=%{x}\\u003cbr\\u003ecount=%{y}\\u003cextra\\u003e\\u003c\\u002fextra\\u003e\",\"legendgroup\":\"Northrop\",\"marker\":{\"color\":\"#00cc96\",\"pattern\":{\"shape\":\"\"}},\"name\":\"Northrop\",\"offsetgroup\":\"Northrop\",\"orientation\":\"v\",\"showlegend\":true,\"textposition\":\"auto\",\"x\":[\"Northrop\"],\"xaxis\":\"x\",\"y\":[83],\"yaxis\":\"y\",\"type\":\"bar\"},{\"alignmentgroup\":\"True\",\"hovertemplate\":\"Company Name=%{x}\\u003cbr\\u003ecount=%{y}\\u003cextra\\u003e\\u003c\\u002fextra\\u003e\",\"legendgroup\":\"Lockheed\",\"marker\":{\"color\":\"#ab63fa\",\"pattern\":{\"shape\":\"\"}},\"name\":\"Lockheed\",\"offsetgroup\":\"Lockheed\",\"orientation\":\"v\",\"showlegend\":true,\"textposition\":\"auto\",\"x\":[\"Lockheed\"],\"xaxis\":\"x\",\"y\":[79],\"yaxis\":\"y\",\"type\":\"bar\"},{\"alignmentgroup\":\"True\",\"hovertemplate\":\"Company Name=%{x}\\u003cbr\\u003ecount=%{y}\\u003cextra\\u003e\\u003c\\u002fextra\\u003e\",\"legendgroup\":\"ISRO\",\"marker\":{\"color\":\"#FFA15A\",\"pattern\":{\"shape\":\"\"}},\"name\":\"ISRO\",\"offsetgroup\":\"ISRO\",\"orientation\":\"v\",\"showlegend\":true,\"textposition\":\"auto\",\"x\":[\"ISRO\"],\"xaxis\":\"x\",\"y\":[76],\"yaxis\":\"y\",\"type\":\"bar\"},{\"alignmentgroup\":\"True\",\"hovertemplate\":\"Company Name=%{x}\\u003cbr\\u003ecount=%{y}\\u003cextra\\u003e\\u003c\\u002fextra\\u003e\",\"legendgroup\":\"Roscosmos\",\"marker\":{\"color\":\"#19d3f3\",\"pattern\":{\"shape\":\"\"}},\"name\":\"Roscosmos\",\"offsetgroup\":\"Roscosmos\",\"orientation\":\"v\",\"showlegend\":true,\"textposition\":\"auto\",\"x\":[\"Roscosmos\"],\"xaxis\":\"x\",\"y\":[55],\"yaxis\":\"y\",\"type\":\"bar\"},{\"alignmentgroup\":\"True\",\"hovertemplate\":\"Company Name=%{x}\\u003cbr\\u003ecount=%{y}\\u003cextra\\u003e\\u003c\\u002fextra\\u003e\",\"legendgroup\":\"ILS\",\"marker\":{\"color\":\"#FF6692\",\"pattern\":{\"shape\":\"\"}},\"name\":\"ILS\",\"offsetgroup\":\"ILS\",\"orientation\":\"v\",\"showlegend\":true,\"textposition\":\"auto\",\"x\":[\"ILS\"],\"xaxis\":\"x\",\"y\":[46],\"yaxis\":\"y\",\"type\":\"bar\"},{\"alignmentgroup\":\"True\",\"hovertemplate\":\"Company Name=%{x}\\u003cbr\\u003ecount=%{y}\\u003cextra\\u003e\\u003c\\u002fextra\\u003e\",\"legendgroup\":\"Sea Launch\",\"marker\":{\"color\":\"#B6E880\",\"pattern\":{\"shape\":\"\"}},\"name\":\"Sea Launch\",\"offsetgroup\":\"Sea Launch\",\"orientation\":\"v\",\"showlegend\":true,\"textposition\":\"auto\",\"x\":[\"Sea Launch\"],\"xaxis\":\"x\",\"y\":[36],\"yaxis\":\"y\",\"type\":\"bar\"},{\"alignmentgroup\":\"True\",\"hovertemplate\":\"Company Name=%{x}\\u003cbr\\u003ecount=%{y}\\u003cextra\\u003e\\u003c\\u002fextra\\u003e\",\"legendgroup\":\"ISAS\",\"marker\":{\"color\":\"#FF97FF\",\"pattern\":{\"shape\":\"\"}},\"name\":\"ISAS\",\"offsetgroup\":\"ISAS\",\"orientation\":\"v\",\"showlegend\":true,\"textposition\":\"auto\",\"x\":[\"ISAS\"],\"xaxis\":\"x\",\"y\":[30],\"yaxis\":\"y\",\"type\":\"bar\"},{\"alignmentgroup\":\"True\",\"hovertemplate\":\"Company Name=%{x}\\u003cbr\\u003ecount=%{y}\\u003cextra\\u003e\\u003c\\u002fextra\\u003e\",\"legendgroup\":\"Kosmotras\",\"marker\":{\"color\":\"#FECB52\",\"pattern\":{\"shape\":\"\"}},\"name\":\"Kosmotras\",\"offsetgroup\":\"Kosmotras\",\"orientation\":\"v\",\"showlegend\":true,\"textposition\":\"auto\",\"x\":[\"Kosmotras\"],\"xaxis\":\"x\",\"y\":[22],\"yaxis\":\"y\",\"type\":\"bar\"}],                        {\"template\":{\"data\":{\"histogram2dcontour\":[{\"type\":\"histogram2dcontour\",\"colorbar\":{\"outlinewidth\":0,\"ticks\":\"\"},\"colorscale\":[[0.0,\"#0d0887\"],[0.1111111111111111,\"#46039f\"],[0.2222222222222222,\"#7201a8\"],[0.3333333333333333,\"#9c179e\"],[0.4444444444444444,\"#bd3786\"],[0.5555555555555556,\"#d8576b\"],[0.6666666666666666,\"#ed7953\"],[0.7777777777777778,\"#fb9f3a\"],[0.8888888888888888,\"#fdca26\"],[1.0,\"#f0f921\"]]}],\"choropleth\":[{\"type\":\"choropleth\",\"colorbar\":{\"outlinewidth\":0,\"ticks\":\"\"}}],\"histogram2d\":[{\"type\":\"histogram2d\",\"colorbar\":{\"outlinewidth\":0,\"ticks\":\"\"},\"colorscale\":[[0.0,\"#0d0887\"],[0.1111111111111111,\"#46039f\"],[0.2222222222222222,\"#7201a8\"],[0.3333333333333333,\"#9c179e\"],[0.4444444444444444,\"#bd3786\"],[0.5555555555555556,\"#d8576b\"],[0.6666666666666666,\"#ed7953\"],[0.7777777777777778,\"#fb9f3a\"],[0.8888888888888888,\"#fdca26\"],[1.0,\"#f0f921\"]]}],\"heatmap\":[{\"type\":\"heatmap\",\"colorbar\":{\"outlinewidth\":0,\"ticks\":\"\"},\"colorscale\":[[0.0,\"#0d0887\"],[0.1111111111111111,\"#46039f\"],[0.2222222222222222,\"#7201a8\"],[0.3333333333333333,\"#9c179e\"],[0.4444444444444444,\"#bd3786\"],[0.5555555555555556,\"#d8576b\"],[0.6666666666666666,\"#ed7953\"],[0.7777777777777778,\"#fb9f3a\"],[0.8888888888888888,\"#fdca26\"],[1.0,\"#f0f921\"]]}],\"heatmapgl\":[{\"type\":\"heatmapgl\",\"colorbar\":{\"outlinewidth\":0,\"ticks\":\"\"},\"colorscale\":[[0.0,\"#0d0887\"],[0.1111111111111111,\"#46039f\"],[0.2222222222222222,\"#7201a8\"],[0.3333333333333333,\"#9c179e\"],[0.4444444444444444,\"#bd3786\"],[0.5555555555555556,\"#d8576b\"],[0.6666666666666666,\"#ed7953\"],[0.7777777777777778,\"#fb9f3a\"],[0.8888888888888888,\"#fdca26\"],[1.0,\"#f0f921\"]]}],\"contourcarpet\":[{\"type\":\"contourcarpet\",\"colorbar\":{\"outlinewidth\":0,\"ticks\":\"\"}}],\"contour\":[{\"type\":\"contour\",\"colorbar\":{\"outlinewidth\":0,\"ticks\":\"\"},\"colorscale\":[[0.0,\"#0d0887\"],[0.1111111111111111,\"#46039f\"],[0.2222222222222222,\"#7201a8\"],[0.3333333333333333,\"#9c179e\"],[0.4444444444444444,\"#bd3786\"],[0.5555555555555556,\"#d8576b\"],[0.6666666666666666,\"#ed7953\"],[0.7777777777777778,\"#fb9f3a\"],[0.8888888888888888,\"#fdca26\"],[1.0,\"#f0f921\"]]}],\"surface\":[{\"type\":\"surface\",\"colorbar\":{\"outlinewidth\":0,\"ticks\":\"\"},\"colorscale\":[[0.0,\"#0d0887\"],[0.1111111111111111,\"#46039f\"],[0.2222222222222222,\"#7201a8\"],[0.3333333333333333,\"#9c179e\"],[0.4444444444444444,\"#bd3786\"],[0.5555555555555556,\"#d8576b\"],[0.6666666666666666,\"#ed7953\"],[0.7777777777777778,\"#fb9f3a\"],[0.8888888888888888,\"#fdca26\"],[1.0,\"#f0f921\"]]}],\"mesh3d\":[{\"type\":\"mesh3d\",\"colorbar\":{\"outlinewidth\":0,\"ticks\":\"\"}}],\"scatter\":[{\"marker\":{\"line\":{\"color\":\"#283442\"}},\"type\":\"scatter\"}],\"parcoords\":[{\"type\":\"parcoords\",\"line\":{\"colorbar\":{\"outlinewidth\":0,\"ticks\":\"\"}}}],\"scatterpolargl\":[{\"type\":\"scatterpolargl\",\"marker\":{\"colorbar\":{\"outlinewidth\":0,\"ticks\":\"\"}}}],\"bar\":[{\"error_x\":{\"color\":\"#f2f5fa\"},\"error_y\":{\"color\":\"#f2f5fa\"},\"marker\":{\"line\":{\"color\":\"rgb(17,17,17)\",\"width\":0.5},\"pattern\":{\"fillmode\":\"overlay\",\"size\":10,\"solidity\":0.2}},\"type\":\"bar\"}],\"scattergeo\":[{\"type\":\"scattergeo\",\"marker\":{\"colorbar\":{\"outlinewidth\":0,\"ticks\":\"\"}}}],\"scatterpolar\":[{\"type\":\"scatterpolar\",\"marker\":{\"colorbar\":{\"outlinewidth\":0,\"ticks\":\"\"}}}],\"histogram\":[{\"marker\":{\"pattern\":{\"fillmode\":\"overlay\",\"size\":10,\"solidity\":0.2}},\"type\":\"histogram\"}],\"scattergl\":[{\"marker\":{\"line\":{\"color\":\"#283442\"}},\"type\":\"scattergl\"}],\"scatter3d\":[{\"type\":\"scatter3d\",\"line\":{\"colorbar\":{\"outlinewidth\":0,\"ticks\":\"\"}},\"marker\":{\"colorbar\":{\"outlinewidth\":0,\"ticks\":\"\"}}}],\"scattermapbox\":[{\"type\":\"scattermapbox\",\"marker\":{\"colorbar\":{\"outlinewidth\":0,\"ticks\":\"\"}}}],\"scatterternary\":[{\"type\":\"scatterternary\",\"marker\":{\"colorbar\":{\"outlinewidth\":0,\"ticks\":\"\"}}}],\"scattercarpet\":[{\"type\":\"scattercarpet\",\"marker\":{\"colorbar\":{\"outlinewidth\":0,\"ticks\":\"\"}}}],\"carpet\":[{\"aaxis\":{\"endlinecolor\":\"#A2B1C6\",\"gridcolor\":\"#506784\",\"linecolor\":\"#506784\",\"minorgridcolor\":\"#506784\",\"startlinecolor\":\"#A2B1C6\"},\"baxis\":{\"endlinecolor\":\"#A2B1C6\",\"gridcolor\":\"#506784\",\"linecolor\":\"#506784\",\"minorgridcolor\":\"#506784\",\"startlinecolor\":\"#A2B1C6\"},\"type\":\"carpet\"}],\"table\":[{\"cells\":{\"fill\":{\"color\":\"#506784\"},\"line\":{\"color\":\"rgb(17,17,17)\"}},\"header\":{\"fill\":{\"color\":\"#2a3f5f\"},\"line\":{\"color\":\"rgb(17,17,17)\"}},\"type\":\"table\"}],\"barpolar\":[{\"marker\":{\"line\":{\"color\":\"rgb(17,17,17)\",\"width\":0.5},\"pattern\":{\"fillmode\":\"overlay\",\"size\":10,\"solidity\":0.2}},\"type\":\"barpolar\"}],\"pie\":[{\"automargin\":true,\"type\":\"pie\"}]},\"layout\":{\"autotypenumbers\":\"strict\",\"colorway\":[\"#636efa\",\"#EF553B\",\"#00cc96\",\"#ab63fa\",\"#FFA15A\",\"#19d3f3\",\"#FF6692\",\"#B6E880\",\"#FF97FF\",\"#FECB52\"],\"font\":{\"color\":\"#f2f5fa\"},\"hovermode\":\"closest\",\"hoverlabel\":{\"align\":\"left\"},\"paper_bgcolor\":\"rgb(17,17,17)\",\"plot_bgcolor\":\"rgb(17,17,17)\",\"polar\":{\"bgcolor\":\"rgb(17,17,17)\",\"angularaxis\":{\"gridcolor\":\"#506784\",\"linecolor\":\"#506784\",\"ticks\":\"\"},\"radialaxis\":{\"gridcolor\":\"#506784\",\"linecolor\":\"#506784\",\"ticks\":\"\"}},\"ternary\":{\"bgcolor\":\"rgb(17,17,17)\",\"aaxis\":{\"gridcolor\":\"#506784\",\"linecolor\":\"#506784\",\"ticks\":\"\"},\"baxis\":{\"gridcolor\":\"#506784\",\"linecolor\":\"#506784\",\"ticks\":\"\"},\"caxis\":{\"gridcolor\":\"#506784\",\"linecolor\":\"#506784\",\"ticks\":\"\"}},\"coloraxis\":{\"colorbar\":{\"outlinewidth\":0,\"ticks\":\"\"}},\"colorscale\":{\"sequential\":[[0.0,\"#0d0887\"],[0.1111111111111111,\"#46039f\"],[0.2222222222222222,\"#7201a8\"],[0.3333333333333333,\"#9c179e\"],[0.4444444444444444,\"#bd3786\"],[0.5555555555555556,\"#d8576b\"],[0.6666666666666666,\"#ed7953\"],[0.7777777777777778,\"#fb9f3a\"],[0.8888888888888888,\"#fdca26\"],[1.0,\"#f0f921\"]],\"sequentialminus\":[[0.0,\"#0d0887\"],[0.1111111111111111,\"#46039f\"],[0.2222222222222222,\"#7201a8\"],[0.3333333333333333,\"#9c179e\"],[0.4444444444444444,\"#bd3786\"],[0.5555555555555556,\"#d8576b\"],[0.6666666666666666,\"#ed7953\"],[0.7777777777777778,\"#fb9f3a\"],[0.8888888888888888,\"#fdca26\"],[1.0,\"#f0f921\"]],\"diverging\":[[0,\"#8e0152\"],[0.1,\"#c51b7d\"],[0.2,\"#de77ae\"],[0.3,\"#f1b6da\"],[0.4,\"#fde0ef\"],[0.5,\"#f7f7f7\"],[0.6,\"#e6f5d0\"],[0.7,\"#b8e186\"],[0.8,\"#7fbc41\"],[0.9,\"#4d9221\"],[1,\"#276419\"]]},\"xaxis\":{\"gridcolor\":\"#283442\",\"linecolor\":\"#506784\",\"ticks\":\"\",\"title\":{\"standoff\":15},\"zerolinecolor\":\"#283442\",\"automargin\":true,\"zerolinewidth\":2},\"yaxis\":{\"gridcolor\":\"#283442\",\"linecolor\":\"#506784\",\"ticks\":\"\",\"title\":{\"standoff\":15},\"zerolinecolor\":\"#283442\",\"automargin\":true,\"zerolinewidth\":2},\"scene\":{\"xaxis\":{\"backgroundcolor\":\"rgb(17,17,17)\",\"gridcolor\":\"#506784\",\"linecolor\":\"#506784\",\"showbackground\":true,\"ticks\":\"\",\"zerolinecolor\":\"#C8D4E3\",\"gridwidth\":2},\"yaxis\":{\"backgroundcolor\":\"rgb(17,17,17)\",\"gridcolor\":\"#506784\",\"linecolor\":\"#506784\",\"showbackground\":true,\"ticks\":\"\",\"zerolinecolor\":\"#C8D4E3\",\"gridwidth\":2},\"zaxis\":{\"backgroundcolor\":\"rgb(17,17,17)\",\"gridcolor\":\"#506784\",\"linecolor\":\"#506784\",\"showbackground\":true,\"ticks\":\"\",\"zerolinecolor\":\"#C8D4E3\",\"gridwidth\":2}},\"shapedefaults\":{\"line\":{\"color\":\"#f2f5fa\"}},\"annotationdefaults\":{\"arrowcolor\":\"#f2f5fa\",\"arrowhead\":0,\"arrowwidth\":1},\"geo\":{\"bgcolor\":\"rgb(17,17,17)\",\"landcolor\":\"rgb(17,17,17)\",\"subunitcolor\":\"#506784\",\"showland\":true,\"showlakes\":true,\"lakecolor\":\"rgb(17,17,17)\"},\"title\":{\"x\":0.05},\"updatemenudefaults\":{\"bgcolor\":\"#506784\",\"borderwidth\":0},\"sliderdefaults\":{\"bgcolor\":\"#C8D4E3\",\"borderwidth\":1,\"bordercolor\":\"rgb(17,17,17)\",\"tickwidth\":0},\"mapbox\":{\"style\":\"dark\"}}},\"xaxis\":{\"anchor\":\"y\",\"domain\":[0.0,1.0],\"title\":{\"text\":\"Company Name\"},\"categoryorder\":\"array\",\"categoryarray\":[\"RVSN USSR\",\"Arianespace\",\"General Dynamics\",\"CASC\",\"NASA\",\"VKS RF\",\"US Air Force\",\"ULA\",\"Boeing\",\"Martin Marietta\",\"SpaceX\",\"MHI\",\"Northrop\",\"Lockheed\",\"ISRO\",\"Roscosmos\",\"ILS\",\"Sea Launch\",\"ISAS\",\"Kosmotras\"]},\"yaxis\":{\"anchor\":\"x\",\"domain\":[0.0,1.0],\"title\":{\"text\":\"count\"}},\"legend\":{\"title\":{\"text\":\"Company Name\"},\"tracegroupgap\":0},\"title\":{\"text\":\"Top 20 Number of launches by company\"},\"barmode\":\"relative\"},                        {\"responsive\": true}                    ).then(function(){\n                            \nvar gd = document.getElementById('857d5e4b-5e7d-42db-8bbd-53bdd5b80ee6');\nvar x = new MutationObserver(function (mutations, observer) {{\n        var display = window.getComputedStyle(gd).display;\n        if (!display || display === 'none') {{\n            console.log([gd, 'removed!']);\n            Plotly.purge(gd);\n            observer.disconnect();\n        }}\n}});\n\n// Listen for the removal of the full notebook cells\nvar notebookContainer = gd.closest('#notebook-container');\nif (notebookContainer) {{\n    x.observe(notebookContainer, {childList: true});\n}}\n\n// Listen for the clearing of the current output cell\nvar outputEl = gd.closest('.output');\nif (outputEl) {{\n    x.observe(outputEl, {childList: true});\n}}\n\n                        })                };                });            </script>        </div>"
     },
     "metadata": {},
     "output_type": "display_data"
    }
   ],
   "source": [
    "# create a new dataframe with the number of launches by company\n",
    "df_company = df['Company Name'].value_counts().reset_index()\n",
    "\n",
    "# get total number of launches by company\n",
    "total = df_company['Company Name'].sum()\n",
    "\n",
    "# create a new dataframe containing unique companies and the number of launches\n",
    "df_company = df_company.groupby('index').sum().reset_index()\n",
    "\n",
    "rename = {\n",
    "    'index': 'Company Name',\n",
    "    'Company Name': 'count'\n",
    "}\n",
    "\n",
    "df_company = df_company.rename(columns=rename)\n",
    "\n",
    "# sort dataframe by number of launches\n",
    "df_company = df_company.sort_values(by='count', ascending=False)\n",
    "\n",
    "# reduce dataframe to top 20 companies\n",
    "df_company = df_company.head(20)\n",
    "\n",
    "# graph with company being the color\n",
    "fig = px.bar(df_company, x='Company Name', y='count', color='Company Name', title='Top 20 Number of launches by company')\n",
    "fig.show()"
   ],
   "metadata": {
    "collapsed": false,
    "ExecuteTime": {
     "end_time": "2023-07-13T23:39:19.695375Z",
     "start_time": "2023-07-13T23:39:19.454815600Z"
    }
   }
  },
  {
   "cell_type": "markdown",
   "source": [
    "## What is the success rate of all launches?"
   ],
   "metadata": {
    "collapsed": false
   }
  },
  {
   "cell_type": "code",
   "execution_count": 82,
   "outputs": [
    {
     "data": {
      "application/vnd.plotly.v1+json": {
       "data": [
        {
         "domain": {
          "x": [
           0.0,
           1.0
          ],
          "y": [
           0.0,
           1.0
          ]
         },
         "hovertemplate": "Status Mission=%{label}<br>percentage=%{value}<extra></extra>",
         "labels": [
          "Success",
          "Failure",
          "Partial Failure",
          "Prelaunch Failure"
         ],
         "legendgroup": "",
         "name": "",
         "showlegend": true,
         "values": [
          89.70860314523588,
          7.8399629972247915,
          2.358926919518964,
          0.09250693802035154
         ],
         "type": "pie"
        }
       ],
       "layout": {
        "template": {
         "data": {
          "histogram2dcontour": [
           {
            "type": "histogram2dcontour",
            "colorbar": {
             "outlinewidth": 0,
             "ticks": ""
            },
            "colorscale": [
             [
              0.0,
              "#0d0887"
             ],
             [
              0.1111111111111111,
              "#46039f"
             ],
             [
              0.2222222222222222,
              "#7201a8"
             ],
             [
              0.3333333333333333,
              "#9c179e"
             ],
             [
              0.4444444444444444,
              "#bd3786"
             ],
             [
              0.5555555555555556,
              "#d8576b"
             ],
             [
              0.6666666666666666,
              "#ed7953"
             ],
             [
              0.7777777777777778,
              "#fb9f3a"
             ],
             [
              0.8888888888888888,
              "#fdca26"
             ],
             [
              1.0,
              "#f0f921"
             ]
            ]
           }
          ],
          "choropleth": [
           {
            "type": "choropleth",
            "colorbar": {
             "outlinewidth": 0,
             "ticks": ""
            }
           }
          ],
          "histogram2d": [
           {
            "type": "histogram2d",
            "colorbar": {
             "outlinewidth": 0,
             "ticks": ""
            },
            "colorscale": [
             [
              0.0,
              "#0d0887"
             ],
             [
              0.1111111111111111,
              "#46039f"
             ],
             [
              0.2222222222222222,
              "#7201a8"
             ],
             [
              0.3333333333333333,
              "#9c179e"
             ],
             [
              0.4444444444444444,
              "#bd3786"
             ],
             [
              0.5555555555555556,
              "#d8576b"
             ],
             [
              0.6666666666666666,
              "#ed7953"
             ],
             [
              0.7777777777777778,
              "#fb9f3a"
             ],
             [
              0.8888888888888888,
              "#fdca26"
             ],
             [
              1.0,
              "#f0f921"
             ]
            ]
           }
          ],
          "heatmap": [
           {
            "type": "heatmap",
            "colorbar": {
             "outlinewidth": 0,
             "ticks": ""
            },
            "colorscale": [
             [
              0.0,
              "#0d0887"
             ],
             [
              0.1111111111111111,
              "#46039f"
             ],
             [
              0.2222222222222222,
              "#7201a8"
             ],
             [
              0.3333333333333333,
              "#9c179e"
             ],
             [
              0.4444444444444444,
              "#bd3786"
             ],
             [
              0.5555555555555556,
              "#d8576b"
             ],
             [
              0.6666666666666666,
              "#ed7953"
             ],
             [
              0.7777777777777778,
              "#fb9f3a"
             ],
             [
              0.8888888888888888,
              "#fdca26"
             ],
             [
              1.0,
              "#f0f921"
             ]
            ]
           }
          ],
          "heatmapgl": [
           {
            "type": "heatmapgl",
            "colorbar": {
             "outlinewidth": 0,
             "ticks": ""
            },
            "colorscale": [
             [
              0.0,
              "#0d0887"
             ],
             [
              0.1111111111111111,
              "#46039f"
             ],
             [
              0.2222222222222222,
              "#7201a8"
             ],
             [
              0.3333333333333333,
              "#9c179e"
             ],
             [
              0.4444444444444444,
              "#bd3786"
             ],
             [
              0.5555555555555556,
              "#d8576b"
             ],
             [
              0.6666666666666666,
              "#ed7953"
             ],
             [
              0.7777777777777778,
              "#fb9f3a"
             ],
             [
              0.8888888888888888,
              "#fdca26"
             ],
             [
              1.0,
              "#f0f921"
             ]
            ]
           }
          ],
          "contourcarpet": [
           {
            "type": "contourcarpet",
            "colorbar": {
             "outlinewidth": 0,
             "ticks": ""
            }
           }
          ],
          "contour": [
           {
            "type": "contour",
            "colorbar": {
             "outlinewidth": 0,
             "ticks": ""
            },
            "colorscale": [
             [
              0.0,
              "#0d0887"
             ],
             [
              0.1111111111111111,
              "#46039f"
             ],
             [
              0.2222222222222222,
              "#7201a8"
             ],
             [
              0.3333333333333333,
              "#9c179e"
             ],
             [
              0.4444444444444444,
              "#bd3786"
             ],
             [
              0.5555555555555556,
              "#d8576b"
             ],
             [
              0.6666666666666666,
              "#ed7953"
             ],
             [
              0.7777777777777778,
              "#fb9f3a"
             ],
             [
              0.8888888888888888,
              "#fdca26"
             ],
             [
              1.0,
              "#f0f921"
             ]
            ]
           }
          ],
          "surface": [
           {
            "type": "surface",
            "colorbar": {
             "outlinewidth": 0,
             "ticks": ""
            },
            "colorscale": [
             [
              0.0,
              "#0d0887"
             ],
             [
              0.1111111111111111,
              "#46039f"
             ],
             [
              0.2222222222222222,
              "#7201a8"
             ],
             [
              0.3333333333333333,
              "#9c179e"
             ],
             [
              0.4444444444444444,
              "#bd3786"
             ],
             [
              0.5555555555555556,
              "#d8576b"
             ],
             [
              0.6666666666666666,
              "#ed7953"
             ],
             [
              0.7777777777777778,
              "#fb9f3a"
             ],
             [
              0.8888888888888888,
              "#fdca26"
             ],
             [
              1.0,
              "#f0f921"
             ]
            ]
           }
          ],
          "mesh3d": [
           {
            "type": "mesh3d",
            "colorbar": {
             "outlinewidth": 0,
             "ticks": ""
            }
           }
          ],
          "scatter": [
           {
            "marker": {
             "line": {
              "color": "#283442"
             }
            },
            "type": "scatter"
           }
          ],
          "parcoords": [
           {
            "type": "parcoords",
            "line": {
             "colorbar": {
              "outlinewidth": 0,
              "ticks": ""
             }
            }
           }
          ],
          "scatterpolargl": [
           {
            "type": "scatterpolargl",
            "marker": {
             "colorbar": {
              "outlinewidth": 0,
              "ticks": ""
             }
            }
           }
          ],
          "bar": [
           {
            "error_x": {
             "color": "#f2f5fa"
            },
            "error_y": {
             "color": "#f2f5fa"
            },
            "marker": {
             "line": {
              "color": "rgb(17,17,17)",
              "width": 0.5
             },
             "pattern": {
              "fillmode": "overlay",
              "size": 10,
              "solidity": 0.2
             }
            },
            "type": "bar"
           }
          ],
          "scattergeo": [
           {
            "type": "scattergeo",
            "marker": {
             "colorbar": {
              "outlinewidth": 0,
              "ticks": ""
             }
            }
           }
          ],
          "scatterpolar": [
           {
            "type": "scatterpolar",
            "marker": {
             "colorbar": {
              "outlinewidth": 0,
              "ticks": ""
             }
            }
           }
          ],
          "histogram": [
           {
            "marker": {
             "pattern": {
              "fillmode": "overlay",
              "size": 10,
              "solidity": 0.2
             }
            },
            "type": "histogram"
           }
          ],
          "scattergl": [
           {
            "marker": {
             "line": {
              "color": "#283442"
             }
            },
            "type": "scattergl"
           }
          ],
          "scatter3d": [
           {
            "type": "scatter3d",
            "line": {
             "colorbar": {
              "outlinewidth": 0,
              "ticks": ""
             }
            },
            "marker": {
             "colorbar": {
              "outlinewidth": 0,
              "ticks": ""
             }
            }
           }
          ],
          "scattermapbox": [
           {
            "type": "scattermapbox",
            "marker": {
             "colorbar": {
              "outlinewidth": 0,
              "ticks": ""
             }
            }
           }
          ],
          "scatterternary": [
           {
            "type": "scatterternary",
            "marker": {
             "colorbar": {
              "outlinewidth": 0,
              "ticks": ""
             }
            }
           }
          ],
          "scattercarpet": [
           {
            "type": "scattercarpet",
            "marker": {
             "colorbar": {
              "outlinewidth": 0,
              "ticks": ""
             }
            }
           }
          ],
          "carpet": [
           {
            "aaxis": {
             "endlinecolor": "#A2B1C6",
             "gridcolor": "#506784",
             "linecolor": "#506784",
             "minorgridcolor": "#506784",
             "startlinecolor": "#A2B1C6"
            },
            "baxis": {
             "endlinecolor": "#A2B1C6",
             "gridcolor": "#506784",
             "linecolor": "#506784",
             "minorgridcolor": "#506784",
             "startlinecolor": "#A2B1C6"
            },
            "type": "carpet"
           }
          ],
          "table": [
           {
            "cells": {
             "fill": {
              "color": "#506784"
             },
             "line": {
              "color": "rgb(17,17,17)"
             }
            },
            "header": {
             "fill": {
              "color": "#2a3f5f"
             },
             "line": {
              "color": "rgb(17,17,17)"
             }
            },
            "type": "table"
           }
          ],
          "barpolar": [
           {
            "marker": {
             "line": {
              "color": "rgb(17,17,17)",
              "width": 0.5
             },
             "pattern": {
              "fillmode": "overlay",
              "size": 10,
              "solidity": 0.2
             }
            },
            "type": "barpolar"
           }
          ],
          "pie": [
           {
            "automargin": true,
            "type": "pie"
           }
          ]
         },
         "layout": {
          "autotypenumbers": "strict",
          "colorway": [
           "#636efa",
           "#EF553B",
           "#00cc96",
           "#ab63fa",
           "#FFA15A",
           "#19d3f3",
           "#FF6692",
           "#B6E880",
           "#FF97FF",
           "#FECB52"
          ],
          "font": {
           "color": "#f2f5fa"
          },
          "hovermode": "closest",
          "hoverlabel": {
           "align": "left"
          },
          "paper_bgcolor": "rgb(17,17,17)",
          "plot_bgcolor": "rgb(17,17,17)",
          "polar": {
           "bgcolor": "rgb(17,17,17)",
           "angularaxis": {
            "gridcolor": "#506784",
            "linecolor": "#506784",
            "ticks": ""
           },
           "radialaxis": {
            "gridcolor": "#506784",
            "linecolor": "#506784",
            "ticks": ""
           }
          },
          "ternary": {
           "bgcolor": "rgb(17,17,17)",
           "aaxis": {
            "gridcolor": "#506784",
            "linecolor": "#506784",
            "ticks": ""
           },
           "baxis": {
            "gridcolor": "#506784",
            "linecolor": "#506784",
            "ticks": ""
           },
           "caxis": {
            "gridcolor": "#506784",
            "linecolor": "#506784",
            "ticks": ""
           }
          },
          "coloraxis": {
           "colorbar": {
            "outlinewidth": 0,
            "ticks": ""
           }
          },
          "colorscale": {
           "sequential": [
            [
             0.0,
             "#0d0887"
            ],
            [
             0.1111111111111111,
             "#46039f"
            ],
            [
             0.2222222222222222,
             "#7201a8"
            ],
            [
             0.3333333333333333,
             "#9c179e"
            ],
            [
             0.4444444444444444,
             "#bd3786"
            ],
            [
             0.5555555555555556,
             "#d8576b"
            ],
            [
             0.6666666666666666,
             "#ed7953"
            ],
            [
             0.7777777777777778,
             "#fb9f3a"
            ],
            [
             0.8888888888888888,
             "#fdca26"
            ],
            [
             1.0,
             "#f0f921"
            ]
           ],
           "sequentialminus": [
            [
             0.0,
             "#0d0887"
            ],
            [
             0.1111111111111111,
             "#46039f"
            ],
            [
             0.2222222222222222,
             "#7201a8"
            ],
            [
             0.3333333333333333,
             "#9c179e"
            ],
            [
             0.4444444444444444,
             "#bd3786"
            ],
            [
             0.5555555555555556,
             "#d8576b"
            ],
            [
             0.6666666666666666,
             "#ed7953"
            ],
            [
             0.7777777777777778,
             "#fb9f3a"
            ],
            [
             0.8888888888888888,
             "#fdca26"
            ],
            [
             1.0,
             "#f0f921"
            ]
           ],
           "diverging": [
            [
             0,
             "#8e0152"
            ],
            [
             0.1,
             "#c51b7d"
            ],
            [
             0.2,
             "#de77ae"
            ],
            [
             0.3,
             "#f1b6da"
            ],
            [
             0.4,
             "#fde0ef"
            ],
            [
             0.5,
             "#f7f7f7"
            ],
            [
             0.6,
             "#e6f5d0"
            ],
            [
             0.7,
             "#b8e186"
            ],
            [
             0.8,
             "#7fbc41"
            ],
            [
             0.9,
             "#4d9221"
            ],
            [
             1,
             "#276419"
            ]
           ]
          },
          "xaxis": {
           "gridcolor": "#283442",
           "linecolor": "#506784",
           "ticks": "",
           "title": {
            "standoff": 15
           },
           "zerolinecolor": "#283442",
           "automargin": true,
           "zerolinewidth": 2
          },
          "yaxis": {
           "gridcolor": "#283442",
           "linecolor": "#506784",
           "ticks": "",
           "title": {
            "standoff": 15
           },
           "zerolinecolor": "#283442",
           "automargin": true,
           "zerolinewidth": 2
          },
          "scene": {
           "xaxis": {
            "backgroundcolor": "rgb(17,17,17)",
            "gridcolor": "#506784",
            "linecolor": "#506784",
            "showbackground": true,
            "ticks": "",
            "zerolinecolor": "#C8D4E3",
            "gridwidth": 2
           },
           "yaxis": {
            "backgroundcolor": "rgb(17,17,17)",
            "gridcolor": "#506784",
            "linecolor": "#506784",
            "showbackground": true,
            "ticks": "",
            "zerolinecolor": "#C8D4E3",
            "gridwidth": 2
           },
           "zaxis": {
            "backgroundcolor": "rgb(17,17,17)",
            "gridcolor": "#506784",
            "linecolor": "#506784",
            "showbackground": true,
            "ticks": "",
            "zerolinecolor": "#C8D4E3",
            "gridwidth": 2
           }
          },
          "shapedefaults": {
           "line": {
            "color": "#f2f5fa"
           }
          },
          "annotationdefaults": {
           "arrowcolor": "#f2f5fa",
           "arrowhead": 0,
           "arrowwidth": 1
          },
          "geo": {
           "bgcolor": "rgb(17,17,17)",
           "landcolor": "rgb(17,17,17)",
           "subunitcolor": "#506784",
           "showland": true,
           "showlakes": true,
           "lakecolor": "rgb(17,17,17)"
          },
          "title": {
           "x": 0.05
          },
          "updatemenudefaults": {
           "bgcolor": "#506784",
           "borderwidth": 0
          },
          "sliderdefaults": {
           "bgcolor": "#C8D4E3",
           "borderwidth": 1,
           "bordercolor": "rgb(17,17,17)",
           "tickwidth": 0
          },
          "mapbox": {
           "style": "dark"
          }
         }
        },
        "legend": {
         "tracegroupgap": 0
        },
        "title": {
         "text": "Percentage of launches by status"
        }
       },
       "config": {
        "plotlyServerURL": "https://plot.ly"
       }
      },
      "text/html": "<div>                            <div id=\"4e9c6151-c940-4d49-a6ea-a7773b9d7554\" class=\"plotly-graph-div\" style=\"height:525px; width:100%;\"></div>            <script type=\"text/javascript\">                require([\"plotly\"], function(Plotly) {                    window.PLOTLYENV=window.PLOTLYENV || {};                                    if (document.getElementById(\"4e9c6151-c940-4d49-a6ea-a7773b9d7554\")) {                    Plotly.newPlot(                        \"4e9c6151-c940-4d49-a6ea-a7773b9d7554\",                        [{\"domain\":{\"x\":[0.0,1.0],\"y\":[0.0,1.0]},\"hovertemplate\":\"Status Mission=%{label}\\u003cbr\\u003epercentage=%{value}\\u003cextra\\u003e\\u003c\\u002fextra\\u003e\",\"labels\":[\"Success\",\"Failure\",\"Partial Failure\",\"Prelaunch Failure\"],\"legendgroup\":\"\",\"name\":\"\",\"showlegend\":true,\"values\":[89.70860314523588,7.8399629972247915,2.358926919518964,0.09250693802035154],\"type\":\"pie\"}],                        {\"template\":{\"data\":{\"histogram2dcontour\":[{\"type\":\"histogram2dcontour\",\"colorbar\":{\"outlinewidth\":0,\"ticks\":\"\"},\"colorscale\":[[0.0,\"#0d0887\"],[0.1111111111111111,\"#46039f\"],[0.2222222222222222,\"#7201a8\"],[0.3333333333333333,\"#9c179e\"],[0.4444444444444444,\"#bd3786\"],[0.5555555555555556,\"#d8576b\"],[0.6666666666666666,\"#ed7953\"],[0.7777777777777778,\"#fb9f3a\"],[0.8888888888888888,\"#fdca26\"],[1.0,\"#f0f921\"]]}],\"choropleth\":[{\"type\":\"choropleth\",\"colorbar\":{\"outlinewidth\":0,\"ticks\":\"\"}}],\"histogram2d\":[{\"type\":\"histogram2d\",\"colorbar\":{\"outlinewidth\":0,\"ticks\":\"\"},\"colorscale\":[[0.0,\"#0d0887\"],[0.1111111111111111,\"#46039f\"],[0.2222222222222222,\"#7201a8\"],[0.3333333333333333,\"#9c179e\"],[0.4444444444444444,\"#bd3786\"],[0.5555555555555556,\"#d8576b\"],[0.6666666666666666,\"#ed7953\"],[0.7777777777777778,\"#fb9f3a\"],[0.8888888888888888,\"#fdca26\"],[1.0,\"#f0f921\"]]}],\"heatmap\":[{\"type\":\"heatmap\",\"colorbar\":{\"outlinewidth\":0,\"ticks\":\"\"},\"colorscale\":[[0.0,\"#0d0887\"],[0.1111111111111111,\"#46039f\"],[0.2222222222222222,\"#7201a8\"],[0.3333333333333333,\"#9c179e\"],[0.4444444444444444,\"#bd3786\"],[0.5555555555555556,\"#d8576b\"],[0.6666666666666666,\"#ed7953\"],[0.7777777777777778,\"#fb9f3a\"],[0.8888888888888888,\"#fdca26\"],[1.0,\"#f0f921\"]]}],\"heatmapgl\":[{\"type\":\"heatmapgl\",\"colorbar\":{\"outlinewidth\":0,\"ticks\":\"\"},\"colorscale\":[[0.0,\"#0d0887\"],[0.1111111111111111,\"#46039f\"],[0.2222222222222222,\"#7201a8\"],[0.3333333333333333,\"#9c179e\"],[0.4444444444444444,\"#bd3786\"],[0.5555555555555556,\"#d8576b\"],[0.6666666666666666,\"#ed7953\"],[0.7777777777777778,\"#fb9f3a\"],[0.8888888888888888,\"#fdca26\"],[1.0,\"#f0f921\"]]}],\"contourcarpet\":[{\"type\":\"contourcarpet\",\"colorbar\":{\"outlinewidth\":0,\"ticks\":\"\"}}],\"contour\":[{\"type\":\"contour\",\"colorbar\":{\"outlinewidth\":0,\"ticks\":\"\"},\"colorscale\":[[0.0,\"#0d0887\"],[0.1111111111111111,\"#46039f\"],[0.2222222222222222,\"#7201a8\"],[0.3333333333333333,\"#9c179e\"],[0.4444444444444444,\"#bd3786\"],[0.5555555555555556,\"#d8576b\"],[0.6666666666666666,\"#ed7953\"],[0.7777777777777778,\"#fb9f3a\"],[0.8888888888888888,\"#fdca26\"],[1.0,\"#f0f921\"]]}],\"surface\":[{\"type\":\"surface\",\"colorbar\":{\"outlinewidth\":0,\"ticks\":\"\"},\"colorscale\":[[0.0,\"#0d0887\"],[0.1111111111111111,\"#46039f\"],[0.2222222222222222,\"#7201a8\"],[0.3333333333333333,\"#9c179e\"],[0.4444444444444444,\"#bd3786\"],[0.5555555555555556,\"#d8576b\"],[0.6666666666666666,\"#ed7953\"],[0.7777777777777778,\"#fb9f3a\"],[0.8888888888888888,\"#fdca26\"],[1.0,\"#f0f921\"]]}],\"mesh3d\":[{\"type\":\"mesh3d\",\"colorbar\":{\"outlinewidth\":0,\"ticks\":\"\"}}],\"scatter\":[{\"marker\":{\"line\":{\"color\":\"#283442\"}},\"type\":\"scatter\"}],\"parcoords\":[{\"type\":\"parcoords\",\"line\":{\"colorbar\":{\"outlinewidth\":0,\"ticks\":\"\"}}}],\"scatterpolargl\":[{\"type\":\"scatterpolargl\",\"marker\":{\"colorbar\":{\"outlinewidth\":0,\"ticks\":\"\"}}}],\"bar\":[{\"error_x\":{\"color\":\"#f2f5fa\"},\"error_y\":{\"color\":\"#f2f5fa\"},\"marker\":{\"line\":{\"color\":\"rgb(17,17,17)\",\"width\":0.5},\"pattern\":{\"fillmode\":\"overlay\",\"size\":10,\"solidity\":0.2}},\"type\":\"bar\"}],\"scattergeo\":[{\"type\":\"scattergeo\",\"marker\":{\"colorbar\":{\"outlinewidth\":0,\"ticks\":\"\"}}}],\"scatterpolar\":[{\"type\":\"scatterpolar\",\"marker\":{\"colorbar\":{\"outlinewidth\":0,\"ticks\":\"\"}}}],\"histogram\":[{\"marker\":{\"pattern\":{\"fillmode\":\"overlay\",\"size\":10,\"solidity\":0.2}},\"type\":\"histogram\"}],\"scattergl\":[{\"marker\":{\"line\":{\"color\":\"#283442\"}},\"type\":\"scattergl\"}],\"scatter3d\":[{\"type\":\"scatter3d\",\"line\":{\"colorbar\":{\"outlinewidth\":0,\"ticks\":\"\"}},\"marker\":{\"colorbar\":{\"outlinewidth\":0,\"ticks\":\"\"}}}],\"scattermapbox\":[{\"type\":\"scattermapbox\",\"marker\":{\"colorbar\":{\"outlinewidth\":0,\"ticks\":\"\"}}}],\"scatterternary\":[{\"type\":\"scatterternary\",\"marker\":{\"colorbar\":{\"outlinewidth\":0,\"ticks\":\"\"}}}],\"scattercarpet\":[{\"type\":\"scattercarpet\",\"marker\":{\"colorbar\":{\"outlinewidth\":0,\"ticks\":\"\"}}}],\"carpet\":[{\"aaxis\":{\"endlinecolor\":\"#A2B1C6\",\"gridcolor\":\"#506784\",\"linecolor\":\"#506784\",\"minorgridcolor\":\"#506784\",\"startlinecolor\":\"#A2B1C6\"},\"baxis\":{\"endlinecolor\":\"#A2B1C6\",\"gridcolor\":\"#506784\",\"linecolor\":\"#506784\",\"minorgridcolor\":\"#506784\",\"startlinecolor\":\"#A2B1C6\"},\"type\":\"carpet\"}],\"table\":[{\"cells\":{\"fill\":{\"color\":\"#506784\"},\"line\":{\"color\":\"rgb(17,17,17)\"}},\"header\":{\"fill\":{\"color\":\"#2a3f5f\"},\"line\":{\"color\":\"rgb(17,17,17)\"}},\"type\":\"table\"}],\"barpolar\":[{\"marker\":{\"line\":{\"color\":\"rgb(17,17,17)\",\"width\":0.5},\"pattern\":{\"fillmode\":\"overlay\",\"size\":10,\"solidity\":0.2}},\"type\":\"barpolar\"}],\"pie\":[{\"automargin\":true,\"type\":\"pie\"}]},\"layout\":{\"autotypenumbers\":\"strict\",\"colorway\":[\"#636efa\",\"#EF553B\",\"#00cc96\",\"#ab63fa\",\"#FFA15A\",\"#19d3f3\",\"#FF6692\",\"#B6E880\",\"#FF97FF\",\"#FECB52\"],\"font\":{\"color\":\"#f2f5fa\"},\"hovermode\":\"closest\",\"hoverlabel\":{\"align\":\"left\"},\"paper_bgcolor\":\"rgb(17,17,17)\",\"plot_bgcolor\":\"rgb(17,17,17)\",\"polar\":{\"bgcolor\":\"rgb(17,17,17)\",\"angularaxis\":{\"gridcolor\":\"#506784\",\"linecolor\":\"#506784\",\"ticks\":\"\"},\"radialaxis\":{\"gridcolor\":\"#506784\",\"linecolor\":\"#506784\",\"ticks\":\"\"}},\"ternary\":{\"bgcolor\":\"rgb(17,17,17)\",\"aaxis\":{\"gridcolor\":\"#506784\",\"linecolor\":\"#506784\",\"ticks\":\"\"},\"baxis\":{\"gridcolor\":\"#506784\",\"linecolor\":\"#506784\",\"ticks\":\"\"},\"caxis\":{\"gridcolor\":\"#506784\",\"linecolor\":\"#506784\",\"ticks\":\"\"}},\"coloraxis\":{\"colorbar\":{\"outlinewidth\":0,\"ticks\":\"\"}},\"colorscale\":{\"sequential\":[[0.0,\"#0d0887\"],[0.1111111111111111,\"#46039f\"],[0.2222222222222222,\"#7201a8\"],[0.3333333333333333,\"#9c179e\"],[0.4444444444444444,\"#bd3786\"],[0.5555555555555556,\"#d8576b\"],[0.6666666666666666,\"#ed7953\"],[0.7777777777777778,\"#fb9f3a\"],[0.8888888888888888,\"#fdca26\"],[1.0,\"#f0f921\"]],\"sequentialminus\":[[0.0,\"#0d0887\"],[0.1111111111111111,\"#46039f\"],[0.2222222222222222,\"#7201a8\"],[0.3333333333333333,\"#9c179e\"],[0.4444444444444444,\"#bd3786\"],[0.5555555555555556,\"#d8576b\"],[0.6666666666666666,\"#ed7953\"],[0.7777777777777778,\"#fb9f3a\"],[0.8888888888888888,\"#fdca26\"],[1.0,\"#f0f921\"]],\"diverging\":[[0,\"#8e0152\"],[0.1,\"#c51b7d\"],[0.2,\"#de77ae\"],[0.3,\"#f1b6da\"],[0.4,\"#fde0ef\"],[0.5,\"#f7f7f7\"],[0.6,\"#e6f5d0\"],[0.7,\"#b8e186\"],[0.8,\"#7fbc41\"],[0.9,\"#4d9221\"],[1,\"#276419\"]]},\"xaxis\":{\"gridcolor\":\"#283442\",\"linecolor\":\"#506784\",\"ticks\":\"\",\"title\":{\"standoff\":15},\"zerolinecolor\":\"#283442\",\"automargin\":true,\"zerolinewidth\":2},\"yaxis\":{\"gridcolor\":\"#283442\",\"linecolor\":\"#506784\",\"ticks\":\"\",\"title\":{\"standoff\":15},\"zerolinecolor\":\"#283442\",\"automargin\":true,\"zerolinewidth\":2},\"scene\":{\"xaxis\":{\"backgroundcolor\":\"rgb(17,17,17)\",\"gridcolor\":\"#506784\",\"linecolor\":\"#506784\",\"showbackground\":true,\"ticks\":\"\",\"zerolinecolor\":\"#C8D4E3\",\"gridwidth\":2},\"yaxis\":{\"backgroundcolor\":\"rgb(17,17,17)\",\"gridcolor\":\"#506784\",\"linecolor\":\"#506784\",\"showbackground\":true,\"ticks\":\"\",\"zerolinecolor\":\"#C8D4E3\",\"gridwidth\":2},\"zaxis\":{\"backgroundcolor\":\"rgb(17,17,17)\",\"gridcolor\":\"#506784\",\"linecolor\":\"#506784\",\"showbackground\":true,\"ticks\":\"\",\"zerolinecolor\":\"#C8D4E3\",\"gridwidth\":2}},\"shapedefaults\":{\"line\":{\"color\":\"#f2f5fa\"}},\"annotationdefaults\":{\"arrowcolor\":\"#f2f5fa\",\"arrowhead\":0,\"arrowwidth\":1},\"geo\":{\"bgcolor\":\"rgb(17,17,17)\",\"landcolor\":\"rgb(17,17,17)\",\"subunitcolor\":\"#506784\",\"showland\":true,\"showlakes\":true,\"lakecolor\":\"rgb(17,17,17)\"},\"title\":{\"x\":0.05},\"updatemenudefaults\":{\"bgcolor\":\"#506784\",\"borderwidth\":0},\"sliderdefaults\":{\"bgcolor\":\"#C8D4E3\",\"borderwidth\":1,\"bordercolor\":\"rgb(17,17,17)\",\"tickwidth\":0},\"mapbox\":{\"style\":\"dark\"}}},\"legend\":{\"tracegroupgap\":0},\"title\":{\"text\":\"Percentage of launches by status\"}},                        {\"responsive\": true}                    ).then(function(){\n                            \nvar gd = document.getElementById('4e9c6151-c940-4d49-a6ea-a7773b9d7554');\nvar x = new MutationObserver(function (mutations, observer) {{\n        var display = window.getComputedStyle(gd).display;\n        if (!display || display === 'none') {{\n            console.log([gd, 'removed!']);\n            Plotly.purge(gd);\n            observer.disconnect();\n        }}\n}});\n\n// Listen for the removal of the full notebook cells\nvar notebookContainer = gd.closest('#notebook-container');\nif (notebookContainer) {{\n    x.observe(notebookContainer, {childList: true});\n}}\n\n// Listen for the clearing of the current output cell\nvar outputEl = gd.closest('.output');\nif (outputEl) {{\n    x.observe(outputEl, {childList: true});\n}}\n\n                        })                };                });            </script>        </div>"
     },
     "metadata": {},
     "output_type": "display_data"
    }
   ],
   "source": [
    "# create a new dataframe with the number of launches by status\n",
    "df_status = df['Status Mission'].value_counts().reset_index()\n",
    "\n",
    "# get total number of launches by status\n",
    "total = df_status['Status Mission'].sum()\n",
    "\n",
    "# create a new dataframe containing unique status and the number of launches\n",
    "df_status = df_status.groupby('index').sum().reset_index()\n",
    "\n",
    "rename = {\n",
    "    'index': 'Status Mission',\n",
    "    'Status Mission': 'count'\n",
    "}\n",
    "\n",
    "df_status = df_status.rename(columns=rename)\n",
    "\n",
    "# sort dataframe by number of launches\n",
    "df_status = df_status.sort_values(by='count', ascending=False)\n",
    "\n",
    "# convert total launches to a percentage\n",
    "df_status['percentage'] = df_status['count'] / total * 100\n",
    "\n",
    "# pie chart displaying the percentage of launches by status\n",
    "fig = px.pie(df_status, values='percentage', names='Status Mission', title='Percentage of launches by status')\n",
    "fig.show()"
   ],
   "metadata": {
    "collapsed": false,
    "ExecuteTime": {
     "end_time": "2023-07-13T23:39:19.705295200Z",
     "start_time": "2023-07-13T23:39:19.623455300Z"
    }
   }
  },
  {
   "cell_type": "markdown",
   "source": [
    "## What is the success rate of the launches per year?"
   ],
   "metadata": {
    "collapsed": false
   }
  },
  {
   "cell_type": "code",
   "execution_count": 83,
   "outputs": [
    {
     "data": {
      "application/vnd.plotly.v1+json": {
       "data": [
        {
         "alignmentgroup": "True",
         "hovertemplate": "Status Mission=Failure<br>Year=%{x}<br>count=%{y}<extra></extra>",
         "legendgroup": "Failure",
         "marker": {
          "color": "#636efa",
          "pattern": {
           "shape": ""
          }
         },
         "name": "Failure",
         "offsetgroup": "Failure",
         "orientation": "v",
         "showlegend": true,
         "textposition": "auto",
         "x": [
          1957.0,
          1958.0,
          1959.0,
          1960.0,
          1961.0,
          1962.0,
          1963.0,
          1964.0,
          1965.0,
          1966.0,
          1967.0,
          1968.0,
          1969.0,
          1970.0,
          1971.0,
          1972.0,
          1973.0,
          1974.0,
          1975.0,
          1976.0,
          1977.0,
          1978.0,
          1979.0,
          1980.0,
          1981.0,
          1982.0,
          1983.0,
          1984.0,
          1985.0,
          1986.0,
          1987.0,
          1988.0,
          1989.0,
          1990.0,
          1991.0,
          1992.0,
          1993.0,
          1994.0,
          1995.0,
          1996.0,
          1997.0,
          1998.0,
          1999.0,
          2000.0,
          2001.0,
          2002.0,
          2003.0,
          2005.0,
          2006.0,
          2007.0,
          2008.0,
          2009.0,
          2010.0,
          2011.0,
          2012.0,
          2013.0,
          2014.0,
          2015.0,
          2016.0,
          2017.0,
          2018.0,
          2019.0,
          2020.0
         ],
         "xaxis": "x",
         "y": [
          1,
          14,
          9,
          19,
          17,
          14,
          9,
          7,
          10,
          7,
          8,
          4,
          15,
          10,
          12,
          7,
          5,
          7,
          6,
          3,
          4,
          1,
          2,
          3,
          2,
          3,
          1,
          1,
          5,
          4,
          2,
          1,
          1,
          3,
          3,
          3,
          4,
          4,
          5,
          3,
          2,
          4,
          6,
          4,
          1,
          1,
          2,
          3,
          3,
          2,
          1,
          3,
          3,
          1,
          1,
          2,
          1,
          1,
          2,
          5,
          2,
          5,
          6
         ],
         "yaxis": "y",
         "type": "bar"
        },
        {
         "alignmentgroup": "True",
         "hovertemplate": "Status Mission=Success<br>Year=%{x}<br>count=%{y}<extra></extra>",
         "legendgroup": "Success",
         "marker": {
          "color": "#EF553B",
          "pattern": {
           "shape": ""
          }
         },
         "name": "Success",
         "offsetgroup": "Success",
         "orientation": "v",
         "showlegend": true,
         "textposition": "auto",
         "x": [
          1957.0,
          1958.0,
          1959.0,
          1960.0,
          1961.0,
          1962.0,
          1963.0,
          1964.0,
          1965.0,
          1966.0,
          1967.0,
          1968.0,
          1969.0,
          1970.0,
          1971.0,
          1972.0,
          1973.0,
          1974.0,
          1975.0,
          1976.0,
          1977.0,
          1978.0,
          1979.0,
          1980.0,
          1981.0,
          1982.0,
          1983.0,
          1984.0,
          1985.0,
          1986.0,
          1987.0,
          1988.0,
          1989.0,
          1990.0,
          1991.0,
          1992.0,
          1993.0,
          1994.0,
          1995.0,
          1996.0,
          1997.0,
          1998.0,
          1999.0,
          2000.0,
          2001.0,
          2002.0,
          2003.0,
          2004.0,
          2005.0,
          2006.0,
          2007.0,
          2008.0,
          2009.0,
          2010.0,
          2011.0,
          2012.0,
          2013.0,
          2014.0,
          2015.0,
          2016.0,
          2017.0,
          2018.0,
          2019.0,
          2020.0
         ],
         "xaxis": "x",
         "y": [
          2,
          6,
          8,
          19,
          32,
          65,
          29,
          47,
          74,
          81,
          86,
          91,
          85,
          92,
          102,
          86,
          94,
          89,
          106,
          104,
          105,
          90,
          43,
          46,
          60,
          61,
          63,
          64,
          65,
          55,
          51,
          54,
          48,
          72,
          52,
          59,
          57,
          56,
          52,
          56,
          64,
          61,
          47,
          53,
          39,
          45,
          47,
          37,
          34,
          46,
          45,
          45,
          46,
          33,
          39,
          32,
          43,
          50,
          44,
          84,
          83,
          113,
          100,
          57
         ],
         "yaxis": "y",
         "type": "bar"
        },
        {
         "alignmentgroup": "True",
         "hovertemplate": "Status Mission=Partial Failure<br>Year=%{x}<br>count=%{y}<extra></extra>",
         "legendgroup": "Partial Failure",
         "marker": {
          "color": "#00cc96",
          "pattern": {
           "shape": ""
          }
         },
         "name": "Partial Failure",
         "offsetgroup": "Partial Failure",
         "orientation": "v",
         "showlegend": true,
         "textposition": "auto",
         "x": [
          1958.0,
          1959.0,
          1961.0,
          1962.0,
          1964.0,
          1965.0,
          1966.0,
          1967.0,
          1968.0,
          1969.0,
          1970.0,
          1971.0,
          1972.0,
          1974.0,
          1976.0,
          1978.0,
          1979.0,
          1980.0,
          1981.0,
          1982.0,
          1984.0,
          1985.0,
          1986.0,
          1987.0,
          1988.0,
          1989.0,
          1990.0,
          1991.0,
          1994.0,
          1995.0,
          1996.0,
          1997.0,
          1998.0,
          2001.0,
          2004.0,
          2007.0,
          2008.0,
          2011.0,
          2012.0,
          2013.0,
          2014.0,
          2015.0,
          2016.0,
          2017.0,
          2018.0,
          2019.0
         ],
         "xaxis": "x",
         "y": [
          2,
          3,
          3,
          2,
          2,
          2,
          9,
          8,
          5,
          1,
          4,
          2,
          3,
          1,
          2,
          2,
          1,
          3,
          4,
          2,
          2,
          1,
          2,
          1,
          1,
          1,
          1,
          2,
          2,
          3,
          1,
          3,
          2,
          2,
          2,
          2,
          1,
          1,
          1,
          1,
          1,
          1,
          1,
          2,
          2,
          2
         ],
         "yaxis": "y",
         "type": "bar"
        },
        {
         "alignmentgroup": "True",
         "hovertemplate": "Status Mission=Prelaunch Failure<br>Year=%{x}<br>count=%{y}<extra></extra>",
         "legendgroup": "Prelaunch Failure",
         "marker": {
          "color": "#ab63fa",
          "pattern": {
           "shape": ""
          }
         },
         "name": "Prelaunch Failure",
         "offsetgroup": "Prelaunch Failure",
         "orientation": "v",
         "showlegend": true,
         "textposition": "auto",
         "x": [
          1966.0,
          2016.0
         ],
         "xaxis": "x",
         "y": [
          1,
          1
         ],
         "yaxis": "y",
         "type": "bar"
        }
       ],
       "layout": {
        "template": {
         "data": {
          "histogram2dcontour": [
           {
            "type": "histogram2dcontour",
            "colorbar": {
             "outlinewidth": 0,
             "ticks": ""
            },
            "colorscale": [
             [
              0.0,
              "#0d0887"
             ],
             [
              0.1111111111111111,
              "#46039f"
             ],
             [
              0.2222222222222222,
              "#7201a8"
             ],
             [
              0.3333333333333333,
              "#9c179e"
             ],
             [
              0.4444444444444444,
              "#bd3786"
             ],
             [
              0.5555555555555556,
              "#d8576b"
             ],
             [
              0.6666666666666666,
              "#ed7953"
             ],
             [
              0.7777777777777778,
              "#fb9f3a"
             ],
             [
              0.8888888888888888,
              "#fdca26"
             ],
             [
              1.0,
              "#f0f921"
             ]
            ]
           }
          ],
          "choropleth": [
           {
            "type": "choropleth",
            "colorbar": {
             "outlinewidth": 0,
             "ticks": ""
            }
           }
          ],
          "histogram2d": [
           {
            "type": "histogram2d",
            "colorbar": {
             "outlinewidth": 0,
             "ticks": ""
            },
            "colorscale": [
             [
              0.0,
              "#0d0887"
             ],
             [
              0.1111111111111111,
              "#46039f"
             ],
             [
              0.2222222222222222,
              "#7201a8"
             ],
             [
              0.3333333333333333,
              "#9c179e"
             ],
             [
              0.4444444444444444,
              "#bd3786"
             ],
             [
              0.5555555555555556,
              "#d8576b"
             ],
             [
              0.6666666666666666,
              "#ed7953"
             ],
             [
              0.7777777777777778,
              "#fb9f3a"
             ],
             [
              0.8888888888888888,
              "#fdca26"
             ],
             [
              1.0,
              "#f0f921"
             ]
            ]
           }
          ],
          "heatmap": [
           {
            "type": "heatmap",
            "colorbar": {
             "outlinewidth": 0,
             "ticks": ""
            },
            "colorscale": [
             [
              0.0,
              "#0d0887"
             ],
             [
              0.1111111111111111,
              "#46039f"
             ],
             [
              0.2222222222222222,
              "#7201a8"
             ],
             [
              0.3333333333333333,
              "#9c179e"
             ],
             [
              0.4444444444444444,
              "#bd3786"
             ],
             [
              0.5555555555555556,
              "#d8576b"
             ],
             [
              0.6666666666666666,
              "#ed7953"
             ],
             [
              0.7777777777777778,
              "#fb9f3a"
             ],
             [
              0.8888888888888888,
              "#fdca26"
             ],
             [
              1.0,
              "#f0f921"
             ]
            ]
           }
          ],
          "heatmapgl": [
           {
            "type": "heatmapgl",
            "colorbar": {
             "outlinewidth": 0,
             "ticks": ""
            },
            "colorscale": [
             [
              0.0,
              "#0d0887"
             ],
             [
              0.1111111111111111,
              "#46039f"
             ],
             [
              0.2222222222222222,
              "#7201a8"
             ],
             [
              0.3333333333333333,
              "#9c179e"
             ],
             [
              0.4444444444444444,
              "#bd3786"
             ],
             [
              0.5555555555555556,
              "#d8576b"
             ],
             [
              0.6666666666666666,
              "#ed7953"
             ],
             [
              0.7777777777777778,
              "#fb9f3a"
             ],
             [
              0.8888888888888888,
              "#fdca26"
             ],
             [
              1.0,
              "#f0f921"
             ]
            ]
           }
          ],
          "contourcarpet": [
           {
            "type": "contourcarpet",
            "colorbar": {
             "outlinewidth": 0,
             "ticks": ""
            }
           }
          ],
          "contour": [
           {
            "type": "contour",
            "colorbar": {
             "outlinewidth": 0,
             "ticks": ""
            },
            "colorscale": [
             [
              0.0,
              "#0d0887"
             ],
             [
              0.1111111111111111,
              "#46039f"
             ],
             [
              0.2222222222222222,
              "#7201a8"
             ],
             [
              0.3333333333333333,
              "#9c179e"
             ],
             [
              0.4444444444444444,
              "#bd3786"
             ],
             [
              0.5555555555555556,
              "#d8576b"
             ],
             [
              0.6666666666666666,
              "#ed7953"
             ],
             [
              0.7777777777777778,
              "#fb9f3a"
             ],
             [
              0.8888888888888888,
              "#fdca26"
             ],
             [
              1.0,
              "#f0f921"
             ]
            ]
           }
          ],
          "surface": [
           {
            "type": "surface",
            "colorbar": {
             "outlinewidth": 0,
             "ticks": ""
            },
            "colorscale": [
             [
              0.0,
              "#0d0887"
             ],
             [
              0.1111111111111111,
              "#46039f"
             ],
             [
              0.2222222222222222,
              "#7201a8"
             ],
             [
              0.3333333333333333,
              "#9c179e"
             ],
             [
              0.4444444444444444,
              "#bd3786"
             ],
             [
              0.5555555555555556,
              "#d8576b"
             ],
             [
              0.6666666666666666,
              "#ed7953"
             ],
             [
              0.7777777777777778,
              "#fb9f3a"
             ],
             [
              0.8888888888888888,
              "#fdca26"
             ],
             [
              1.0,
              "#f0f921"
             ]
            ]
           }
          ],
          "mesh3d": [
           {
            "type": "mesh3d",
            "colorbar": {
             "outlinewidth": 0,
             "ticks": ""
            }
           }
          ],
          "scatter": [
           {
            "marker": {
             "line": {
              "color": "#283442"
             }
            },
            "type": "scatter"
           }
          ],
          "parcoords": [
           {
            "type": "parcoords",
            "line": {
             "colorbar": {
              "outlinewidth": 0,
              "ticks": ""
             }
            }
           }
          ],
          "scatterpolargl": [
           {
            "type": "scatterpolargl",
            "marker": {
             "colorbar": {
              "outlinewidth": 0,
              "ticks": ""
             }
            }
           }
          ],
          "bar": [
           {
            "error_x": {
             "color": "#f2f5fa"
            },
            "error_y": {
             "color": "#f2f5fa"
            },
            "marker": {
             "line": {
              "color": "rgb(17,17,17)",
              "width": 0.5
             },
             "pattern": {
              "fillmode": "overlay",
              "size": 10,
              "solidity": 0.2
             }
            },
            "type": "bar"
           }
          ],
          "scattergeo": [
           {
            "type": "scattergeo",
            "marker": {
             "colorbar": {
              "outlinewidth": 0,
              "ticks": ""
             }
            }
           }
          ],
          "scatterpolar": [
           {
            "type": "scatterpolar",
            "marker": {
             "colorbar": {
              "outlinewidth": 0,
              "ticks": ""
             }
            }
           }
          ],
          "histogram": [
           {
            "marker": {
             "pattern": {
              "fillmode": "overlay",
              "size": 10,
              "solidity": 0.2
             }
            },
            "type": "histogram"
           }
          ],
          "scattergl": [
           {
            "marker": {
             "line": {
              "color": "#283442"
             }
            },
            "type": "scattergl"
           }
          ],
          "scatter3d": [
           {
            "type": "scatter3d",
            "line": {
             "colorbar": {
              "outlinewidth": 0,
              "ticks": ""
             }
            },
            "marker": {
             "colorbar": {
              "outlinewidth": 0,
              "ticks": ""
             }
            }
           }
          ],
          "scattermapbox": [
           {
            "type": "scattermapbox",
            "marker": {
             "colorbar": {
              "outlinewidth": 0,
              "ticks": ""
             }
            }
           }
          ],
          "scatterternary": [
           {
            "type": "scatterternary",
            "marker": {
             "colorbar": {
              "outlinewidth": 0,
              "ticks": ""
             }
            }
           }
          ],
          "scattercarpet": [
           {
            "type": "scattercarpet",
            "marker": {
             "colorbar": {
              "outlinewidth": 0,
              "ticks": ""
             }
            }
           }
          ],
          "carpet": [
           {
            "aaxis": {
             "endlinecolor": "#A2B1C6",
             "gridcolor": "#506784",
             "linecolor": "#506784",
             "minorgridcolor": "#506784",
             "startlinecolor": "#A2B1C6"
            },
            "baxis": {
             "endlinecolor": "#A2B1C6",
             "gridcolor": "#506784",
             "linecolor": "#506784",
             "minorgridcolor": "#506784",
             "startlinecolor": "#A2B1C6"
            },
            "type": "carpet"
           }
          ],
          "table": [
           {
            "cells": {
             "fill": {
              "color": "#506784"
             },
             "line": {
              "color": "rgb(17,17,17)"
             }
            },
            "header": {
             "fill": {
              "color": "#2a3f5f"
             },
             "line": {
              "color": "rgb(17,17,17)"
             }
            },
            "type": "table"
           }
          ],
          "barpolar": [
           {
            "marker": {
             "line": {
              "color": "rgb(17,17,17)",
              "width": 0.5
             },
             "pattern": {
              "fillmode": "overlay",
              "size": 10,
              "solidity": 0.2
             }
            },
            "type": "barpolar"
           }
          ],
          "pie": [
           {
            "automargin": true,
            "type": "pie"
           }
          ]
         },
         "layout": {
          "autotypenumbers": "strict",
          "colorway": [
           "#636efa",
           "#EF553B",
           "#00cc96",
           "#ab63fa",
           "#FFA15A",
           "#19d3f3",
           "#FF6692",
           "#B6E880",
           "#FF97FF",
           "#FECB52"
          ],
          "font": {
           "color": "#f2f5fa"
          },
          "hovermode": "closest",
          "hoverlabel": {
           "align": "left"
          },
          "paper_bgcolor": "rgb(17,17,17)",
          "plot_bgcolor": "rgb(17,17,17)",
          "polar": {
           "bgcolor": "rgb(17,17,17)",
           "angularaxis": {
            "gridcolor": "#506784",
            "linecolor": "#506784",
            "ticks": ""
           },
           "radialaxis": {
            "gridcolor": "#506784",
            "linecolor": "#506784",
            "ticks": ""
           }
          },
          "ternary": {
           "bgcolor": "rgb(17,17,17)",
           "aaxis": {
            "gridcolor": "#506784",
            "linecolor": "#506784",
            "ticks": ""
           },
           "baxis": {
            "gridcolor": "#506784",
            "linecolor": "#506784",
            "ticks": ""
           },
           "caxis": {
            "gridcolor": "#506784",
            "linecolor": "#506784",
            "ticks": ""
           }
          },
          "coloraxis": {
           "colorbar": {
            "outlinewidth": 0,
            "ticks": ""
           }
          },
          "colorscale": {
           "sequential": [
            [
             0.0,
             "#0d0887"
            ],
            [
             0.1111111111111111,
             "#46039f"
            ],
            [
             0.2222222222222222,
             "#7201a8"
            ],
            [
             0.3333333333333333,
             "#9c179e"
            ],
            [
             0.4444444444444444,
             "#bd3786"
            ],
            [
             0.5555555555555556,
             "#d8576b"
            ],
            [
             0.6666666666666666,
             "#ed7953"
            ],
            [
             0.7777777777777778,
             "#fb9f3a"
            ],
            [
             0.8888888888888888,
             "#fdca26"
            ],
            [
             1.0,
             "#f0f921"
            ]
           ],
           "sequentialminus": [
            [
             0.0,
             "#0d0887"
            ],
            [
             0.1111111111111111,
             "#46039f"
            ],
            [
             0.2222222222222222,
             "#7201a8"
            ],
            [
             0.3333333333333333,
             "#9c179e"
            ],
            [
             0.4444444444444444,
             "#bd3786"
            ],
            [
             0.5555555555555556,
             "#d8576b"
            ],
            [
             0.6666666666666666,
             "#ed7953"
            ],
            [
             0.7777777777777778,
             "#fb9f3a"
            ],
            [
             0.8888888888888888,
             "#fdca26"
            ],
            [
             1.0,
             "#f0f921"
            ]
           ],
           "diverging": [
            [
             0,
             "#8e0152"
            ],
            [
             0.1,
             "#c51b7d"
            ],
            [
             0.2,
             "#de77ae"
            ],
            [
             0.3,
             "#f1b6da"
            ],
            [
             0.4,
             "#fde0ef"
            ],
            [
             0.5,
             "#f7f7f7"
            ],
            [
             0.6,
             "#e6f5d0"
            ],
            [
             0.7,
             "#b8e186"
            ],
            [
             0.8,
             "#7fbc41"
            ],
            [
             0.9,
             "#4d9221"
            ],
            [
             1,
             "#276419"
            ]
           ]
          },
          "xaxis": {
           "gridcolor": "#283442",
           "linecolor": "#506784",
           "ticks": "",
           "title": {
            "standoff": 15
           },
           "zerolinecolor": "#283442",
           "automargin": true,
           "zerolinewidth": 2
          },
          "yaxis": {
           "gridcolor": "#283442",
           "linecolor": "#506784",
           "ticks": "",
           "title": {
            "standoff": 15
           },
           "zerolinecolor": "#283442",
           "automargin": true,
           "zerolinewidth": 2
          },
          "scene": {
           "xaxis": {
            "backgroundcolor": "rgb(17,17,17)",
            "gridcolor": "#506784",
            "linecolor": "#506784",
            "showbackground": true,
            "ticks": "",
            "zerolinecolor": "#C8D4E3",
            "gridwidth": 2
           },
           "yaxis": {
            "backgroundcolor": "rgb(17,17,17)",
            "gridcolor": "#506784",
            "linecolor": "#506784",
            "showbackground": true,
            "ticks": "",
            "zerolinecolor": "#C8D4E3",
            "gridwidth": 2
           },
           "zaxis": {
            "backgroundcolor": "rgb(17,17,17)",
            "gridcolor": "#506784",
            "linecolor": "#506784",
            "showbackground": true,
            "ticks": "",
            "zerolinecolor": "#C8D4E3",
            "gridwidth": 2
           }
          },
          "shapedefaults": {
           "line": {
            "color": "#f2f5fa"
           }
          },
          "annotationdefaults": {
           "arrowcolor": "#f2f5fa",
           "arrowhead": 0,
           "arrowwidth": 1
          },
          "geo": {
           "bgcolor": "rgb(17,17,17)",
           "landcolor": "rgb(17,17,17)",
           "subunitcolor": "#506784",
           "showland": true,
           "showlakes": true,
           "lakecolor": "rgb(17,17,17)"
          },
          "title": {
           "x": 0.05
          },
          "updatemenudefaults": {
           "bgcolor": "#506784",
           "borderwidth": 0
          },
          "sliderdefaults": {
           "bgcolor": "#C8D4E3",
           "borderwidth": 1,
           "bordercolor": "rgb(17,17,17)",
           "tickwidth": 0
          },
          "mapbox": {
           "style": "dark"
          }
         }
        },
        "xaxis": {
         "anchor": "y",
         "domain": [
          0.0,
          1.0
         ],
         "title": {
          "text": "Year"
         }
        },
        "yaxis": {
         "anchor": "x",
         "domain": [
          0.0,
          1.0
         ],
         "title": {
          "text": "count"
         }
        },
        "legend": {
         "title": {
          "text": "Status Mission"
         },
         "tracegroupgap": 0
        },
        "title": {
         "text": "Number of launches by year and status"
        },
        "barmode": "relative"
       },
       "config": {
        "plotlyServerURL": "https://plot.ly"
       }
      },
      "text/html": "<div>                            <div id=\"832b9117-0cf5-40e6-862f-08065fde0fc7\" class=\"plotly-graph-div\" style=\"height:525px; width:100%;\"></div>            <script type=\"text/javascript\">                require([\"plotly\"], function(Plotly) {                    window.PLOTLYENV=window.PLOTLYENV || {};                                    if (document.getElementById(\"832b9117-0cf5-40e6-862f-08065fde0fc7\")) {                    Plotly.newPlot(                        \"832b9117-0cf5-40e6-862f-08065fde0fc7\",                        [{\"alignmentgroup\":\"True\",\"hovertemplate\":\"Status Mission=Failure\\u003cbr\\u003eYear=%{x}\\u003cbr\\u003ecount=%{y}\\u003cextra\\u003e\\u003c\\u002fextra\\u003e\",\"legendgroup\":\"Failure\",\"marker\":{\"color\":\"#636efa\",\"pattern\":{\"shape\":\"\"}},\"name\":\"Failure\",\"offsetgroup\":\"Failure\",\"orientation\":\"v\",\"showlegend\":true,\"textposition\":\"auto\",\"x\":[1957.0,1958.0,1959.0,1960.0,1961.0,1962.0,1963.0,1964.0,1965.0,1966.0,1967.0,1968.0,1969.0,1970.0,1971.0,1972.0,1973.0,1974.0,1975.0,1976.0,1977.0,1978.0,1979.0,1980.0,1981.0,1982.0,1983.0,1984.0,1985.0,1986.0,1987.0,1988.0,1989.0,1990.0,1991.0,1992.0,1993.0,1994.0,1995.0,1996.0,1997.0,1998.0,1999.0,2000.0,2001.0,2002.0,2003.0,2005.0,2006.0,2007.0,2008.0,2009.0,2010.0,2011.0,2012.0,2013.0,2014.0,2015.0,2016.0,2017.0,2018.0,2019.0,2020.0],\"xaxis\":\"x\",\"y\":[1,14,9,19,17,14,9,7,10,7,8,4,15,10,12,7,5,7,6,3,4,1,2,3,2,3,1,1,5,4,2,1,1,3,3,3,4,4,5,3,2,4,6,4,1,1,2,3,3,2,1,3,3,1,1,2,1,1,2,5,2,5,6],\"yaxis\":\"y\",\"type\":\"bar\"},{\"alignmentgroup\":\"True\",\"hovertemplate\":\"Status Mission=Success\\u003cbr\\u003eYear=%{x}\\u003cbr\\u003ecount=%{y}\\u003cextra\\u003e\\u003c\\u002fextra\\u003e\",\"legendgroup\":\"Success\",\"marker\":{\"color\":\"#EF553B\",\"pattern\":{\"shape\":\"\"}},\"name\":\"Success\",\"offsetgroup\":\"Success\",\"orientation\":\"v\",\"showlegend\":true,\"textposition\":\"auto\",\"x\":[1957.0,1958.0,1959.0,1960.0,1961.0,1962.0,1963.0,1964.0,1965.0,1966.0,1967.0,1968.0,1969.0,1970.0,1971.0,1972.0,1973.0,1974.0,1975.0,1976.0,1977.0,1978.0,1979.0,1980.0,1981.0,1982.0,1983.0,1984.0,1985.0,1986.0,1987.0,1988.0,1989.0,1990.0,1991.0,1992.0,1993.0,1994.0,1995.0,1996.0,1997.0,1998.0,1999.0,2000.0,2001.0,2002.0,2003.0,2004.0,2005.0,2006.0,2007.0,2008.0,2009.0,2010.0,2011.0,2012.0,2013.0,2014.0,2015.0,2016.0,2017.0,2018.0,2019.0,2020.0],\"xaxis\":\"x\",\"y\":[2,6,8,19,32,65,29,47,74,81,86,91,85,92,102,86,94,89,106,104,105,90,43,46,60,61,63,64,65,55,51,54,48,72,52,59,57,56,52,56,64,61,47,53,39,45,47,37,34,46,45,45,46,33,39,32,43,50,44,84,83,113,100,57],\"yaxis\":\"y\",\"type\":\"bar\"},{\"alignmentgroup\":\"True\",\"hovertemplate\":\"Status Mission=Partial Failure\\u003cbr\\u003eYear=%{x}\\u003cbr\\u003ecount=%{y}\\u003cextra\\u003e\\u003c\\u002fextra\\u003e\",\"legendgroup\":\"Partial Failure\",\"marker\":{\"color\":\"#00cc96\",\"pattern\":{\"shape\":\"\"}},\"name\":\"Partial Failure\",\"offsetgroup\":\"Partial Failure\",\"orientation\":\"v\",\"showlegend\":true,\"textposition\":\"auto\",\"x\":[1958.0,1959.0,1961.0,1962.0,1964.0,1965.0,1966.0,1967.0,1968.0,1969.0,1970.0,1971.0,1972.0,1974.0,1976.0,1978.0,1979.0,1980.0,1981.0,1982.0,1984.0,1985.0,1986.0,1987.0,1988.0,1989.0,1990.0,1991.0,1994.0,1995.0,1996.0,1997.0,1998.0,2001.0,2004.0,2007.0,2008.0,2011.0,2012.0,2013.0,2014.0,2015.0,2016.0,2017.0,2018.0,2019.0],\"xaxis\":\"x\",\"y\":[2,3,3,2,2,2,9,8,5,1,4,2,3,1,2,2,1,3,4,2,2,1,2,1,1,1,1,2,2,3,1,3,2,2,2,2,1,1,1,1,1,1,1,2,2,2],\"yaxis\":\"y\",\"type\":\"bar\"},{\"alignmentgroup\":\"True\",\"hovertemplate\":\"Status Mission=Prelaunch Failure\\u003cbr\\u003eYear=%{x}\\u003cbr\\u003ecount=%{y}\\u003cextra\\u003e\\u003c\\u002fextra\\u003e\",\"legendgroup\":\"Prelaunch Failure\",\"marker\":{\"color\":\"#ab63fa\",\"pattern\":{\"shape\":\"\"}},\"name\":\"Prelaunch Failure\",\"offsetgroup\":\"Prelaunch Failure\",\"orientation\":\"v\",\"showlegend\":true,\"textposition\":\"auto\",\"x\":[1966.0,2016.0],\"xaxis\":\"x\",\"y\":[1,1],\"yaxis\":\"y\",\"type\":\"bar\"}],                        {\"template\":{\"data\":{\"histogram2dcontour\":[{\"type\":\"histogram2dcontour\",\"colorbar\":{\"outlinewidth\":0,\"ticks\":\"\"},\"colorscale\":[[0.0,\"#0d0887\"],[0.1111111111111111,\"#46039f\"],[0.2222222222222222,\"#7201a8\"],[0.3333333333333333,\"#9c179e\"],[0.4444444444444444,\"#bd3786\"],[0.5555555555555556,\"#d8576b\"],[0.6666666666666666,\"#ed7953\"],[0.7777777777777778,\"#fb9f3a\"],[0.8888888888888888,\"#fdca26\"],[1.0,\"#f0f921\"]]}],\"choropleth\":[{\"type\":\"choropleth\",\"colorbar\":{\"outlinewidth\":0,\"ticks\":\"\"}}],\"histogram2d\":[{\"type\":\"histogram2d\",\"colorbar\":{\"outlinewidth\":0,\"ticks\":\"\"},\"colorscale\":[[0.0,\"#0d0887\"],[0.1111111111111111,\"#46039f\"],[0.2222222222222222,\"#7201a8\"],[0.3333333333333333,\"#9c179e\"],[0.4444444444444444,\"#bd3786\"],[0.5555555555555556,\"#d8576b\"],[0.6666666666666666,\"#ed7953\"],[0.7777777777777778,\"#fb9f3a\"],[0.8888888888888888,\"#fdca26\"],[1.0,\"#f0f921\"]]}],\"heatmap\":[{\"type\":\"heatmap\",\"colorbar\":{\"outlinewidth\":0,\"ticks\":\"\"},\"colorscale\":[[0.0,\"#0d0887\"],[0.1111111111111111,\"#46039f\"],[0.2222222222222222,\"#7201a8\"],[0.3333333333333333,\"#9c179e\"],[0.4444444444444444,\"#bd3786\"],[0.5555555555555556,\"#d8576b\"],[0.6666666666666666,\"#ed7953\"],[0.7777777777777778,\"#fb9f3a\"],[0.8888888888888888,\"#fdca26\"],[1.0,\"#f0f921\"]]}],\"heatmapgl\":[{\"type\":\"heatmapgl\",\"colorbar\":{\"outlinewidth\":0,\"ticks\":\"\"},\"colorscale\":[[0.0,\"#0d0887\"],[0.1111111111111111,\"#46039f\"],[0.2222222222222222,\"#7201a8\"],[0.3333333333333333,\"#9c179e\"],[0.4444444444444444,\"#bd3786\"],[0.5555555555555556,\"#d8576b\"],[0.6666666666666666,\"#ed7953\"],[0.7777777777777778,\"#fb9f3a\"],[0.8888888888888888,\"#fdca26\"],[1.0,\"#f0f921\"]]}],\"contourcarpet\":[{\"type\":\"contourcarpet\",\"colorbar\":{\"outlinewidth\":0,\"ticks\":\"\"}}],\"contour\":[{\"type\":\"contour\",\"colorbar\":{\"outlinewidth\":0,\"ticks\":\"\"},\"colorscale\":[[0.0,\"#0d0887\"],[0.1111111111111111,\"#46039f\"],[0.2222222222222222,\"#7201a8\"],[0.3333333333333333,\"#9c179e\"],[0.4444444444444444,\"#bd3786\"],[0.5555555555555556,\"#d8576b\"],[0.6666666666666666,\"#ed7953\"],[0.7777777777777778,\"#fb9f3a\"],[0.8888888888888888,\"#fdca26\"],[1.0,\"#f0f921\"]]}],\"surface\":[{\"type\":\"surface\",\"colorbar\":{\"outlinewidth\":0,\"ticks\":\"\"},\"colorscale\":[[0.0,\"#0d0887\"],[0.1111111111111111,\"#46039f\"],[0.2222222222222222,\"#7201a8\"],[0.3333333333333333,\"#9c179e\"],[0.4444444444444444,\"#bd3786\"],[0.5555555555555556,\"#d8576b\"],[0.6666666666666666,\"#ed7953\"],[0.7777777777777778,\"#fb9f3a\"],[0.8888888888888888,\"#fdca26\"],[1.0,\"#f0f921\"]]}],\"mesh3d\":[{\"type\":\"mesh3d\",\"colorbar\":{\"outlinewidth\":0,\"ticks\":\"\"}}],\"scatter\":[{\"marker\":{\"line\":{\"color\":\"#283442\"}},\"type\":\"scatter\"}],\"parcoords\":[{\"type\":\"parcoords\",\"line\":{\"colorbar\":{\"outlinewidth\":0,\"ticks\":\"\"}}}],\"scatterpolargl\":[{\"type\":\"scatterpolargl\",\"marker\":{\"colorbar\":{\"outlinewidth\":0,\"ticks\":\"\"}}}],\"bar\":[{\"error_x\":{\"color\":\"#f2f5fa\"},\"error_y\":{\"color\":\"#f2f5fa\"},\"marker\":{\"line\":{\"color\":\"rgb(17,17,17)\",\"width\":0.5},\"pattern\":{\"fillmode\":\"overlay\",\"size\":10,\"solidity\":0.2}},\"type\":\"bar\"}],\"scattergeo\":[{\"type\":\"scattergeo\",\"marker\":{\"colorbar\":{\"outlinewidth\":0,\"ticks\":\"\"}}}],\"scatterpolar\":[{\"type\":\"scatterpolar\",\"marker\":{\"colorbar\":{\"outlinewidth\":0,\"ticks\":\"\"}}}],\"histogram\":[{\"marker\":{\"pattern\":{\"fillmode\":\"overlay\",\"size\":10,\"solidity\":0.2}},\"type\":\"histogram\"}],\"scattergl\":[{\"marker\":{\"line\":{\"color\":\"#283442\"}},\"type\":\"scattergl\"}],\"scatter3d\":[{\"type\":\"scatter3d\",\"line\":{\"colorbar\":{\"outlinewidth\":0,\"ticks\":\"\"}},\"marker\":{\"colorbar\":{\"outlinewidth\":0,\"ticks\":\"\"}}}],\"scattermapbox\":[{\"type\":\"scattermapbox\",\"marker\":{\"colorbar\":{\"outlinewidth\":0,\"ticks\":\"\"}}}],\"scatterternary\":[{\"type\":\"scatterternary\",\"marker\":{\"colorbar\":{\"outlinewidth\":0,\"ticks\":\"\"}}}],\"scattercarpet\":[{\"type\":\"scattercarpet\",\"marker\":{\"colorbar\":{\"outlinewidth\":0,\"ticks\":\"\"}}}],\"carpet\":[{\"aaxis\":{\"endlinecolor\":\"#A2B1C6\",\"gridcolor\":\"#506784\",\"linecolor\":\"#506784\",\"minorgridcolor\":\"#506784\",\"startlinecolor\":\"#A2B1C6\"},\"baxis\":{\"endlinecolor\":\"#A2B1C6\",\"gridcolor\":\"#506784\",\"linecolor\":\"#506784\",\"minorgridcolor\":\"#506784\",\"startlinecolor\":\"#A2B1C6\"},\"type\":\"carpet\"}],\"table\":[{\"cells\":{\"fill\":{\"color\":\"#506784\"},\"line\":{\"color\":\"rgb(17,17,17)\"}},\"header\":{\"fill\":{\"color\":\"#2a3f5f\"},\"line\":{\"color\":\"rgb(17,17,17)\"}},\"type\":\"table\"}],\"barpolar\":[{\"marker\":{\"line\":{\"color\":\"rgb(17,17,17)\",\"width\":0.5},\"pattern\":{\"fillmode\":\"overlay\",\"size\":10,\"solidity\":0.2}},\"type\":\"barpolar\"}],\"pie\":[{\"automargin\":true,\"type\":\"pie\"}]},\"layout\":{\"autotypenumbers\":\"strict\",\"colorway\":[\"#636efa\",\"#EF553B\",\"#00cc96\",\"#ab63fa\",\"#FFA15A\",\"#19d3f3\",\"#FF6692\",\"#B6E880\",\"#FF97FF\",\"#FECB52\"],\"font\":{\"color\":\"#f2f5fa\"},\"hovermode\":\"closest\",\"hoverlabel\":{\"align\":\"left\"},\"paper_bgcolor\":\"rgb(17,17,17)\",\"plot_bgcolor\":\"rgb(17,17,17)\",\"polar\":{\"bgcolor\":\"rgb(17,17,17)\",\"angularaxis\":{\"gridcolor\":\"#506784\",\"linecolor\":\"#506784\",\"ticks\":\"\"},\"radialaxis\":{\"gridcolor\":\"#506784\",\"linecolor\":\"#506784\",\"ticks\":\"\"}},\"ternary\":{\"bgcolor\":\"rgb(17,17,17)\",\"aaxis\":{\"gridcolor\":\"#506784\",\"linecolor\":\"#506784\",\"ticks\":\"\"},\"baxis\":{\"gridcolor\":\"#506784\",\"linecolor\":\"#506784\",\"ticks\":\"\"},\"caxis\":{\"gridcolor\":\"#506784\",\"linecolor\":\"#506784\",\"ticks\":\"\"}},\"coloraxis\":{\"colorbar\":{\"outlinewidth\":0,\"ticks\":\"\"}},\"colorscale\":{\"sequential\":[[0.0,\"#0d0887\"],[0.1111111111111111,\"#46039f\"],[0.2222222222222222,\"#7201a8\"],[0.3333333333333333,\"#9c179e\"],[0.4444444444444444,\"#bd3786\"],[0.5555555555555556,\"#d8576b\"],[0.6666666666666666,\"#ed7953\"],[0.7777777777777778,\"#fb9f3a\"],[0.8888888888888888,\"#fdca26\"],[1.0,\"#f0f921\"]],\"sequentialminus\":[[0.0,\"#0d0887\"],[0.1111111111111111,\"#46039f\"],[0.2222222222222222,\"#7201a8\"],[0.3333333333333333,\"#9c179e\"],[0.4444444444444444,\"#bd3786\"],[0.5555555555555556,\"#d8576b\"],[0.6666666666666666,\"#ed7953\"],[0.7777777777777778,\"#fb9f3a\"],[0.8888888888888888,\"#fdca26\"],[1.0,\"#f0f921\"]],\"diverging\":[[0,\"#8e0152\"],[0.1,\"#c51b7d\"],[0.2,\"#de77ae\"],[0.3,\"#f1b6da\"],[0.4,\"#fde0ef\"],[0.5,\"#f7f7f7\"],[0.6,\"#e6f5d0\"],[0.7,\"#b8e186\"],[0.8,\"#7fbc41\"],[0.9,\"#4d9221\"],[1,\"#276419\"]]},\"xaxis\":{\"gridcolor\":\"#283442\",\"linecolor\":\"#506784\",\"ticks\":\"\",\"title\":{\"standoff\":15},\"zerolinecolor\":\"#283442\",\"automargin\":true,\"zerolinewidth\":2},\"yaxis\":{\"gridcolor\":\"#283442\",\"linecolor\":\"#506784\",\"ticks\":\"\",\"title\":{\"standoff\":15},\"zerolinecolor\":\"#283442\",\"automargin\":true,\"zerolinewidth\":2},\"scene\":{\"xaxis\":{\"backgroundcolor\":\"rgb(17,17,17)\",\"gridcolor\":\"#506784\",\"linecolor\":\"#506784\",\"showbackground\":true,\"ticks\":\"\",\"zerolinecolor\":\"#C8D4E3\",\"gridwidth\":2},\"yaxis\":{\"backgroundcolor\":\"rgb(17,17,17)\",\"gridcolor\":\"#506784\",\"linecolor\":\"#506784\",\"showbackground\":true,\"ticks\":\"\",\"zerolinecolor\":\"#C8D4E3\",\"gridwidth\":2},\"zaxis\":{\"backgroundcolor\":\"rgb(17,17,17)\",\"gridcolor\":\"#506784\",\"linecolor\":\"#506784\",\"showbackground\":true,\"ticks\":\"\",\"zerolinecolor\":\"#C8D4E3\",\"gridwidth\":2}},\"shapedefaults\":{\"line\":{\"color\":\"#f2f5fa\"}},\"annotationdefaults\":{\"arrowcolor\":\"#f2f5fa\",\"arrowhead\":0,\"arrowwidth\":1},\"geo\":{\"bgcolor\":\"rgb(17,17,17)\",\"landcolor\":\"rgb(17,17,17)\",\"subunitcolor\":\"#506784\",\"showland\":true,\"showlakes\":true,\"lakecolor\":\"rgb(17,17,17)\"},\"title\":{\"x\":0.05},\"updatemenudefaults\":{\"bgcolor\":\"#506784\",\"borderwidth\":0},\"sliderdefaults\":{\"bgcolor\":\"#C8D4E3\",\"borderwidth\":1,\"bordercolor\":\"rgb(17,17,17)\",\"tickwidth\":0},\"mapbox\":{\"style\":\"dark\"}}},\"xaxis\":{\"anchor\":\"y\",\"domain\":[0.0,1.0],\"title\":{\"text\":\"Year\"}},\"yaxis\":{\"anchor\":\"x\",\"domain\":[0.0,1.0],\"title\":{\"text\":\"count\"}},\"legend\":{\"title\":{\"text\":\"Status Mission\"},\"tracegroupgap\":0},\"title\":{\"text\":\"Number of launches by year and status\"},\"barmode\":\"relative\"},                        {\"responsive\": true}                    ).then(function(){\n                            \nvar gd = document.getElementById('832b9117-0cf5-40e6-862f-08065fde0fc7');\nvar x = new MutationObserver(function (mutations, observer) {{\n        var display = window.getComputedStyle(gd).display;\n        if (!display || display === 'none') {{\n            console.log([gd, 'removed!']);\n            Plotly.purge(gd);\n            observer.disconnect();\n        }}\n}});\n\n// Listen for the removal of the full notebook cells\nvar notebookContainer = gd.closest('#notebook-container');\nif (notebookContainer) {{\n    x.observe(notebookContainer, {childList: true});\n}}\n\n// Listen for the clearing of the current output cell\nvar outputEl = gd.closest('.output');\nif (outputEl) {{\n    x.observe(outputEl, {childList: true});\n}}\n\n                        })                };                });            </script>        </div>"
     },
     "metadata": {},
     "output_type": "display_data"
    }
   ],
   "source": [
    "# create a new dataframe with the number of launches by year and status\n",
    "df_year_status = df.groupby(['Year', 'Status Mission']).size().reset_index()\n",
    "\n",
    "rename = {\n",
    "    0: 'count'\n",
    "}\n",
    "\n",
    "df_year_status = df_year_status.rename(columns=rename)\n",
    "\n",
    "# graph with year being the color\n",
    "fig = px.bar(df_year_status, x='Year', y='count', color='Status Mission', title='Number of launches by year and status', facet_row_spacing=0.1)\n",
    "fig.show()"
   ],
   "metadata": {
    "collapsed": false,
    "ExecuteTime": {
     "end_time": "2023-07-13T23:39:19.799534700Z",
     "start_time": "2023-07-13T23:39:19.673054500Z"
    }
   }
  },
  {
   "cell_type": "markdown",
   "source": [
    "## How has the cost of launches changed over time ?"
   ],
   "metadata": {
    "collapsed": false
   }
  },
  {
   "cell_type": "code",
   "execution_count": 84,
   "outputs": [
    {
     "data": {
      "application/vnd.plotly.v1+json": {
       "data": [
        {
         "hovertemplate": "Year=%{x}<br> Launch Cost=%{marker.color}<extra></extra>",
         "legendgroup": "",
         "marker": {
          "color": [
           5.0E7,
           2.975E7,
           6.5E7,
           1.45E8,
           6.468000000000001E7,
           4.85E7,
           5.0E7,
           9.0E7,
           4.6E7,
           2.83E7,
           2.915E7,
           2.975E7,
           7500000.0,
           6.468000000000001E7,
           5.0E7,
           2.915E7,
           2.975E7,
           5.0E7,
           7500000.0,
           3.08E7,
           5.0E7,
           2.975E7,
           5.0E7,
           5300000.0,
           1.2E7,
           1.125E8,
           1.2E8,
           4.85E7,
           5.0E7,
           2.915E7,
           4.85E7,
           1.53E8,
           3.08E7,
           4.85E7,
           5.0E7,
           2.915E7,
           5.0E7,
           4.85E7,
           2.975E7,
           2.0E8,
           5.0E7,
           8.5E7,
           1.15E8,
           9.0E7,
           4.85E7,
           7500000.0,
           5.0E7,
           5.0E7,
           2.0E8,
           2.975E7,
           2.915E7,
           5.0E7,
           4.18E7,
           6.5E7,
           6.468000000000001E7,
           5.0E7,
           2.1E7,
           4.85E7,
           4.85E7,
           7500000.0,
           5.0E7,
           6.468000000000001E7,
           3.1E7,
           2.0E8,
           5.0E7,
           2.915E7,
           6.468000000000001E7,
           8.5E7,
           2.915E7,
           7500000.0,
           4.0E7,
           6.5E7,
           6.468000000000001E7,
           4.85E7,
           2.975E7,
           1.125E8,
           5300000.0,
           6.468000000000001E7,
           4.18E7,
           1.64E8,
           4.85E7,
           7500000.0,
           2.915E7,
           7500000.0,
           1.53E8,
           5.0E7,
           2.0E8,
           6.5E7,
           4.85E7,
           4.85E7,
           3.08E7,
           5.0E7,
           6.2E7,
           6.5E7,
           3.7E7,
           7500000.0,
           9.0E7,
           2.915E7,
           2.0E8,
           5.0E7,
           5300000.0,
           6.5E7,
           5.0E7,
           6.468000000000001E7,
           2.1E7,
           7500000.0,
           5.0E7,
           6.468000000000001E7,
           2.915E7,
           8.5E7,
           9.0E7,
           4.85E7,
           2.1E7,
           2.915E7,
           7500000.0,
           3.7E7,
           2.915E7,
           5.0E7,
           5.0E7,
           2.0E8,
           5300000.0,
           3.5E8,
           3.9E7,
           5.0E7,
           2.915E7,
           4.85E7,
           5.0E7,
           5300000.0,
           6.5E7,
           4.7E7,
           7500000.0,
           2.915E7,
           2.975E7,
           5.0E7,
           2.0E8,
           5.0E7,
           4.18E7,
           2.1E7,
           3.7E7,
           2.975E7,
           8.5E7,
           5.0E7,
           6.2E7,
           7500000.0,
           4.85E7,
           2.915E7,
           9.0E7,
           3.08E7,
           3.5E7,
           6.468000000000001E7,
           2.0E8,
           1.53E8,
           3.08E7,
           5.0E7,
           2.0E8,
           1.125E8,
           2.1E7,
           5.0E7,
           3.08E7,
           3.7E7,
           3.5E8,
           5.0E7,
           6.468000000000001E7,
           5.0E7,
           5.0E7,
           4.85E7,
           6.97E7,
           3.08E7,
           6.2E7,
           3.08E7,
           9.0E7,
           6.97E7,
           6.2E7,
           2.975E7,
           6.2E7,
           8.5E7,
           6.468000000000001E7,
           5.0E7,
           6.468000000000001E7,
           1.09E8,
           2.915E7,
           5300000.0,
           4.18E7,
           6.2E7,
           6.5E7,
           1.53E8,
           3.1E7,
           6.468000000000001E7,
           2.0E8,
           6.2E7,
           6.468000000000001E7,
           6.2E7,
           4.7E7,
           2.975E7,
           6.2E7,
           1.45E8,
           9.0E7,
           6.2E7,
           4.85E7,
           9.0E7,
           2.975E7,
           4.85E7,
           6.2E7,
           2.0E8,
           3.08E7,
           7500000.0,
           1.15E8,
           5300000.0,
           3.9E7,
           2.975E7,
           3.1E7,
           2.975E7,
           6.2E7,
           3.08E7,
           2.975E7,
           6.2E7,
           9.0E7,
           6.2E7,
           2.915E7,
           2.975E7,
           3.5E7,
           3.08E7,
           6.468000000000001E7,
           8.5E7,
           3.7E7,
           4.5E7,
           6.2E7,
           1.23E8,
           4.85E7,
           4.18E7,
           6.2E7,
           9.0E7,
           6.2E7,
           2.975E7,
           2.0E8,
           3.08E7,
           6.5E7,
           1.45E8,
           6.5E7,
           6.2E7,
           3.1E7,
           4.6E7,
           6.2E7,
           1.09E8,
           6.5E7,
           6.2E7,
           3.7E7,
           4.85E7,
           6.2E7,
           2.0E8,
           6.2E7,
           6.2E7,
           3.1E7,
           2.915E7,
           6.468000000000001E7,
           4.85E7,
           6.5E7,
           6.2E7,
           6.2E7,
           2.0E8,
           9.0E7,
           7500000.0,
           6.2E7,
           4.7E7,
           2.0E8,
           6.2E7,
           1.09E8,
           2.915E7,
           6.2E7,
           9.0E7,
           6.2E7,
           3.7E7,
           1.09E8,
           6.2E7,
           3.1E7,
           2.0E8,
           1.09E8,
           6.2E7,
           2.915E7,
           2.975E7,
           2.0E8,
           2.975E7,
           1.3E8,
           4.0E7,
           2.915E7,
           1.125E8,
           3.1E7,
           3.7E7,
           1.45E8,
           2.975E7,
           1.09E8,
           5300000.0,
           9.0E7,
           8.5E7,
           2.0E8,
           2.5E7,
           3.7E7,
           1.15E8,
           4.7E7,
           6.2E7,
           6.468000000000001E7,
           2.0E8,
           1.64E8,
           2.975E7,
           6.2E7,
           6.468000000000001E7,
           2.915E7,
           1.23E8,
           6.2E7,
           6.468000000000001E7,
           1.53E8,
           3.1E7,
           2.0E8,
           6.2E7,
           3.5E8,
           6.5E7,
           4.18E7,
           6.468000000000001E7,
           4.85E7,
           6.2E7,
           2.975E7,
           6.2E7,
           3.1E7,
           6.2E7,
           2.975E7,
           4.85E7,
           6.97E7,
           4.85E7,
           1.09E8,
           6.5E7,
           3.5E7,
           3.1E7,
           2.0E8,
           6.2E7,
           9.0E7,
           4.18E7,
           4.85E7,
           1.09E8,
           6.5E7,
           2.0E8,
           3.1E7,
           5.65E7,
           2.915E7,
           6.2E7,
           2.1E7,
           1.09E8,
           3.7E7,
           2.0E8,
           1.09E8,
           1.09E8,
           1.23E8,
           2.0E8,
           3.1E7,
           4.18E7,
           1.53E8,
           4.7E7,
           2.0E8,
           1.125E8,
           2.0E8,
           1.09E8,
           3.1E7,
           5.65E7,
           3.7E7,
           2.0E8,
           1.2E8,
           5.65E7,
           2.0E8,
           5.65E7,
           4.18E7,
           3.1E7,
           9.0E7,
           2.9E7,
           1.64E8,
           1.23E8,
           5.65E7,
           5.65E7,
           3.7E7,
           9.0E7,
           1.53E8,
           5.65E7,
           6.2E7,
           1.45E8,
           2.0E8,
           3.5E8,
           9.0E7,
           2.9E7,
           1.09E8,
           8.0E7,
           2.0E8,
           3.1E7,
           9.0E7,
           5.65E7,
           1.09E8,
           2.0E8,
           5.65E7,
           1.09E8,
           5.65E7,
           1.09E8,
           1.64E8,
           5.65E7,
           8.0E7,
           4.18E7,
           2.1E7,
           2.9E7,
           9.0E7,
           4.18E7,
           1.09E8,
           1.64E8,
           3.7E7,
           5.65E7,
           1.45E8,
           3.1E7,
           1.09E8,
           2.0E8,
           9.0E7,
           1.64E8,
           2.0E8,
           1.09E8,
           8.0E7,
           5.65E7,
           4.7E7,
           4.18E7,
           1.2E8,
           5.65E7,
           4.18E7,
           2.9E7,
           4.0E7,
           1.09E8,
           3.1E7,
           5.65E7,
           1.4E8,
           8.0E7,
           4.18E7,
           5.5E7,
           2.0E8,
           3.5E8,
           2.9E7,
           1.125E8,
           2.0E8,
           1.53E8,
           6.5E7,
           3.1E7,
           4.0E7,
           1.09E8,
           3.7E7,
           8.0E7,
           1.09E8,
           5.95E7,
           2.1E7,
           1.09E8,
           2.0E8,
           1.09E8,
           9.0E7,
           4.18E7,
           2.0E8,
           1.2E8,
           8.0E7,
           2.0E8,
           5.95E7,
           1.64E8,
           2.0E8,
           1.09E8,
           2.1E7,
           1.09E8,
           2.0E8,
           4.18E7,
           1.125E8,
           2.0E8,
           3.5E8,
           1.09E8,
           4.0E7,
           5.95E7,
           9.0E7,
           2.0E8,
           1.4E8,
           3.1E7,
           1.53E8,
           3.7E7,
           8.0E7,
           9.0E7,
           1.45E8,
           2.1E7,
           4.6E7,
           9.0E7,
           2.0E8,
           9.0E7,
           2.9E7,
           2.0E8,
           1.53E8,
           1.64E8,
           3.1E7,
           4.0E7,
           2.0E8,
           1.09E8,
           2.0E8,
           2.5E7,
           1.15E8,
           1.64E8,
           1.2E8,
           4.5E7,
           4.0E7,
           4.18E7,
           1.125E8,
           3.5E8,
           2.0E8,
           4.7E7,
           5.95E7,
           2.0E8,
           3.5E8,
           4.6E7,
           2.0E8,
           4.6E7,
           1.2E8,
           4.18E7,
           1.4E8,
           2.0E8,
           2.1E7,
           2.0E8,
           2.9E7,
           2.9E7,
           5.95E7,
           4.18E7,
           1.64E8,
           2.0E8,
           9.0E7,
           1.2E8,
           4.7E7,
           2.9E7,
           1.64E8,
           1.09E8,
           9.0E7,
           1.3E8,
           4.18E7,
           2.0E8,
           1.09E8,
           2.0E8,
           2.1E7,
           1.125E8,
           1.09E8,
           2.0E8,
           2.9E7,
           7000000.0,
           4.18E7,
           2.0E8,
           1.64E8,
           1.23E8,
           4.0E7,
           2.0E8,
           2.1E7,
           1.23E8,
           4.18E7,
           4.5E7,
           2.0E8,
           9.0E7,
           3.5E8,
           2.0E8,
           2.975E7,
           2.975E7,
           2.915E7,
           6.468000000000001E7,
           3.1E7,
           4.0E7,
           2.9E7,
           7000000.0,
           2.9E7,
           2.0E8,
           7000000.0,
           2.0E8,
           2.0E8,
           6.468000000000001E7,
           4.18E7,
           2.1E7,
           2.014E7,
           2.0E8,
           4.0E7,
           1.23E8,
           1.15E8,
           9.0E7,
           2.1E7,
           1.09E8,
           2.0E8,
           6.468000000000001E7,
           3.5E8,
           1.23E8,
           6.468000000000001E7,
           4.7E7,
           2.0E8,
           2.9E7,
           1.09E8,
           2.9E7,
           6.97E7,
           2.975E7,
           2.915E7,
           2.0E8,
           4.0E7,
           4.0E7,
           2.1E7,
           2.9E7,
           6.97E7,
           3.08E7,
           7000000.0,
           2.0E8,
           1.09E8,
           6.97E7,
           2.5E7,
           4.0E7,
           2.0E8,
           6.97E7,
           1.33E8,
           6.468000000000001E7,
           2.0E8,
           6.97E7,
           9.0E7,
           3.08E7,
           2.0E8,
           4.18E7,
           2.9E7,
           2.9E7,
           4.7E7,
           1.64E8,
           2.0E8,
           1.64E8,
           6.468000000000001E7,
           1.15E8,
           4.0E7,
           4.0E7,
           7000000.0,
           2.0E8,
           1.53E8,
           2.0E8,
           4.18E7,
           4.0E7,
           2.975E7,
           4.18E7,
           2.9E7,
           1.09E8,
           3.08E7,
           2.975E7,
           2.5E7,
           4.0E7,
           4.0E7,
           1.3E8,
           2.0E8,
           3.5E8,
           1.9E8,
           1.35E8,
           3.08E7,
           4.85E7,
           6.468000000000001E7,
           6.97E7,
           2.975E7,
           4.7E7,
           6.468000000000001E7,
           3.08E7,
           3.08E7,
           1.9E8,
           2.9E7,
           4.5E7,
           3.08E7,
           1.9E8,
           3.08E7,
           6.97E7,
           2.975E7,
           4.18E7,
           6.468000000000001E7,
           3.5E7,
           2.5E7,
           1.33E8,
           4.0E7,
           1.35E8,
           4.18E7,
           4.0E7,
           6.97E7,
           1.09E8,
           4.7E7,
           4.0E7,
           1.33E8,
           4.0E7,
           3.5E7,
           9.0E7,
           2.0E8,
           1.64E8,
           6.468000000000001E7,
           2.5E7,
           1.09E8,
           3.5E7,
           4.18E7,
           6.468000000000001E7,
           4.18E7,
           4.0E7,
           2.5E7,
           4.5E7,
           9.0E7,
           4.7E7,
           6.97E7,
           6.97E7,
           4.0E7,
           2.9E7,
           3.5E7,
           4.0E7,
           4.0E7,
           4.18E7,
           4.5E7,
           4.0E7,
           6.97E7,
           4.5E7,
           3.5E7,
           4.0E7,
           6.468000000000001E7,
           3.5E7,
           3.08E7,
           2.5E7,
           4.0E7,
           6.468000000000001E7,
           4.0E7,
           3.08E7,
           4.0E7,
           4.0E7,
           4.5E7,
           4.0E7,
           3.08E7,
           4.0E7,
           3.5E7,
           3.08E7,
           4.0E7,
           3.08E7,
           4.0E7,
           4.5E7,
           4.0E7,
           3.08E7,
           4.0E7,
           2.5E7,
           3.08E7,
           4.0E7,
           4.0E7,
           6.97E7,
           4.0E7,
           3.5E7,
           4.0E7,
           2.975E7,
           4.0E7,
           4.0E7,
           4.0E7,
           2.5E7,
           4.0E7,
           2.0E7,
           4.0E7,
           4.0E7,
           6.97E7,
           2.5E7,
           4.0E7,
           2.975E7,
           4.0E7,
           4.0E7,
           4.5E7,
           6.97E7,
           3.5E7,
           3.08E7,
           3.5E7,
           2.5E7,
           4.0E7,
           4.0E7,
           3.08E7,
           1.366E8,
           2.975E7,
           3.5E7,
           4.0E7,
           3.08E7,
           1.366E8,
           4.0E7,
           1.366E8,
           1.366E8,
           3.5E7,
           3.5E7,
           3.08E7,
           3.08E7,
           3.08E7,
           3.08E7,
           3.08E7,
           3.08E7,
           3.08E7,
           3.08E7,
           5.9E7,
           5.9E7,
           5.9E7,
           5.9E7,
           5.9E7,
           5.9E7,
           5.9E7,
           5.9E7,
           5.9E7,
           5.9E7,
           5.9E7,
           5.9E7,
           5.9E7,
           5.9E7,
           5.9E7,
           5.9E7,
           5.9E7,
           5.9E7,
           5.9E7,
           5.9E7,
           5.9E7,
           6.323E7,
           6.323E7,
           6.323E7,
           6.323E7
          ],
          "coloraxis": "coloraxis",
          "symbol": "circle"
         },
         "mode": "markers",
         "name": "",
         "orientation": "v",
         "showlegend": false,
         "x": [
          2020.0,
          2020.0,
          2020.0,
          2020.0,
          2020.0,
          2020.0,
          2020.0,
          2020.0,
          2020.0,
          2020.0,
          2020.0,
          2020.0,
          2020.0,
          2020.0,
          2020.0,
          2020.0,
          2020.0,
          2020.0,
          2020.0,
          2020.0,
          2020.0,
          2020.0,
          2020.0,
          2020.0,
          2020.0,
          2020.0,
          2020.0,
          2020.0,
          2020.0,
          2020.0,
          2020.0,
          2020.0,
          2020.0,
          2020.0,
          2020.0,
          2020.0,
          2020.0,
          2020.0,
          2020.0,
          2020.0,
          2020.0,
          2020.0,
          2020.0,
          2020.0,
          2020.0,
          2020.0,
          2020.0,
          2020.0,
          2020.0,
          2020.0,
          2020.0,
          2020.0,
          2019.0,
          2019.0,
          2019.0,
          2019.0,
          2019.0,
          2019.0,
          2019.0,
          2019.0,
          2019.0,
          2019.0,
          2019.0,
          2019.0,
          2019.0,
          2019.0,
          2019.0,
          2019.0,
          2019.0,
          2019.0,
          2019.0,
          2019.0,
          2019.0,
          2019.0,
          2019.0,
          2019.0,
          2019.0,
          2019.0,
          2019.0,
          2019.0,
          2019.0,
          2019.0,
          2019.0,
          2019.0,
          2019.0,
          2019.0,
          2019.0,
          2019.0,
          2019.0,
          2019.0,
          2019.0,
          2019.0,
          2019.0,
          2019.0,
          2019.0,
          2019.0,
          2019.0,
          2019.0,
          2019.0,
          2019.0,
          2019.0,
          2019.0,
          2019.0,
          2019.0,
          2019.0,
          2019.0,
          2019.0,
          2019.0,
          2019.0,
          2019.0,
          2019.0,
          2019.0,
          2019.0,
          2019.0,
          2019.0,
          2019.0,
          2019.0,
          2019.0,
          2019.0,
          2019.0,
          2019.0,
          2019.0,
          2019.0,
          2019.0,
          2019.0,
          2018.0,
          2018.0,
          2018.0,
          2018.0,
          2018.0,
          2018.0,
          2018.0,
          2018.0,
          2018.0,
          2018.0,
          2018.0,
          2018.0,
          2018.0,
          2018.0,
          2018.0,
          2018.0,
          2018.0,
          2018.0,
          2018.0,
          2018.0,
          2018.0,
          2018.0,
          2018.0,
          2018.0,
          2018.0,
          2018.0,
          2018.0,
          2018.0,
          2018.0,
          2018.0,
          2018.0,
          2018.0,
          2018.0,
          2018.0,
          2018.0,
          2018.0,
          2018.0,
          2018.0,
          2018.0,
          2018.0,
          2018.0,
          2018.0,
          2018.0,
          2018.0,
          2018.0,
          2018.0,
          2018.0,
          2018.0,
          2018.0,
          2018.0,
          2018.0,
          2018.0,
          2018.0,
          2018.0,
          2018.0,
          2018.0,
          2018.0,
          2018.0,
          2018.0,
          2018.0,
          2018.0,
          2018.0,
          2018.0,
          2018.0,
          2018.0,
          2018.0,
          2018.0,
          2018.0,
          2018.0,
          2018.0,
          2018.0,
          2018.0,
          2018.0,
          2018.0,
          2018.0,
          2018.0,
          2018.0,
          2018.0,
          2018.0,
          2018.0,
          2018.0,
          2018.0,
          2018.0,
          2018.0,
          2018.0,
          2018.0,
          2018.0,
          2018.0,
          2017.0,
          2017.0,
          2017.0,
          2017.0,
          2017.0,
          2017.0,
          2017.0,
          2017.0,
          2017.0,
          2017.0,
          2017.0,
          2017.0,
          2017.0,
          2017.0,
          2017.0,
          2017.0,
          2017.0,
          2017.0,
          2017.0,
          2017.0,
          2017.0,
          2017.0,
          2017.0,
          2017.0,
          2017.0,
          2017.0,
          2017.0,
          2017.0,
          2017.0,
          2017.0,
          2017.0,
          2017.0,
          2017.0,
          2017.0,
          2017.0,
          2017.0,
          2017.0,
          2017.0,
          2017.0,
          2017.0,
          2017.0,
          2017.0,
          2017.0,
          2017.0,
          2017.0,
          2017.0,
          2017.0,
          2017.0,
          2017.0,
          2017.0,
          2017.0,
          2017.0,
          2017.0,
          2017.0,
          2017.0,
          2017.0,
          2017.0,
          2017.0,
          2017.0,
          2017.0,
          2017.0,
          2017.0,
          2017.0,
          2017.0,
          2017.0,
          2017.0,
          2016.0,
          2016.0,
          2016.0,
          2016.0,
          2016.0,
          2016.0,
          2016.0,
          2016.0,
          2016.0,
          2016.0,
          2016.0,
          2016.0,
          2016.0,
          2016.0,
          2016.0,
          2016.0,
          2016.0,
          2016.0,
          2016.0,
          2016.0,
          2016.0,
          2016.0,
          2016.0,
          2016.0,
          2016.0,
          2016.0,
          2016.0,
          2016.0,
          2016.0,
          2016.0,
          2016.0,
          2016.0,
          2016.0,
          2016.0,
          2016.0,
          2016.0,
          2016.0,
          2016.0,
          2016.0,
          2016.0,
          2016.0,
          2016.0,
          2016.0,
          2016.0,
          2016.0,
          2016.0,
          2016.0,
          2016.0,
          2016.0,
          2016.0,
          2016.0,
          2016.0,
          2016.0,
          2016.0,
          2016.0,
          2016.0,
          2016.0,
          2016.0,
          2016.0,
          2016.0,
          2016.0,
          2016.0,
          2016.0,
          2016.0,
          2015.0,
          2015.0,
          2015.0,
          2015.0,
          2015.0,
          2015.0,
          2015.0,
          2015.0,
          2015.0,
          2015.0,
          2015.0,
          2015.0,
          2015.0,
          2015.0,
          2015.0,
          2015.0,
          2015.0,
          2015.0,
          2015.0,
          2015.0,
          2015.0,
          2015.0,
          2015.0,
          2015.0,
          2015.0,
          2015.0,
          2015.0,
          2015.0,
          2015.0,
          2015.0,
          2015.0,
          2015.0,
          2015.0,
          2015.0,
          2015.0,
          2015.0,
          2015.0,
          2014.0,
          2014.0,
          2014.0,
          2014.0,
          2014.0,
          2014.0,
          2014.0,
          2014.0,
          2014.0,
          2014.0,
          2014.0,
          2014.0,
          2014.0,
          2014.0,
          2014.0,
          2014.0,
          2014.0,
          2014.0,
          2014.0,
          2014.0,
          2014.0,
          2014.0,
          2014.0,
          2014.0,
          2014.0,
          2014.0,
          2014.0,
          2014.0,
          2014.0,
          2014.0,
          2014.0,
          2014.0,
          2014.0,
          2014.0,
          2014.0,
          2014.0,
          2014.0,
          2014.0,
          2014.0,
          2014.0,
          2014.0,
          2013.0,
          2013.0,
          2013.0,
          2013.0,
          2013.0,
          2013.0,
          2013.0,
          2013.0,
          2013.0,
          2013.0,
          2013.0,
          2013.0,
          2013.0,
          2013.0,
          2013.0,
          2013.0,
          2013.0,
          2013.0,
          2013.0,
          2013.0,
          2013.0,
          2013.0,
          2013.0,
          2013.0,
          2013.0,
          2013.0,
          2013.0,
          2013.0,
          2013.0,
          2013.0,
          2013.0,
          2013.0,
          2013.0,
          2012.0,
          2012.0,
          2012.0,
          2012.0,
          2012.0,
          2012.0,
          2012.0,
          2012.0,
          2012.0,
          2012.0,
          2012.0,
          2012.0,
          2012.0,
          2012.0,
          2012.0,
          2012.0,
          2012.0,
          2012.0,
          2012.0,
          2012.0,
          2012.0,
          2012.0,
          2012.0,
          2012.0,
          2011.0,
          2011.0,
          2011.0,
          2011.0,
          2011.0,
          2011.0,
          2011.0,
          2011.0,
          2011.0,
          2011.0,
          2011.0,
          2011.0,
          2011.0,
          2011.0,
          2011.0,
          2011.0,
          2011.0,
          2011.0,
          2011.0,
          2011.0,
          2011.0,
          2011.0,
          2011.0,
          2011.0,
          2011.0,
          2011.0,
          2010.0,
          2010.0,
          2010.0,
          2010.0,
          2010.0,
          2010.0,
          2010.0,
          2010.0,
          2010.0,
          2010.0,
          2010.0,
          2010.0,
          2010.0,
          2010.0,
          2010.0,
          2010.0,
          2010.0,
          2010.0,
          2010.0,
          2010.0,
          2010.0,
          2010.0,
          2010.0,
          2010.0,
          2010.0,
          2010.0,
          2009.0,
          2009.0,
          2009.0,
          2009.0,
          2009.0,
          2009.0,
          2009.0,
          2009.0,
          2009.0,
          2009.0,
          2009.0,
          2009.0,
          2009.0,
          2009.0,
          2009.0,
          2009.0,
          2009.0,
          2009.0,
          2009.0,
          2009.0,
          2009.0,
          2009.0,
          2009.0,
          2009.0,
          2009.0,
          2008.0,
          2008.0,
          2008.0,
          2008.0,
          2008.0,
          2008.0,
          2008.0,
          2008.0,
          2008.0,
          2008.0,
          2008.0,
          2008.0,
          2008.0,
          2008.0,
          2008.0,
          2008.0,
          2008.0,
          2008.0,
          2008.0,
          2008.0,
          2008.0,
          2008.0,
          2008.0,
          2008.0,
          2007.0,
          2007.0,
          2007.0,
          2007.0,
          2007.0,
          2007.0,
          2007.0,
          2007.0,
          2007.0,
          2007.0,
          2007.0,
          2007.0,
          2007.0,
          2007.0,
          2007.0,
          2007.0,
          2007.0,
          2007.0,
          2007.0,
          2007.0,
          2007.0,
          2007.0,
          2007.0,
          2007.0,
          2007.0,
          2007.0,
          2006.0,
          2006.0,
          2006.0,
          2006.0,
          2006.0,
          2006.0,
          2006.0,
          2006.0,
          2006.0,
          2006.0,
          2006.0,
          2006.0,
          2006.0,
          2006.0,
          2006.0,
          2006.0,
          2006.0,
          2006.0,
          2006.0,
          2006.0,
          2006.0,
          2006.0,
          2006.0,
          2006.0,
          2005.0,
          2005.0,
          2005.0,
          2005.0,
          2005.0,
          2005.0,
          2005.0,
          2005.0,
          2005.0,
          2005.0,
          2005.0,
          2005.0,
          2005.0,
          2005.0,
          2004.0,
          2004.0,
          2004.0,
          2004.0,
          2004.0,
          2004.0,
          2004.0,
          2004.0,
          2004.0,
          2004.0,
          2004.0,
          2004.0,
          2004.0,
          2004.0,
          2004.0,
          2004.0,
          2004.0,
          2003.0,
          2003.0,
          2003.0,
          2003.0,
          2003.0,
          2003.0,
          2003.0,
          2003.0,
          2003.0,
          2003.0,
          2003.0,
          2003.0,
          2003.0,
          2003.0,
          2003.0,
          2003.0,
          2003.0,
          2003.0,
          2003.0,
          2002.0,
          2002.0,
          2002.0,
          2002.0,
          2002.0,
          2002.0,
          2002.0,
          2002.0,
          2002.0,
          2002.0,
          2002.0,
          2001.0,
          2001.0,
          2001.0,
          2001.0,
          2000.0,
          2000.0,
          2000.0,
          2000.0,
          2000.0,
          2000.0,
          2000.0,
          2000.0,
          2000.0,
          2000.0,
          2000.0,
          1999.0,
          1999.0,
          1999.0,
          1999.0,
          1999.0,
          1999.0,
          1999.0,
          1999.0,
          1999.0,
          1999.0,
          1998.0,
          1998.0,
          1998.0,
          1998.0,
          1998.0,
          1998.0,
          1998.0,
          1998.0,
          1998.0,
          1998.0,
          1998.0,
          1998.0,
          1998.0,
          1997.0,
          1997.0,
          1997.0,
          1997.0,
          1997.0,
          1997.0,
          1997.0,
          1997.0,
          1997.0,
          1997.0,
          1996.0,
          1996.0,
          1996.0,
          1996.0,
          1996.0,
          1996.0,
          1996.0,
          1995.0,
          1995.0,
          1995.0,
          1994.0,
          1994.0,
          1994.0,
          1994.0,
          1994.0,
          1994.0,
          1994.0,
          1994.0,
          1994.0,
          1993.0,
          1993.0,
          1993.0,
          1993.0,
          1993.0,
          1992.0,
          1992.0,
          1992.0,
          1992.0,
          1991.0,
          1990.0,
          1990.0,
          1990.0,
          1990.0,
          1990.0,
          1989.0,
          1988.0,
          1988.0,
          1987.0,
          1987.0,
          1986.0,
          1985.0,
          1984.0,
          1983.0,
          1982.0,
          1969.0,
          1969.0,
          1969.0,
          1969.0,
          1968.0,
          1968.0,
          1968.0,
          1968.0,
          1968.0,
          1968.0,
          1968.0,
          1968.0,
          1967.0,
          1967.0,
          1967.0,
          1967.0,
          1967.0,
          1967.0,
          1966.0,
          1966.0,
          1966.0,
          1965.0,
          1965.0,
          1964.0,
          1964.0
         ],
         "xaxis": "x",
         "y": [
          5.0E7,
          2.975E7,
          6.5E7,
          1.45E8,
          6.468000000000001E7,
          4.85E7,
          5.0E7,
          9.0E7,
          4.6E7,
          2.83E7,
          2.915E7,
          2.975E7,
          7500000.0,
          6.468000000000001E7,
          5.0E7,
          2.915E7,
          2.975E7,
          5.0E7,
          7500000.0,
          3.08E7,
          5.0E7,
          2.975E7,
          5.0E7,
          5300000.0,
          1.2E7,
          1.125E8,
          1.2E8,
          4.85E7,
          5.0E7,
          2.915E7,
          4.85E7,
          1.53E8,
          3.08E7,
          4.85E7,
          5.0E7,
          2.915E7,
          5.0E7,
          4.85E7,
          2.975E7,
          2.0E8,
          5.0E7,
          8.5E7,
          1.15E8,
          9.0E7,
          4.85E7,
          7500000.0,
          5.0E7,
          5.0E7,
          2.0E8,
          2.975E7,
          2.915E7,
          5.0E7,
          4.18E7,
          6.5E7,
          6.468000000000001E7,
          5.0E7,
          2.1E7,
          4.85E7,
          4.85E7,
          7500000.0,
          5.0E7,
          6.468000000000001E7,
          3.1E7,
          2.0E8,
          5.0E7,
          2.915E7,
          6.468000000000001E7,
          8.5E7,
          2.915E7,
          7500000.0,
          4.0E7,
          6.5E7,
          6.468000000000001E7,
          4.85E7,
          2.975E7,
          1.125E8,
          5300000.0,
          6.468000000000001E7,
          4.18E7,
          1.64E8,
          4.85E7,
          7500000.0,
          2.915E7,
          7500000.0,
          1.53E8,
          5.0E7,
          2.0E8,
          6.5E7,
          4.85E7,
          4.85E7,
          3.08E7,
          5.0E7,
          6.2E7,
          6.5E7,
          3.7E7,
          7500000.0,
          9.0E7,
          2.915E7,
          2.0E8,
          5.0E7,
          5300000.0,
          6.5E7,
          5.0E7,
          6.468000000000001E7,
          2.1E7,
          7500000.0,
          5.0E7,
          6.468000000000001E7,
          2.915E7,
          8.5E7,
          9.0E7,
          4.85E7,
          2.1E7,
          2.915E7,
          7500000.0,
          3.7E7,
          2.915E7,
          5.0E7,
          5.0E7,
          2.0E8,
          5300000.0,
          3.5E8,
          3.9E7,
          5.0E7,
          2.915E7,
          4.85E7,
          5.0E7,
          5300000.0,
          6.5E7,
          4.7E7,
          7500000.0,
          2.915E7,
          2.975E7,
          5.0E7,
          2.0E8,
          5.0E7,
          4.18E7,
          2.1E7,
          3.7E7,
          2.975E7,
          8.5E7,
          5.0E7,
          6.2E7,
          7500000.0,
          4.85E7,
          2.915E7,
          9.0E7,
          3.08E7,
          3.5E7,
          6.468000000000001E7,
          2.0E8,
          1.53E8,
          3.08E7,
          5.0E7,
          2.0E8,
          1.125E8,
          2.1E7,
          5.0E7,
          3.08E7,
          3.7E7,
          3.5E8,
          5.0E7,
          6.468000000000001E7,
          5.0E7,
          5.0E7,
          4.85E7,
          6.97E7,
          3.08E7,
          6.2E7,
          3.08E7,
          9.0E7,
          6.97E7,
          6.2E7,
          2.975E7,
          6.2E7,
          8.5E7,
          6.468000000000001E7,
          5.0E7,
          6.468000000000001E7,
          1.09E8,
          2.915E7,
          5300000.0,
          4.18E7,
          6.2E7,
          6.5E7,
          1.53E8,
          3.1E7,
          6.468000000000001E7,
          2.0E8,
          6.2E7,
          6.468000000000001E7,
          6.2E7,
          4.7E7,
          2.975E7,
          6.2E7,
          1.45E8,
          9.0E7,
          6.2E7,
          4.85E7,
          9.0E7,
          2.975E7,
          4.85E7,
          6.2E7,
          2.0E8,
          3.08E7,
          7500000.0,
          1.15E8,
          5300000.0,
          3.9E7,
          2.975E7,
          3.1E7,
          2.975E7,
          6.2E7,
          3.08E7,
          2.975E7,
          6.2E7,
          9.0E7,
          6.2E7,
          2.915E7,
          2.975E7,
          3.5E7,
          3.08E7,
          6.468000000000001E7,
          8.5E7,
          3.7E7,
          4.5E7,
          6.2E7,
          1.23E8,
          4.85E7,
          4.18E7,
          6.2E7,
          9.0E7,
          6.2E7,
          2.975E7,
          2.0E8,
          3.08E7,
          6.5E7,
          1.45E8,
          6.5E7,
          6.2E7,
          3.1E7,
          4.6E7,
          6.2E7,
          1.09E8,
          6.5E7,
          6.2E7,
          3.7E7,
          4.85E7,
          6.2E7,
          2.0E8,
          6.2E7,
          6.2E7,
          3.1E7,
          2.915E7,
          6.468000000000001E7,
          4.85E7,
          6.5E7,
          6.2E7,
          6.2E7,
          2.0E8,
          9.0E7,
          7500000.0,
          6.2E7,
          4.7E7,
          2.0E8,
          6.2E7,
          1.09E8,
          2.915E7,
          6.2E7,
          9.0E7,
          6.2E7,
          3.7E7,
          1.09E8,
          6.2E7,
          3.1E7,
          2.0E8,
          1.09E8,
          6.2E7,
          2.915E7,
          2.975E7,
          2.0E8,
          2.975E7,
          1.3E8,
          4.0E7,
          2.915E7,
          1.125E8,
          3.1E7,
          3.7E7,
          1.45E8,
          2.975E7,
          1.09E8,
          5300000.0,
          9.0E7,
          8.5E7,
          2.0E8,
          2.5E7,
          3.7E7,
          1.15E8,
          4.7E7,
          6.2E7,
          6.468000000000001E7,
          2.0E8,
          1.64E8,
          2.975E7,
          6.2E7,
          6.468000000000001E7,
          2.915E7,
          1.23E8,
          6.2E7,
          6.468000000000001E7,
          1.53E8,
          3.1E7,
          2.0E8,
          6.2E7,
          3.5E8,
          6.5E7,
          4.18E7,
          6.468000000000001E7,
          4.85E7,
          6.2E7,
          2.975E7,
          6.2E7,
          3.1E7,
          6.2E7,
          2.975E7,
          4.85E7,
          6.97E7,
          4.85E7,
          1.09E8,
          6.5E7,
          3.5E7,
          3.1E7,
          2.0E8,
          6.2E7,
          9.0E7,
          4.18E7,
          4.85E7,
          1.09E8,
          6.5E7,
          2.0E8,
          3.1E7,
          5.65E7,
          2.915E7,
          6.2E7,
          2.1E7,
          1.09E8,
          3.7E7,
          2.0E8,
          1.09E8,
          1.09E8,
          1.23E8,
          2.0E8,
          3.1E7,
          4.18E7,
          1.53E8,
          4.7E7,
          2.0E8,
          1.125E8,
          2.0E8,
          1.09E8,
          3.1E7,
          5.65E7,
          3.7E7,
          2.0E8,
          1.2E8,
          5.65E7,
          2.0E8,
          5.65E7,
          4.18E7,
          3.1E7,
          9.0E7,
          2.9E7,
          1.64E8,
          1.23E8,
          5.65E7,
          5.65E7,
          3.7E7,
          9.0E7,
          1.53E8,
          5.65E7,
          6.2E7,
          1.45E8,
          2.0E8,
          3.5E8,
          9.0E7,
          2.9E7,
          1.09E8,
          8.0E7,
          2.0E8,
          3.1E7,
          9.0E7,
          5.65E7,
          1.09E8,
          2.0E8,
          5.65E7,
          1.09E8,
          5.65E7,
          1.09E8,
          1.64E8,
          5.65E7,
          8.0E7,
          4.18E7,
          2.1E7,
          2.9E7,
          9.0E7,
          4.18E7,
          1.09E8,
          1.64E8,
          3.7E7,
          5.65E7,
          1.45E8,
          3.1E7,
          1.09E8,
          2.0E8,
          9.0E7,
          1.64E8,
          2.0E8,
          1.09E8,
          8.0E7,
          5.65E7,
          4.7E7,
          4.18E7,
          1.2E8,
          5.65E7,
          4.18E7,
          2.9E7,
          4.0E7,
          1.09E8,
          3.1E7,
          5.65E7,
          1.4E8,
          8.0E7,
          4.18E7,
          5.5E7,
          2.0E8,
          3.5E8,
          2.9E7,
          1.125E8,
          2.0E8,
          1.53E8,
          6.5E7,
          3.1E7,
          4.0E7,
          1.09E8,
          3.7E7,
          8.0E7,
          1.09E8,
          5.95E7,
          2.1E7,
          1.09E8,
          2.0E8,
          1.09E8,
          9.0E7,
          4.18E7,
          2.0E8,
          1.2E8,
          8.0E7,
          2.0E8,
          5.95E7,
          1.64E8,
          2.0E8,
          1.09E8,
          2.1E7,
          1.09E8,
          2.0E8,
          4.18E7,
          1.125E8,
          2.0E8,
          3.5E8,
          1.09E8,
          4.0E7,
          5.95E7,
          9.0E7,
          2.0E8,
          1.4E8,
          3.1E7,
          1.53E8,
          3.7E7,
          8.0E7,
          9.0E7,
          1.45E8,
          2.1E7,
          4.6E7,
          9.0E7,
          2.0E8,
          9.0E7,
          2.9E7,
          2.0E8,
          1.53E8,
          1.64E8,
          3.1E7,
          4.0E7,
          2.0E8,
          1.09E8,
          2.0E8,
          2.5E7,
          1.15E8,
          1.64E8,
          1.2E8,
          4.5E7,
          4.0E7,
          4.18E7,
          1.125E8,
          3.5E8,
          2.0E8,
          4.7E7,
          5.95E7,
          2.0E8,
          3.5E8,
          4.6E7,
          2.0E8,
          4.6E7,
          1.2E8,
          4.18E7,
          1.4E8,
          2.0E8,
          2.1E7,
          2.0E8,
          2.9E7,
          2.9E7,
          5.95E7,
          4.18E7,
          1.64E8,
          2.0E8,
          9.0E7,
          1.2E8,
          4.7E7,
          2.9E7,
          1.64E8,
          1.09E8,
          9.0E7,
          1.3E8,
          4.18E7,
          2.0E8,
          1.09E8,
          2.0E8,
          2.1E7,
          1.125E8,
          1.09E8,
          2.0E8,
          2.9E7,
          7000000.0,
          4.18E7,
          2.0E8,
          1.64E8,
          1.23E8,
          4.0E7,
          2.0E8,
          2.1E7,
          1.23E8,
          4.18E7,
          4.5E7,
          2.0E8,
          9.0E7,
          3.5E8,
          2.0E8,
          2.975E7,
          2.975E7,
          2.915E7,
          6.468000000000001E7,
          3.1E7,
          4.0E7,
          2.9E7,
          7000000.0,
          2.9E7,
          2.0E8,
          7000000.0,
          2.0E8,
          2.0E8,
          6.468000000000001E7,
          4.18E7,
          2.1E7,
          2.014E7,
          2.0E8,
          4.0E7,
          1.23E8,
          1.15E8,
          9.0E7,
          2.1E7,
          1.09E8,
          2.0E8,
          6.468000000000001E7,
          3.5E8,
          1.23E8,
          6.468000000000001E7,
          4.7E7,
          2.0E8,
          2.9E7,
          1.09E8,
          2.9E7,
          6.97E7,
          2.975E7,
          2.915E7,
          2.0E8,
          4.0E7,
          4.0E7,
          2.1E7,
          2.9E7,
          6.97E7,
          3.08E7,
          7000000.0,
          2.0E8,
          1.09E8,
          6.97E7,
          2.5E7,
          4.0E7,
          2.0E8,
          6.97E7,
          1.33E8,
          6.468000000000001E7,
          2.0E8,
          6.97E7,
          9.0E7,
          3.08E7,
          2.0E8,
          4.18E7,
          2.9E7,
          2.9E7,
          4.7E7,
          1.64E8,
          2.0E8,
          1.64E8,
          6.468000000000001E7,
          1.15E8,
          4.0E7,
          4.0E7,
          7000000.0,
          2.0E8,
          1.53E8,
          2.0E8,
          4.18E7,
          4.0E7,
          2.975E7,
          4.18E7,
          2.9E7,
          1.09E8,
          3.08E7,
          2.975E7,
          2.5E7,
          4.0E7,
          4.0E7,
          1.3E8,
          2.0E8,
          3.5E8,
          1.9E8,
          1.35E8,
          3.08E7,
          4.85E7,
          6.468000000000001E7,
          6.97E7,
          2.975E7,
          4.7E7,
          6.468000000000001E7,
          3.08E7,
          3.08E7,
          1.9E8,
          2.9E7,
          4.5E7,
          3.08E7,
          1.9E8,
          3.08E7,
          6.97E7,
          2.975E7,
          4.18E7,
          6.468000000000001E7,
          3.5E7,
          2.5E7,
          1.33E8,
          4.0E7,
          1.35E8,
          4.18E7,
          4.0E7,
          6.97E7,
          1.09E8,
          4.7E7,
          4.0E7,
          1.33E8,
          4.0E7,
          3.5E7,
          9.0E7,
          2.0E8,
          1.64E8,
          6.468000000000001E7,
          2.5E7,
          1.09E8,
          3.5E7,
          4.18E7,
          6.468000000000001E7,
          4.18E7,
          4.0E7,
          2.5E7,
          4.5E7,
          9.0E7,
          4.7E7,
          6.97E7,
          6.97E7,
          4.0E7,
          2.9E7,
          3.5E7,
          4.0E7,
          4.0E7,
          4.18E7,
          4.5E7,
          4.0E7,
          6.97E7,
          4.5E7,
          3.5E7,
          4.0E7,
          6.468000000000001E7,
          3.5E7,
          3.08E7,
          2.5E7,
          4.0E7,
          6.468000000000001E7,
          4.0E7,
          3.08E7,
          4.0E7,
          4.0E7,
          4.5E7,
          4.0E7,
          3.08E7,
          4.0E7,
          3.5E7,
          3.08E7,
          4.0E7,
          3.08E7,
          4.0E7,
          4.5E7,
          4.0E7,
          3.08E7,
          4.0E7,
          2.5E7,
          3.08E7,
          4.0E7,
          4.0E7,
          6.97E7,
          4.0E7,
          3.5E7,
          4.0E7,
          2.975E7,
          4.0E7,
          4.0E7,
          4.0E7,
          2.5E7,
          4.0E7,
          2.0E7,
          4.0E7,
          4.0E7,
          6.97E7,
          2.5E7,
          4.0E7,
          2.975E7,
          4.0E7,
          4.0E7,
          4.5E7,
          6.97E7,
          3.5E7,
          3.08E7,
          3.5E7,
          2.5E7,
          4.0E7,
          4.0E7,
          3.08E7,
          1.366E8,
          2.975E7,
          3.5E7,
          4.0E7,
          3.08E7,
          1.366E8,
          4.0E7,
          1.366E8,
          1.366E8,
          3.5E7,
          3.5E7,
          3.08E7,
          3.08E7,
          3.08E7,
          3.08E7,
          3.08E7,
          3.08E7,
          3.08E7,
          3.08E7,
          5.9E7,
          5.9E7,
          5.9E7,
          5.9E7,
          5.9E7,
          5.9E7,
          5.9E7,
          5.9E7,
          5.9E7,
          5.9E7,
          5.9E7,
          5.9E7,
          5.9E7,
          5.9E7,
          5.9E7,
          5.9E7,
          5.9E7,
          5.9E7,
          5.9E7,
          5.9E7,
          5.9E7,
          6.323E7,
          6.323E7,
          6.323E7,
          6.323E7
         ],
         "yaxis": "y",
         "type": "scatter"
        },
        {
         "hovertemplate": "<b>OLS trendline</b><br> Launch Cost = 410840 * Year + -7.49297e+08<br>R<sup>2</sup>=0.005091<br><br>Year=%{x}<br> Launch Cost=%{y} <b>(trend)</b><extra></extra>",
         "legendgroup": "",
         "marker": {
          "symbol": "circle"
         },
         "mode": "lines",
         "name": "",
         "showlegend": false,
         "x": [
          1964.0,
          1964.0,
          1965.0,
          1965.0,
          1966.0,
          1966.0,
          1966.0,
          1967.0,
          1967.0,
          1967.0,
          1967.0,
          1967.0,
          1967.0,
          1968.0,
          1968.0,
          1968.0,
          1968.0,
          1968.0,
          1968.0,
          1968.0,
          1968.0,
          1969.0,
          1969.0,
          1969.0,
          1969.0,
          1982.0,
          1983.0,
          1984.0,
          1985.0,
          1986.0,
          1987.0,
          1987.0,
          1988.0,
          1988.0,
          1989.0,
          1990.0,
          1990.0,
          1990.0,
          1990.0,
          1990.0,
          1991.0,
          1992.0,
          1992.0,
          1992.0,
          1992.0,
          1993.0,
          1993.0,
          1993.0,
          1993.0,
          1993.0,
          1994.0,
          1994.0,
          1994.0,
          1994.0,
          1994.0,
          1994.0,
          1994.0,
          1994.0,
          1994.0,
          1995.0,
          1995.0,
          1995.0,
          1996.0,
          1996.0,
          1996.0,
          1996.0,
          1996.0,
          1996.0,
          1996.0,
          1997.0,
          1997.0,
          1997.0,
          1997.0,
          1997.0,
          1997.0,
          1997.0,
          1997.0,
          1997.0,
          1997.0,
          1998.0,
          1998.0,
          1998.0,
          1998.0,
          1998.0,
          1998.0,
          1998.0,
          1998.0,
          1998.0,
          1998.0,
          1998.0,
          1998.0,
          1998.0,
          1999.0,
          1999.0,
          1999.0,
          1999.0,
          1999.0,
          1999.0,
          1999.0,
          1999.0,
          1999.0,
          1999.0,
          2000.0,
          2000.0,
          2000.0,
          2000.0,
          2000.0,
          2000.0,
          2000.0,
          2000.0,
          2000.0,
          2000.0,
          2000.0,
          2001.0,
          2001.0,
          2001.0,
          2001.0,
          2002.0,
          2002.0,
          2002.0,
          2002.0,
          2002.0,
          2002.0,
          2002.0,
          2002.0,
          2002.0,
          2002.0,
          2002.0,
          2003.0,
          2003.0,
          2003.0,
          2003.0,
          2003.0,
          2003.0,
          2003.0,
          2003.0,
          2003.0,
          2003.0,
          2003.0,
          2003.0,
          2003.0,
          2003.0,
          2003.0,
          2003.0,
          2003.0,
          2003.0,
          2003.0,
          2004.0,
          2004.0,
          2004.0,
          2004.0,
          2004.0,
          2004.0,
          2004.0,
          2004.0,
          2004.0,
          2004.0,
          2004.0,
          2004.0,
          2004.0,
          2004.0,
          2004.0,
          2004.0,
          2004.0,
          2005.0,
          2005.0,
          2005.0,
          2005.0,
          2005.0,
          2005.0,
          2005.0,
          2005.0,
          2005.0,
          2005.0,
          2005.0,
          2005.0,
          2005.0,
          2005.0,
          2006.0,
          2006.0,
          2006.0,
          2006.0,
          2006.0,
          2006.0,
          2006.0,
          2006.0,
          2006.0,
          2006.0,
          2006.0,
          2006.0,
          2006.0,
          2006.0,
          2006.0,
          2006.0,
          2006.0,
          2006.0,
          2006.0,
          2006.0,
          2006.0,
          2006.0,
          2006.0,
          2006.0,
          2007.0,
          2007.0,
          2007.0,
          2007.0,
          2007.0,
          2007.0,
          2007.0,
          2007.0,
          2007.0,
          2007.0,
          2007.0,
          2007.0,
          2007.0,
          2007.0,
          2007.0,
          2007.0,
          2007.0,
          2007.0,
          2007.0,
          2007.0,
          2007.0,
          2007.0,
          2007.0,
          2007.0,
          2007.0,
          2007.0,
          2008.0,
          2008.0,
          2008.0,
          2008.0,
          2008.0,
          2008.0,
          2008.0,
          2008.0,
          2008.0,
          2008.0,
          2008.0,
          2008.0,
          2008.0,
          2008.0,
          2008.0,
          2008.0,
          2008.0,
          2008.0,
          2008.0,
          2008.0,
          2008.0,
          2008.0,
          2008.0,
          2008.0,
          2009.0,
          2009.0,
          2009.0,
          2009.0,
          2009.0,
          2009.0,
          2009.0,
          2009.0,
          2009.0,
          2009.0,
          2009.0,
          2009.0,
          2009.0,
          2009.0,
          2009.0,
          2009.0,
          2009.0,
          2009.0,
          2009.0,
          2009.0,
          2009.0,
          2009.0,
          2009.0,
          2009.0,
          2009.0,
          2010.0,
          2010.0,
          2010.0,
          2010.0,
          2010.0,
          2010.0,
          2010.0,
          2010.0,
          2010.0,
          2010.0,
          2010.0,
          2010.0,
          2010.0,
          2010.0,
          2010.0,
          2010.0,
          2010.0,
          2010.0,
          2010.0,
          2010.0,
          2010.0,
          2010.0,
          2010.0,
          2010.0,
          2010.0,
          2010.0,
          2011.0,
          2011.0,
          2011.0,
          2011.0,
          2011.0,
          2011.0,
          2011.0,
          2011.0,
          2011.0,
          2011.0,
          2011.0,
          2011.0,
          2011.0,
          2011.0,
          2011.0,
          2011.0,
          2011.0,
          2011.0,
          2011.0,
          2011.0,
          2011.0,
          2011.0,
          2011.0,
          2011.0,
          2011.0,
          2011.0,
          2012.0,
          2012.0,
          2012.0,
          2012.0,
          2012.0,
          2012.0,
          2012.0,
          2012.0,
          2012.0,
          2012.0,
          2012.0,
          2012.0,
          2012.0,
          2012.0,
          2012.0,
          2012.0,
          2012.0,
          2012.0,
          2012.0,
          2012.0,
          2012.0,
          2012.0,
          2012.0,
          2012.0,
          2013.0,
          2013.0,
          2013.0,
          2013.0,
          2013.0,
          2013.0,
          2013.0,
          2013.0,
          2013.0,
          2013.0,
          2013.0,
          2013.0,
          2013.0,
          2013.0,
          2013.0,
          2013.0,
          2013.0,
          2013.0,
          2013.0,
          2013.0,
          2013.0,
          2013.0,
          2013.0,
          2013.0,
          2013.0,
          2013.0,
          2013.0,
          2013.0,
          2013.0,
          2013.0,
          2013.0,
          2013.0,
          2013.0,
          2014.0,
          2014.0,
          2014.0,
          2014.0,
          2014.0,
          2014.0,
          2014.0,
          2014.0,
          2014.0,
          2014.0,
          2014.0,
          2014.0,
          2014.0,
          2014.0,
          2014.0,
          2014.0,
          2014.0,
          2014.0,
          2014.0,
          2014.0,
          2014.0,
          2014.0,
          2014.0,
          2014.0,
          2014.0,
          2014.0,
          2014.0,
          2014.0,
          2014.0,
          2014.0,
          2014.0,
          2014.0,
          2014.0,
          2014.0,
          2014.0,
          2014.0,
          2014.0,
          2014.0,
          2014.0,
          2014.0,
          2014.0,
          2015.0,
          2015.0,
          2015.0,
          2015.0,
          2015.0,
          2015.0,
          2015.0,
          2015.0,
          2015.0,
          2015.0,
          2015.0,
          2015.0,
          2015.0,
          2015.0,
          2015.0,
          2015.0,
          2015.0,
          2015.0,
          2015.0,
          2015.0,
          2015.0,
          2015.0,
          2015.0,
          2015.0,
          2015.0,
          2015.0,
          2015.0,
          2015.0,
          2015.0,
          2015.0,
          2015.0,
          2015.0,
          2015.0,
          2015.0,
          2015.0,
          2015.0,
          2015.0,
          2016.0,
          2016.0,
          2016.0,
          2016.0,
          2016.0,
          2016.0,
          2016.0,
          2016.0,
          2016.0,
          2016.0,
          2016.0,
          2016.0,
          2016.0,
          2016.0,
          2016.0,
          2016.0,
          2016.0,
          2016.0,
          2016.0,
          2016.0,
          2016.0,
          2016.0,
          2016.0,
          2016.0,
          2016.0,
          2016.0,
          2016.0,
          2016.0,
          2016.0,
          2016.0,
          2016.0,
          2016.0,
          2016.0,
          2016.0,
          2016.0,
          2016.0,
          2016.0,
          2016.0,
          2016.0,
          2016.0,
          2016.0,
          2016.0,
          2016.0,
          2016.0,
          2016.0,
          2016.0,
          2016.0,
          2016.0,
          2016.0,
          2016.0,
          2016.0,
          2016.0,
          2016.0,
          2016.0,
          2016.0,
          2016.0,
          2016.0,
          2016.0,
          2016.0,
          2016.0,
          2016.0,
          2016.0,
          2016.0,
          2016.0,
          2017.0,
          2017.0,
          2017.0,
          2017.0,
          2017.0,
          2017.0,
          2017.0,
          2017.0,
          2017.0,
          2017.0,
          2017.0,
          2017.0,
          2017.0,
          2017.0,
          2017.0,
          2017.0,
          2017.0,
          2017.0,
          2017.0,
          2017.0,
          2017.0,
          2017.0,
          2017.0,
          2017.0,
          2017.0,
          2017.0,
          2017.0,
          2017.0,
          2017.0,
          2017.0,
          2017.0,
          2017.0,
          2017.0,
          2017.0,
          2017.0,
          2017.0,
          2017.0,
          2017.0,
          2017.0,
          2017.0,
          2017.0,
          2017.0,
          2017.0,
          2017.0,
          2017.0,
          2017.0,
          2017.0,
          2017.0,
          2017.0,
          2017.0,
          2017.0,
          2017.0,
          2017.0,
          2017.0,
          2017.0,
          2017.0,
          2017.0,
          2017.0,
          2017.0,
          2017.0,
          2017.0,
          2017.0,
          2017.0,
          2017.0,
          2017.0,
          2017.0,
          2018.0,
          2018.0,
          2018.0,
          2018.0,
          2018.0,
          2018.0,
          2018.0,
          2018.0,
          2018.0,
          2018.0,
          2018.0,
          2018.0,
          2018.0,
          2018.0,
          2018.0,
          2018.0,
          2018.0,
          2018.0,
          2018.0,
          2018.0,
          2018.0,
          2018.0,
          2018.0,
          2018.0,
          2018.0,
          2018.0,
          2018.0,
          2018.0,
          2018.0,
          2018.0,
          2018.0,
          2018.0,
          2018.0,
          2018.0,
          2018.0,
          2018.0,
          2018.0,
          2018.0,
          2018.0,
          2018.0,
          2018.0,
          2018.0,
          2018.0,
          2018.0,
          2018.0,
          2018.0,
          2018.0,
          2018.0,
          2018.0,
          2018.0,
          2018.0,
          2018.0,
          2018.0,
          2018.0,
          2018.0,
          2018.0,
          2018.0,
          2018.0,
          2018.0,
          2018.0,
          2018.0,
          2018.0,
          2018.0,
          2018.0,
          2018.0,
          2018.0,
          2018.0,
          2018.0,
          2018.0,
          2018.0,
          2018.0,
          2018.0,
          2018.0,
          2018.0,
          2018.0,
          2018.0,
          2018.0,
          2018.0,
          2018.0,
          2018.0,
          2018.0,
          2018.0,
          2018.0,
          2018.0,
          2018.0,
          2018.0,
          2018.0,
          2018.0,
          2019.0,
          2019.0,
          2019.0,
          2019.0,
          2019.0,
          2019.0,
          2019.0,
          2019.0,
          2019.0,
          2019.0,
          2019.0,
          2019.0,
          2019.0,
          2019.0,
          2019.0,
          2019.0,
          2019.0,
          2019.0,
          2019.0,
          2019.0,
          2019.0,
          2019.0,
          2019.0,
          2019.0,
          2019.0,
          2019.0,
          2019.0,
          2019.0,
          2019.0,
          2019.0,
          2019.0,
          2019.0,
          2019.0,
          2019.0,
          2019.0,
          2019.0,
          2019.0,
          2019.0,
          2019.0,
          2019.0,
          2019.0,
          2019.0,
          2019.0,
          2019.0,
          2019.0,
          2019.0,
          2019.0,
          2019.0,
          2019.0,
          2019.0,
          2019.0,
          2019.0,
          2019.0,
          2019.0,
          2019.0,
          2019.0,
          2019.0,
          2019.0,
          2019.0,
          2019.0,
          2019.0,
          2019.0,
          2019.0,
          2019.0,
          2019.0,
          2019.0,
          2019.0,
          2019.0,
          2019.0,
          2019.0,
          2019.0,
          2019.0,
          2019.0,
          2020.0,
          2020.0,
          2020.0,
          2020.0,
          2020.0,
          2020.0,
          2020.0,
          2020.0,
          2020.0,
          2020.0,
          2020.0,
          2020.0,
          2020.0,
          2020.0,
          2020.0,
          2020.0,
          2020.0,
          2020.0,
          2020.0,
          2020.0,
          2020.0,
          2020.0,
          2020.0,
          2020.0,
          2020.0,
          2020.0,
          2020.0,
          2020.0,
          2020.0,
          2020.0,
          2020.0,
          2020.0,
          2020.0,
          2020.0,
          2020.0,
          2020.0,
          2020.0,
          2020.0,
          2020.0,
          2020.0,
          2020.0,
          2020.0,
          2020.0,
          2020.0,
          2020.0,
          2020.0,
          2020.0,
          2020.0,
          2020.0,
          2020.0,
          2020.0,
          2020.0
         ],
         "xaxis": "x",
         "y": [
          5.759318464693987E7,
          5.759318464693987E7,
          5.8004024836416006E7,
          5.8004024836416006E7,
          5.841486502589202E7,
          5.841486502589202E7,
          5.841486502589202E7,
          5.882570521536803E7,
          5.882570521536803E7,
          5.882570521536803E7,
          5.882570521536803E7,
          5.882570521536803E7,
          5.882570521536803E7,
          5.9236545404844046E7,
          5.9236545404844046E7,
          5.9236545404844046E7,
          5.9236545404844046E7,
          5.9236545404844046E7,
          5.9236545404844046E7,
          5.9236545404844046E7,
          5.9236545404844046E7,
          5.964738559432018E7,
          5.964738559432018E7,
          5.964738559432018E7,
          5.964738559432018E7,
          6.498830805750871E7,
          6.539914824698472E7,
          6.580998843646073E7,
          6.6220828625936866E7,
          6.663166881541288E7,
          6.704250900488889E7,
          6.704250900488889E7,
          6.74533491943649E7,
          6.74533491943649E7,
          6.786418938384104E7,
          6.827502957331705E7,
          6.827502957331705E7,
          6.827502957331705E7,
          6.827502957331705E7,
          6.827502957331705E7,
          6.868586976279306E7,
          6.909670995226908E7,
          6.909670995226908E7,
          6.909670995226908E7,
          6.909670995226908E7,
          6.950755014174521E7,
          6.950755014174521E7,
          6.950755014174521E7,
          6.950755014174521E7,
          6.950755014174521E7,
          6.991839033122122E7,
          6.991839033122122E7,
          6.991839033122122E7,
          6.991839033122122E7,
          6.991839033122122E7,
          6.991839033122122E7,
          6.991839033122122E7,
          6.991839033122122E7,
          6.991839033122122E7,
          7.032923052069724E7,
          7.032923052069724E7,
          7.032923052069724E7,
          7.074007071017325E7,
          7.074007071017325E7,
          7.074007071017325E7,
          7.074007071017325E7,
          7.074007071017325E7,
          7.074007071017325E7,
          7.074007071017325E7,
          7.115091089964938E7,
          7.115091089964938E7,
          7.115091089964938E7,
          7.115091089964938E7,
          7.115091089964938E7,
          7.115091089964938E7,
          7.115091089964938E7,
          7.115091089964938E7,
          7.115091089964938E7,
          7.115091089964938E7,
          7.15617510891254E7,
          7.15617510891254E7,
          7.15617510891254E7,
          7.15617510891254E7,
          7.15617510891254E7,
          7.15617510891254E7,
          7.15617510891254E7,
          7.15617510891254E7,
          7.15617510891254E7,
          7.15617510891254E7,
          7.15617510891254E7,
          7.15617510891254E7,
          7.15617510891254E7,
          7.197259127860141E7,
          7.197259127860141E7,
          7.197259127860141E7,
          7.197259127860141E7,
          7.197259127860141E7,
          7.197259127860141E7,
          7.197259127860141E7,
          7.197259127860141E7,
          7.197259127860141E7,
          7.197259127860141E7,
          7.238343146807742E7,
          7.238343146807742E7,
          7.238343146807742E7,
          7.238343146807742E7,
          7.238343146807742E7,
          7.238343146807742E7,
          7.238343146807742E7,
          7.238343146807742E7,
          7.238343146807742E7,
          7.238343146807742E7,
          7.238343146807742E7,
          7.279427165755355E7,
          7.279427165755355E7,
          7.279427165755355E7,
          7.279427165755355E7,
          7.320511184702957E7,
          7.320511184702957E7,
          7.320511184702957E7,
          7.320511184702957E7,
          7.320511184702957E7,
          7.320511184702957E7,
          7.320511184702957E7,
          7.320511184702957E7,
          7.320511184702957E7,
          7.320511184702957E7,
          7.320511184702957E7,
          7.361595203650558E7,
          7.361595203650558E7,
          7.361595203650558E7,
          7.361595203650558E7,
          7.361595203650558E7,
          7.361595203650558E7,
          7.361595203650558E7,
          7.361595203650558E7,
          7.361595203650558E7,
          7.361595203650558E7,
          7.361595203650558E7,
          7.361595203650558E7,
          7.361595203650558E7,
          7.361595203650558E7,
          7.361595203650558E7,
          7.361595203650558E7,
          7.361595203650558E7,
          7.361595203650558E7,
          7.361595203650558E7,
          7.40267922259816E7,
          7.40267922259816E7,
          7.40267922259816E7,
          7.40267922259816E7,
          7.40267922259816E7,
          7.40267922259816E7,
          7.40267922259816E7,
          7.40267922259816E7,
          7.40267922259816E7,
          7.40267922259816E7,
          7.40267922259816E7,
          7.40267922259816E7,
          7.40267922259816E7,
          7.40267922259816E7,
          7.40267922259816E7,
          7.40267922259816E7,
          7.40267922259816E7,
          7.44376324154576E7,
          7.44376324154576E7,
          7.44376324154576E7,
          7.44376324154576E7,
          7.44376324154576E7,
          7.44376324154576E7,
          7.44376324154576E7,
          7.44376324154576E7,
          7.44376324154576E7,
          7.44376324154576E7,
          7.44376324154576E7,
          7.44376324154576E7,
          7.44376324154576E7,
          7.44376324154576E7,
          7.484847260493374E7,
          7.484847260493374E7,
          7.484847260493374E7,
          7.484847260493374E7,
          7.484847260493374E7,
          7.484847260493374E7,
          7.484847260493374E7,
          7.484847260493374E7,
          7.484847260493374E7,
          7.484847260493374E7,
          7.484847260493374E7,
          7.484847260493374E7,
          7.484847260493374E7,
          7.484847260493374E7,
          7.484847260493374E7,
          7.484847260493374E7,
          7.484847260493374E7,
          7.484847260493374E7,
          7.484847260493374E7,
          7.484847260493374E7,
          7.484847260493374E7,
          7.484847260493374E7,
          7.484847260493374E7,
          7.484847260493374E7,
          7.525931279440975E7,
          7.525931279440975E7,
          7.525931279440975E7,
          7.525931279440975E7,
          7.525931279440975E7,
          7.525931279440975E7,
          7.525931279440975E7,
          7.525931279440975E7,
          7.525931279440975E7,
          7.525931279440975E7,
          7.525931279440975E7,
          7.525931279440975E7,
          7.525931279440975E7,
          7.525931279440975E7,
          7.525931279440975E7,
          7.525931279440975E7,
          7.525931279440975E7,
          7.525931279440975E7,
          7.525931279440975E7,
          7.525931279440975E7,
          7.525931279440975E7,
          7.525931279440975E7,
          7.525931279440975E7,
          7.525931279440975E7,
          7.525931279440975E7,
          7.525931279440975E7,
          7.567015298388577E7,
          7.567015298388577E7,
          7.567015298388577E7,
          7.567015298388577E7,
          7.567015298388577E7,
          7.567015298388577E7,
          7.567015298388577E7,
          7.567015298388577E7,
          7.567015298388577E7,
          7.567015298388577E7,
          7.567015298388577E7,
          7.567015298388577E7,
          7.567015298388577E7,
          7.567015298388577E7,
          7.567015298388577E7,
          7.567015298388577E7,
          7.567015298388577E7,
          7.567015298388577E7,
          7.567015298388577E7,
          7.567015298388577E7,
          7.567015298388577E7,
          7.567015298388577E7,
          7.567015298388577E7,
          7.567015298388577E7,
          7.608099317336178E7,
          7.608099317336178E7,
          7.608099317336178E7,
          7.608099317336178E7,
          7.608099317336178E7,
          7.608099317336178E7,
          7.608099317336178E7,
          7.608099317336178E7,
          7.608099317336178E7,
          7.608099317336178E7,
          7.608099317336178E7,
          7.608099317336178E7,
          7.608099317336178E7,
          7.608099317336178E7,
          7.608099317336178E7,
          7.608099317336178E7,
          7.608099317336178E7,
          7.608099317336178E7,
          7.608099317336178E7,
          7.608099317336178E7,
          7.608099317336178E7,
          7.608099317336178E7,
          7.608099317336178E7,
          7.608099317336178E7,
          7.608099317336178E7,
          7.649183336283791E7,
          7.649183336283791E7,
          7.649183336283791E7,
          7.649183336283791E7,
          7.649183336283791E7,
          7.649183336283791E7,
          7.649183336283791E7,
          7.649183336283791E7,
          7.649183336283791E7,
          7.649183336283791E7,
          7.649183336283791E7,
          7.649183336283791E7,
          7.649183336283791E7,
          7.649183336283791E7,
          7.649183336283791E7,
          7.649183336283791E7,
          7.649183336283791E7,
          7.649183336283791E7,
          7.649183336283791E7,
          7.649183336283791E7,
          7.649183336283791E7,
          7.649183336283791E7,
          7.649183336283791E7,
          7.649183336283791E7,
          7.649183336283791E7,
          7.649183336283791E7,
          7.690267355231392E7,
          7.690267355231392E7,
          7.690267355231392E7,
          7.690267355231392E7,
          7.690267355231392E7,
          7.690267355231392E7,
          7.690267355231392E7,
          7.690267355231392E7,
          7.690267355231392E7,
          7.690267355231392E7,
          7.690267355231392E7,
          7.690267355231392E7,
          7.690267355231392E7,
          7.690267355231392E7,
          7.690267355231392E7,
          7.690267355231392E7,
          7.690267355231392E7,
          7.690267355231392E7,
          7.690267355231392E7,
          7.690267355231392E7,
          7.690267355231392E7,
          7.690267355231392E7,
          7.690267355231392E7,
          7.690267355231392E7,
          7.690267355231392E7,
          7.690267355231392E7,
          7.731351374178994E7,
          7.731351374178994E7,
          7.731351374178994E7,
          7.731351374178994E7,
          7.731351374178994E7,
          7.731351374178994E7,
          7.731351374178994E7,
          7.731351374178994E7,
          7.731351374178994E7,
          7.731351374178994E7,
          7.731351374178994E7,
          7.731351374178994E7,
          7.731351374178994E7,
          7.731351374178994E7,
          7.731351374178994E7,
          7.731351374178994E7,
          7.731351374178994E7,
          7.731351374178994E7,
          7.731351374178994E7,
          7.731351374178994E7,
          7.731351374178994E7,
          7.731351374178994E7,
          7.731351374178994E7,
          7.731351374178994E7,
          7.772435393126595E7,
          7.772435393126595E7,
          7.772435393126595E7,
          7.772435393126595E7,
          7.772435393126595E7,
          7.772435393126595E7,
          7.772435393126595E7,
          7.772435393126595E7,
          7.772435393126595E7,
          7.772435393126595E7,
          7.772435393126595E7,
          7.772435393126595E7,
          7.772435393126595E7,
          7.772435393126595E7,
          7.772435393126595E7,
          7.772435393126595E7,
          7.772435393126595E7,
          7.772435393126595E7,
          7.772435393126595E7,
          7.772435393126595E7,
          7.772435393126595E7,
          7.772435393126595E7,
          7.772435393126595E7,
          7.772435393126595E7,
          7.772435393126595E7,
          7.772435393126595E7,
          7.772435393126595E7,
          7.772435393126595E7,
          7.772435393126595E7,
          7.772435393126595E7,
          7.772435393126595E7,
          7.772435393126595E7,
          7.772435393126595E7,
          7.813519412074208E7,
          7.813519412074208E7,
          7.813519412074208E7,
          7.813519412074208E7,
          7.813519412074208E7,
          7.813519412074208E7,
          7.813519412074208E7,
          7.813519412074208E7,
          7.813519412074208E7,
          7.813519412074208E7,
          7.813519412074208E7,
          7.813519412074208E7,
          7.813519412074208E7,
          7.813519412074208E7,
          7.813519412074208E7,
          7.813519412074208E7,
          7.813519412074208E7,
          7.813519412074208E7,
          7.813519412074208E7,
          7.813519412074208E7,
          7.813519412074208E7,
          7.813519412074208E7,
          7.813519412074208E7,
          7.813519412074208E7,
          7.813519412074208E7,
          7.813519412074208E7,
          7.813519412074208E7,
          7.813519412074208E7,
          7.813519412074208E7,
          7.813519412074208E7,
          7.813519412074208E7,
          7.813519412074208E7,
          7.813519412074208E7,
          7.813519412074208E7,
          7.813519412074208E7,
          7.813519412074208E7,
          7.813519412074208E7,
          7.813519412074208E7,
          7.813519412074208E7,
          7.813519412074208E7,
          7.813519412074208E7,
          7.85460343102181E7,
          7.85460343102181E7,
          7.85460343102181E7,
          7.85460343102181E7,
          7.85460343102181E7,
          7.85460343102181E7,
          7.85460343102181E7,
          7.85460343102181E7,
          7.85460343102181E7,
          7.85460343102181E7,
          7.85460343102181E7,
          7.85460343102181E7,
          7.85460343102181E7,
          7.85460343102181E7,
          7.85460343102181E7,
          7.85460343102181E7,
          7.85460343102181E7,
          7.85460343102181E7,
          7.85460343102181E7,
          7.85460343102181E7,
          7.85460343102181E7,
          7.85460343102181E7,
          7.85460343102181E7,
          7.85460343102181E7,
          7.85460343102181E7,
          7.85460343102181E7,
          7.85460343102181E7,
          7.85460343102181E7,
          7.85460343102181E7,
          7.85460343102181E7,
          7.85460343102181E7,
          7.85460343102181E7,
          7.85460343102181E7,
          7.85460343102181E7,
          7.85460343102181E7,
          7.85460343102181E7,
          7.85460343102181E7,
          7.895687449969411E7,
          7.895687449969411E7,
          7.895687449969411E7,
          7.895687449969411E7,
          7.895687449969411E7,
          7.895687449969411E7,
          7.895687449969411E7,
          7.895687449969411E7,
          7.895687449969411E7,
          7.895687449969411E7,
          7.895687449969411E7,
          7.895687449969411E7,
          7.895687449969411E7,
          7.895687449969411E7,
          7.895687449969411E7,
          7.895687449969411E7,
          7.895687449969411E7,
          7.895687449969411E7,
          7.895687449969411E7,
          7.895687449969411E7,
          7.895687449969411E7,
          7.895687449969411E7,
          7.895687449969411E7,
          7.895687449969411E7,
          7.895687449969411E7,
          7.895687449969411E7,
          7.895687449969411E7,
          7.895687449969411E7,
          7.895687449969411E7,
          7.895687449969411E7,
          7.895687449969411E7,
          7.895687449969411E7,
          7.895687449969411E7,
          7.895687449969411E7,
          7.895687449969411E7,
          7.895687449969411E7,
          7.895687449969411E7,
          7.895687449969411E7,
          7.895687449969411E7,
          7.895687449969411E7,
          7.895687449969411E7,
          7.895687449969411E7,
          7.895687449969411E7,
          7.895687449969411E7,
          7.895687449969411E7,
          7.895687449969411E7,
          7.895687449969411E7,
          7.895687449969411E7,
          7.895687449969411E7,
          7.895687449969411E7,
          7.895687449969411E7,
          7.895687449969411E7,
          7.895687449969411E7,
          7.895687449969411E7,
          7.895687449969411E7,
          7.895687449969411E7,
          7.895687449969411E7,
          7.895687449969411E7,
          7.895687449969411E7,
          7.895687449969411E7,
          7.895687449969411E7,
          7.895687449969411E7,
          7.895687449969411E7,
          7.895687449969411E7,
          7.936771468917012E7,
          7.936771468917012E7,
          7.936771468917012E7,
          7.936771468917012E7,
          7.936771468917012E7,
          7.936771468917012E7,
          7.936771468917012E7,
          7.936771468917012E7,
          7.936771468917012E7,
          7.936771468917012E7,
          7.936771468917012E7,
          7.936771468917012E7,
          7.936771468917012E7,
          7.936771468917012E7,
          7.936771468917012E7,
          7.936771468917012E7,
          7.936771468917012E7,
          7.936771468917012E7,
          7.936771468917012E7,
          7.936771468917012E7,
          7.936771468917012E7,
          7.936771468917012E7,
          7.936771468917012E7,
          7.936771468917012E7,
          7.936771468917012E7,
          7.936771468917012E7,
          7.936771468917012E7,
          7.936771468917012E7,
          7.936771468917012E7,
          7.936771468917012E7,
          7.936771468917012E7,
          7.936771468917012E7,
          7.936771468917012E7,
          7.936771468917012E7,
          7.936771468917012E7,
          7.936771468917012E7,
          7.936771468917012E7,
          7.936771468917012E7,
          7.936771468917012E7,
          7.936771468917012E7,
          7.936771468917012E7,
          7.936771468917012E7,
          7.936771468917012E7,
          7.936771468917012E7,
          7.936771468917012E7,
          7.936771468917012E7,
          7.936771468917012E7,
          7.936771468917012E7,
          7.936771468917012E7,
          7.936771468917012E7,
          7.936771468917012E7,
          7.936771468917012E7,
          7.936771468917012E7,
          7.936771468917012E7,
          7.936771468917012E7,
          7.936771468917012E7,
          7.936771468917012E7,
          7.936771468917012E7,
          7.936771468917012E7,
          7.936771468917012E7,
          7.936771468917012E7,
          7.936771468917012E7,
          7.936771468917012E7,
          7.936771468917012E7,
          7.936771468917012E7,
          7.936771468917012E7,
          7.977855487864625E7,
          7.977855487864625E7,
          7.977855487864625E7,
          7.977855487864625E7,
          7.977855487864625E7,
          7.977855487864625E7,
          7.977855487864625E7,
          7.977855487864625E7,
          7.977855487864625E7,
          7.977855487864625E7,
          7.977855487864625E7,
          7.977855487864625E7,
          7.977855487864625E7,
          7.977855487864625E7,
          7.977855487864625E7,
          7.977855487864625E7,
          7.977855487864625E7,
          7.977855487864625E7,
          7.977855487864625E7,
          7.977855487864625E7,
          7.977855487864625E7,
          7.977855487864625E7,
          7.977855487864625E7,
          7.977855487864625E7,
          7.977855487864625E7,
          7.977855487864625E7,
          7.977855487864625E7,
          7.977855487864625E7,
          7.977855487864625E7,
          7.977855487864625E7,
          7.977855487864625E7,
          7.977855487864625E7,
          7.977855487864625E7,
          7.977855487864625E7,
          7.977855487864625E7,
          7.977855487864625E7,
          7.977855487864625E7,
          7.977855487864625E7,
          7.977855487864625E7,
          7.977855487864625E7,
          7.977855487864625E7,
          7.977855487864625E7,
          7.977855487864625E7,
          7.977855487864625E7,
          7.977855487864625E7,
          7.977855487864625E7,
          7.977855487864625E7,
          7.977855487864625E7,
          7.977855487864625E7,
          7.977855487864625E7,
          7.977855487864625E7,
          7.977855487864625E7,
          7.977855487864625E7,
          7.977855487864625E7,
          7.977855487864625E7,
          7.977855487864625E7,
          7.977855487864625E7,
          7.977855487864625E7,
          7.977855487864625E7,
          7.977855487864625E7,
          7.977855487864625E7,
          7.977855487864625E7,
          7.977855487864625E7,
          7.977855487864625E7,
          7.977855487864625E7,
          7.977855487864625E7,
          7.977855487864625E7,
          7.977855487864625E7,
          7.977855487864625E7,
          7.977855487864625E7,
          7.977855487864625E7,
          7.977855487864625E7,
          7.977855487864625E7,
          7.977855487864625E7,
          7.977855487864625E7,
          7.977855487864625E7,
          7.977855487864625E7,
          7.977855487864625E7,
          7.977855487864625E7,
          7.977855487864625E7,
          7.977855487864625E7,
          7.977855487864625E7,
          7.977855487864625E7,
          7.977855487864625E7,
          7.977855487864625E7,
          7.977855487864625E7,
          7.977855487864625E7,
          7.977855487864625E7,
          8.018939506812227E7,
          8.018939506812227E7,
          8.018939506812227E7,
          8.018939506812227E7,
          8.018939506812227E7,
          8.018939506812227E7,
          8.018939506812227E7,
          8.018939506812227E7,
          8.018939506812227E7,
          8.018939506812227E7,
          8.018939506812227E7,
          8.018939506812227E7,
          8.018939506812227E7,
          8.018939506812227E7,
          8.018939506812227E7,
          8.018939506812227E7,
          8.018939506812227E7,
          8.018939506812227E7,
          8.018939506812227E7,
          8.018939506812227E7,
          8.018939506812227E7,
          8.018939506812227E7,
          8.018939506812227E7,
          8.018939506812227E7,
          8.018939506812227E7,
          8.018939506812227E7,
          8.018939506812227E7,
          8.018939506812227E7,
          8.018939506812227E7,
          8.018939506812227E7,
          8.018939506812227E7,
          8.018939506812227E7,
          8.018939506812227E7,
          8.018939506812227E7,
          8.018939506812227E7,
          8.018939506812227E7,
          8.018939506812227E7,
          8.018939506812227E7,
          8.018939506812227E7,
          8.018939506812227E7,
          8.018939506812227E7,
          8.018939506812227E7,
          8.018939506812227E7,
          8.018939506812227E7,
          8.018939506812227E7,
          8.018939506812227E7,
          8.018939506812227E7,
          8.018939506812227E7,
          8.018939506812227E7,
          8.018939506812227E7,
          8.018939506812227E7,
          8.018939506812227E7,
          8.018939506812227E7,
          8.018939506812227E7,
          8.018939506812227E7,
          8.018939506812227E7,
          8.018939506812227E7,
          8.018939506812227E7,
          8.018939506812227E7,
          8.018939506812227E7,
          8.018939506812227E7,
          8.018939506812227E7,
          8.018939506812227E7,
          8.018939506812227E7,
          8.018939506812227E7,
          8.018939506812227E7,
          8.018939506812227E7,
          8.018939506812227E7,
          8.018939506812227E7,
          8.018939506812227E7,
          8.018939506812227E7,
          8.018939506812227E7,
          8.018939506812227E7,
          8.060023525759828E7,
          8.060023525759828E7,
          8.060023525759828E7,
          8.060023525759828E7,
          8.060023525759828E7,
          8.060023525759828E7,
          8.060023525759828E7,
          8.060023525759828E7,
          8.060023525759828E7,
          8.060023525759828E7,
          8.060023525759828E7,
          8.060023525759828E7,
          8.060023525759828E7,
          8.060023525759828E7,
          8.060023525759828E7,
          8.060023525759828E7,
          8.060023525759828E7,
          8.060023525759828E7,
          8.060023525759828E7,
          8.060023525759828E7,
          8.060023525759828E7,
          8.060023525759828E7,
          8.060023525759828E7,
          8.060023525759828E7,
          8.060023525759828E7,
          8.060023525759828E7,
          8.060023525759828E7,
          8.060023525759828E7,
          8.060023525759828E7,
          8.060023525759828E7,
          8.060023525759828E7,
          8.060023525759828E7,
          8.060023525759828E7,
          8.060023525759828E7,
          8.060023525759828E7,
          8.060023525759828E7,
          8.060023525759828E7,
          8.060023525759828E7,
          8.060023525759828E7,
          8.060023525759828E7,
          8.060023525759828E7,
          8.060023525759828E7,
          8.060023525759828E7,
          8.060023525759828E7,
          8.060023525759828E7,
          8.060023525759828E7,
          8.060023525759828E7,
          8.060023525759828E7,
          8.060023525759828E7,
          8.060023525759828E7,
          8.060023525759828E7,
          8.060023525759828E7
         ],
         "yaxis": "y",
         "type": "scatter"
        }
       ],
       "layout": {
        "template": {
         "data": {
          "histogram2dcontour": [
           {
            "type": "histogram2dcontour",
            "colorbar": {
             "outlinewidth": 0,
             "ticks": ""
            },
            "colorscale": [
             [
              0.0,
              "#0d0887"
             ],
             [
              0.1111111111111111,
              "#46039f"
             ],
             [
              0.2222222222222222,
              "#7201a8"
             ],
             [
              0.3333333333333333,
              "#9c179e"
             ],
             [
              0.4444444444444444,
              "#bd3786"
             ],
             [
              0.5555555555555556,
              "#d8576b"
             ],
             [
              0.6666666666666666,
              "#ed7953"
             ],
             [
              0.7777777777777778,
              "#fb9f3a"
             ],
             [
              0.8888888888888888,
              "#fdca26"
             ],
             [
              1.0,
              "#f0f921"
             ]
            ]
           }
          ],
          "choropleth": [
           {
            "type": "choropleth",
            "colorbar": {
             "outlinewidth": 0,
             "ticks": ""
            }
           }
          ],
          "histogram2d": [
           {
            "type": "histogram2d",
            "colorbar": {
             "outlinewidth": 0,
             "ticks": ""
            },
            "colorscale": [
             [
              0.0,
              "#0d0887"
             ],
             [
              0.1111111111111111,
              "#46039f"
             ],
             [
              0.2222222222222222,
              "#7201a8"
             ],
             [
              0.3333333333333333,
              "#9c179e"
             ],
             [
              0.4444444444444444,
              "#bd3786"
             ],
             [
              0.5555555555555556,
              "#d8576b"
             ],
             [
              0.6666666666666666,
              "#ed7953"
             ],
             [
              0.7777777777777778,
              "#fb9f3a"
             ],
             [
              0.8888888888888888,
              "#fdca26"
             ],
             [
              1.0,
              "#f0f921"
             ]
            ]
           }
          ],
          "heatmap": [
           {
            "type": "heatmap",
            "colorbar": {
             "outlinewidth": 0,
             "ticks": ""
            },
            "colorscale": [
             [
              0.0,
              "#0d0887"
             ],
             [
              0.1111111111111111,
              "#46039f"
             ],
             [
              0.2222222222222222,
              "#7201a8"
             ],
             [
              0.3333333333333333,
              "#9c179e"
             ],
             [
              0.4444444444444444,
              "#bd3786"
             ],
             [
              0.5555555555555556,
              "#d8576b"
             ],
             [
              0.6666666666666666,
              "#ed7953"
             ],
             [
              0.7777777777777778,
              "#fb9f3a"
             ],
             [
              0.8888888888888888,
              "#fdca26"
             ],
             [
              1.0,
              "#f0f921"
             ]
            ]
           }
          ],
          "heatmapgl": [
           {
            "type": "heatmapgl",
            "colorbar": {
             "outlinewidth": 0,
             "ticks": ""
            },
            "colorscale": [
             [
              0.0,
              "#0d0887"
             ],
             [
              0.1111111111111111,
              "#46039f"
             ],
             [
              0.2222222222222222,
              "#7201a8"
             ],
             [
              0.3333333333333333,
              "#9c179e"
             ],
             [
              0.4444444444444444,
              "#bd3786"
             ],
             [
              0.5555555555555556,
              "#d8576b"
             ],
             [
              0.6666666666666666,
              "#ed7953"
             ],
             [
              0.7777777777777778,
              "#fb9f3a"
             ],
             [
              0.8888888888888888,
              "#fdca26"
             ],
             [
              1.0,
              "#f0f921"
             ]
            ]
           }
          ],
          "contourcarpet": [
           {
            "type": "contourcarpet",
            "colorbar": {
             "outlinewidth": 0,
             "ticks": ""
            }
           }
          ],
          "contour": [
           {
            "type": "contour",
            "colorbar": {
             "outlinewidth": 0,
             "ticks": ""
            },
            "colorscale": [
             [
              0.0,
              "#0d0887"
             ],
             [
              0.1111111111111111,
              "#46039f"
             ],
             [
              0.2222222222222222,
              "#7201a8"
             ],
             [
              0.3333333333333333,
              "#9c179e"
             ],
             [
              0.4444444444444444,
              "#bd3786"
             ],
             [
              0.5555555555555556,
              "#d8576b"
             ],
             [
              0.6666666666666666,
              "#ed7953"
             ],
             [
              0.7777777777777778,
              "#fb9f3a"
             ],
             [
              0.8888888888888888,
              "#fdca26"
             ],
             [
              1.0,
              "#f0f921"
             ]
            ]
           }
          ],
          "surface": [
           {
            "type": "surface",
            "colorbar": {
             "outlinewidth": 0,
             "ticks": ""
            },
            "colorscale": [
             [
              0.0,
              "#0d0887"
             ],
             [
              0.1111111111111111,
              "#46039f"
             ],
             [
              0.2222222222222222,
              "#7201a8"
             ],
             [
              0.3333333333333333,
              "#9c179e"
             ],
             [
              0.4444444444444444,
              "#bd3786"
             ],
             [
              0.5555555555555556,
              "#d8576b"
             ],
             [
              0.6666666666666666,
              "#ed7953"
             ],
             [
              0.7777777777777778,
              "#fb9f3a"
             ],
             [
              0.8888888888888888,
              "#fdca26"
             ],
             [
              1.0,
              "#f0f921"
             ]
            ]
           }
          ],
          "mesh3d": [
           {
            "type": "mesh3d",
            "colorbar": {
             "outlinewidth": 0,
             "ticks": ""
            }
           }
          ],
          "scatter": [
           {
            "marker": {
             "line": {
              "color": "#283442"
             }
            },
            "type": "scatter"
           }
          ],
          "parcoords": [
           {
            "type": "parcoords",
            "line": {
             "colorbar": {
              "outlinewidth": 0,
              "ticks": ""
             }
            }
           }
          ],
          "scatterpolargl": [
           {
            "type": "scatterpolargl",
            "marker": {
             "colorbar": {
              "outlinewidth": 0,
              "ticks": ""
             }
            }
           }
          ],
          "bar": [
           {
            "error_x": {
             "color": "#f2f5fa"
            },
            "error_y": {
             "color": "#f2f5fa"
            },
            "marker": {
             "line": {
              "color": "rgb(17,17,17)",
              "width": 0.5
             },
             "pattern": {
              "fillmode": "overlay",
              "size": 10,
              "solidity": 0.2
             }
            },
            "type": "bar"
           }
          ],
          "scattergeo": [
           {
            "type": "scattergeo",
            "marker": {
             "colorbar": {
              "outlinewidth": 0,
              "ticks": ""
             }
            }
           }
          ],
          "scatterpolar": [
           {
            "type": "scatterpolar",
            "marker": {
             "colorbar": {
              "outlinewidth": 0,
              "ticks": ""
             }
            }
           }
          ],
          "histogram": [
           {
            "marker": {
             "pattern": {
              "fillmode": "overlay",
              "size": 10,
              "solidity": 0.2
             }
            },
            "type": "histogram"
           }
          ],
          "scattergl": [
           {
            "marker": {
             "line": {
              "color": "#283442"
             }
            },
            "type": "scattergl"
           }
          ],
          "scatter3d": [
           {
            "type": "scatter3d",
            "line": {
             "colorbar": {
              "outlinewidth": 0,
              "ticks": ""
             }
            },
            "marker": {
             "colorbar": {
              "outlinewidth": 0,
              "ticks": ""
             }
            }
           }
          ],
          "scattermapbox": [
           {
            "type": "scattermapbox",
            "marker": {
             "colorbar": {
              "outlinewidth": 0,
              "ticks": ""
             }
            }
           }
          ],
          "scatterternary": [
           {
            "type": "scatterternary",
            "marker": {
             "colorbar": {
              "outlinewidth": 0,
              "ticks": ""
             }
            }
           }
          ],
          "scattercarpet": [
           {
            "type": "scattercarpet",
            "marker": {
             "colorbar": {
              "outlinewidth": 0,
              "ticks": ""
             }
            }
           }
          ],
          "carpet": [
           {
            "aaxis": {
             "endlinecolor": "#A2B1C6",
             "gridcolor": "#506784",
             "linecolor": "#506784",
             "minorgridcolor": "#506784",
             "startlinecolor": "#A2B1C6"
            },
            "baxis": {
             "endlinecolor": "#A2B1C6",
             "gridcolor": "#506784",
             "linecolor": "#506784",
             "minorgridcolor": "#506784",
             "startlinecolor": "#A2B1C6"
            },
            "type": "carpet"
           }
          ],
          "table": [
           {
            "cells": {
             "fill": {
              "color": "#506784"
             },
             "line": {
              "color": "rgb(17,17,17)"
             }
            },
            "header": {
             "fill": {
              "color": "#2a3f5f"
             },
             "line": {
              "color": "rgb(17,17,17)"
             }
            },
            "type": "table"
           }
          ],
          "barpolar": [
           {
            "marker": {
             "line": {
              "color": "rgb(17,17,17)",
              "width": 0.5
             },
             "pattern": {
              "fillmode": "overlay",
              "size": 10,
              "solidity": 0.2
             }
            },
            "type": "barpolar"
           }
          ],
          "pie": [
           {
            "automargin": true,
            "type": "pie"
           }
          ]
         },
         "layout": {
          "autotypenumbers": "strict",
          "colorway": [
           "#636efa",
           "#EF553B",
           "#00cc96",
           "#ab63fa",
           "#FFA15A",
           "#19d3f3",
           "#FF6692",
           "#B6E880",
           "#FF97FF",
           "#FECB52"
          ],
          "font": {
           "color": "#f2f5fa"
          },
          "hovermode": "closest",
          "hoverlabel": {
           "align": "left"
          },
          "paper_bgcolor": "rgb(17,17,17)",
          "plot_bgcolor": "rgb(17,17,17)",
          "polar": {
           "bgcolor": "rgb(17,17,17)",
           "angularaxis": {
            "gridcolor": "#506784",
            "linecolor": "#506784",
            "ticks": ""
           },
           "radialaxis": {
            "gridcolor": "#506784",
            "linecolor": "#506784",
            "ticks": ""
           }
          },
          "ternary": {
           "bgcolor": "rgb(17,17,17)",
           "aaxis": {
            "gridcolor": "#506784",
            "linecolor": "#506784",
            "ticks": ""
           },
           "baxis": {
            "gridcolor": "#506784",
            "linecolor": "#506784",
            "ticks": ""
           },
           "caxis": {
            "gridcolor": "#506784",
            "linecolor": "#506784",
            "ticks": ""
           }
          },
          "coloraxis": {
           "colorbar": {
            "outlinewidth": 0,
            "ticks": ""
           }
          },
          "colorscale": {
           "sequential": [
            [
             0.0,
             "#0d0887"
            ],
            [
             0.1111111111111111,
             "#46039f"
            ],
            [
             0.2222222222222222,
             "#7201a8"
            ],
            [
             0.3333333333333333,
             "#9c179e"
            ],
            [
             0.4444444444444444,
             "#bd3786"
            ],
            [
             0.5555555555555556,
             "#d8576b"
            ],
            [
             0.6666666666666666,
             "#ed7953"
            ],
            [
             0.7777777777777778,
             "#fb9f3a"
            ],
            [
             0.8888888888888888,
             "#fdca26"
            ],
            [
             1.0,
             "#f0f921"
            ]
           ],
           "sequentialminus": [
            [
             0.0,
             "#0d0887"
            ],
            [
             0.1111111111111111,
             "#46039f"
            ],
            [
             0.2222222222222222,
             "#7201a8"
            ],
            [
             0.3333333333333333,
             "#9c179e"
            ],
            [
             0.4444444444444444,
             "#bd3786"
            ],
            [
             0.5555555555555556,
             "#d8576b"
            ],
            [
             0.6666666666666666,
             "#ed7953"
            ],
            [
             0.7777777777777778,
             "#fb9f3a"
            ],
            [
             0.8888888888888888,
             "#fdca26"
            ],
            [
             1.0,
             "#f0f921"
            ]
           ],
           "diverging": [
            [
             0,
             "#8e0152"
            ],
            [
             0.1,
             "#c51b7d"
            ],
            [
             0.2,
             "#de77ae"
            ],
            [
             0.3,
             "#f1b6da"
            ],
            [
             0.4,
             "#fde0ef"
            ],
            [
             0.5,
             "#f7f7f7"
            ],
            [
             0.6,
             "#e6f5d0"
            ],
            [
             0.7,
             "#b8e186"
            ],
            [
             0.8,
             "#7fbc41"
            ],
            [
             0.9,
             "#4d9221"
            ],
            [
             1,
             "#276419"
            ]
           ]
          },
          "xaxis": {
           "gridcolor": "#283442",
           "linecolor": "#506784",
           "ticks": "",
           "title": {
            "standoff": 15
           },
           "zerolinecolor": "#283442",
           "automargin": true,
           "zerolinewidth": 2
          },
          "yaxis": {
           "gridcolor": "#283442",
           "linecolor": "#506784",
           "ticks": "",
           "title": {
            "standoff": 15
           },
           "zerolinecolor": "#283442",
           "automargin": true,
           "zerolinewidth": 2
          },
          "scene": {
           "xaxis": {
            "backgroundcolor": "rgb(17,17,17)",
            "gridcolor": "#506784",
            "linecolor": "#506784",
            "showbackground": true,
            "ticks": "",
            "zerolinecolor": "#C8D4E3",
            "gridwidth": 2
           },
           "yaxis": {
            "backgroundcolor": "rgb(17,17,17)",
            "gridcolor": "#506784",
            "linecolor": "#506784",
            "showbackground": true,
            "ticks": "",
            "zerolinecolor": "#C8D4E3",
            "gridwidth": 2
           },
           "zaxis": {
            "backgroundcolor": "rgb(17,17,17)",
            "gridcolor": "#506784",
            "linecolor": "#506784",
            "showbackground": true,
            "ticks": "",
            "zerolinecolor": "#C8D4E3",
            "gridwidth": 2
           }
          },
          "shapedefaults": {
           "line": {
            "color": "#f2f5fa"
           }
          },
          "annotationdefaults": {
           "arrowcolor": "#f2f5fa",
           "arrowhead": 0,
           "arrowwidth": 1
          },
          "geo": {
           "bgcolor": "rgb(17,17,17)",
           "landcolor": "rgb(17,17,17)",
           "subunitcolor": "#506784",
           "showland": true,
           "showlakes": true,
           "lakecolor": "rgb(17,17,17)"
          },
          "title": {
           "x": 0.05
          },
          "updatemenudefaults": {
           "bgcolor": "#506784",
           "borderwidth": 0
          },
          "sliderdefaults": {
           "bgcolor": "#C8D4E3",
           "borderwidth": 1,
           "bordercolor": "rgb(17,17,17)",
           "tickwidth": 0
          },
          "mapbox": {
           "style": "dark"
          }
         }
        },
        "xaxis": {
         "anchor": "y",
         "domain": [
          0.0,
          1.0
         ],
         "title": {
          "text": "Year"
         }
        },
        "yaxis": {
         "anchor": "x",
         "domain": [
          0.0,
          1.0
         ],
         "title": {
          "text": " Launch Cost"
         }
        },
        "coloraxis": {
         "colorbar": {
          "title": {
           "text": " Launch Cost"
          }
         },
         "colorscale": [
          [
           0.0,
           "#0d0887"
          ],
          [
           0.1111111111111111,
           "#46039f"
          ],
          [
           0.2222222222222222,
           "#7201a8"
          ],
          [
           0.3333333333333333,
           "#9c179e"
          ],
          [
           0.4444444444444444,
           "#bd3786"
          ],
          [
           0.5555555555555556,
           "#d8576b"
          ],
          [
           0.6666666666666666,
           "#ed7953"
          ],
          [
           0.7777777777777778,
           "#fb9f3a"
          ],
          [
           0.8888888888888888,
           "#fdca26"
          ],
          [
           1.0,
           "#f0f921"
          ]
         ]
        },
        "legend": {
         "tracegroupgap": 0
        },
        "title": {
         "text": "Cost of launches by year"
        }
       },
       "config": {
        "plotlyServerURL": "https://plot.ly"
       }
      },
      "text/html": "<div>                            <div id=\"c33c59ea-3a11-45bf-9c6d-858aaf6a60ec\" class=\"plotly-graph-div\" style=\"height:525px; width:100%;\"></div>            <script type=\"text/javascript\">                require([\"plotly\"], function(Plotly) {                    window.PLOTLYENV=window.PLOTLYENV || {};                                    if (document.getElementById(\"c33c59ea-3a11-45bf-9c6d-858aaf6a60ec\")) {                    Plotly.newPlot(                        \"c33c59ea-3a11-45bf-9c6d-858aaf6a60ec\",                        [{\"hovertemplate\":\"Year=%{x}\\u003cbr\\u003e Launch Cost=%{marker.color}\\u003cextra\\u003e\\u003c\\u002fextra\\u003e\",\"legendgroup\":\"\",\"marker\":{\"color\":[50000000.0,29750000.0,65000000.0,145000000.0,64680000.00000001,48500000.0,50000000.0,90000000.0,46000000.0,28300000.0,29150000.0,29750000.0,7500000.0,64680000.00000001,50000000.0,29150000.0,29750000.0,50000000.0,7500000.0,30800000.0,50000000.0,29750000.0,50000000.0,5300000.0,12000000.0,112500000.0,120000000.0,48500000.0,50000000.0,29150000.0,48500000.0,153000000.0,30800000.0,48500000.0,50000000.0,29150000.0,50000000.0,48500000.0,29750000.0,200000000.0,50000000.0,85000000.0,115000000.0,90000000.0,48500000.0,7500000.0,50000000.0,50000000.0,200000000.0,29750000.0,29150000.0,50000000.0,41800000.0,65000000.0,64680000.00000001,50000000.0,21000000.0,48500000.0,48500000.0,7500000.0,50000000.0,64680000.00000001,31000000.0,200000000.0,50000000.0,29150000.0,64680000.00000001,85000000.0,29150000.0,7500000.0,40000000.0,65000000.0,64680000.00000001,48500000.0,29750000.0,112500000.0,5300000.0,64680000.00000001,41800000.0,164000000.0,48500000.0,7500000.0,29150000.0,7500000.0,153000000.0,50000000.0,200000000.0,65000000.0,48500000.0,48500000.0,30800000.0,50000000.0,62000000.0,65000000.0,37000000.0,7500000.0,90000000.0,29150000.0,200000000.0,50000000.0,5300000.0,65000000.0,50000000.0,64680000.00000001,21000000.0,7500000.0,50000000.0,64680000.00000001,29150000.0,85000000.0,90000000.0,48500000.0,21000000.0,29150000.0,7500000.0,37000000.0,29150000.0,50000000.0,50000000.0,200000000.0,5300000.0,350000000.0,39000000.0,50000000.0,29150000.0,48500000.0,50000000.0,5300000.0,65000000.0,47000000.0,7500000.0,29150000.0,29750000.0,50000000.0,200000000.0,50000000.0,41800000.0,21000000.0,37000000.0,29750000.0,85000000.0,50000000.0,62000000.0,7500000.0,48500000.0,29150000.0,90000000.0,30800000.0,35000000.0,64680000.00000001,200000000.0,153000000.0,30800000.0,50000000.0,200000000.0,112500000.0,21000000.0,50000000.0,30800000.0,37000000.0,350000000.0,50000000.0,64680000.00000001,50000000.0,50000000.0,48500000.0,69700000.0,30800000.0,62000000.0,30800000.0,90000000.0,69700000.0,62000000.0,29750000.0,62000000.0,85000000.0,64680000.00000001,50000000.0,64680000.00000001,109000000.0,29150000.0,5300000.0,41800000.0,62000000.0,65000000.0,153000000.0,31000000.0,64680000.00000001,200000000.0,62000000.0,64680000.00000001,62000000.0,47000000.0,29750000.0,62000000.0,145000000.0,90000000.0,62000000.0,48500000.0,90000000.0,29750000.0,48500000.0,62000000.0,200000000.0,30800000.0,7500000.0,115000000.0,5300000.0,39000000.0,29750000.0,31000000.0,29750000.0,62000000.0,30800000.0,29750000.0,62000000.0,90000000.0,62000000.0,29150000.0,29750000.0,35000000.0,30800000.0,64680000.00000001,85000000.0,37000000.0,45000000.0,62000000.0,123000000.0,48500000.0,41800000.0,62000000.0,90000000.0,62000000.0,29750000.0,200000000.0,30800000.0,65000000.0,145000000.0,65000000.0,62000000.0,31000000.0,46000000.0,62000000.0,109000000.0,65000000.0,62000000.0,37000000.0,48500000.0,62000000.0,200000000.0,62000000.0,62000000.0,31000000.0,29150000.0,64680000.00000001,48500000.0,65000000.0,62000000.0,62000000.0,200000000.0,90000000.0,7500000.0,62000000.0,47000000.0,200000000.0,62000000.0,109000000.0,29150000.0,62000000.0,90000000.0,62000000.0,37000000.0,109000000.0,62000000.0,31000000.0,200000000.0,109000000.0,62000000.0,29150000.0,29750000.0,200000000.0,29750000.0,130000000.0,40000000.0,29150000.0,112500000.0,31000000.0,37000000.0,145000000.0,29750000.0,109000000.0,5300000.0,90000000.0,85000000.0,200000000.0,25000000.0,37000000.0,115000000.0,47000000.0,62000000.0,64680000.00000001,200000000.0,164000000.0,29750000.0,62000000.0,64680000.00000001,29150000.0,123000000.0,62000000.0,64680000.00000001,153000000.0,31000000.0,200000000.0,62000000.0,350000000.0,65000000.0,41800000.0,64680000.00000001,48500000.0,62000000.0,29750000.0,62000000.0,31000000.0,62000000.0,29750000.0,48500000.0,69700000.0,48500000.0,109000000.0,65000000.0,35000000.0,31000000.0,200000000.0,62000000.0,90000000.0,41800000.0,48500000.0,109000000.0,65000000.0,200000000.0,31000000.0,56500000.0,29150000.0,62000000.0,21000000.0,109000000.0,37000000.0,200000000.0,109000000.0,109000000.0,123000000.0,200000000.0,31000000.0,41800000.0,153000000.0,47000000.0,200000000.0,112500000.0,200000000.0,109000000.0,31000000.0,56500000.0,37000000.0,200000000.0,120000000.0,56500000.0,200000000.0,56500000.0,41800000.0,31000000.0,90000000.0,29000000.0,164000000.0,123000000.0,56500000.0,56500000.0,37000000.0,90000000.0,153000000.0,56500000.0,62000000.0,145000000.0,200000000.0,350000000.0,90000000.0,29000000.0,109000000.0,80000000.0,200000000.0,31000000.0,90000000.0,56500000.0,109000000.0,200000000.0,56500000.0,109000000.0,56500000.0,109000000.0,164000000.0,56500000.0,80000000.0,41800000.0,21000000.0,29000000.0,90000000.0,41800000.0,109000000.0,164000000.0,37000000.0,56500000.0,145000000.0,31000000.0,109000000.0,200000000.0,90000000.0,164000000.0,200000000.0,109000000.0,80000000.0,56500000.0,47000000.0,41800000.0,120000000.0,56500000.0,41800000.0,29000000.0,40000000.0,109000000.0,31000000.0,56500000.0,140000000.0,80000000.0,41800000.0,55000000.0,200000000.0,350000000.0,29000000.0,112500000.0,200000000.0,153000000.0,65000000.0,31000000.0,40000000.0,109000000.0,37000000.0,80000000.0,109000000.0,59500000.0,21000000.0,109000000.0,200000000.0,109000000.0,90000000.0,41800000.0,200000000.0,120000000.0,80000000.0,200000000.0,59500000.0,164000000.0,200000000.0,109000000.0,21000000.0,109000000.0,200000000.0,41800000.0,112500000.0,200000000.0,350000000.0,109000000.0,40000000.0,59500000.0,90000000.0,200000000.0,140000000.0,31000000.0,153000000.0,37000000.0,80000000.0,90000000.0,145000000.0,21000000.0,46000000.0,90000000.0,200000000.0,90000000.0,29000000.0,200000000.0,153000000.0,164000000.0,31000000.0,40000000.0,200000000.0,109000000.0,200000000.0,25000000.0,115000000.0,164000000.0,120000000.0,45000000.0,40000000.0,41800000.0,112500000.0,350000000.0,200000000.0,47000000.0,59500000.0,200000000.0,350000000.0,46000000.0,200000000.0,46000000.0,120000000.0,41800000.0,140000000.0,200000000.0,21000000.0,200000000.0,29000000.0,29000000.0,59500000.0,41800000.0,164000000.0,200000000.0,90000000.0,120000000.0,47000000.0,29000000.0,164000000.0,109000000.0,90000000.0,130000000.0,41800000.0,200000000.0,109000000.0,200000000.0,21000000.0,112500000.0,109000000.0,200000000.0,29000000.0,7000000.0,41800000.0,200000000.0,164000000.0,123000000.0,40000000.0,200000000.0,21000000.0,123000000.0,41800000.0,45000000.0,200000000.0,90000000.0,350000000.0,200000000.0,29750000.0,29750000.0,29150000.0,64680000.00000001,31000000.0,40000000.0,29000000.0,7000000.0,29000000.0,200000000.0,7000000.0,200000000.0,200000000.0,64680000.00000001,41800000.0,21000000.0,20140000.0,200000000.0,40000000.0,123000000.0,115000000.0,90000000.0,21000000.0,109000000.0,200000000.0,64680000.00000001,350000000.0,123000000.0,64680000.00000001,47000000.0,200000000.0,29000000.0,109000000.0,29000000.0,69700000.0,29750000.0,29150000.0,200000000.0,40000000.0,40000000.0,21000000.0,29000000.0,69700000.0,30800000.0,7000000.0,200000000.0,109000000.0,69700000.0,25000000.0,40000000.0,200000000.0,69700000.0,133000000.0,64680000.00000001,200000000.0,69700000.0,90000000.0,30800000.0,200000000.0,41800000.0,29000000.0,29000000.0,47000000.0,164000000.0,200000000.0,164000000.0,64680000.00000001,115000000.0,40000000.0,40000000.0,7000000.0,200000000.0,153000000.0,200000000.0,41800000.0,40000000.0,29750000.0,41800000.0,29000000.0,109000000.0,30800000.0,29750000.0,25000000.0,40000000.0,40000000.0,130000000.0,200000000.0,350000000.0,190000000.0,135000000.0,30800000.0,48500000.0,64680000.00000001,69700000.0,29750000.0,47000000.0,64680000.00000001,30800000.0,30800000.0,190000000.0,29000000.0,45000000.0,30800000.0,190000000.0,30800000.0,69700000.0,29750000.0,41800000.0,64680000.00000001,35000000.0,25000000.0,133000000.0,40000000.0,135000000.0,41800000.0,40000000.0,69700000.0,109000000.0,47000000.0,40000000.0,133000000.0,40000000.0,35000000.0,90000000.0,200000000.0,164000000.0,64680000.00000001,25000000.0,109000000.0,35000000.0,41800000.0,64680000.00000001,41800000.0,40000000.0,25000000.0,45000000.0,90000000.0,47000000.0,69700000.0,69700000.0,40000000.0,29000000.0,35000000.0,40000000.0,40000000.0,41800000.0,45000000.0,40000000.0,69700000.0,45000000.0,35000000.0,40000000.0,64680000.00000001,35000000.0,30800000.0,25000000.0,40000000.0,64680000.00000001,40000000.0,30800000.0,40000000.0,40000000.0,45000000.0,40000000.0,30800000.0,40000000.0,35000000.0,30800000.0,40000000.0,30800000.0,40000000.0,45000000.0,40000000.0,30800000.0,40000000.0,25000000.0,30800000.0,40000000.0,40000000.0,69700000.0,40000000.0,35000000.0,40000000.0,29750000.0,40000000.0,40000000.0,40000000.0,25000000.0,40000000.0,20000000.0,40000000.0,40000000.0,69700000.0,25000000.0,40000000.0,29750000.0,40000000.0,40000000.0,45000000.0,69700000.0,35000000.0,30800000.0,35000000.0,25000000.0,40000000.0,40000000.0,30800000.0,136600000.0,29750000.0,35000000.0,40000000.0,30800000.0,136600000.0,40000000.0,136600000.0,136600000.0,35000000.0,35000000.0,30800000.0,30800000.0,30800000.0,30800000.0,30800000.0,30800000.0,30800000.0,30800000.0,59000000.0,59000000.0,59000000.0,59000000.0,59000000.0,59000000.0,59000000.0,59000000.0,59000000.0,59000000.0,59000000.0,59000000.0,59000000.0,59000000.0,59000000.0,59000000.0,59000000.0,59000000.0,59000000.0,59000000.0,59000000.0,63230000.0,63230000.0,63230000.0,63230000.0],\"coloraxis\":\"coloraxis\",\"symbol\":\"circle\"},\"mode\":\"markers\",\"name\":\"\",\"orientation\":\"v\",\"showlegend\":false,\"x\":[2020.0,2020.0,2020.0,2020.0,2020.0,2020.0,2020.0,2020.0,2020.0,2020.0,2020.0,2020.0,2020.0,2020.0,2020.0,2020.0,2020.0,2020.0,2020.0,2020.0,2020.0,2020.0,2020.0,2020.0,2020.0,2020.0,2020.0,2020.0,2020.0,2020.0,2020.0,2020.0,2020.0,2020.0,2020.0,2020.0,2020.0,2020.0,2020.0,2020.0,2020.0,2020.0,2020.0,2020.0,2020.0,2020.0,2020.0,2020.0,2020.0,2020.0,2020.0,2020.0,2019.0,2019.0,2019.0,2019.0,2019.0,2019.0,2019.0,2019.0,2019.0,2019.0,2019.0,2019.0,2019.0,2019.0,2019.0,2019.0,2019.0,2019.0,2019.0,2019.0,2019.0,2019.0,2019.0,2019.0,2019.0,2019.0,2019.0,2019.0,2019.0,2019.0,2019.0,2019.0,2019.0,2019.0,2019.0,2019.0,2019.0,2019.0,2019.0,2019.0,2019.0,2019.0,2019.0,2019.0,2019.0,2019.0,2019.0,2019.0,2019.0,2019.0,2019.0,2019.0,2019.0,2019.0,2019.0,2019.0,2019.0,2019.0,2019.0,2019.0,2019.0,2019.0,2019.0,2019.0,2019.0,2019.0,2019.0,2019.0,2019.0,2019.0,2019.0,2019.0,2019.0,2018.0,2018.0,2018.0,2018.0,2018.0,2018.0,2018.0,2018.0,2018.0,2018.0,2018.0,2018.0,2018.0,2018.0,2018.0,2018.0,2018.0,2018.0,2018.0,2018.0,2018.0,2018.0,2018.0,2018.0,2018.0,2018.0,2018.0,2018.0,2018.0,2018.0,2018.0,2018.0,2018.0,2018.0,2018.0,2018.0,2018.0,2018.0,2018.0,2018.0,2018.0,2018.0,2018.0,2018.0,2018.0,2018.0,2018.0,2018.0,2018.0,2018.0,2018.0,2018.0,2018.0,2018.0,2018.0,2018.0,2018.0,2018.0,2018.0,2018.0,2018.0,2018.0,2018.0,2018.0,2018.0,2018.0,2018.0,2018.0,2018.0,2018.0,2018.0,2018.0,2018.0,2018.0,2018.0,2018.0,2018.0,2018.0,2018.0,2018.0,2018.0,2018.0,2018.0,2018.0,2018.0,2018.0,2018.0,2018.0,2017.0,2017.0,2017.0,2017.0,2017.0,2017.0,2017.0,2017.0,2017.0,2017.0,2017.0,2017.0,2017.0,2017.0,2017.0,2017.0,2017.0,2017.0,2017.0,2017.0,2017.0,2017.0,2017.0,2017.0,2017.0,2017.0,2017.0,2017.0,2017.0,2017.0,2017.0,2017.0,2017.0,2017.0,2017.0,2017.0,2017.0,2017.0,2017.0,2017.0,2017.0,2017.0,2017.0,2017.0,2017.0,2017.0,2017.0,2017.0,2017.0,2017.0,2017.0,2017.0,2017.0,2017.0,2017.0,2017.0,2017.0,2017.0,2017.0,2017.0,2017.0,2017.0,2017.0,2017.0,2017.0,2017.0,2016.0,2016.0,2016.0,2016.0,2016.0,2016.0,2016.0,2016.0,2016.0,2016.0,2016.0,2016.0,2016.0,2016.0,2016.0,2016.0,2016.0,2016.0,2016.0,2016.0,2016.0,2016.0,2016.0,2016.0,2016.0,2016.0,2016.0,2016.0,2016.0,2016.0,2016.0,2016.0,2016.0,2016.0,2016.0,2016.0,2016.0,2016.0,2016.0,2016.0,2016.0,2016.0,2016.0,2016.0,2016.0,2016.0,2016.0,2016.0,2016.0,2016.0,2016.0,2016.0,2016.0,2016.0,2016.0,2016.0,2016.0,2016.0,2016.0,2016.0,2016.0,2016.0,2016.0,2016.0,2015.0,2015.0,2015.0,2015.0,2015.0,2015.0,2015.0,2015.0,2015.0,2015.0,2015.0,2015.0,2015.0,2015.0,2015.0,2015.0,2015.0,2015.0,2015.0,2015.0,2015.0,2015.0,2015.0,2015.0,2015.0,2015.0,2015.0,2015.0,2015.0,2015.0,2015.0,2015.0,2015.0,2015.0,2015.0,2015.0,2015.0,2014.0,2014.0,2014.0,2014.0,2014.0,2014.0,2014.0,2014.0,2014.0,2014.0,2014.0,2014.0,2014.0,2014.0,2014.0,2014.0,2014.0,2014.0,2014.0,2014.0,2014.0,2014.0,2014.0,2014.0,2014.0,2014.0,2014.0,2014.0,2014.0,2014.0,2014.0,2014.0,2014.0,2014.0,2014.0,2014.0,2014.0,2014.0,2014.0,2014.0,2014.0,2013.0,2013.0,2013.0,2013.0,2013.0,2013.0,2013.0,2013.0,2013.0,2013.0,2013.0,2013.0,2013.0,2013.0,2013.0,2013.0,2013.0,2013.0,2013.0,2013.0,2013.0,2013.0,2013.0,2013.0,2013.0,2013.0,2013.0,2013.0,2013.0,2013.0,2013.0,2013.0,2013.0,2012.0,2012.0,2012.0,2012.0,2012.0,2012.0,2012.0,2012.0,2012.0,2012.0,2012.0,2012.0,2012.0,2012.0,2012.0,2012.0,2012.0,2012.0,2012.0,2012.0,2012.0,2012.0,2012.0,2012.0,2011.0,2011.0,2011.0,2011.0,2011.0,2011.0,2011.0,2011.0,2011.0,2011.0,2011.0,2011.0,2011.0,2011.0,2011.0,2011.0,2011.0,2011.0,2011.0,2011.0,2011.0,2011.0,2011.0,2011.0,2011.0,2011.0,2010.0,2010.0,2010.0,2010.0,2010.0,2010.0,2010.0,2010.0,2010.0,2010.0,2010.0,2010.0,2010.0,2010.0,2010.0,2010.0,2010.0,2010.0,2010.0,2010.0,2010.0,2010.0,2010.0,2010.0,2010.0,2010.0,2009.0,2009.0,2009.0,2009.0,2009.0,2009.0,2009.0,2009.0,2009.0,2009.0,2009.0,2009.0,2009.0,2009.0,2009.0,2009.0,2009.0,2009.0,2009.0,2009.0,2009.0,2009.0,2009.0,2009.0,2009.0,2008.0,2008.0,2008.0,2008.0,2008.0,2008.0,2008.0,2008.0,2008.0,2008.0,2008.0,2008.0,2008.0,2008.0,2008.0,2008.0,2008.0,2008.0,2008.0,2008.0,2008.0,2008.0,2008.0,2008.0,2007.0,2007.0,2007.0,2007.0,2007.0,2007.0,2007.0,2007.0,2007.0,2007.0,2007.0,2007.0,2007.0,2007.0,2007.0,2007.0,2007.0,2007.0,2007.0,2007.0,2007.0,2007.0,2007.0,2007.0,2007.0,2007.0,2006.0,2006.0,2006.0,2006.0,2006.0,2006.0,2006.0,2006.0,2006.0,2006.0,2006.0,2006.0,2006.0,2006.0,2006.0,2006.0,2006.0,2006.0,2006.0,2006.0,2006.0,2006.0,2006.0,2006.0,2005.0,2005.0,2005.0,2005.0,2005.0,2005.0,2005.0,2005.0,2005.0,2005.0,2005.0,2005.0,2005.0,2005.0,2004.0,2004.0,2004.0,2004.0,2004.0,2004.0,2004.0,2004.0,2004.0,2004.0,2004.0,2004.0,2004.0,2004.0,2004.0,2004.0,2004.0,2003.0,2003.0,2003.0,2003.0,2003.0,2003.0,2003.0,2003.0,2003.0,2003.0,2003.0,2003.0,2003.0,2003.0,2003.0,2003.0,2003.0,2003.0,2003.0,2002.0,2002.0,2002.0,2002.0,2002.0,2002.0,2002.0,2002.0,2002.0,2002.0,2002.0,2001.0,2001.0,2001.0,2001.0,2000.0,2000.0,2000.0,2000.0,2000.0,2000.0,2000.0,2000.0,2000.0,2000.0,2000.0,1999.0,1999.0,1999.0,1999.0,1999.0,1999.0,1999.0,1999.0,1999.0,1999.0,1998.0,1998.0,1998.0,1998.0,1998.0,1998.0,1998.0,1998.0,1998.0,1998.0,1998.0,1998.0,1998.0,1997.0,1997.0,1997.0,1997.0,1997.0,1997.0,1997.0,1997.0,1997.0,1997.0,1996.0,1996.0,1996.0,1996.0,1996.0,1996.0,1996.0,1995.0,1995.0,1995.0,1994.0,1994.0,1994.0,1994.0,1994.0,1994.0,1994.0,1994.0,1994.0,1993.0,1993.0,1993.0,1993.0,1993.0,1992.0,1992.0,1992.0,1992.0,1991.0,1990.0,1990.0,1990.0,1990.0,1990.0,1989.0,1988.0,1988.0,1987.0,1987.0,1986.0,1985.0,1984.0,1983.0,1982.0,1969.0,1969.0,1969.0,1969.0,1968.0,1968.0,1968.0,1968.0,1968.0,1968.0,1968.0,1968.0,1967.0,1967.0,1967.0,1967.0,1967.0,1967.0,1966.0,1966.0,1966.0,1965.0,1965.0,1964.0,1964.0],\"xaxis\":\"x\",\"y\":[50000000.0,29750000.0,65000000.0,145000000.0,64680000.00000001,48500000.0,50000000.0,90000000.0,46000000.0,28300000.0,29150000.0,29750000.0,7500000.0,64680000.00000001,50000000.0,29150000.0,29750000.0,50000000.0,7500000.0,30800000.0,50000000.0,29750000.0,50000000.0,5300000.0,12000000.0,112500000.0,120000000.0,48500000.0,50000000.0,29150000.0,48500000.0,153000000.0,30800000.0,48500000.0,50000000.0,29150000.0,50000000.0,48500000.0,29750000.0,200000000.0,50000000.0,85000000.0,115000000.0,90000000.0,48500000.0,7500000.0,50000000.0,50000000.0,200000000.0,29750000.0,29150000.0,50000000.0,41800000.0,65000000.0,64680000.00000001,50000000.0,21000000.0,48500000.0,48500000.0,7500000.0,50000000.0,64680000.00000001,31000000.0,200000000.0,50000000.0,29150000.0,64680000.00000001,85000000.0,29150000.0,7500000.0,40000000.0,65000000.0,64680000.00000001,48500000.0,29750000.0,112500000.0,5300000.0,64680000.00000001,41800000.0,164000000.0,48500000.0,7500000.0,29150000.0,7500000.0,153000000.0,50000000.0,200000000.0,65000000.0,48500000.0,48500000.0,30800000.0,50000000.0,62000000.0,65000000.0,37000000.0,7500000.0,90000000.0,29150000.0,200000000.0,50000000.0,5300000.0,65000000.0,50000000.0,64680000.00000001,21000000.0,7500000.0,50000000.0,64680000.00000001,29150000.0,85000000.0,90000000.0,48500000.0,21000000.0,29150000.0,7500000.0,37000000.0,29150000.0,50000000.0,50000000.0,200000000.0,5300000.0,350000000.0,39000000.0,50000000.0,29150000.0,48500000.0,50000000.0,5300000.0,65000000.0,47000000.0,7500000.0,29150000.0,29750000.0,50000000.0,200000000.0,50000000.0,41800000.0,21000000.0,37000000.0,29750000.0,85000000.0,50000000.0,62000000.0,7500000.0,48500000.0,29150000.0,90000000.0,30800000.0,35000000.0,64680000.00000001,200000000.0,153000000.0,30800000.0,50000000.0,200000000.0,112500000.0,21000000.0,50000000.0,30800000.0,37000000.0,350000000.0,50000000.0,64680000.00000001,50000000.0,50000000.0,48500000.0,69700000.0,30800000.0,62000000.0,30800000.0,90000000.0,69700000.0,62000000.0,29750000.0,62000000.0,85000000.0,64680000.00000001,50000000.0,64680000.00000001,109000000.0,29150000.0,5300000.0,41800000.0,62000000.0,65000000.0,153000000.0,31000000.0,64680000.00000001,200000000.0,62000000.0,64680000.00000001,62000000.0,47000000.0,29750000.0,62000000.0,145000000.0,90000000.0,62000000.0,48500000.0,90000000.0,29750000.0,48500000.0,62000000.0,200000000.0,30800000.0,7500000.0,115000000.0,5300000.0,39000000.0,29750000.0,31000000.0,29750000.0,62000000.0,30800000.0,29750000.0,62000000.0,90000000.0,62000000.0,29150000.0,29750000.0,35000000.0,30800000.0,64680000.00000001,85000000.0,37000000.0,45000000.0,62000000.0,123000000.0,48500000.0,41800000.0,62000000.0,90000000.0,62000000.0,29750000.0,200000000.0,30800000.0,65000000.0,145000000.0,65000000.0,62000000.0,31000000.0,46000000.0,62000000.0,109000000.0,65000000.0,62000000.0,37000000.0,48500000.0,62000000.0,200000000.0,62000000.0,62000000.0,31000000.0,29150000.0,64680000.00000001,48500000.0,65000000.0,62000000.0,62000000.0,200000000.0,90000000.0,7500000.0,62000000.0,47000000.0,200000000.0,62000000.0,109000000.0,29150000.0,62000000.0,90000000.0,62000000.0,37000000.0,109000000.0,62000000.0,31000000.0,200000000.0,109000000.0,62000000.0,29150000.0,29750000.0,200000000.0,29750000.0,130000000.0,40000000.0,29150000.0,112500000.0,31000000.0,37000000.0,145000000.0,29750000.0,109000000.0,5300000.0,90000000.0,85000000.0,200000000.0,25000000.0,37000000.0,115000000.0,47000000.0,62000000.0,64680000.00000001,200000000.0,164000000.0,29750000.0,62000000.0,64680000.00000001,29150000.0,123000000.0,62000000.0,64680000.00000001,153000000.0,31000000.0,200000000.0,62000000.0,350000000.0,65000000.0,41800000.0,64680000.00000001,48500000.0,62000000.0,29750000.0,62000000.0,31000000.0,62000000.0,29750000.0,48500000.0,69700000.0,48500000.0,109000000.0,65000000.0,35000000.0,31000000.0,200000000.0,62000000.0,90000000.0,41800000.0,48500000.0,109000000.0,65000000.0,200000000.0,31000000.0,56500000.0,29150000.0,62000000.0,21000000.0,109000000.0,37000000.0,200000000.0,109000000.0,109000000.0,123000000.0,200000000.0,31000000.0,41800000.0,153000000.0,47000000.0,200000000.0,112500000.0,200000000.0,109000000.0,31000000.0,56500000.0,37000000.0,200000000.0,120000000.0,56500000.0,200000000.0,56500000.0,41800000.0,31000000.0,90000000.0,29000000.0,164000000.0,123000000.0,56500000.0,56500000.0,37000000.0,90000000.0,153000000.0,56500000.0,62000000.0,145000000.0,200000000.0,350000000.0,90000000.0,29000000.0,109000000.0,80000000.0,200000000.0,31000000.0,90000000.0,56500000.0,109000000.0,200000000.0,56500000.0,109000000.0,56500000.0,109000000.0,164000000.0,56500000.0,80000000.0,41800000.0,21000000.0,29000000.0,90000000.0,41800000.0,109000000.0,164000000.0,37000000.0,56500000.0,145000000.0,31000000.0,109000000.0,200000000.0,90000000.0,164000000.0,200000000.0,109000000.0,80000000.0,56500000.0,47000000.0,41800000.0,120000000.0,56500000.0,41800000.0,29000000.0,40000000.0,109000000.0,31000000.0,56500000.0,140000000.0,80000000.0,41800000.0,55000000.0,200000000.0,350000000.0,29000000.0,112500000.0,200000000.0,153000000.0,65000000.0,31000000.0,40000000.0,109000000.0,37000000.0,80000000.0,109000000.0,59500000.0,21000000.0,109000000.0,200000000.0,109000000.0,90000000.0,41800000.0,200000000.0,120000000.0,80000000.0,200000000.0,59500000.0,164000000.0,200000000.0,109000000.0,21000000.0,109000000.0,200000000.0,41800000.0,112500000.0,200000000.0,350000000.0,109000000.0,40000000.0,59500000.0,90000000.0,200000000.0,140000000.0,31000000.0,153000000.0,37000000.0,80000000.0,90000000.0,145000000.0,21000000.0,46000000.0,90000000.0,200000000.0,90000000.0,29000000.0,200000000.0,153000000.0,164000000.0,31000000.0,40000000.0,200000000.0,109000000.0,200000000.0,25000000.0,115000000.0,164000000.0,120000000.0,45000000.0,40000000.0,41800000.0,112500000.0,350000000.0,200000000.0,47000000.0,59500000.0,200000000.0,350000000.0,46000000.0,200000000.0,46000000.0,120000000.0,41800000.0,140000000.0,200000000.0,21000000.0,200000000.0,29000000.0,29000000.0,59500000.0,41800000.0,164000000.0,200000000.0,90000000.0,120000000.0,47000000.0,29000000.0,164000000.0,109000000.0,90000000.0,130000000.0,41800000.0,200000000.0,109000000.0,200000000.0,21000000.0,112500000.0,109000000.0,200000000.0,29000000.0,7000000.0,41800000.0,200000000.0,164000000.0,123000000.0,40000000.0,200000000.0,21000000.0,123000000.0,41800000.0,45000000.0,200000000.0,90000000.0,350000000.0,200000000.0,29750000.0,29750000.0,29150000.0,64680000.00000001,31000000.0,40000000.0,29000000.0,7000000.0,29000000.0,200000000.0,7000000.0,200000000.0,200000000.0,64680000.00000001,41800000.0,21000000.0,20140000.0,200000000.0,40000000.0,123000000.0,115000000.0,90000000.0,21000000.0,109000000.0,200000000.0,64680000.00000001,350000000.0,123000000.0,64680000.00000001,47000000.0,200000000.0,29000000.0,109000000.0,29000000.0,69700000.0,29750000.0,29150000.0,200000000.0,40000000.0,40000000.0,21000000.0,29000000.0,69700000.0,30800000.0,7000000.0,200000000.0,109000000.0,69700000.0,25000000.0,40000000.0,200000000.0,69700000.0,133000000.0,64680000.00000001,200000000.0,69700000.0,90000000.0,30800000.0,200000000.0,41800000.0,29000000.0,29000000.0,47000000.0,164000000.0,200000000.0,164000000.0,64680000.00000001,115000000.0,40000000.0,40000000.0,7000000.0,200000000.0,153000000.0,200000000.0,41800000.0,40000000.0,29750000.0,41800000.0,29000000.0,109000000.0,30800000.0,29750000.0,25000000.0,40000000.0,40000000.0,130000000.0,200000000.0,350000000.0,190000000.0,135000000.0,30800000.0,48500000.0,64680000.00000001,69700000.0,29750000.0,47000000.0,64680000.00000001,30800000.0,30800000.0,190000000.0,29000000.0,45000000.0,30800000.0,190000000.0,30800000.0,69700000.0,29750000.0,41800000.0,64680000.00000001,35000000.0,25000000.0,133000000.0,40000000.0,135000000.0,41800000.0,40000000.0,69700000.0,109000000.0,47000000.0,40000000.0,133000000.0,40000000.0,35000000.0,90000000.0,200000000.0,164000000.0,64680000.00000001,25000000.0,109000000.0,35000000.0,41800000.0,64680000.00000001,41800000.0,40000000.0,25000000.0,45000000.0,90000000.0,47000000.0,69700000.0,69700000.0,40000000.0,29000000.0,35000000.0,40000000.0,40000000.0,41800000.0,45000000.0,40000000.0,69700000.0,45000000.0,35000000.0,40000000.0,64680000.00000001,35000000.0,30800000.0,25000000.0,40000000.0,64680000.00000001,40000000.0,30800000.0,40000000.0,40000000.0,45000000.0,40000000.0,30800000.0,40000000.0,35000000.0,30800000.0,40000000.0,30800000.0,40000000.0,45000000.0,40000000.0,30800000.0,40000000.0,25000000.0,30800000.0,40000000.0,40000000.0,69700000.0,40000000.0,35000000.0,40000000.0,29750000.0,40000000.0,40000000.0,40000000.0,25000000.0,40000000.0,20000000.0,40000000.0,40000000.0,69700000.0,25000000.0,40000000.0,29750000.0,40000000.0,40000000.0,45000000.0,69700000.0,35000000.0,30800000.0,35000000.0,25000000.0,40000000.0,40000000.0,30800000.0,136600000.0,29750000.0,35000000.0,40000000.0,30800000.0,136600000.0,40000000.0,136600000.0,136600000.0,35000000.0,35000000.0,30800000.0,30800000.0,30800000.0,30800000.0,30800000.0,30800000.0,30800000.0,30800000.0,59000000.0,59000000.0,59000000.0,59000000.0,59000000.0,59000000.0,59000000.0,59000000.0,59000000.0,59000000.0,59000000.0,59000000.0,59000000.0,59000000.0,59000000.0,59000000.0,59000000.0,59000000.0,59000000.0,59000000.0,59000000.0,63230000.0,63230000.0,63230000.0,63230000.0],\"yaxis\":\"y\",\"type\":\"scatter\"},{\"hovertemplate\":\"\\u003cb\\u003eOLS trendline\\u003c\\u002fb\\u003e\\u003cbr\\u003e Launch Cost = 410840 * Year + -7.49297e+08\\u003cbr\\u003eR\\u003csup\\u003e2\\u003c\\u002fsup\\u003e=0.005091\\u003cbr\\u003e\\u003cbr\\u003eYear=%{x}\\u003cbr\\u003e Launch Cost=%{y} \\u003cb\\u003e(trend)\\u003c\\u002fb\\u003e\\u003cextra\\u003e\\u003c\\u002fextra\\u003e\",\"legendgroup\":\"\",\"marker\":{\"symbol\":\"circle\"},\"mode\":\"lines\",\"name\":\"\",\"showlegend\":false,\"x\":[1964.0,1964.0,1965.0,1965.0,1966.0,1966.0,1966.0,1967.0,1967.0,1967.0,1967.0,1967.0,1967.0,1968.0,1968.0,1968.0,1968.0,1968.0,1968.0,1968.0,1968.0,1969.0,1969.0,1969.0,1969.0,1982.0,1983.0,1984.0,1985.0,1986.0,1987.0,1987.0,1988.0,1988.0,1989.0,1990.0,1990.0,1990.0,1990.0,1990.0,1991.0,1992.0,1992.0,1992.0,1992.0,1993.0,1993.0,1993.0,1993.0,1993.0,1994.0,1994.0,1994.0,1994.0,1994.0,1994.0,1994.0,1994.0,1994.0,1995.0,1995.0,1995.0,1996.0,1996.0,1996.0,1996.0,1996.0,1996.0,1996.0,1997.0,1997.0,1997.0,1997.0,1997.0,1997.0,1997.0,1997.0,1997.0,1997.0,1998.0,1998.0,1998.0,1998.0,1998.0,1998.0,1998.0,1998.0,1998.0,1998.0,1998.0,1998.0,1998.0,1999.0,1999.0,1999.0,1999.0,1999.0,1999.0,1999.0,1999.0,1999.0,1999.0,2000.0,2000.0,2000.0,2000.0,2000.0,2000.0,2000.0,2000.0,2000.0,2000.0,2000.0,2001.0,2001.0,2001.0,2001.0,2002.0,2002.0,2002.0,2002.0,2002.0,2002.0,2002.0,2002.0,2002.0,2002.0,2002.0,2003.0,2003.0,2003.0,2003.0,2003.0,2003.0,2003.0,2003.0,2003.0,2003.0,2003.0,2003.0,2003.0,2003.0,2003.0,2003.0,2003.0,2003.0,2003.0,2004.0,2004.0,2004.0,2004.0,2004.0,2004.0,2004.0,2004.0,2004.0,2004.0,2004.0,2004.0,2004.0,2004.0,2004.0,2004.0,2004.0,2005.0,2005.0,2005.0,2005.0,2005.0,2005.0,2005.0,2005.0,2005.0,2005.0,2005.0,2005.0,2005.0,2005.0,2006.0,2006.0,2006.0,2006.0,2006.0,2006.0,2006.0,2006.0,2006.0,2006.0,2006.0,2006.0,2006.0,2006.0,2006.0,2006.0,2006.0,2006.0,2006.0,2006.0,2006.0,2006.0,2006.0,2006.0,2007.0,2007.0,2007.0,2007.0,2007.0,2007.0,2007.0,2007.0,2007.0,2007.0,2007.0,2007.0,2007.0,2007.0,2007.0,2007.0,2007.0,2007.0,2007.0,2007.0,2007.0,2007.0,2007.0,2007.0,2007.0,2007.0,2008.0,2008.0,2008.0,2008.0,2008.0,2008.0,2008.0,2008.0,2008.0,2008.0,2008.0,2008.0,2008.0,2008.0,2008.0,2008.0,2008.0,2008.0,2008.0,2008.0,2008.0,2008.0,2008.0,2008.0,2009.0,2009.0,2009.0,2009.0,2009.0,2009.0,2009.0,2009.0,2009.0,2009.0,2009.0,2009.0,2009.0,2009.0,2009.0,2009.0,2009.0,2009.0,2009.0,2009.0,2009.0,2009.0,2009.0,2009.0,2009.0,2010.0,2010.0,2010.0,2010.0,2010.0,2010.0,2010.0,2010.0,2010.0,2010.0,2010.0,2010.0,2010.0,2010.0,2010.0,2010.0,2010.0,2010.0,2010.0,2010.0,2010.0,2010.0,2010.0,2010.0,2010.0,2010.0,2011.0,2011.0,2011.0,2011.0,2011.0,2011.0,2011.0,2011.0,2011.0,2011.0,2011.0,2011.0,2011.0,2011.0,2011.0,2011.0,2011.0,2011.0,2011.0,2011.0,2011.0,2011.0,2011.0,2011.0,2011.0,2011.0,2012.0,2012.0,2012.0,2012.0,2012.0,2012.0,2012.0,2012.0,2012.0,2012.0,2012.0,2012.0,2012.0,2012.0,2012.0,2012.0,2012.0,2012.0,2012.0,2012.0,2012.0,2012.0,2012.0,2012.0,2013.0,2013.0,2013.0,2013.0,2013.0,2013.0,2013.0,2013.0,2013.0,2013.0,2013.0,2013.0,2013.0,2013.0,2013.0,2013.0,2013.0,2013.0,2013.0,2013.0,2013.0,2013.0,2013.0,2013.0,2013.0,2013.0,2013.0,2013.0,2013.0,2013.0,2013.0,2013.0,2013.0,2014.0,2014.0,2014.0,2014.0,2014.0,2014.0,2014.0,2014.0,2014.0,2014.0,2014.0,2014.0,2014.0,2014.0,2014.0,2014.0,2014.0,2014.0,2014.0,2014.0,2014.0,2014.0,2014.0,2014.0,2014.0,2014.0,2014.0,2014.0,2014.0,2014.0,2014.0,2014.0,2014.0,2014.0,2014.0,2014.0,2014.0,2014.0,2014.0,2014.0,2014.0,2015.0,2015.0,2015.0,2015.0,2015.0,2015.0,2015.0,2015.0,2015.0,2015.0,2015.0,2015.0,2015.0,2015.0,2015.0,2015.0,2015.0,2015.0,2015.0,2015.0,2015.0,2015.0,2015.0,2015.0,2015.0,2015.0,2015.0,2015.0,2015.0,2015.0,2015.0,2015.0,2015.0,2015.0,2015.0,2015.0,2015.0,2016.0,2016.0,2016.0,2016.0,2016.0,2016.0,2016.0,2016.0,2016.0,2016.0,2016.0,2016.0,2016.0,2016.0,2016.0,2016.0,2016.0,2016.0,2016.0,2016.0,2016.0,2016.0,2016.0,2016.0,2016.0,2016.0,2016.0,2016.0,2016.0,2016.0,2016.0,2016.0,2016.0,2016.0,2016.0,2016.0,2016.0,2016.0,2016.0,2016.0,2016.0,2016.0,2016.0,2016.0,2016.0,2016.0,2016.0,2016.0,2016.0,2016.0,2016.0,2016.0,2016.0,2016.0,2016.0,2016.0,2016.0,2016.0,2016.0,2016.0,2016.0,2016.0,2016.0,2016.0,2017.0,2017.0,2017.0,2017.0,2017.0,2017.0,2017.0,2017.0,2017.0,2017.0,2017.0,2017.0,2017.0,2017.0,2017.0,2017.0,2017.0,2017.0,2017.0,2017.0,2017.0,2017.0,2017.0,2017.0,2017.0,2017.0,2017.0,2017.0,2017.0,2017.0,2017.0,2017.0,2017.0,2017.0,2017.0,2017.0,2017.0,2017.0,2017.0,2017.0,2017.0,2017.0,2017.0,2017.0,2017.0,2017.0,2017.0,2017.0,2017.0,2017.0,2017.0,2017.0,2017.0,2017.0,2017.0,2017.0,2017.0,2017.0,2017.0,2017.0,2017.0,2017.0,2017.0,2017.0,2017.0,2017.0,2018.0,2018.0,2018.0,2018.0,2018.0,2018.0,2018.0,2018.0,2018.0,2018.0,2018.0,2018.0,2018.0,2018.0,2018.0,2018.0,2018.0,2018.0,2018.0,2018.0,2018.0,2018.0,2018.0,2018.0,2018.0,2018.0,2018.0,2018.0,2018.0,2018.0,2018.0,2018.0,2018.0,2018.0,2018.0,2018.0,2018.0,2018.0,2018.0,2018.0,2018.0,2018.0,2018.0,2018.0,2018.0,2018.0,2018.0,2018.0,2018.0,2018.0,2018.0,2018.0,2018.0,2018.0,2018.0,2018.0,2018.0,2018.0,2018.0,2018.0,2018.0,2018.0,2018.0,2018.0,2018.0,2018.0,2018.0,2018.0,2018.0,2018.0,2018.0,2018.0,2018.0,2018.0,2018.0,2018.0,2018.0,2018.0,2018.0,2018.0,2018.0,2018.0,2018.0,2018.0,2018.0,2018.0,2018.0,2018.0,2019.0,2019.0,2019.0,2019.0,2019.0,2019.0,2019.0,2019.0,2019.0,2019.0,2019.0,2019.0,2019.0,2019.0,2019.0,2019.0,2019.0,2019.0,2019.0,2019.0,2019.0,2019.0,2019.0,2019.0,2019.0,2019.0,2019.0,2019.0,2019.0,2019.0,2019.0,2019.0,2019.0,2019.0,2019.0,2019.0,2019.0,2019.0,2019.0,2019.0,2019.0,2019.0,2019.0,2019.0,2019.0,2019.0,2019.0,2019.0,2019.0,2019.0,2019.0,2019.0,2019.0,2019.0,2019.0,2019.0,2019.0,2019.0,2019.0,2019.0,2019.0,2019.0,2019.0,2019.0,2019.0,2019.0,2019.0,2019.0,2019.0,2019.0,2019.0,2019.0,2019.0,2020.0,2020.0,2020.0,2020.0,2020.0,2020.0,2020.0,2020.0,2020.0,2020.0,2020.0,2020.0,2020.0,2020.0,2020.0,2020.0,2020.0,2020.0,2020.0,2020.0,2020.0,2020.0,2020.0,2020.0,2020.0,2020.0,2020.0,2020.0,2020.0,2020.0,2020.0,2020.0,2020.0,2020.0,2020.0,2020.0,2020.0,2020.0,2020.0,2020.0,2020.0,2020.0,2020.0,2020.0,2020.0,2020.0,2020.0,2020.0,2020.0,2020.0,2020.0,2020.0],\"xaxis\":\"x\",\"y\":[57593184.64693987,57593184.64693987,58004024.836416006,58004024.836416006,58414865.02589202,58414865.02589202,58414865.02589202,58825705.21536803,58825705.21536803,58825705.21536803,58825705.21536803,58825705.21536803,58825705.21536803,59236545.404844046,59236545.404844046,59236545.404844046,59236545.404844046,59236545.404844046,59236545.404844046,59236545.404844046,59236545.404844046,59647385.59432018,59647385.59432018,59647385.59432018,59647385.59432018,64988308.05750871,65399148.24698472,65809988.43646073,66220828.625936866,66631668.81541288,67042509.00488889,67042509.00488889,67453349.1943649,67453349.1943649,67864189.38384104,68275029.57331705,68275029.57331705,68275029.57331705,68275029.57331705,68275029.57331705,68685869.76279306,69096709.95226908,69096709.95226908,69096709.95226908,69096709.95226908,69507550.14174521,69507550.14174521,69507550.14174521,69507550.14174521,69507550.14174521,69918390.33122122,69918390.33122122,69918390.33122122,69918390.33122122,69918390.33122122,69918390.33122122,69918390.33122122,69918390.33122122,69918390.33122122,70329230.52069724,70329230.52069724,70329230.52069724,70740070.71017325,70740070.71017325,70740070.71017325,70740070.71017325,70740070.71017325,70740070.71017325,70740070.71017325,71150910.89964938,71150910.89964938,71150910.89964938,71150910.89964938,71150910.89964938,71150910.89964938,71150910.89964938,71150910.89964938,71150910.89964938,71150910.89964938,71561751.0891254,71561751.0891254,71561751.0891254,71561751.0891254,71561751.0891254,71561751.0891254,71561751.0891254,71561751.0891254,71561751.0891254,71561751.0891254,71561751.0891254,71561751.0891254,71561751.0891254,71972591.27860141,71972591.27860141,71972591.27860141,71972591.27860141,71972591.27860141,71972591.27860141,71972591.27860141,71972591.27860141,71972591.27860141,71972591.27860141,72383431.46807742,72383431.46807742,72383431.46807742,72383431.46807742,72383431.46807742,72383431.46807742,72383431.46807742,72383431.46807742,72383431.46807742,72383431.46807742,72383431.46807742,72794271.65755355,72794271.65755355,72794271.65755355,72794271.65755355,73205111.84702957,73205111.84702957,73205111.84702957,73205111.84702957,73205111.84702957,73205111.84702957,73205111.84702957,73205111.84702957,73205111.84702957,73205111.84702957,73205111.84702957,73615952.03650558,73615952.03650558,73615952.03650558,73615952.03650558,73615952.03650558,73615952.03650558,73615952.03650558,73615952.03650558,73615952.03650558,73615952.03650558,73615952.03650558,73615952.03650558,73615952.03650558,73615952.03650558,73615952.03650558,73615952.03650558,73615952.03650558,73615952.03650558,73615952.03650558,74026792.2259816,74026792.2259816,74026792.2259816,74026792.2259816,74026792.2259816,74026792.2259816,74026792.2259816,74026792.2259816,74026792.2259816,74026792.2259816,74026792.2259816,74026792.2259816,74026792.2259816,74026792.2259816,74026792.2259816,74026792.2259816,74026792.2259816,74437632.4154576,74437632.4154576,74437632.4154576,74437632.4154576,74437632.4154576,74437632.4154576,74437632.4154576,74437632.4154576,74437632.4154576,74437632.4154576,74437632.4154576,74437632.4154576,74437632.4154576,74437632.4154576,74848472.60493374,74848472.60493374,74848472.60493374,74848472.60493374,74848472.60493374,74848472.60493374,74848472.60493374,74848472.60493374,74848472.60493374,74848472.60493374,74848472.60493374,74848472.60493374,74848472.60493374,74848472.60493374,74848472.60493374,74848472.60493374,74848472.60493374,74848472.60493374,74848472.60493374,74848472.60493374,74848472.60493374,74848472.60493374,74848472.60493374,74848472.60493374,75259312.79440975,75259312.79440975,75259312.79440975,75259312.79440975,75259312.79440975,75259312.79440975,75259312.79440975,75259312.79440975,75259312.79440975,75259312.79440975,75259312.79440975,75259312.79440975,75259312.79440975,75259312.79440975,75259312.79440975,75259312.79440975,75259312.79440975,75259312.79440975,75259312.79440975,75259312.79440975,75259312.79440975,75259312.79440975,75259312.79440975,75259312.79440975,75259312.79440975,75259312.79440975,75670152.98388577,75670152.98388577,75670152.98388577,75670152.98388577,75670152.98388577,75670152.98388577,75670152.98388577,75670152.98388577,75670152.98388577,75670152.98388577,75670152.98388577,75670152.98388577,75670152.98388577,75670152.98388577,75670152.98388577,75670152.98388577,75670152.98388577,75670152.98388577,75670152.98388577,75670152.98388577,75670152.98388577,75670152.98388577,75670152.98388577,75670152.98388577,76080993.17336178,76080993.17336178,76080993.17336178,76080993.17336178,76080993.17336178,76080993.17336178,76080993.17336178,76080993.17336178,76080993.17336178,76080993.17336178,76080993.17336178,76080993.17336178,76080993.17336178,76080993.17336178,76080993.17336178,76080993.17336178,76080993.17336178,76080993.17336178,76080993.17336178,76080993.17336178,76080993.17336178,76080993.17336178,76080993.17336178,76080993.17336178,76080993.17336178,76491833.36283791,76491833.36283791,76491833.36283791,76491833.36283791,76491833.36283791,76491833.36283791,76491833.36283791,76491833.36283791,76491833.36283791,76491833.36283791,76491833.36283791,76491833.36283791,76491833.36283791,76491833.36283791,76491833.36283791,76491833.36283791,76491833.36283791,76491833.36283791,76491833.36283791,76491833.36283791,76491833.36283791,76491833.36283791,76491833.36283791,76491833.36283791,76491833.36283791,76491833.36283791,76902673.55231392,76902673.55231392,76902673.55231392,76902673.55231392,76902673.55231392,76902673.55231392,76902673.55231392,76902673.55231392,76902673.55231392,76902673.55231392,76902673.55231392,76902673.55231392,76902673.55231392,76902673.55231392,76902673.55231392,76902673.55231392,76902673.55231392,76902673.55231392,76902673.55231392,76902673.55231392,76902673.55231392,76902673.55231392,76902673.55231392,76902673.55231392,76902673.55231392,76902673.55231392,77313513.74178994,77313513.74178994,77313513.74178994,77313513.74178994,77313513.74178994,77313513.74178994,77313513.74178994,77313513.74178994,77313513.74178994,77313513.74178994,77313513.74178994,77313513.74178994,77313513.74178994,77313513.74178994,77313513.74178994,77313513.74178994,77313513.74178994,77313513.74178994,77313513.74178994,77313513.74178994,77313513.74178994,77313513.74178994,77313513.74178994,77313513.74178994,77724353.93126595,77724353.93126595,77724353.93126595,77724353.93126595,77724353.93126595,77724353.93126595,77724353.93126595,77724353.93126595,77724353.93126595,77724353.93126595,77724353.93126595,77724353.93126595,77724353.93126595,77724353.93126595,77724353.93126595,77724353.93126595,77724353.93126595,77724353.93126595,77724353.93126595,77724353.93126595,77724353.93126595,77724353.93126595,77724353.93126595,77724353.93126595,77724353.93126595,77724353.93126595,77724353.93126595,77724353.93126595,77724353.93126595,77724353.93126595,77724353.93126595,77724353.93126595,77724353.93126595,78135194.12074208,78135194.12074208,78135194.12074208,78135194.12074208,78135194.12074208,78135194.12074208,78135194.12074208,78135194.12074208,78135194.12074208,78135194.12074208,78135194.12074208,78135194.12074208,78135194.12074208,78135194.12074208,78135194.12074208,78135194.12074208,78135194.12074208,78135194.12074208,78135194.12074208,78135194.12074208,78135194.12074208,78135194.12074208,78135194.12074208,78135194.12074208,78135194.12074208,78135194.12074208,78135194.12074208,78135194.12074208,78135194.12074208,78135194.12074208,78135194.12074208,78135194.12074208,78135194.12074208,78135194.12074208,78135194.12074208,78135194.12074208,78135194.12074208,78135194.12074208,78135194.12074208,78135194.12074208,78135194.12074208,78546034.3102181,78546034.3102181,78546034.3102181,78546034.3102181,78546034.3102181,78546034.3102181,78546034.3102181,78546034.3102181,78546034.3102181,78546034.3102181,78546034.3102181,78546034.3102181,78546034.3102181,78546034.3102181,78546034.3102181,78546034.3102181,78546034.3102181,78546034.3102181,78546034.3102181,78546034.3102181,78546034.3102181,78546034.3102181,78546034.3102181,78546034.3102181,78546034.3102181,78546034.3102181,78546034.3102181,78546034.3102181,78546034.3102181,78546034.3102181,78546034.3102181,78546034.3102181,78546034.3102181,78546034.3102181,78546034.3102181,78546034.3102181,78546034.3102181,78956874.49969411,78956874.49969411,78956874.49969411,78956874.49969411,78956874.49969411,78956874.49969411,78956874.49969411,78956874.49969411,78956874.49969411,78956874.49969411,78956874.49969411,78956874.49969411,78956874.49969411,78956874.49969411,78956874.49969411,78956874.49969411,78956874.49969411,78956874.49969411,78956874.49969411,78956874.49969411,78956874.49969411,78956874.49969411,78956874.49969411,78956874.49969411,78956874.49969411,78956874.49969411,78956874.49969411,78956874.49969411,78956874.49969411,78956874.49969411,78956874.49969411,78956874.49969411,78956874.49969411,78956874.49969411,78956874.49969411,78956874.49969411,78956874.49969411,78956874.49969411,78956874.49969411,78956874.49969411,78956874.49969411,78956874.49969411,78956874.49969411,78956874.49969411,78956874.49969411,78956874.49969411,78956874.49969411,78956874.49969411,78956874.49969411,78956874.49969411,78956874.49969411,78956874.49969411,78956874.49969411,78956874.49969411,78956874.49969411,78956874.49969411,78956874.49969411,78956874.49969411,78956874.49969411,78956874.49969411,78956874.49969411,78956874.49969411,78956874.49969411,78956874.49969411,79367714.68917012,79367714.68917012,79367714.68917012,79367714.68917012,79367714.68917012,79367714.68917012,79367714.68917012,79367714.68917012,79367714.68917012,79367714.68917012,79367714.68917012,79367714.68917012,79367714.68917012,79367714.68917012,79367714.68917012,79367714.68917012,79367714.68917012,79367714.68917012,79367714.68917012,79367714.68917012,79367714.68917012,79367714.68917012,79367714.68917012,79367714.68917012,79367714.68917012,79367714.68917012,79367714.68917012,79367714.68917012,79367714.68917012,79367714.68917012,79367714.68917012,79367714.68917012,79367714.68917012,79367714.68917012,79367714.68917012,79367714.68917012,79367714.68917012,79367714.68917012,79367714.68917012,79367714.68917012,79367714.68917012,79367714.68917012,79367714.68917012,79367714.68917012,79367714.68917012,79367714.68917012,79367714.68917012,79367714.68917012,79367714.68917012,79367714.68917012,79367714.68917012,79367714.68917012,79367714.68917012,79367714.68917012,79367714.68917012,79367714.68917012,79367714.68917012,79367714.68917012,79367714.68917012,79367714.68917012,79367714.68917012,79367714.68917012,79367714.68917012,79367714.68917012,79367714.68917012,79367714.68917012,79778554.87864625,79778554.87864625,79778554.87864625,79778554.87864625,79778554.87864625,79778554.87864625,79778554.87864625,79778554.87864625,79778554.87864625,79778554.87864625,79778554.87864625,79778554.87864625,79778554.87864625,79778554.87864625,79778554.87864625,79778554.87864625,79778554.87864625,79778554.87864625,79778554.87864625,79778554.87864625,79778554.87864625,79778554.87864625,79778554.87864625,79778554.87864625,79778554.87864625,79778554.87864625,79778554.87864625,79778554.87864625,79778554.87864625,79778554.87864625,79778554.87864625,79778554.87864625,79778554.87864625,79778554.87864625,79778554.87864625,79778554.87864625,79778554.87864625,79778554.87864625,79778554.87864625,79778554.87864625,79778554.87864625,79778554.87864625,79778554.87864625,79778554.87864625,79778554.87864625,79778554.87864625,79778554.87864625,79778554.87864625,79778554.87864625,79778554.87864625,79778554.87864625,79778554.87864625,79778554.87864625,79778554.87864625,79778554.87864625,79778554.87864625,79778554.87864625,79778554.87864625,79778554.87864625,79778554.87864625,79778554.87864625,79778554.87864625,79778554.87864625,79778554.87864625,79778554.87864625,79778554.87864625,79778554.87864625,79778554.87864625,79778554.87864625,79778554.87864625,79778554.87864625,79778554.87864625,79778554.87864625,79778554.87864625,79778554.87864625,79778554.87864625,79778554.87864625,79778554.87864625,79778554.87864625,79778554.87864625,79778554.87864625,79778554.87864625,79778554.87864625,79778554.87864625,79778554.87864625,79778554.87864625,79778554.87864625,79778554.87864625,80189395.06812227,80189395.06812227,80189395.06812227,80189395.06812227,80189395.06812227,80189395.06812227,80189395.06812227,80189395.06812227,80189395.06812227,80189395.06812227,80189395.06812227,80189395.06812227,80189395.06812227,80189395.06812227,80189395.06812227,80189395.06812227,80189395.06812227,80189395.06812227,80189395.06812227,80189395.06812227,80189395.06812227,80189395.06812227,80189395.06812227,80189395.06812227,80189395.06812227,80189395.06812227,80189395.06812227,80189395.06812227,80189395.06812227,80189395.06812227,80189395.06812227,80189395.06812227,80189395.06812227,80189395.06812227,80189395.06812227,80189395.06812227,80189395.06812227,80189395.06812227,80189395.06812227,80189395.06812227,80189395.06812227,80189395.06812227,80189395.06812227,80189395.06812227,80189395.06812227,80189395.06812227,80189395.06812227,80189395.06812227,80189395.06812227,80189395.06812227,80189395.06812227,80189395.06812227,80189395.06812227,80189395.06812227,80189395.06812227,80189395.06812227,80189395.06812227,80189395.06812227,80189395.06812227,80189395.06812227,80189395.06812227,80189395.06812227,80189395.06812227,80189395.06812227,80189395.06812227,80189395.06812227,80189395.06812227,80189395.06812227,80189395.06812227,80189395.06812227,80189395.06812227,80189395.06812227,80189395.06812227,80600235.25759828,80600235.25759828,80600235.25759828,80600235.25759828,80600235.25759828,80600235.25759828,80600235.25759828,80600235.25759828,80600235.25759828,80600235.25759828,80600235.25759828,80600235.25759828,80600235.25759828,80600235.25759828,80600235.25759828,80600235.25759828,80600235.25759828,80600235.25759828,80600235.25759828,80600235.25759828,80600235.25759828,80600235.25759828,80600235.25759828,80600235.25759828,80600235.25759828,80600235.25759828,80600235.25759828,80600235.25759828,80600235.25759828,80600235.25759828,80600235.25759828,80600235.25759828,80600235.25759828,80600235.25759828,80600235.25759828,80600235.25759828,80600235.25759828,80600235.25759828,80600235.25759828,80600235.25759828,80600235.25759828,80600235.25759828,80600235.25759828,80600235.25759828,80600235.25759828,80600235.25759828,80600235.25759828,80600235.25759828,80600235.25759828,80600235.25759828,80600235.25759828,80600235.25759828],\"yaxis\":\"y\",\"type\":\"scatter\"}],                        {\"template\":{\"data\":{\"histogram2dcontour\":[{\"type\":\"histogram2dcontour\",\"colorbar\":{\"outlinewidth\":0,\"ticks\":\"\"},\"colorscale\":[[0.0,\"#0d0887\"],[0.1111111111111111,\"#46039f\"],[0.2222222222222222,\"#7201a8\"],[0.3333333333333333,\"#9c179e\"],[0.4444444444444444,\"#bd3786\"],[0.5555555555555556,\"#d8576b\"],[0.6666666666666666,\"#ed7953\"],[0.7777777777777778,\"#fb9f3a\"],[0.8888888888888888,\"#fdca26\"],[1.0,\"#f0f921\"]]}],\"choropleth\":[{\"type\":\"choropleth\",\"colorbar\":{\"outlinewidth\":0,\"ticks\":\"\"}}],\"histogram2d\":[{\"type\":\"histogram2d\",\"colorbar\":{\"outlinewidth\":0,\"ticks\":\"\"},\"colorscale\":[[0.0,\"#0d0887\"],[0.1111111111111111,\"#46039f\"],[0.2222222222222222,\"#7201a8\"],[0.3333333333333333,\"#9c179e\"],[0.4444444444444444,\"#bd3786\"],[0.5555555555555556,\"#d8576b\"],[0.6666666666666666,\"#ed7953\"],[0.7777777777777778,\"#fb9f3a\"],[0.8888888888888888,\"#fdca26\"],[1.0,\"#f0f921\"]]}],\"heatmap\":[{\"type\":\"heatmap\",\"colorbar\":{\"outlinewidth\":0,\"ticks\":\"\"},\"colorscale\":[[0.0,\"#0d0887\"],[0.1111111111111111,\"#46039f\"],[0.2222222222222222,\"#7201a8\"],[0.3333333333333333,\"#9c179e\"],[0.4444444444444444,\"#bd3786\"],[0.5555555555555556,\"#d8576b\"],[0.6666666666666666,\"#ed7953\"],[0.7777777777777778,\"#fb9f3a\"],[0.8888888888888888,\"#fdca26\"],[1.0,\"#f0f921\"]]}],\"heatmapgl\":[{\"type\":\"heatmapgl\",\"colorbar\":{\"outlinewidth\":0,\"ticks\":\"\"},\"colorscale\":[[0.0,\"#0d0887\"],[0.1111111111111111,\"#46039f\"],[0.2222222222222222,\"#7201a8\"],[0.3333333333333333,\"#9c179e\"],[0.4444444444444444,\"#bd3786\"],[0.5555555555555556,\"#d8576b\"],[0.6666666666666666,\"#ed7953\"],[0.7777777777777778,\"#fb9f3a\"],[0.8888888888888888,\"#fdca26\"],[1.0,\"#f0f921\"]]}],\"contourcarpet\":[{\"type\":\"contourcarpet\",\"colorbar\":{\"outlinewidth\":0,\"ticks\":\"\"}}],\"contour\":[{\"type\":\"contour\",\"colorbar\":{\"outlinewidth\":0,\"ticks\":\"\"},\"colorscale\":[[0.0,\"#0d0887\"],[0.1111111111111111,\"#46039f\"],[0.2222222222222222,\"#7201a8\"],[0.3333333333333333,\"#9c179e\"],[0.4444444444444444,\"#bd3786\"],[0.5555555555555556,\"#d8576b\"],[0.6666666666666666,\"#ed7953\"],[0.7777777777777778,\"#fb9f3a\"],[0.8888888888888888,\"#fdca26\"],[1.0,\"#f0f921\"]]}],\"surface\":[{\"type\":\"surface\",\"colorbar\":{\"outlinewidth\":0,\"ticks\":\"\"},\"colorscale\":[[0.0,\"#0d0887\"],[0.1111111111111111,\"#46039f\"],[0.2222222222222222,\"#7201a8\"],[0.3333333333333333,\"#9c179e\"],[0.4444444444444444,\"#bd3786\"],[0.5555555555555556,\"#d8576b\"],[0.6666666666666666,\"#ed7953\"],[0.7777777777777778,\"#fb9f3a\"],[0.8888888888888888,\"#fdca26\"],[1.0,\"#f0f921\"]]}],\"mesh3d\":[{\"type\":\"mesh3d\",\"colorbar\":{\"outlinewidth\":0,\"ticks\":\"\"}}],\"scatter\":[{\"marker\":{\"line\":{\"color\":\"#283442\"}},\"type\":\"scatter\"}],\"parcoords\":[{\"type\":\"parcoords\",\"line\":{\"colorbar\":{\"outlinewidth\":0,\"ticks\":\"\"}}}],\"scatterpolargl\":[{\"type\":\"scatterpolargl\",\"marker\":{\"colorbar\":{\"outlinewidth\":0,\"ticks\":\"\"}}}],\"bar\":[{\"error_x\":{\"color\":\"#f2f5fa\"},\"error_y\":{\"color\":\"#f2f5fa\"},\"marker\":{\"line\":{\"color\":\"rgb(17,17,17)\",\"width\":0.5},\"pattern\":{\"fillmode\":\"overlay\",\"size\":10,\"solidity\":0.2}},\"type\":\"bar\"}],\"scattergeo\":[{\"type\":\"scattergeo\",\"marker\":{\"colorbar\":{\"outlinewidth\":0,\"ticks\":\"\"}}}],\"scatterpolar\":[{\"type\":\"scatterpolar\",\"marker\":{\"colorbar\":{\"outlinewidth\":0,\"ticks\":\"\"}}}],\"histogram\":[{\"marker\":{\"pattern\":{\"fillmode\":\"overlay\",\"size\":10,\"solidity\":0.2}},\"type\":\"histogram\"}],\"scattergl\":[{\"marker\":{\"line\":{\"color\":\"#283442\"}},\"type\":\"scattergl\"}],\"scatter3d\":[{\"type\":\"scatter3d\",\"line\":{\"colorbar\":{\"outlinewidth\":0,\"ticks\":\"\"}},\"marker\":{\"colorbar\":{\"outlinewidth\":0,\"ticks\":\"\"}}}],\"scattermapbox\":[{\"type\":\"scattermapbox\",\"marker\":{\"colorbar\":{\"outlinewidth\":0,\"ticks\":\"\"}}}],\"scatterternary\":[{\"type\":\"scatterternary\",\"marker\":{\"colorbar\":{\"outlinewidth\":0,\"ticks\":\"\"}}}],\"scattercarpet\":[{\"type\":\"scattercarpet\",\"marker\":{\"colorbar\":{\"outlinewidth\":0,\"ticks\":\"\"}}}],\"carpet\":[{\"aaxis\":{\"endlinecolor\":\"#A2B1C6\",\"gridcolor\":\"#506784\",\"linecolor\":\"#506784\",\"minorgridcolor\":\"#506784\",\"startlinecolor\":\"#A2B1C6\"},\"baxis\":{\"endlinecolor\":\"#A2B1C6\",\"gridcolor\":\"#506784\",\"linecolor\":\"#506784\",\"minorgridcolor\":\"#506784\",\"startlinecolor\":\"#A2B1C6\"},\"type\":\"carpet\"}],\"table\":[{\"cells\":{\"fill\":{\"color\":\"#506784\"},\"line\":{\"color\":\"rgb(17,17,17)\"}},\"header\":{\"fill\":{\"color\":\"#2a3f5f\"},\"line\":{\"color\":\"rgb(17,17,17)\"}},\"type\":\"table\"}],\"barpolar\":[{\"marker\":{\"line\":{\"color\":\"rgb(17,17,17)\",\"width\":0.5},\"pattern\":{\"fillmode\":\"overlay\",\"size\":10,\"solidity\":0.2}},\"type\":\"barpolar\"}],\"pie\":[{\"automargin\":true,\"type\":\"pie\"}]},\"layout\":{\"autotypenumbers\":\"strict\",\"colorway\":[\"#636efa\",\"#EF553B\",\"#00cc96\",\"#ab63fa\",\"#FFA15A\",\"#19d3f3\",\"#FF6692\",\"#B6E880\",\"#FF97FF\",\"#FECB52\"],\"font\":{\"color\":\"#f2f5fa\"},\"hovermode\":\"closest\",\"hoverlabel\":{\"align\":\"left\"},\"paper_bgcolor\":\"rgb(17,17,17)\",\"plot_bgcolor\":\"rgb(17,17,17)\",\"polar\":{\"bgcolor\":\"rgb(17,17,17)\",\"angularaxis\":{\"gridcolor\":\"#506784\",\"linecolor\":\"#506784\",\"ticks\":\"\"},\"radialaxis\":{\"gridcolor\":\"#506784\",\"linecolor\":\"#506784\",\"ticks\":\"\"}},\"ternary\":{\"bgcolor\":\"rgb(17,17,17)\",\"aaxis\":{\"gridcolor\":\"#506784\",\"linecolor\":\"#506784\",\"ticks\":\"\"},\"baxis\":{\"gridcolor\":\"#506784\",\"linecolor\":\"#506784\",\"ticks\":\"\"},\"caxis\":{\"gridcolor\":\"#506784\",\"linecolor\":\"#506784\",\"ticks\":\"\"}},\"coloraxis\":{\"colorbar\":{\"outlinewidth\":0,\"ticks\":\"\"}},\"colorscale\":{\"sequential\":[[0.0,\"#0d0887\"],[0.1111111111111111,\"#46039f\"],[0.2222222222222222,\"#7201a8\"],[0.3333333333333333,\"#9c179e\"],[0.4444444444444444,\"#bd3786\"],[0.5555555555555556,\"#d8576b\"],[0.6666666666666666,\"#ed7953\"],[0.7777777777777778,\"#fb9f3a\"],[0.8888888888888888,\"#fdca26\"],[1.0,\"#f0f921\"]],\"sequentialminus\":[[0.0,\"#0d0887\"],[0.1111111111111111,\"#46039f\"],[0.2222222222222222,\"#7201a8\"],[0.3333333333333333,\"#9c179e\"],[0.4444444444444444,\"#bd3786\"],[0.5555555555555556,\"#d8576b\"],[0.6666666666666666,\"#ed7953\"],[0.7777777777777778,\"#fb9f3a\"],[0.8888888888888888,\"#fdca26\"],[1.0,\"#f0f921\"]],\"diverging\":[[0,\"#8e0152\"],[0.1,\"#c51b7d\"],[0.2,\"#de77ae\"],[0.3,\"#f1b6da\"],[0.4,\"#fde0ef\"],[0.5,\"#f7f7f7\"],[0.6,\"#e6f5d0\"],[0.7,\"#b8e186\"],[0.8,\"#7fbc41\"],[0.9,\"#4d9221\"],[1,\"#276419\"]]},\"xaxis\":{\"gridcolor\":\"#283442\",\"linecolor\":\"#506784\",\"ticks\":\"\",\"title\":{\"standoff\":15},\"zerolinecolor\":\"#283442\",\"automargin\":true,\"zerolinewidth\":2},\"yaxis\":{\"gridcolor\":\"#283442\",\"linecolor\":\"#506784\",\"ticks\":\"\",\"title\":{\"standoff\":15},\"zerolinecolor\":\"#283442\",\"automargin\":true,\"zerolinewidth\":2},\"scene\":{\"xaxis\":{\"backgroundcolor\":\"rgb(17,17,17)\",\"gridcolor\":\"#506784\",\"linecolor\":\"#506784\",\"showbackground\":true,\"ticks\":\"\",\"zerolinecolor\":\"#C8D4E3\",\"gridwidth\":2},\"yaxis\":{\"backgroundcolor\":\"rgb(17,17,17)\",\"gridcolor\":\"#506784\",\"linecolor\":\"#506784\",\"showbackground\":true,\"ticks\":\"\",\"zerolinecolor\":\"#C8D4E3\",\"gridwidth\":2},\"zaxis\":{\"backgroundcolor\":\"rgb(17,17,17)\",\"gridcolor\":\"#506784\",\"linecolor\":\"#506784\",\"showbackground\":true,\"ticks\":\"\",\"zerolinecolor\":\"#C8D4E3\",\"gridwidth\":2}},\"shapedefaults\":{\"line\":{\"color\":\"#f2f5fa\"}},\"annotationdefaults\":{\"arrowcolor\":\"#f2f5fa\",\"arrowhead\":0,\"arrowwidth\":1},\"geo\":{\"bgcolor\":\"rgb(17,17,17)\",\"landcolor\":\"rgb(17,17,17)\",\"subunitcolor\":\"#506784\",\"showland\":true,\"showlakes\":true,\"lakecolor\":\"rgb(17,17,17)\"},\"title\":{\"x\":0.05},\"updatemenudefaults\":{\"bgcolor\":\"#506784\",\"borderwidth\":0},\"sliderdefaults\":{\"bgcolor\":\"#C8D4E3\",\"borderwidth\":1,\"bordercolor\":\"rgb(17,17,17)\",\"tickwidth\":0},\"mapbox\":{\"style\":\"dark\"}}},\"xaxis\":{\"anchor\":\"y\",\"domain\":[0.0,1.0],\"title\":{\"text\":\"Year\"}},\"yaxis\":{\"anchor\":\"x\",\"domain\":[0.0,1.0],\"title\":{\"text\":\" Launch Cost\"}},\"coloraxis\":{\"colorbar\":{\"title\":{\"text\":\" Launch Cost\"}},\"colorscale\":[[0.0,\"#0d0887\"],[0.1111111111111111,\"#46039f\"],[0.2222222222222222,\"#7201a8\"],[0.3333333333333333,\"#9c179e\"],[0.4444444444444444,\"#bd3786\"],[0.5555555555555556,\"#d8576b\"],[0.6666666666666666,\"#ed7953\"],[0.7777777777777778,\"#fb9f3a\"],[0.8888888888888888,\"#fdca26\"],[1.0,\"#f0f921\"]]},\"legend\":{\"tracegroupgap\":0},\"title\":{\"text\":\"Cost of launches by year\"}},                        {\"responsive\": true}                    ).then(function(){\n                            \nvar gd = document.getElementById('c33c59ea-3a11-45bf-9c6d-858aaf6a60ec');\nvar x = new MutationObserver(function (mutations, observer) {{\n        var display = window.getComputedStyle(gd).display;\n        if (!display || display === 'none') {{\n            console.log([gd, 'removed!']);\n            Plotly.purge(gd);\n            observer.disconnect();\n        }}\n}});\n\n// Listen for the removal of the full notebook cells\nvar notebookContainer = gd.closest('#notebook-container');\nif (notebookContainer) {{\n    x.observe(notebookContainer, {childList: true});\n}}\n\n// Listen for the clearing of the current output cell\nvar outputEl = gd.closest('.output');\nif (outputEl) {{\n    x.observe(outputEl, {childList: true});\n}}\n\n                        })                };                });            </script>        </div>"
     },
     "metadata": {},
     "output_type": "display_data"
    }
   ],
   "source": [
    "import statsmodels.api as sm\n",
    "\n",
    "# create a new dataframe with the year and cost of each launch\n",
    "df_cost = df[['Year', ' Launch Cost']].dropna()\n",
    "\n",
    "# convert cost to a float\n",
    "df_cost[' Launch Cost'] = df_cost[' Launch Cost'].str.replace(',', '').astype(float)\n",
    "\n",
    "# convert from \"##.#\" to millions\n",
    "df_cost[' Launch Cost'] = df_cost[' Launch Cost'] * 1000000\n",
    "\n",
    "# remove outliers\n",
    "df_cost = df_cost[df_cost[' Launch Cost'] < 400000000]\n",
    "\n",
    "# graph with year being the color\n",
    "fig = px.scatter(df_cost, x='Year', y=' Launch Cost', color=' Launch Cost', title='Cost of launches by year', trendline='ols')\n",
    "fig.show()"
   ],
   "metadata": {
    "collapsed": false,
    "ExecuteTime": {
     "end_time": "2023-07-13T23:39:19.891791100Z",
     "start_time": "2023-07-13T23:39:19.778702700Z"
    }
   }
  },
  {
   "cell_type": "code",
   "execution_count": 85,
   "outputs": [
    {
     "data": {
      "application/vnd.plotly.v1+json": {
       "data": [
        {
         "alignmentgroup": "True",
         "hovertemplate": "Year=%{x}<br> Launch Cost=%{marker.color}<extra></extra>",
         "legendgroup": "",
         "marker": {
          "color": [
           6.323E7,
           6.323E7,
           5.9E7,
           5.9E7,
           5.9E7,
           5.9E7,
           3.08E7,
           3.08E7,
           3.08E7,
           3.08E7,
           3.08E7,
           3.08E7,
           3.29E7,
           3.5E7,
           9.612E7,
           4.0E7,
           5.80375E7,
           3.416E7,
           4.379444444444445E7,
           3.3333333333333332E7,
           3.639285714285714E7,
           3.913E7,
           3.755384615384615E7,
           4.2016E7,
           4.726363636363637E7,
           5.175E7,
           7.963272727272727E7,
           6.106473684210526E7,
           9.273588235294117E7,
           7.049285714285715E7,
           9.968166666666667E7,
           8.827538461538461E7,
           7.637291666666667E7,
           1.15556E8,
           1.136E8,
           1.1158846153846154E8,
           1.2609583333333333E8,
           9.055151515151516E7,
           1.0255121951219513E8,
           9.594864864864865E7,
           7.945734375E7,
           6.949106060606061E7,
           6.474977272727273E7,
           5.960972602739726E7,
           5.6650192307692304E7
          ],
          "coloraxis": "coloraxis",
          "pattern": {
           "shape": ""
          }
         },
         "name": "",
         "offsetgroup": "",
         "orientation": "v",
         "showlegend": false,
         "textposition": "auto",
         "x": [
          1964.0,
          1965.0,
          1966.0,
          1967.0,
          1968.0,
          1969.0,
          1982.0,
          1983.0,
          1984.0,
          1985.0,
          1986.0,
          1987.0,
          1988.0,
          1989.0,
          1990.0,
          1991.0,
          1992.0,
          1993.0,
          1994.0,
          1995.0,
          1996.0,
          1997.0,
          1998.0,
          1999.0,
          2000.0,
          2001.0,
          2002.0,
          2003.0,
          2004.0,
          2005.0,
          2006.0,
          2007.0,
          2008.0,
          2009.0,
          2010.0,
          2011.0,
          2012.0,
          2013.0,
          2014.0,
          2015.0,
          2016.0,
          2017.0,
          2018.0,
          2019.0,
          2020.0
         ],
         "xaxis": "x",
         "y": [
          6.323E7,
          6.323E7,
          5.9E7,
          5.9E7,
          5.9E7,
          5.9E7,
          3.08E7,
          3.08E7,
          3.08E7,
          3.08E7,
          3.08E7,
          3.08E7,
          3.29E7,
          3.5E7,
          9.612E7,
          4.0E7,
          5.80375E7,
          3.416E7,
          4.379444444444445E7,
          3.3333333333333332E7,
          3.639285714285714E7,
          3.913E7,
          3.755384615384615E7,
          4.2016E7,
          4.726363636363637E7,
          5.175E7,
          7.963272727272727E7,
          6.106473684210526E7,
          9.273588235294117E7,
          7.049285714285715E7,
          9.968166666666667E7,
          8.827538461538461E7,
          7.637291666666667E7,
          1.15556E8,
          1.136E8,
          1.1158846153846154E8,
          1.2609583333333333E8,
          9.055151515151516E7,
          1.0255121951219513E8,
          9.594864864864865E7,
          7.945734375E7,
          6.949106060606061E7,
          6.474977272727273E7,
          5.960972602739726E7,
          5.6650192307692304E7
         ],
         "yaxis": "y",
         "type": "bar"
        }
       ],
       "layout": {
        "template": {
         "data": {
          "histogram2dcontour": [
           {
            "type": "histogram2dcontour",
            "colorbar": {
             "outlinewidth": 0,
             "ticks": ""
            },
            "colorscale": [
             [
              0.0,
              "#0d0887"
             ],
             [
              0.1111111111111111,
              "#46039f"
             ],
             [
              0.2222222222222222,
              "#7201a8"
             ],
             [
              0.3333333333333333,
              "#9c179e"
             ],
             [
              0.4444444444444444,
              "#bd3786"
             ],
             [
              0.5555555555555556,
              "#d8576b"
             ],
             [
              0.6666666666666666,
              "#ed7953"
             ],
             [
              0.7777777777777778,
              "#fb9f3a"
             ],
             [
              0.8888888888888888,
              "#fdca26"
             ],
             [
              1.0,
              "#f0f921"
             ]
            ]
           }
          ],
          "choropleth": [
           {
            "type": "choropleth",
            "colorbar": {
             "outlinewidth": 0,
             "ticks": ""
            }
           }
          ],
          "histogram2d": [
           {
            "type": "histogram2d",
            "colorbar": {
             "outlinewidth": 0,
             "ticks": ""
            },
            "colorscale": [
             [
              0.0,
              "#0d0887"
             ],
             [
              0.1111111111111111,
              "#46039f"
             ],
             [
              0.2222222222222222,
              "#7201a8"
             ],
             [
              0.3333333333333333,
              "#9c179e"
             ],
             [
              0.4444444444444444,
              "#bd3786"
             ],
             [
              0.5555555555555556,
              "#d8576b"
             ],
             [
              0.6666666666666666,
              "#ed7953"
             ],
             [
              0.7777777777777778,
              "#fb9f3a"
             ],
             [
              0.8888888888888888,
              "#fdca26"
             ],
             [
              1.0,
              "#f0f921"
             ]
            ]
           }
          ],
          "heatmap": [
           {
            "type": "heatmap",
            "colorbar": {
             "outlinewidth": 0,
             "ticks": ""
            },
            "colorscale": [
             [
              0.0,
              "#0d0887"
             ],
             [
              0.1111111111111111,
              "#46039f"
             ],
             [
              0.2222222222222222,
              "#7201a8"
             ],
             [
              0.3333333333333333,
              "#9c179e"
             ],
             [
              0.4444444444444444,
              "#bd3786"
             ],
             [
              0.5555555555555556,
              "#d8576b"
             ],
             [
              0.6666666666666666,
              "#ed7953"
             ],
             [
              0.7777777777777778,
              "#fb9f3a"
             ],
             [
              0.8888888888888888,
              "#fdca26"
             ],
             [
              1.0,
              "#f0f921"
             ]
            ]
           }
          ],
          "heatmapgl": [
           {
            "type": "heatmapgl",
            "colorbar": {
             "outlinewidth": 0,
             "ticks": ""
            },
            "colorscale": [
             [
              0.0,
              "#0d0887"
             ],
             [
              0.1111111111111111,
              "#46039f"
             ],
             [
              0.2222222222222222,
              "#7201a8"
             ],
             [
              0.3333333333333333,
              "#9c179e"
             ],
             [
              0.4444444444444444,
              "#bd3786"
             ],
             [
              0.5555555555555556,
              "#d8576b"
             ],
             [
              0.6666666666666666,
              "#ed7953"
             ],
             [
              0.7777777777777778,
              "#fb9f3a"
             ],
             [
              0.8888888888888888,
              "#fdca26"
             ],
             [
              1.0,
              "#f0f921"
             ]
            ]
           }
          ],
          "contourcarpet": [
           {
            "type": "contourcarpet",
            "colorbar": {
             "outlinewidth": 0,
             "ticks": ""
            }
           }
          ],
          "contour": [
           {
            "type": "contour",
            "colorbar": {
             "outlinewidth": 0,
             "ticks": ""
            },
            "colorscale": [
             [
              0.0,
              "#0d0887"
             ],
             [
              0.1111111111111111,
              "#46039f"
             ],
             [
              0.2222222222222222,
              "#7201a8"
             ],
             [
              0.3333333333333333,
              "#9c179e"
             ],
             [
              0.4444444444444444,
              "#bd3786"
             ],
             [
              0.5555555555555556,
              "#d8576b"
             ],
             [
              0.6666666666666666,
              "#ed7953"
             ],
             [
              0.7777777777777778,
              "#fb9f3a"
             ],
             [
              0.8888888888888888,
              "#fdca26"
             ],
             [
              1.0,
              "#f0f921"
             ]
            ]
           }
          ],
          "surface": [
           {
            "type": "surface",
            "colorbar": {
             "outlinewidth": 0,
             "ticks": ""
            },
            "colorscale": [
             [
              0.0,
              "#0d0887"
             ],
             [
              0.1111111111111111,
              "#46039f"
             ],
             [
              0.2222222222222222,
              "#7201a8"
             ],
             [
              0.3333333333333333,
              "#9c179e"
             ],
             [
              0.4444444444444444,
              "#bd3786"
             ],
             [
              0.5555555555555556,
              "#d8576b"
             ],
             [
              0.6666666666666666,
              "#ed7953"
             ],
             [
              0.7777777777777778,
              "#fb9f3a"
             ],
             [
              0.8888888888888888,
              "#fdca26"
             ],
             [
              1.0,
              "#f0f921"
             ]
            ]
           }
          ],
          "mesh3d": [
           {
            "type": "mesh3d",
            "colorbar": {
             "outlinewidth": 0,
             "ticks": ""
            }
           }
          ],
          "scatter": [
           {
            "marker": {
             "line": {
              "color": "#283442"
             }
            },
            "type": "scatter"
           }
          ],
          "parcoords": [
           {
            "type": "parcoords",
            "line": {
             "colorbar": {
              "outlinewidth": 0,
              "ticks": ""
             }
            }
           }
          ],
          "scatterpolargl": [
           {
            "type": "scatterpolargl",
            "marker": {
             "colorbar": {
              "outlinewidth": 0,
              "ticks": ""
             }
            }
           }
          ],
          "bar": [
           {
            "error_x": {
             "color": "#f2f5fa"
            },
            "error_y": {
             "color": "#f2f5fa"
            },
            "marker": {
             "line": {
              "color": "rgb(17,17,17)",
              "width": 0.5
             },
             "pattern": {
              "fillmode": "overlay",
              "size": 10,
              "solidity": 0.2
             }
            },
            "type": "bar"
           }
          ],
          "scattergeo": [
           {
            "type": "scattergeo",
            "marker": {
             "colorbar": {
              "outlinewidth": 0,
              "ticks": ""
             }
            }
           }
          ],
          "scatterpolar": [
           {
            "type": "scatterpolar",
            "marker": {
             "colorbar": {
              "outlinewidth": 0,
              "ticks": ""
             }
            }
           }
          ],
          "histogram": [
           {
            "marker": {
             "pattern": {
              "fillmode": "overlay",
              "size": 10,
              "solidity": 0.2
             }
            },
            "type": "histogram"
           }
          ],
          "scattergl": [
           {
            "marker": {
             "line": {
              "color": "#283442"
             }
            },
            "type": "scattergl"
           }
          ],
          "scatter3d": [
           {
            "type": "scatter3d",
            "line": {
             "colorbar": {
              "outlinewidth": 0,
              "ticks": ""
             }
            },
            "marker": {
             "colorbar": {
              "outlinewidth": 0,
              "ticks": ""
             }
            }
           }
          ],
          "scattermapbox": [
           {
            "type": "scattermapbox",
            "marker": {
             "colorbar": {
              "outlinewidth": 0,
              "ticks": ""
             }
            }
           }
          ],
          "scatterternary": [
           {
            "type": "scatterternary",
            "marker": {
             "colorbar": {
              "outlinewidth": 0,
              "ticks": ""
             }
            }
           }
          ],
          "scattercarpet": [
           {
            "type": "scattercarpet",
            "marker": {
             "colorbar": {
              "outlinewidth": 0,
              "ticks": ""
             }
            }
           }
          ],
          "carpet": [
           {
            "aaxis": {
             "endlinecolor": "#A2B1C6",
             "gridcolor": "#506784",
             "linecolor": "#506784",
             "minorgridcolor": "#506784",
             "startlinecolor": "#A2B1C6"
            },
            "baxis": {
             "endlinecolor": "#A2B1C6",
             "gridcolor": "#506784",
             "linecolor": "#506784",
             "minorgridcolor": "#506784",
             "startlinecolor": "#A2B1C6"
            },
            "type": "carpet"
           }
          ],
          "table": [
           {
            "cells": {
             "fill": {
              "color": "#506784"
             },
             "line": {
              "color": "rgb(17,17,17)"
             }
            },
            "header": {
             "fill": {
              "color": "#2a3f5f"
             },
             "line": {
              "color": "rgb(17,17,17)"
             }
            },
            "type": "table"
           }
          ],
          "barpolar": [
           {
            "marker": {
             "line": {
              "color": "rgb(17,17,17)",
              "width": 0.5
             },
             "pattern": {
              "fillmode": "overlay",
              "size": 10,
              "solidity": 0.2
             }
            },
            "type": "barpolar"
           }
          ],
          "pie": [
           {
            "automargin": true,
            "type": "pie"
           }
          ]
         },
         "layout": {
          "autotypenumbers": "strict",
          "colorway": [
           "#636efa",
           "#EF553B",
           "#00cc96",
           "#ab63fa",
           "#FFA15A",
           "#19d3f3",
           "#FF6692",
           "#B6E880",
           "#FF97FF",
           "#FECB52"
          ],
          "font": {
           "color": "#f2f5fa"
          },
          "hovermode": "closest",
          "hoverlabel": {
           "align": "left"
          },
          "paper_bgcolor": "rgb(17,17,17)",
          "plot_bgcolor": "rgb(17,17,17)",
          "polar": {
           "bgcolor": "rgb(17,17,17)",
           "angularaxis": {
            "gridcolor": "#506784",
            "linecolor": "#506784",
            "ticks": ""
           },
           "radialaxis": {
            "gridcolor": "#506784",
            "linecolor": "#506784",
            "ticks": ""
           }
          },
          "ternary": {
           "bgcolor": "rgb(17,17,17)",
           "aaxis": {
            "gridcolor": "#506784",
            "linecolor": "#506784",
            "ticks": ""
           },
           "baxis": {
            "gridcolor": "#506784",
            "linecolor": "#506784",
            "ticks": ""
           },
           "caxis": {
            "gridcolor": "#506784",
            "linecolor": "#506784",
            "ticks": ""
           }
          },
          "coloraxis": {
           "colorbar": {
            "outlinewidth": 0,
            "ticks": ""
           }
          },
          "colorscale": {
           "sequential": [
            [
             0.0,
             "#0d0887"
            ],
            [
             0.1111111111111111,
             "#46039f"
            ],
            [
             0.2222222222222222,
             "#7201a8"
            ],
            [
             0.3333333333333333,
             "#9c179e"
            ],
            [
             0.4444444444444444,
             "#bd3786"
            ],
            [
             0.5555555555555556,
             "#d8576b"
            ],
            [
             0.6666666666666666,
             "#ed7953"
            ],
            [
             0.7777777777777778,
             "#fb9f3a"
            ],
            [
             0.8888888888888888,
             "#fdca26"
            ],
            [
             1.0,
             "#f0f921"
            ]
           ],
           "sequentialminus": [
            [
             0.0,
             "#0d0887"
            ],
            [
             0.1111111111111111,
             "#46039f"
            ],
            [
             0.2222222222222222,
             "#7201a8"
            ],
            [
             0.3333333333333333,
             "#9c179e"
            ],
            [
             0.4444444444444444,
             "#bd3786"
            ],
            [
             0.5555555555555556,
             "#d8576b"
            ],
            [
             0.6666666666666666,
             "#ed7953"
            ],
            [
             0.7777777777777778,
             "#fb9f3a"
            ],
            [
             0.8888888888888888,
             "#fdca26"
            ],
            [
             1.0,
             "#f0f921"
            ]
           ],
           "diverging": [
            [
             0,
             "#8e0152"
            ],
            [
             0.1,
             "#c51b7d"
            ],
            [
             0.2,
             "#de77ae"
            ],
            [
             0.3,
             "#f1b6da"
            ],
            [
             0.4,
             "#fde0ef"
            ],
            [
             0.5,
             "#f7f7f7"
            ],
            [
             0.6,
             "#e6f5d0"
            ],
            [
             0.7,
             "#b8e186"
            ],
            [
             0.8,
             "#7fbc41"
            ],
            [
             0.9,
             "#4d9221"
            ],
            [
             1,
             "#276419"
            ]
           ]
          },
          "xaxis": {
           "gridcolor": "#283442",
           "linecolor": "#506784",
           "ticks": "",
           "title": {
            "standoff": 15
           },
           "zerolinecolor": "#283442",
           "automargin": true,
           "zerolinewidth": 2
          },
          "yaxis": {
           "gridcolor": "#283442",
           "linecolor": "#506784",
           "ticks": "",
           "title": {
            "standoff": 15
           },
           "zerolinecolor": "#283442",
           "automargin": true,
           "zerolinewidth": 2
          },
          "scene": {
           "xaxis": {
            "backgroundcolor": "rgb(17,17,17)",
            "gridcolor": "#506784",
            "linecolor": "#506784",
            "showbackground": true,
            "ticks": "",
            "zerolinecolor": "#C8D4E3",
            "gridwidth": 2
           },
           "yaxis": {
            "backgroundcolor": "rgb(17,17,17)",
            "gridcolor": "#506784",
            "linecolor": "#506784",
            "showbackground": true,
            "ticks": "",
            "zerolinecolor": "#C8D4E3",
            "gridwidth": 2
           },
           "zaxis": {
            "backgroundcolor": "rgb(17,17,17)",
            "gridcolor": "#506784",
            "linecolor": "#506784",
            "showbackground": true,
            "ticks": "",
            "zerolinecolor": "#C8D4E3",
            "gridwidth": 2
           }
          },
          "shapedefaults": {
           "line": {
            "color": "#f2f5fa"
           }
          },
          "annotationdefaults": {
           "arrowcolor": "#f2f5fa",
           "arrowhead": 0,
           "arrowwidth": 1
          },
          "geo": {
           "bgcolor": "rgb(17,17,17)",
           "landcolor": "rgb(17,17,17)",
           "subunitcolor": "#506784",
           "showland": true,
           "showlakes": true,
           "lakecolor": "rgb(17,17,17)"
          },
          "title": {
           "x": 0.05
          },
          "updatemenudefaults": {
           "bgcolor": "#506784",
           "borderwidth": 0
          },
          "sliderdefaults": {
           "bgcolor": "#C8D4E3",
           "borderwidth": 1,
           "bordercolor": "rgb(17,17,17)",
           "tickwidth": 0
          },
          "mapbox": {
           "style": "dark"
          }
         }
        },
        "xaxis": {
         "anchor": "y",
         "domain": [
          0.0,
          1.0
         ],
         "title": {
          "text": "Year"
         }
        },
        "yaxis": {
         "anchor": "x",
         "domain": [
          0.0,
          1.0
         ],
         "title": {
          "text": " Launch Cost"
         }
        },
        "coloraxis": {
         "colorbar": {
          "title": {
           "text": " Launch Cost"
          }
         },
         "colorscale": [
          [
           0.0,
           "#0d0887"
          ],
          [
           0.1111111111111111,
           "#46039f"
          ],
          [
           0.2222222222222222,
           "#7201a8"
          ],
          [
           0.3333333333333333,
           "#9c179e"
          ],
          [
           0.4444444444444444,
           "#bd3786"
          ],
          [
           0.5555555555555556,
           "#d8576b"
          ],
          [
           0.6666666666666666,
           "#ed7953"
          ],
          [
           0.7777777777777778,
           "#fb9f3a"
          ],
          [
           0.8888888888888888,
           "#fdca26"
          ],
          [
           1.0,
           "#f0f921"
          ]
         ]
        },
        "legend": {
         "tracegroupgap": 0
        },
        "title": {
         "text": "Average cost of launches by year"
        },
        "barmode": "relative"
       },
       "config": {
        "plotlyServerURL": "https://plot.ly"
       }
      },
      "text/html": "<div>                            <div id=\"b3503965-aa48-404e-bb01-1e7ba3101fc4\" class=\"plotly-graph-div\" style=\"height:525px; width:100%;\"></div>            <script type=\"text/javascript\">                require([\"plotly\"], function(Plotly) {                    window.PLOTLYENV=window.PLOTLYENV || {};                                    if (document.getElementById(\"b3503965-aa48-404e-bb01-1e7ba3101fc4\")) {                    Plotly.newPlot(                        \"b3503965-aa48-404e-bb01-1e7ba3101fc4\",                        [{\"alignmentgroup\":\"True\",\"hovertemplate\":\"Year=%{x}\\u003cbr\\u003e Launch Cost=%{marker.color}\\u003cextra\\u003e\\u003c\\u002fextra\\u003e\",\"legendgroup\":\"\",\"marker\":{\"color\":[63230000.0,63230000.0,59000000.0,59000000.0,59000000.0,59000000.0,30800000.0,30800000.0,30800000.0,30800000.0,30800000.0,30800000.0,32900000.0,35000000.0,96120000.0,40000000.0,58037500.0,34160000.0,43794444.44444445,33333333.333333332,36392857.14285714,39130000.0,37553846.15384615,42016000.0,47263636.36363637,51750000.0,79632727.27272727,61064736.84210526,92735882.35294117,70492857.14285715,99681666.66666667,88275384.61538461,76372916.66666667,115556000.0,113600000.0,111588461.53846154,126095833.33333333,90551515.15151516,102551219.51219513,95948648.64864865,79457343.75,69491060.60606061,64749772.72727273,59609726.02739726,56650192.307692304],\"coloraxis\":\"coloraxis\",\"pattern\":{\"shape\":\"\"}},\"name\":\"\",\"offsetgroup\":\"\",\"orientation\":\"v\",\"showlegend\":false,\"textposition\":\"auto\",\"x\":[1964.0,1965.0,1966.0,1967.0,1968.0,1969.0,1982.0,1983.0,1984.0,1985.0,1986.0,1987.0,1988.0,1989.0,1990.0,1991.0,1992.0,1993.0,1994.0,1995.0,1996.0,1997.0,1998.0,1999.0,2000.0,2001.0,2002.0,2003.0,2004.0,2005.0,2006.0,2007.0,2008.0,2009.0,2010.0,2011.0,2012.0,2013.0,2014.0,2015.0,2016.0,2017.0,2018.0,2019.0,2020.0],\"xaxis\":\"x\",\"y\":[63230000.0,63230000.0,59000000.0,59000000.0,59000000.0,59000000.0,30800000.0,30800000.0,30800000.0,30800000.0,30800000.0,30800000.0,32900000.0,35000000.0,96120000.0,40000000.0,58037500.0,34160000.0,43794444.44444445,33333333.333333332,36392857.14285714,39130000.0,37553846.15384615,42016000.0,47263636.36363637,51750000.0,79632727.27272727,61064736.84210526,92735882.35294117,70492857.14285715,99681666.66666667,88275384.61538461,76372916.66666667,115556000.0,113600000.0,111588461.53846154,126095833.33333333,90551515.15151516,102551219.51219513,95948648.64864865,79457343.75,69491060.60606061,64749772.72727273,59609726.02739726,56650192.307692304],\"yaxis\":\"y\",\"type\":\"bar\"}],                        {\"template\":{\"data\":{\"histogram2dcontour\":[{\"type\":\"histogram2dcontour\",\"colorbar\":{\"outlinewidth\":0,\"ticks\":\"\"},\"colorscale\":[[0.0,\"#0d0887\"],[0.1111111111111111,\"#46039f\"],[0.2222222222222222,\"#7201a8\"],[0.3333333333333333,\"#9c179e\"],[0.4444444444444444,\"#bd3786\"],[0.5555555555555556,\"#d8576b\"],[0.6666666666666666,\"#ed7953\"],[0.7777777777777778,\"#fb9f3a\"],[0.8888888888888888,\"#fdca26\"],[1.0,\"#f0f921\"]]}],\"choropleth\":[{\"type\":\"choropleth\",\"colorbar\":{\"outlinewidth\":0,\"ticks\":\"\"}}],\"histogram2d\":[{\"type\":\"histogram2d\",\"colorbar\":{\"outlinewidth\":0,\"ticks\":\"\"},\"colorscale\":[[0.0,\"#0d0887\"],[0.1111111111111111,\"#46039f\"],[0.2222222222222222,\"#7201a8\"],[0.3333333333333333,\"#9c179e\"],[0.4444444444444444,\"#bd3786\"],[0.5555555555555556,\"#d8576b\"],[0.6666666666666666,\"#ed7953\"],[0.7777777777777778,\"#fb9f3a\"],[0.8888888888888888,\"#fdca26\"],[1.0,\"#f0f921\"]]}],\"heatmap\":[{\"type\":\"heatmap\",\"colorbar\":{\"outlinewidth\":0,\"ticks\":\"\"},\"colorscale\":[[0.0,\"#0d0887\"],[0.1111111111111111,\"#46039f\"],[0.2222222222222222,\"#7201a8\"],[0.3333333333333333,\"#9c179e\"],[0.4444444444444444,\"#bd3786\"],[0.5555555555555556,\"#d8576b\"],[0.6666666666666666,\"#ed7953\"],[0.7777777777777778,\"#fb9f3a\"],[0.8888888888888888,\"#fdca26\"],[1.0,\"#f0f921\"]]}],\"heatmapgl\":[{\"type\":\"heatmapgl\",\"colorbar\":{\"outlinewidth\":0,\"ticks\":\"\"},\"colorscale\":[[0.0,\"#0d0887\"],[0.1111111111111111,\"#46039f\"],[0.2222222222222222,\"#7201a8\"],[0.3333333333333333,\"#9c179e\"],[0.4444444444444444,\"#bd3786\"],[0.5555555555555556,\"#d8576b\"],[0.6666666666666666,\"#ed7953\"],[0.7777777777777778,\"#fb9f3a\"],[0.8888888888888888,\"#fdca26\"],[1.0,\"#f0f921\"]]}],\"contourcarpet\":[{\"type\":\"contourcarpet\",\"colorbar\":{\"outlinewidth\":0,\"ticks\":\"\"}}],\"contour\":[{\"type\":\"contour\",\"colorbar\":{\"outlinewidth\":0,\"ticks\":\"\"},\"colorscale\":[[0.0,\"#0d0887\"],[0.1111111111111111,\"#46039f\"],[0.2222222222222222,\"#7201a8\"],[0.3333333333333333,\"#9c179e\"],[0.4444444444444444,\"#bd3786\"],[0.5555555555555556,\"#d8576b\"],[0.6666666666666666,\"#ed7953\"],[0.7777777777777778,\"#fb9f3a\"],[0.8888888888888888,\"#fdca26\"],[1.0,\"#f0f921\"]]}],\"surface\":[{\"type\":\"surface\",\"colorbar\":{\"outlinewidth\":0,\"ticks\":\"\"},\"colorscale\":[[0.0,\"#0d0887\"],[0.1111111111111111,\"#46039f\"],[0.2222222222222222,\"#7201a8\"],[0.3333333333333333,\"#9c179e\"],[0.4444444444444444,\"#bd3786\"],[0.5555555555555556,\"#d8576b\"],[0.6666666666666666,\"#ed7953\"],[0.7777777777777778,\"#fb9f3a\"],[0.8888888888888888,\"#fdca26\"],[1.0,\"#f0f921\"]]}],\"mesh3d\":[{\"type\":\"mesh3d\",\"colorbar\":{\"outlinewidth\":0,\"ticks\":\"\"}}],\"scatter\":[{\"marker\":{\"line\":{\"color\":\"#283442\"}},\"type\":\"scatter\"}],\"parcoords\":[{\"type\":\"parcoords\",\"line\":{\"colorbar\":{\"outlinewidth\":0,\"ticks\":\"\"}}}],\"scatterpolargl\":[{\"type\":\"scatterpolargl\",\"marker\":{\"colorbar\":{\"outlinewidth\":0,\"ticks\":\"\"}}}],\"bar\":[{\"error_x\":{\"color\":\"#f2f5fa\"},\"error_y\":{\"color\":\"#f2f5fa\"},\"marker\":{\"line\":{\"color\":\"rgb(17,17,17)\",\"width\":0.5},\"pattern\":{\"fillmode\":\"overlay\",\"size\":10,\"solidity\":0.2}},\"type\":\"bar\"}],\"scattergeo\":[{\"type\":\"scattergeo\",\"marker\":{\"colorbar\":{\"outlinewidth\":0,\"ticks\":\"\"}}}],\"scatterpolar\":[{\"type\":\"scatterpolar\",\"marker\":{\"colorbar\":{\"outlinewidth\":0,\"ticks\":\"\"}}}],\"histogram\":[{\"marker\":{\"pattern\":{\"fillmode\":\"overlay\",\"size\":10,\"solidity\":0.2}},\"type\":\"histogram\"}],\"scattergl\":[{\"marker\":{\"line\":{\"color\":\"#283442\"}},\"type\":\"scattergl\"}],\"scatter3d\":[{\"type\":\"scatter3d\",\"line\":{\"colorbar\":{\"outlinewidth\":0,\"ticks\":\"\"}},\"marker\":{\"colorbar\":{\"outlinewidth\":0,\"ticks\":\"\"}}}],\"scattermapbox\":[{\"type\":\"scattermapbox\",\"marker\":{\"colorbar\":{\"outlinewidth\":0,\"ticks\":\"\"}}}],\"scatterternary\":[{\"type\":\"scatterternary\",\"marker\":{\"colorbar\":{\"outlinewidth\":0,\"ticks\":\"\"}}}],\"scattercarpet\":[{\"type\":\"scattercarpet\",\"marker\":{\"colorbar\":{\"outlinewidth\":0,\"ticks\":\"\"}}}],\"carpet\":[{\"aaxis\":{\"endlinecolor\":\"#A2B1C6\",\"gridcolor\":\"#506784\",\"linecolor\":\"#506784\",\"minorgridcolor\":\"#506784\",\"startlinecolor\":\"#A2B1C6\"},\"baxis\":{\"endlinecolor\":\"#A2B1C6\",\"gridcolor\":\"#506784\",\"linecolor\":\"#506784\",\"minorgridcolor\":\"#506784\",\"startlinecolor\":\"#A2B1C6\"},\"type\":\"carpet\"}],\"table\":[{\"cells\":{\"fill\":{\"color\":\"#506784\"},\"line\":{\"color\":\"rgb(17,17,17)\"}},\"header\":{\"fill\":{\"color\":\"#2a3f5f\"},\"line\":{\"color\":\"rgb(17,17,17)\"}},\"type\":\"table\"}],\"barpolar\":[{\"marker\":{\"line\":{\"color\":\"rgb(17,17,17)\",\"width\":0.5},\"pattern\":{\"fillmode\":\"overlay\",\"size\":10,\"solidity\":0.2}},\"type\":\"barpolar\"}],\"pie\":[{\"automargin\":true,\"type\":\"pie\"}]},\"layout\":{\"autotypenumbers\":\"strict\",\"colorway\":[\"#636efa\",\"#EF553B\",\"#00cc96\",\"#ab63fa\",\"#FFA15A\",\"#19d3f3\",\"#FF6692\",\"#B6E880\",\"#FF97FF\",\"#FECB52\"],\"font\":{\"color\":\"#f2f5fa\"},\"hovermode\":\"closest\",\"hoverlabel\":{\"align\":\"left\"},\"paper_bgcolor\":\"rgb(17,17,17)\",\"plot_bgcolor\":\"rgb(17,17,17)\",\"polar\":{\"bgcolor\":\"rgb(17,17,17)\",\"angularaxis\":{\"gridcolor\":\"#506784\",\"linecolor\":\"#506784\",\"ticks\":\"\"},\"radialaxis\":{\"gridcolor\":\"#506784\",\"linecolor\":\"#506784\",\"ticks\":\"\"}},\"ternary\":{\"bgcolor\":\"rgb(17,17,17)\",\"aaxis\":{\"gridcolor\":\"#506784\",\"linecolor\":\"#506784\",\"ticks\":\"\"},\"baxis\":{\"gridcolor\":\"#506784\",\"linecolor\":\"#506784\",\"ticks\":\"\"},\"caxis\":{\"gridcolor\":\"#506784\",\"linecolor\":\"#506784\",\"ticks\":\"\"}},\"coloraxis\":{\"colorbar\":{\"outlinewidth\":0,\"ticks\":\"\"}},\"colorscale\":{\"sequential\":[[0.0,\"#0d0887\"],[0.1111111111111111,\"#46039f\"],[0.2222222222222222,\"#7201a8\"],[0.3333333333333333,\"#9c179e\"],[0.4444444444444444,\"#bd3786\"],[0.5555555555555556,\"#d8576b\"],[0.6666666666666666,\"#ed7953\"],[0.7777777777777778,\"#fb9f3a\"],[0.8888888888888888,\"#fdca26\"],[1.0,\"#f0f921\"]],\"sequentialminus\":[[0.0,\"#0d0887\"],[0.1111111111111111,\"#46039f\"],[0.2222222222222222,\"#7201a8\"],[0.3333333333333333,\"#9c179e\"],[0.4444444444444444,\"#bd3786\"],[0.5555555555555556,\"#d8576b\"],[0.6666666666666666,\"#ed7953\"],[0.7777777777777778,\"#fb9f3a\"],[0.8888888888888888,\"#fdca26\"],[1.0,\"#f0f921\"]],\"diverging\":[[0,\"#8e0152\"],[0.1,\"#c51b7d\"],[0.2,\"#de77ae\"],[0.3,\"#f1b6da\"],[0.4,\"#fde0ef\"],[0.5,\"#f7f7f7\"],[0.6,\"#e6f5d0\"],[0.7,\"#b8e186\"],[0.8,\"#7fbc41\"],[0.9,\"#4d9221\"],[1,\"#276419\"]]},\"xaxis\":{\"gridcolor\":\"#283442\",\"linecolor\":\"#506784\",\"ticks\":\"\",\"title\":{\"standoff\":15},\"zerolinecolor\":\"#283442\",\"automargin\":true,\"zerolinewidth\":2},\"yaxis\":{\"gridcolor\":\"#283442\",\"linecolor\":\"#506784\",\"ticks\":\"\",\"title\":{\"standoff\":15},\"zerolinecolor\":\"#283442\",\"automargin\":true,\"zerolinewidth\":2},\"scene\":{\"xaxis\":{\"backgroundcolor\":\"rgb(17,17,17)\",\"gridcolor\":\"#506784\",\"linecolor\":\"#506784\",\"showbackground\":true,\"ticks\":\"\",\"zerolinecolor\":\"#C8D4E3\",\"gridwidth\":2},\"yaxis\":{\"backgroundcolor\":\"rgb(17,17,17)\",\"gridcolor\":\"#506784\",\"linecolor\":\"#506784\",\"showbackground\":true,\"ticks\":\"\",\"zerolinecolor\":\"#C8D4E3\",\"gridwidth\":2},\"zaxis\":{\"backgroundcolor\":\"rgb(17,17,17)\",\"gridcolor\":\"#506784\",\"linecolor\":\"#506784\",\"showbackground\":true,\"ticks\":\"\",\"zerolinecolor\":\"#C8D4E3\",\"gridwidth\":2}},\"shapedefaults\":{\"line\":{\"color\":\"#f2f5fa\"}},\"annotationdefaults\":{\"arrowcolor\":\"#f2f5fa\",\"arrowhead\":0,\"arrowwidth\":1},\"geo\":{\"bgcolor\":\"rgb(17,17,17)\",\"landcolor\":\"rgb(17,17,17)\",\"subunitcolor\":\"#506784\",\"showland\":true,\"showlakes\":true,\"lakecolor\":\"rgb(17,17,17)\"},\"title\":{\"x\":0.05},\"updatemenudefaults\":{\"bgcolor\":\"#506784\",\"borderwidth\":0},\"sliderdefaults\":{\"bgcolor\":\"#C8D4E3\",\"borderwidth\":1,\"bordercolor\":\"rgb(17,17,17)\",\"tickwidth\":0},\"mapbox\":{\"style\":\"dark\"}}},\"xaxis\":{\"anchor\":\"y\",\"domain\":[0.0,1.0],\"title\":{\"text\":\"Year\"}},\"yaxis\":{\"anchor\":\"x\",\"domain\":[0.0,1.0],\"title\":{\"text\":\" Launch Cost\"}},\"coloraxis\":{\"colorbar\":{\"title\":{\"text\":\" Launch Cost\"}},\"colorscale\":[[0.0,\"#0d0887\"],[0.1111111111111111,\"#46039f\"],[0.2222222222222222,\"#7201a8\"],[0.3333333333333333,\"#9c179e\"],[0.4444444444444444,\"#bd3786\"],[0.5555555555555556,\"#d8576b\"],[0.6666666666666666,\"#ed7953\"],[0.7777777777777778,\"#fb9f3a\"],[0.8888888888888888,\"#fdca26\"],[1.0,\"#f0f921\"]]},\"legend\":{\"tracegroupgap\":0},\"title\":{\"text\":\"Average cost of launches by year\"},\"barmode\":\"relative\"},                        {\"responsive\": true}                    ).then(function(){\n                            \nvar gd = document.getElementById('b3503965-aa48-404e-bb01-1e7ba3101fc4');\nvar x = new MutationObserver(function (mutations, observer) {{\n        var display = window.getComputedStyle(gd).display;\n        if (!display || display === 'none') {{\n            console.log([gd, 'removed!']);\n            Plotly.purge(gd);\n            observer.disconnect();\n        }}\n}});\n\n// Listen for the removal of the full notebook cells\nvar notebookContainer = gd.closest('#notebook-container');\nif (notebookContainer) {{\n    x.observe(notebookContainer, {childList: true});\n}}\n\n// Listen for the clearing of the current output cell\nvar outputEl = gd.closest('.output');\nif (outputEl) {{\n    x.observe(outputEl, {childList: true});\n}}\n\n                        })                };                });            </script>        </div>"
     },
     "metadata": {},
     "output_type": "display_data"
    }
   ],
   "source": [
    "# create a new dataframe with the average cost of launches by year\n",
    "df_cost_year = df_cost.groupby('Year').mean().reset_index()\n",
    "\n",
    "# graph with year being the color\n",
    "fig = px.bar(df_cost_year, x='Year', y=' Launch Cost', color=' Launch Cost', title='Average cost of launches by year')\n",
    "fig.show()"
   ],
   "metadata": {
    "collapsed": false,
    "ExecuteTime": {
     "end_time": "2023-07-13T23:39:19.976110300Z",
     "start_time": "2023-07-13T23:39:19.890799Z"
    }
   }
  },
  {
   "cell_type": "markdown",
   "source": [
    "## How has the cost of launches changed over time per company ?"
   ],
   "metadata": {
    "collapsed": false
   }
{
   "cell_type": "code",
   "execution_count": 86,
   "outputs": [
    {
     "name": "stderr",
     "output_type": "stream",
     "text": [
      "C:\\Users\\H3MLOC\\anaconda3\\envs\\SpaceRace_EDA\\lib\\site-packages\\statsmodels\\regression\\linear_model.py:1781: RuntimeWarning:\n",
      "\n",
      "divide by zero encountered in scalar divide\n",
      "\n",
      "C:\\Users\\H3MLOC\\anaconda3\\envs\\SpaceRace_EDA\\lib\\site-packages\\statsmodels\\regression\\linear_model.py:1781: RuntimeWarning:\n",
      "\n",
      "divide by zero encountered in scalar divide\n",
      "\n",
      "C:\\Users\\H3MLOC\\anaconda3\\envs\\SpaceRace_EDA\\lib\\site-packages\\statsmodels\\regression\\linear_model.py:1781: RuntimeWarning:\n",
      "\n",
      "divide by zero encountered in scalar divide\n",
      "\n",
      "C:\\Users\\H3MLOC\\anaconda3\\envs\\SpaceRace_EDA\\lib\\site-packages\\statsmodels\\regression\\linear_model.py:1781: RuntimeWarning:\n",
      "\n",
      "divide by zero encountered in scalar divide\n",
      "\n"
     ]
    },
  },
    {
     "data": {
      "application/vnd.plotly.v1+json": {
       "data": [
        {
         "hovertemplate": "Company Name=SpaceX<br>Year=%{x}<br> Launch Cost=%{y}<extra></extra>",
         "legendgroup": "SpaceX",
         "marker": {
          "color": "#636efa",
          "symbol": "circle"
         },
         "mode": "markers",
         "name": "SpaceX",
         "orientation": "v",
         "showlegend": true,
         "x": [
          2020.0,
          2020.0,
          2020.0,
          2020.0,
          2020.0,
          2020.0,
          2020.0,
          2020.0,
          2020.0,
          2020.0,
          2020.0,
          2020.0,
          2020.0,
          2019.0,
          2019.0,
          2019.0,
          2019.0,
          2019.0,
          2019.0,
          2019.0,
          2019.0,
          2019.0,
          2019.0,
          2019.0,
          2019.0,
          2019.0,
          2018.0,
          2018.0,
          2018.0,
          2018.0,
          2018.0,
          2018.0,
          2018.0,
          2018.0,
          2018.0,
          2018.0,
          2018.0,
          2018.0,
          2018.0,
          2018.0,
          2018.0,
          2018.0,
          2018.0,
          2018.0,
          2018.0,
          2018.0,
          2018.0,
          2017.0,
          2017.0,
          2017.0,
          2017.0,
          2017.0,
          2017.0,
          2017.0,
          2017.0,
          2017.0,
          2017.0,
          2017.0,
          2017.0,
          2017.0,
          2017.0,
          2017.0,
          2017.0,
          2017.0,
          2017.0,
          2016.0,
          2016.0,
          2016.0,
          2016.0,
          2016.0,
          2016.0,
          2016.0,
          2016.0,
          2016.0,
          2015.0,
          2015.0,
          2015.0,
          2015.0,
          2015.0,
          2015.0,
          2015.0,
          2014.0,
          2014.0,
          2014.0,
          2014.0,
          2014.0,
          2014.0,
          2013.0,
          2013.0,
          2013.0,
          2012.0,
          2012.0,
          2010.0,
          2010.0,
          2009.0,
          2008.0,
          2008.0,
          2007.0,
          2006.0
         ],
         "xaxis": "x",
         "y": [
          5.0E7,
          5.0E7,
          5.0E7,
          5.0E7,
          5.0E7,
          5.0E7,
          5.0E7,
          5.0E7,
          5.0E7,
          5.0E7,
          5.0E7,
          5.0E7,
          5.0E7,
          5.0E7,
          5.0E7,
          5.0E7,
          5.0E7,
          5.0E7,
          9.0E7,
          5.0E7,
          5.0E7,
          5.0E7,
          9.0E7,
          5.0E7,
          5.0E7,
          5.0E7,
          5.0E7,
          5.0E7,
          5.0E7,
          5.0E7,
          5.0E7,
          5.0E7,
          5.0E7,
          5.0E7,
          5.0E7,
          6.2E7,
          6.2E7,
          6.2E7,
          5.0E7,
          6.2E7,
          6.2E7,
          6.2E7,
          6.2E7,
          6.2E7,
          9.0E7,
          6.2E7,
          6.2E7,
          6.2E7,
          6.2E7,
          6.2E7,
          6.2E7,
          6.2E7,
          6.2E7,
          6.2E7,
          6.2E7,
          6.2E7,
          6.2E7,
          6.2E7,
          6.2E7,
          6.2E7,
          6.2E7,
          6.2E7,
          6.2E7,
          6.2E7,
          6.2E7,
          6.2E7,
          6.2E7,
          6.2E7,
          6.2E7,
          6.2E7,
          6.2E7,
          6.2E7,
          6.2E7,
          5.65E7,
          6.2E7,
          5.65E7,
          5.65E7,
          5.65E7,
          5.65E7,
          5.65E7,
          5.65E7,
          5.65E7,
          5.65E7,
          5.65E7,
          5.65E7,
          5.65E7,
          5.65E7,
          5.65E7,
          5.65E7,
          5.95E7,
          5.95E7,
          5.95E7,
          5.95E7,
          5.95E7,
          7000000.0,
          7000000.0,
          7000000.0,
          7000000.0,
          7000000.0
         ],
         "yaxis": "y",
         "type": "scatter"
        },
        {
         "hovertemplate": "<b>OLS trendline</b><br> Launch Cost = 2.07949e+06 * Year + -4.13854e+09<br>R<sup>2</sup>=0.218560<br><br>Company Name=SpaceX<br>Year=%{x}<br> Launch Cost=%{y} <b>(trend)</b><extra></extra>",
         "legendgroup": "SpaceX",
         "marker": {
          "color": "#636efa",
          "symbol": "circle"
         },
         "mode": "lines",
         "name": "SpaceX",
         "showlegend": false,
         "x": [
          2006.0,
          2007.0,
          2008.0,
          2008.0,
          2009.0,
          2010.0,
          2010.0,
          2012.0,
          2012.0,
          2013.0,
          2013.0,
          2013.0,
          2014.0,
          2014.0,
          2014.0,
          2014.0,
          2014.0,
          2014.0,
          2015.0,
          2015.0,
          2015.0,
          2015.0,
          2015.0,
          2015.0,
          2015.0,
          2016.0,
          2016.0,
          2016.0,
          2016.0,
          2016.0,
          2016.0,
          2016.0,
          2016.0,
          2016.0,
          2017.0,
          2017.0,
          2017.0,
          2017.0,
          2017.0,
          2017.0,
          2017.0,
          2017.0,
          2017.0,
          2017.0,
          2017.0,
          2017.0,
          2017.0,
          2017.0,
          2017.0,
          2017.0,
          2017.0,
          2017.0,
          2018.0,
          2018.0,
          2018.0,
          2018.0,
          2018.0,
          2018.0,
          2018.0,
          2018.0,
          2018.0,
          2018.0,
          2018.0,
          2018.0,
          2018.0,
          2018.0,
          2018.0,
          2018.0,
          2018.0,
          2018.0,
          2018.0,
          2018.0,
          2018.0,
          2019.0,
          2019.0,
          2019.0,
          2019.0,
          2019.0,
          2019.0,
          2019.0,
          2019.0,
          2019.0,
          2019.0,
          2019.0,
          2019.0,
          2019.0,
          2020.0,
          2020.0,
          2020.0,
          2020.0,
          2020.0,
          2020.0,
          2020.0,
          2020.0,
          2020.0,
          2020.0,
          2020.0,
          2020.0,
          2020.0
         ],
         "xaxis": "x",
         "y": [
          3.2913714012797356E7,
          3.4993202416920185E7,
          3.7072690821043015E7,
          3.7072690821043015E7,
          3.915217922516632E7,
          4.123166762928915E7,
          4.123166762928915E7,
          4.5390644437535286E7,
          4.5390644437535286E7,
          4.7470132841658115E7,
          4.7470132841658115E7,
          4.7470132841658115E7,
          4.9549621245780945E7,
          4.9549621245780945E7,
          4.9549621245780945E7,
          4.9549621245780945E7,
          4.9549621245780945E7,
          4.9549621245780945E7,
          5.1629109649903774E7,
          5.1629109649903774E7,
          5.1629109649903774E7,
          5.1629109649903774E7,
          5.1629109649903774E7,
          5.1629109649903774E7,
          5.1629109649903774E7,
          5.370859805402708E7,
          5.370859805402708E7,
          5.370859805402708E7,
          5.370859805402708E7,
          5.370859805402708E7,
          5.370859805402708E7,
          5.370859805402708E7,
          5.370859805402708E7,
          5.370859805402708E7,
          5.578808645814991E7,
          5.578808645814991E7,
          5.578808645814991E7,
          5.578808645814991E7,
          5.578808645814991E7,
          5.578808645814991E7,
          5.578808645814991E7,
          5.578808645814991E7,
          5.578808645814991E7,
          5.578808645814991E7,
          5.578808645814991E7,
          5.578808645814991E7,
          5.578808645814991E7,
          5.578808645814991E7,
          5.578808645814991E7,
          5.578808645814991E7,
          5.578808645814991E7,
          5.578808645814991E7,
          5.786757486227274E7,
          5.786757486227274E7,
          5.786757486227274E7,
          5.786757486227274E7,
          5.786757486227274E7,
          5.786757486227274E7,
          5.786757486227274E7,
          5.786757486227274E7,
          5.786757486227274E7,
          5.786757486227274E7,
          5.786757486227274E7,
          5.786757486227274E7,
          5.786757486227274E7,
          5.786757486227274E7,
          5.786757486227274E7,
          5.786757486227274E7,
          5.786757486227274E7,
          5.786757486227274E7,
          5.786757486227274E7,
          5.786757486227274E7,
          5.786757486227274E7,
          5.9947063266396046E7,
          5.9947063266396046E7,
          5.9947063266396046E7,
          5.9947063266396046E7,
          5.9947063266396046E7,
          5.9947063266396046E7,
          5.9947063266396046E7,
          5.9947063266396046E7,
          5.9947063266396046E7,
          5.9947063266396046E7,
          5.9947063266396046E7,
          5.9947063266396046E7,
          5.9947063266396046E7,
          6.2026551670518875E7,
          6.2026551670518875E7,
          6.2026551670518875E7,
          6.2026551670518875E7,
          6.2026551670518875E7,
          6.2026551670518875E7,
          6.2026551670518875E7,
          6.2026551670518875E7,
          6.2026551670518875E7,
          6.2026551670518875E7,
          6.2026551670518875E7,
          6.2026551670518875E7,
          6.2026551670518875E7
         ],
         "yaxis": "y",
         "type": "scatter"
        },
        {
         "hovertemplate": "Company Name=CASC<br>Year=%{x}<br> Launch Cost=%{y}<extra></extra>",
         "legendgroup": "CASC",
         "marker": {
          "color": "#EF553B",
          "symbol": "circle"
         },
         "mode": "markers",
         "name": "CASC",
         "orientation": "v",
         "showlegend": true,
         "x": [
          2020.0,
          2020.0,
          2020.0,
          2020.0,
          2020.0,
          2020.0,
          2020.0,
          2020.0,
          2020.0,
          2020.0,
          2020.0,
          2020.0,
          2020.0,
          2020.0,
          2020.0,
          2020.0,
          2019.0,
          2019.0,
          2019.0,
          2019.0,
          2019.0,
          2019.0,
          2019.0,
          2019.0,
          2019.0,
          2019.0,
          2019.0,
          2019.0,
          2019.0,
          2019.0,
          2019.0,
          2019.0,
          2019.0,
          2019.0,
          2019.0,
          2019.0,
          2019.0,
          2018.0,
          2018.0,
          2018.0,
          2018.0,
          2018.0,
          2018.0,
          2018.0,
          2018.0,
          2018.0,
          2018.0,
          2018.0,
          2018.0,
          2018.0,
          2018.0,
          2018.0,
          2018.0,
          2018.0,
          2018.0,
          2018.0,
          2018.0,
          2018.0,
          2018.0,
          2018.0,
          2018.0,
          2018.0,
          2018.0,
          2018.0,
          2017.0,
          2017.0,
          2017.0,
          2017.0,
          2017.0,
          2017.0,
          2017.0,
          2017.0,
          2017.0,
          2017.0,
          2017.0,
          2017.0,
          2016.0,
          2016.0,
          2016.0,
          2016.0,
          2016.0,
          2016.0,
          2016.0,
          2016.0,
          2016.0,
          2016.0,
          2016.0,
          2016.0,
          2016.0,
          2016.0,
          2016.0,
          2008.0,
          2008.0,
          2008.0,
          2008.0,
          2008.0,
          2008.0,
          2007.0,
          2007.0,
          2007.0,
          2007.0,
          2007.0,
          2007.0,
          2007.0,
          2007.0,
          2006.0,
          2006.0,
          2006.0,
          2006.0,
          2006.0,
          2005.0,
          2005.0,
          2005.0,
          2004.0,
          2004.0,
          2004.0,
          2004.0,
          2004.0,
          2004.0,
          2004.0,
          2004.0,
          2003.0,
          2003.0,
          2003.0,
          2003.0,
          2003.0,
          2002.0,
          2002.0,
          2000.0,
          2000.0,
          2000.0,
          1999.0,
          1999.0,
          1999.0,
          1998.0,
          1998.0,
          1998.0,
          1998.0,
          1997.0,
          1997.0,
          1997.0,
          1996.0,
          1994.0,
          1994.0,
          1994.0,
          1993.0,
          1992.0,
          1992.0,
          1990.0,
          1988.0,
          1987.0,
          1987.0,
          1986.0,
          1985.0,
          1984.0,
          1983.0,
          1982.0
         ],
         "xaxis": "x",
         "y": [
          2.975E7,
          6.468000000000001E7,
          2.915E7,
          2.975E7,
          6.468000000000001E7,
          2.915E7,
          2.975E7,
          3.08E7,
          2.975E7,
          5300000.0,
          2.915E7,
          3.08E7,
          2.915E7,
          2.975E7,
          2.975E7,
          2.915E7,
          6.468000000000001E7,
          6.468000000000001E7,
          2.915E7,
          6.468000000000001E7,
          2.915E7,
          6.468000000000001E7,
          2.975E7,
          5300000.0,
          6.468000000000001E7,
          2.915E7,
          7500000.0,
          3.08E7,
          2.915E7,
          5300000.0,
          6.468000000000001E7,
          6.468000000000001E7,
          2.915E7,
          2.915E7,
          2.915E7,
          5300000.0,
          2.915E7,
          5300000.0,
          2.915E7,
          2.975E7,
          2.975E7,
          2.915E7,
          3.08E7,
          6.468000000000001E7,
          3.08E7,
          3.08E7,
          6.468000000000001E7,
          6.97E7,
          3.08E7,
          3.08E7,
          6.97E7,
          2.975E7,
          6.468000000000001E7,
          6.468000000000001E7,
          2.915E7,
          5300000.0,
          6.468000000000001E7,
          6.468000000000001E7,
          2.975E7,
          2.975E7,
          3.08E7,
          5300000.0,
          2.975E7,
          2.975E7,
          3.08E7,
          2.975E7,
          2.915E7,
          2.975E7,
          3.08E7,
          6.468000000000001E7,
          2.975E7,
          3.08E7,
          2.915E7,
          6.468000000000001E7,
          2.915E7,
          2.915E7,
          2.975E7,
          2.975E7,
          2.915E7,
          2.975E7,
          5300000.0,
          6.468000000000001E7,
          2.975E7,
          6.468000000000001E7,
          2.915E7,
          6.468000000000001E7,
          6.468000000000001E7,
          2.975E7,
          2.975E7,
          6.97E7,
          2.915E7,
          2.975E7,
          2.975E7,
          2.915E7,
          6.468000000000001E7,
          6.468000000000001E7,
          2.014E7,
          6.468000000000001E7,
          6.468000000000001E7,
          6.97E7,
          2.975E7,
          2.915E7,
          6.97E7,
          3.08E7,
          6.97E7,
          6.97E7,
          6.468000000000001E7,
          6.97E7,
          3.08E7,
          6.468000000000001E7,
          2.975E7,
          3.08E7,
          2.975E7,
          3.08E7,
          6.468000000000001E7,
          6.97E7,
          2.975E7,
          6.468000000000001E7,
          3.08E7,
          3.08E7,
          3.08E7,
          3.08E7,
          6.97E7,
          2.975E7,
          6.468000000000001E7,
          6.97E7,
          6.468000000000001E7,
          6.468000000000001E7,
          6.97E7,
          6.97E7,
          6.97E7,
          6.468000000000001E7,
          3.08E7,
          6.468000000000001E7,
          3.08E7,
          3.08E7,
          3.08E7,
          3.08E7,
          3.08E7,
          3.08E7,
          6.97E7,
          2.975E7,
          6.97E7,
          2.975E7,
          6.97E7,
          3.08E7,
          3.08E7,
          2.975E7,
          3.08E7,
          3.08E7,
          3.08E7,
          3.08E7,
          3.08E7,
          3.08E7,
          3.08E7,
          3.08E7,
          3.08E7
         ],
         "yaxis": "y",
         "type": "scatter"
        },
        {
         "hovertemplate": "<b>OLS trendline</b><br> Launch Cost = -215751 * Year + 4.74129e+08<br>R<sup>2</sup>=0.013207<br><br>Company Name=CASC<br>Year=%{x}<br> Launch Cost=%{y} <b>(trend)</b><extra></extra>",
         "legendgroup": "CASC",
         "marker": {
          "color": "#EF553B",
          "symbol": "circle"
         },
         "mode": "lines",
         "name": "CASC",
         "showlegend": false,
         "x": [
          1982.0,
          1983.0,
          1984.0,
          1985.0,
          1986.0,
          1987.0,
          1987.0,
          1988.0,
          1990.0,
          1992.0,
          1992.0,
          1993.0,
          1994.0,
          1994.0,
          1994.0,
          1996.0,
          1997.0,
          1997.0,
          1997.0,
          1998.0,
          1998.0,
          1998.0,
          1998.0,
          1999.0,
          1999.0,
          1999.0,
          2000.0,
          2000.0,
          2000.0,
          2002.0,
          2002.0,
          2003.0,
          2003.0,
          2003.0,
          2003.0,
          2003.0,
          2004.0,
          2004.0,
          2004.0,
          2004.0,
          2004.0,
          2004.0,
          2004.0,
          2004.0,
          2005.0,
          2005.0,
          2005.0,
          2006.0,
          2006.0,
          2006.0,
          2006.0,
          2006.0,
          2007.0,
          2007.0,
          2007.0,
          2007.0,
          2007.0,
          2007.0,
          2007.0,
          2007.0,
          2008.0,
          2008.0,
          2008.0,
          2008.0,
          2008.0,
          2008.0,
          2016.0,
          2016.0,
          2016.0,
          2016.0,
          2016.0,
          2016.0,
          2016.0,
          2016.0,
          2016.0,
          2016.0,
          2016.0,
          2016.0,
          2016.0,
          2016.0,
          2016.0,
          2017.0,
          2017.0,
          2017.0,
          2017.0,
          2017.0,
          2017.0,
          2017.0,
          2017.0,
          2017.0,
          2017.0,
          2017.0,
          2017.0,
          2018.0,
          2018.0,
          2018.0,
          2018.0,
          2018.0,
          2018.0,
          2018.0,
          2018.0,
          2018.0,
          2018.0,
          2018.0,
          2018.0,
          2018.0,
          2018.0,
          2018.0,
          2018.0,
          2018.0,
          2018.0,
          2018.0,
          2018.0,
          2018.0,
          2018.0,
          2018.0,
          2018.0,
          2018.0,
          2018.0,
          2018.0,
          2019.0,
          2019.0,
          2019.0,
          2019.0,
          2019.0,
          2019.0,
          2019.0,
          2019.0,
          2019.0,
          2019.0,
          2019.0,
          2019.0,
          2019.0,
          2019.0,
          2019.0,
          2019.0,
          2019.0,
          2019.0,
          2019.0,
          2019.0,
          2019.0,
          2020.0,
          2020.0,
          2020.0,
          2020.0,
          2020.0,
          2020.0,
          2020.0,
          2020.0,
          2020.0,
          2020.0,
          2020.0,
          2020.0,
          2020.0,
          2020.0,
          2020.0,
          2020.0
         ],
         "xaxis": "x",
         "y": [
          4.650928641715711E7,
          4.629353497416431E7,
          4.607778353117144E7,
          4.5862032088178635E7,
          4.564628064518583E7,
          4.543052920219302E7,
          4.543052920219302E7,
          4.5214777759200215E7,
          4.47832748732146E7,
          4.435177198722893E7,
          4.435177198722893E7,
          4.413602054423612E7,
          4.392026910124332E7,
          4.392026910124332E7,
          4.392026910124332E7,
          4.3488766215257704E7,
          4.32730147722649E7,
          4.32730147722649E7,
          4.32730147722649E7,
          4.305726332927203E7,
          4.305726332927203E7,
          4.305726332927203E7,
          4.305726332927203E7,
          4.2841511886279225E7,
          4.2841511886279225E7,
          4.2841511886279225E7,
          4.262576044328642E7,
          4.262576044328642E7,
          4.262576044328642E7,
          4.2194257557300806E7,
          4.2194257557300806E7,
          4.1978506114308E7,
          4.1978506114308E7,
          4.1978506114308E7,
          4.1978506114308E7,
          4.1978506114308E7,
          4.176275467131519E7,
          4.176275467131519E7,
          4.176275467131519E7,
          4.176275467131519E7,
          4.176275467131519E7,
          4.176275467131519E7,
          4.176275467131519E7,
          4.176275467131519E7,
          4.154700322832233E7,
          4.154700322832233E7,
          4.154700322832233E7,
          4.133125178532952E7,
          4.133125178532952E7,
          4.133125178532952E7,
          4.133125178532952E7,
          4.133125178532952E7,
          4.1115500342336714E7,
          4.1115500342336714E7,
          4.1115500342336714E7,
          4.1115500342336714E7,
          4.1115500342336714E7,
          4.1115500342336714E7,
          4.1115500342336714E7,
          4.1115500342336714E7,
          4.089974889934391E7,
          4.089974889934391E7,
          4.089974889934391E7,
          4.089974889934391E7,
          4.089974889934391E7,
          4.089974889934391E7,
          3.91737373554014E7,
          3.91737373554014E7,
          3.91737373554014E7,
          3.91737373554014E7,
          3.91737373554014E7,
          3.91737373554014E7,
          3.91737373554014E7,
          3.91737373554014E7,
          3.91737373554014E7,
          3.91737373554014E7,
          3.91737373554014E7,
          3.91737373554014E7,
          3.91737373554014E7,
          3.91737373554014E7,
          3.91737373554014E7,
          3.895798591240859E7,
          3.895798591240859E7,
          3.895798591240859E7,
          3.895798591240859E7,
          3.895798591240859E7,
          3.895798591240859E7,
          3.895798591240859E7,
          3.895798591240859E7,
          3.895798591240859E7,
          3.895798591240859E7,
          3.895798591240859E7,
          3.895798591240859E7,
          3.8742234469415724E7,
          3.8742234469415724E7,
          3.8742234469415724E7,
          3.8742234469415724E7,
          3.8742234469415724E7,
          3.8742234469415724E7,
          3.8742234469415724E7,
          3.8742234469415724E7,
          3.8742234469415724E7,
          3.8742234469415724E7,
          3.8742234469415724E7,
          3.8742234469415724E7,
          3.8742234469415724E7,
          3.8742234469415724E7,
          3.8742234469415724E7,
          3.8742234469415724E7,
          3.8742234469415724E7,
          3.8742234469415724E7,
          3.8742234469415724E7,
          3.8742234469415724E7,
          3.8742234469415724E7,
          3.8742234469415724E7,
          3.8742234469415724E7,
          3.8742234469415724E7,
          3.8742234469415724E7,
          3.8742234469415724E7,
          3.8742234469415724E7,
          3.852648302642292E7,
          3.852648302642292E7,
          3.852648302642292E7,
          3.852648302642292E7,
          3.852648302642292E7,
          3.852648302642292E7,
          3.852648302642292E7,
          3.852648302642292E7,
          3.852648302642292E7,
          3.852648302642292E7,
          3.852648302642292E7,
          3.852648302642292E7,
          3.852648302642292E7,
          3.852648302642292E7,
          3.852648302642292E7,
          3.852648302642292E7,
          3.852648302642292E7,
          3.852648302642292E7,
          3.852648302642292E7,
          3.852648302642292E7,
          3.852648302642292E7,
          3.831073158343011E7,
          3.831073158343011E7,
          3.831073158343011E7,
          3.831073158343011E7,
          3.831073158343011E7,
          3.831073158343011E7,
          3.831073158343011E7,
          3.831073158343011E7,
          3.831073158343011E7,
          3.831073158343011E7,
          3.831073158343011E7,
          3.831073158343011E7,
          3.831073158343011E7,
          3.831073158343011E7,
          3.831073158343011E7,
          3.831073158343011E7
         ],
         "yaxis": "y",
         "type": "scatter"
        },
        {
         "hovertemplate": "Company Name=Roscosmos<br>Year=%{x}<br> Launch Cost=%{y}<extra></extra>",
         "legendgroup": "Roscosmos",
         "marker": {
          "color": "#00cc96",
          "symbol": "circle"
         },
         "mode": "markers",
         "name": "Roscosmos",
         "orientation": "v",
         "showlegend": true,
         "x": [
          2020.0,
          2020.0,
          2020.0,
          2020.0,
          2019.0,
          2019.0,
          2019.0,
          2019.0,
          2019.0,
          2019.0,
          2019.0,
          2019.0,
          2018.0,
          2018.0,
          2018.0,
          2018.0,
          2018.0,
          2017.0,
          2017.0,
          2017.0,
          2016.0,
          2016.0,
          2016.0
         ],
         "xaxis": "x",
         "y": [
          6.5E7,
          4.85E7,
          4.85E7,
          4.85E7,
          6.5E7,
          4.85E7,
          4.85E7,
          6.5E7,
          4.85E7,
          6.5E7,
          6.5E7,
          4.85E7,
          4.85E7,
          3.5E7,
          4.85E7,
          4.85E7,
          4.85E7,
          4.85E7,
          4.85E7,
          4.85E7,
          4.85E7,
          6.5E7,
          3.5E7
         ],
         "yaxis": "y",
         "type": "scatter"
        },
        {
         "hovertemplate": "<b>OLS trendline</b><br> Launch Cost = 1.92807e+06 * Year + -3.83979e+09<br>R<sup>2</sup>=0.077321<br><br>Company Name=Roscosmos<br>Year=%{x}<br> Launch Cost=%{y} <b>(trend)</b><extra></extra>",
         "legendgroup": "Roscosmos",
         "marker": {
          "color": "#00cc96",
          "symbol": "circle"
         },
         "mode": "lines",
         "name": "Roscosmos",
         "showlegend": false,
         "x": [
          2016.0,
          2016.0,
          2016.0,
          2017.0,
          2017.0,
          2017.0,
          2018.0,
          2018.0,
          2018.0,
          2018.0,
          2018.0,
          2019.0,
          2019.0,
          2019.0,
          2019.0,
          2019.0,
          2019.0,
          2019.0,
          2019.0,
          2020.0,
          2020.0,
          2020.0,
          2020.0
         ],
         "xaxis": "x",
         "y": [
          4.718749999999857E7,
          4.718749999999857E7,
          4.718749999999857E7,
          4.911556603773451E7,
          4.911556603773451E7,
          4.911556603773451E7,
          5.104363207547045E7,
          5.104363207547045E7,
          5.104363207547045E7,
          5.104363207547045E7,
          5.104363207547045E7,
          5.297169811320639E7,
          5.297169811320639E7,
          5.297169811320639E7,
          5.297169811320639E7,
          5.297169811320639E7,
          5.297169811320639E7,
          5.297169811320639E7,
          5.297169811320639E7,
          5.48997641509428E7,
          5.48997641509428E7,
          5.48997641509428E7,
          5.48997641509428E7
         ],
         "yaxis": "y",
         "type": "scatter"
        },
        {
         "hovertemplate": "Company Name=ULA<br>Year=%{x}<br> Launch Cost=%{y}<extra></extra>",
         "legendgroup": "ULA",
         "marker": {
          "color": "#ab63fa",
          "symbol": "circle"
         },
         "mode": "markers",
         "name": "ULA",
         "orientation": "v",
         "showlegend": true,
         "x": [
          2020.0,
          2020.0,
          2020.0,
          2020.0,
          2019.0,
          2019.0,
          2019.0,
          2018.0,
          2018.0,
          2018.0,
          2018.0,
          2018.0,
          2018.0,
          2017.0,
          2017.0,
          2017.0,
          2017.0,
          2017.0,
          2017.0,
          2016.0,
          2016.0,
          2016.0,
          2016.0,
          2016.0,
          2016.0,
          2016.0,
          2016.0,
          2016.0,
          2016.0,
          2015.0,
          2015.0,
          2015.0,
          2015.0,
          2015.0,
          2015.0,
          2015.0,
          2015.0,
          2015.0,
          2015.0,
          2014.0,
          2014.0,
          2014.0,
          2014.0,
          2014.0,
          2014.0,
          2014.0,
          2014.0,
          2014.0,
          2014.0,
          2014.0,
          2014.0,
          2014.0,
          2013.0,
          2013.0,
          2013.0,
          2013.0,
          2013.0,
          2013.0,
          2013.0,
          2013.0,
          2013.0,
          2012.0,
          2012.0,
          2012.0,
          2012.0,
          2012.0,
          2012.0,
          2012.0,
          2012.0,
          2011.0,
          2011.0,
          2011.0,
          2011.0,
          2011.0,
          2011.0,
          2011.0,
          2011.0,
          2010.0,
          2010.0,
          2010.0,
          2010.0,
          2010.0,
          2010.0,
          2010.0,
          2009.0,
          2009.0,
          2009.0,
          2009.0,
          2009.0,
          2009.0,
          2009.0,
          2008.0,
          2008.0,
          2007.0,
          2007.0,
          2007.0,
          2007.0,
          2007.0
         ],
         "xaxis": "x",
         "y": [
          1.45E8,
          1.2E8,
          1.53E8,
          1.15E8,
          1.64E8,
          1.53E8,
          3.5E8,
          1.53E8,
          3.5E8,
          1.09E8,
          1.53E8,
          1.45E8,
          1.15E8,
          1.23E8,
          1.45E8,
          1.09E8,
          1.09E8,
          1.09E8,
          1.09E8,
          1.3E8,
          1.45E8,
          1.09E8,
          1.15E8,
          1.64E8,
          1.23E8,
          1.53E8,
          3.5E8,
          1.09E8,
          1.09E8,
          1.09E8,
          1.09E8,
          1.09E8,
          1.23E8,
          1.53E8,
          1.09E8,
          1.2E8,
          1.64E8,
          1.23E8,
          1.53E8,
          1.45E8,
          3.5E8,
          1.09E8,
          1.09E8,
          1.09E8,
          1.09E8,
          1.64E8,
          1.09E8,
          1.64E8,
          1.45E8,
          1.09E8,
          1.64E8,
          1.09E8,
          1.2E8,
          1.09E8,
          1.4E8,
          3.5E8,
          1.53E8,
          1.09E8,
          1.09E8,
          1.09E8,
          1.09E8,
          1.2E8,
          1.64E8,
          1.09E8,
          1.09E8,
          3.5E8,
          1.09E8,
          1.4E8,
          1.53E8,
          1.45E8,
          1.53E8,
          1.64E8,
          1.09E8,
          1.15E8,
          1.64E8,
          1.2E8,
          3.5E8,
          3.5E8,
          1.2E8,
          1.4E8,
          1.64E8,
          1.2E8,
          1.64E8,
          1.09E8,
          1.3E8,
          1.09E8,
          1.09E8,
          1.64E8,
          1.23E8,
          1.23E8,
          3.5E8,
          1.23E8,
          1.15E8,
          1.09E8,
          3.5E8,
          1.23E8,
          1.09E8,
          1.09E8
         ],
         "yaxis": "y",
         "type": "scatter"
        },
        {
         "hovertemplate": "<b>OLS trendline</b><br> Launch Cost = -658882 * Year + 1.47767e+09<br>R<sup>2</sup>=0.001008<br><br>Company Name=ULA<br>Year=%{x}<br> Launch Cost=%{y} <b>(trend)</b><extra></extra>",
         "legendgroup": "ULA",
         "marker": {
          "color": "#ab63fa",
          "symbol": "circle"
         },
         "mode": "lines",
         "name": "ULA",
         "showlegend": false,
         "x": [
          2007.0,
          2007.0,
          2007.0,
          2007.0,
          2007.0,
          2008.0,
          2008.0,
          2009.0,
          2009.0,
          2009.0,
          2009.0,
          2009.0,
          2009.0,
          2009.0,
          2010.0,
          2010.0,
          2010.0,
          2010.0,
          2010.0,
          2010.0,
          2010.0,
          2011.0,
          2011.0,
          2011.0,
          2011.0,
          2011.0,
          2011.0,
          2011.0,
          2011.0,
          2012.0,
          2012.0,
          2012.0,
          2012.0,
          2012.0,
          2012.0,
          2012.0,
          2012.0,
          2013.0,
          2013.0,
          2013.0,
          2013.0,
          2013.0,
          2013.0,
          2013.0,
          2013.0,
          2013.0,
          2014.0,
          2014.0,
          2014.0,
          2014.0,
          2014.0,
          2014.0,
          2014.0,
          2014.0,
          2014.0,
          2014.0,
          2014.0,
          2014.0,
          2014.0,
          2015.0,
          2015.0,
          2015.0,
          2015.0,
          2015.0,
          2015.0,
          2015.0,
          2015.0,
          2015.0,
          2015.0,
          2016.0,
          2016.0,
          2016.0,
          2016.0,
          2016.0,
          2016.0,
          2016.0,
          2016.0,
          2016.0,
          2016.0,
          2017.0,
          2017.0,
          2017.0,
          2017.0,
          2017.0,
          2017.0,
          2018.0,
          2018.0,
          2018.0,
          2018.0,
          2018.0,
          2018.0,
          2019.0,
          2019.0,
          2019.0,
          2020.0,
          2020.0,
          2020.0,
          2020.0
         ],
         "xaxis": "x",
         "y": [
          1.5528945920164156E8,
          1.5528945920164156E8,
          1.5528945920164156E8,
          1.5528945920164156E8,
          1.5528945920164156E8,
          1.546305767537403E8,
          1.546305767537403E8,
          1.5397169430583882E8,
          1.5397169430583882E8,
          1.5397169430583882E8,
          1.5397169430583882E8,
          1.5397169430583882E8,
          1.5397169430583882E8,
          1.5397169430583882E8,
          1.5331281185793757E8,
          1.5331281185793757E8,
          1.5331281185793757E8,
          1.5331281185793757E8,
          1.5331281185793757E8,
          1.5331281185793757E8,
          1.5331281185793757E8,
          1.526539294100361E8,
          1.526539294100361E8,
          1.526539294100361E8,
          1.526539294100361E8,
          1.526539294100361E8,
          1.526539294100361E8,
          1.526539294100361E8,
          1.526539294100361E8,
          1.5199504696213484E8,
          1.5199504696213484E8,
          1.5199504696213484E8,
          1.5199504696213484E8,
          1.5199504696213484E8,
          1.5199504696213484E8,
          1.5199504696213484E8,
          1.5199504696213484E8,
          1.5133616451423335E8,
          1.5133616451423335E8,
          1.5133616451423335E8,
          1.5133616451423335E8,
          1.5133616451423335E8,
          1.5133616451423335E8,
          1.5133616451423335E8,
          1.5133616451423335E8,
          1.5133616451423335E8,
          1.506772820663321E8,
          1.506772820663321E8,
          1.506772820663321E8,
          1.506772820663321E8,
          1.506772820663321E8,
          1.506772820663321E8,
          1.506772820663321E8,
          1.506772820663321E8,
          1.506772820663321E8,
          1.506772820663321E8,
          1.506772820663321E8,
          1.506772820663321E8,
          1.506772820663321E8,
          1.500183996184306E8,
          1.500183996184306E8,
          1.500183996184306E8,
          1.500183996184306E8,
          1.500183996184306E8,
          1.500183996184306E8,
          1.500183996184306E8,
          1.500183996184306E8,
          1.500183996184306E8,
          1.500183996184306E8,
          1.4935951717052937E8,
          1.4935951717052937E8,
          1.4935951717052937E8,
          1.4935951717052937E8,
          1.4935951717052937E8,
          1.4935951717052937E8,
          1.4935951717052937E8,
          1.4935951717052937E8,
          1.4935951717052937E8,
          1.4935951717052937E8,
          1.4870063472262812E8,
          1.4870063472262812E8,
          1.4870063472262812E8,
          1.4870063472262812E8,
          1.4870063472262812E8,
          1.4870063472262812E8,
          1.4804175227472663E8,
          1.4804175227472663E8,
          1.4804175227472663E8,
          1.4804175227472663E8,
          1.4804175227472663E8,
          1.4804175227472663E8,
          1.4738286982682538E8,
          1.4738286982682538E8,
          1.4738286982682538E8,
          1.467239873789239E8,
          1.467239873789239E8,
          1.467239873789239E8,
          1.467239873789239E8
         ],
         "yaxis": "y",
         "type": "scatter"
        },
        {
         "hovertemplate": "Company Name=JAXA<br>Year=%{x}<br> Launch Cost=%{y}<extra></extra>",
         "legendgroup": "JAXA",
         "marker": {
          "color": "#FFA15A",
          "symbol": "circle"
         },
         "mode": "markers",
         "name": "JAXA",
         "orientation": "v",
         "showlegend": true,
         "x": [
          2020.0,
          2019.0,
          2018.0
         ],
         "xaxis": "x",
         "y": [
          9.0E7,
          3.9E7,
          3.9E7
         ],
         "yaxis": "y",
         "type": "scatter"
        },
        {
         "hovertemplate": "<b>OLS trendline</b><br> Launch Cost = 2.55e+07 * Year + -5.14285e+10<br>R<sup>2</sup>=0.750000<br><br>Company Name=JAXA<br>Year=%{x}<br> Launch Cost=%{y} <b>(trend)</b><extra></extra>",
         "legendgroup": "JAXA",
         "marker": {
          "color": "#FFA15A",
          "symbol": "circle"
         },
         "mode": "lines",
         "name": "JAXA",
         "showlegend": false,
         "x": [
          2018.0,
          2019.0,
          2020.0
         ],
         "xaxis": "x",
         "y": [
          3.050000000001526E7,
          5.600000000001526E7,
          8.150000000000763E7
         ],
         "yaxis": "y",
         "type": "scatter"
        },
        {
         "hovertemplate": "Company Name=Northrop<br>Year=%{x}<br> Launch Cost=%{y}<extra></extra>",
         "legendgroup": "Northrop",
         "marker": {
          "color": "#19d3f3",
          "symbol": "circle"
         },
         "mode": "markers",
         "name": "Northrop",
         "orientation": "v",
         "showlegend": true,
         "x": [
          2020.0,
          2020.0,
          2019.0,
          2019.0,
          2019.0,
          2018.0,
          2018.0,
          2017.0,
          2017.0,
          2017.0,
          2016.0,
          2016.0,
          2014.0,
          2014.0,
          2014.0,
          2013.0,
          2013.0,
          2013.0,
          2013.0,
          2013.0,
          2012.0,
          2011.0,
          2011.0,
          2011.0,
          2011.0,
          2010.0,
          2010.0,
          2009.0,
          2009.0,
          2008.0,
          2008.0,
          2007.0,
          2007.0,
          2006.0,
          2006.0,
          2006.0,
          2005.0,
          2005.0,
          2005.0,
          2004.0,
          2003.0,
          2003.0,
          2003.0,
          2003.0,
          2002.0,
          2001.0,
          2000.0,
          2000.0,
          2000.0,
          2000.0,
          2000.0,
          1999.0,
          1999.0,
          1999.0,
          1999.0,
          1998.0,
          1998.0,
          1998.0,
          1998.0,
          1998.0,
          1998.0,
          1998.0,
          1998.0,
          1997.0,
          1997.0,
          1997.0,
          1997.0,
          1997.0,
          1996.0,
          1996.0,
          1996.0,
          1996.0,
          1996.0,
          1995.0,
          1995.0,
          1994.0,
          1994.0,
          1994.0,
          1994.0,
          1993.0,
          1993.0,
          1991.0,
          1990.0
         ],
         "xaxis": "x",
         "y": [
          4.6E7,
          8.5E7,
          8.5E7,
          4.0E7,
          8.5E7,
          8.5E7,
          8.5E7,
          8.5E7,
          4.5E7,
          4.6E7,
          4.0E7,
          8.5E7,
          8.0E7,
          8.0E7,
          8.0E7,
          4.0E7,
          8.0E7,
          5.5E7,
          4.0E7,
          8.0E7,
          4.0E7,
          4.6E7,
          4.0E7,
          4.5E7,
          4.0E7,
          4.6E7,
          4.6E7,
          4.0E7,
          4.5E7,
          4.0E7,
          4.0E7,
          4.0E7,
          4.0E7,
          4.0E7,
          4.0E7,
          4.0E7,
          4.0E7,
          4.0E7,
          4.0E7,
          4.5E7,
          4.0E7,
          4.0E7,
          4.0E7,
          4.0E7,
          4.0E7,
          4.5E7,
          4.0E7,
          4.0E7,
          4.0E7,
          4.5E7,
          4.0E7,
          4.5E7,
          4.0E7,
          4.0E7,
          4.0E7,
          4.0E7,
          4.0E7,
          4.5E7,
          4.0E7,
          4.0E7,
          4.0E7,
          4.0E7,
          4.5E7,
          4.0E7,
          4.0E7,
          4.0E7,
          4.0E7,
          4.0E7,
          4.0E7,
          4.0E7,
          4.0E7,
          4.0E7,
          4.0E7,
          4.0E7,
          4.0E7,
          4.0E7,
          4.0E7,
          4.0E7,
          4.5E7,
          4.0E7,
          4.0E7,
          4.0E7,
          4.0E7
         ],
         "yaxis": "y",
         "type": "scatter"
        },
        {
         "hovertemplate": "<b>OLS trendline</b><br> Launch Cost = 1.12266e+06 * Year + -2.20306e+09<br>R<sup>2</sup>=0.392984<br><br>Company Name=Northrop<br>Year=%{x}<br> Launch Cost=%{y} <b>(trend)</b><extra></extra>",
         "legendgroup": "Northrop",
         "marker": {
          "color": "#19d3f3",
          "symbol": "circle"
         },
         "mode": "lines",
         "name": "Northrop",
         "showlegend": false,
         "x": [
          1990.0,
          1991.0,
          1993.0,
          1993.0,
          1994.0,
          1994.0,
          1994.0,
          1994.0,
          1995.0,
          1995.0,
          1996.0,
          1996.0,
          1996.0,
          1996.0,
          1996.0,
          1997.0,
          1997.0,
          1997.0,
          1997.0,
          1997.0,
          1998.0,
          1998.0,
          1998.0,
          1998.0,
          1998.0,
          1998.0,
          1998.0,
          1998.0,
          1999.0,
          1999.0,
          1999.0,
          1999.0,
          2000.0,
          2000.0,
          2000.0,
          2000.0,
          2000.0,
          2001.0,
          2002.0,
          2003.0,
          2003.0,
          2003.0,
          2003.0,
          2004.0,
          2005.0,
          2005.0,
          2005.0,
          2006.0,
          2006.0,
          2006.0,
          2007.0,
          2007.0,
          2008.0,
          2008.0,
          2009.0,
          2009.0,
          2010.0,
          2010.0,
          2011.0,
          2011.0,
          2011.0,
          2011.0,
          2012.0,
          2013.0,
          2013.0,
          2013.0,
          2013.0,
          2013.0,
          2014.0,
          2014.0,
          2014.0,
          2016.0,
          2016.0,
          2017.0,
          2017.0,
          2017.0,
          2018.0,
          2018.0,
          2019.0,
          2019.0,
          2019.0,
          2020.0,
          2020.0
         ],
         "xaxis": "x",
         "y": [
          3.1023523093447685E7,
          3.2146180577493668E7,
          3.439149554558611E7,
          3.439149554558611E7,
          3.551415302963257E7,
          3.551415302963257E7,
          3.551415302963257E7,
          3.551415302963257E7,
          3.663681051367855E7,
          3.663681051367855E7,
          3.775946799772501E7,
          3.775946799772501E7,
          3.775946799772501E7,
          3.775946799772501E7,
          3.775946799772501E7,
          3.888212548177147E7,
          3.888212548177147E7,
          3.888212548177147E7,
          3.888212548177147E7,
          3.888212548177147E7,
          4.000478296581745E7,
          4.000478296581745E7,
          4.000478296581745E7,
          4.000478296581745E7,
          4.000478296581745E7,
          4.000478296581745E7,
          4.000478296581745E7,
          4.000478296581745E7,
          4.112744044986391E7,
          4.112744044986391E7,
          4.112744044986391E7,
          4.112744044986391E7,
          4.225009793390989E7,
          4.225009793390989E7,
          4.225009793390989E7,
          4.225009793390989E7,
          4.225009793390989E7,
          4.337275541795635E7,
          4.449541290200281E7,
          4.5618070386048794E7,
          4.5618070386048794E7,
          4.5618070386048794E7,
          4.5618070386048794E7,
          4.674072787009525E7,
          4.7863385354141235E7,
          4.7863385354141235E7,
          4.7863385354141235E7,
          4.8986042838187695E7,
          4.8986042838187695E7,
          4.8986042838187695E7,
          5.010870032223368E7,
          5.010870032223368E7,
          5.1231357806280136E7,
          5.1231357806280136E7,
          5.2354015290326595E7,
          5.2354015290326595E7,
          5.347667277437258E7,
          5.347667277437258E7,
          5.459933025841904E7,
          5.459933025841904E7,
          5.459933025841904E7,
          5.459933025841904E7,
          5.572198774246502E7,
          5.684464522651148E7,
          5.684464522651148E7,
          5.684464522651148E7,
          5.684464522651148E7,
          5.684464522651148E7,
          5.796730271055746E7,
          5.796730271055746E7,
          5.796730271055746E7,
          6.021261767865038E7,
          6.021261767865038E7,
          6.133527516269636E7,
          6.133527516269636E7,
          6.133527516269636E7,
          6.245793264674282E7,
          6.245793264674282E7,
          6.35805901307888E7,
          6.35805901307888E7,
          6.35805901307888E7,
          6.470324761483526E7,
          6.470324761483526E7
         ],
         "yaxis": "y",
         "type": "scatter"
        },
        {
         "hovertemplate": "Company Name=ExPace<br>Year=%{x}<br> Launch Cost=%{y}<extra></extra>",
         "legendgroup": "ExPace",
         "marker": {
          "color": "#FF6692",
          "symbol": "circle"
         },
         "mode": "markers",
         "name": "ExPace",
         "orientation": "v",
         "showlegend": true,
         "x": [
          2020.0
         ],
         "xaxis": "x",
         "y": [
          2.83E7
         ],
         "yaxis": "y",
         "type": "scatter"
        },
        {
         "hovertemplate": "Company Name=ExPace<extra></extra>",
         "legendgroup": "ExPace",
         "marker": {
          "color": "#FF6692",
          "symbol": "circle"
         },
         "mode": "lines",
         "name": "ExPace",
         "showlegend": false,
         "xaxis": "x",
         "yaxis": "y",
         "type": "scatter"
        },
        {
         "hovertemplate": "Company Name=Rocket Lab<br>Year=%{x}<br> Launch Cost=%{y}<extra></extra>",
         "legendgroup": "Rocket Lab",
         "marker": {
          "color": "#B6E880",
          "symbol": "circle"
         },
         "mode": "markers",
         "name": "Rocket Lab",
         "orientation": "v",
         "showlegend": true,
         "x": [
          2020.0,
          2020.0,
          2020.0,
          2019.0,
          2019.0,
          2019.0,
          2019.0,
          2019.0,
          2019.0,
          2018.0,
          2018.0,
          2018.0,
          2017.0
         ],
         "xaxis": "x",
         "y": [
          7500000.0,
          7500000.0,
          7500000.0,
          7500000.0,
          7500000.0,
          7500000.0,
          7500000.0,
          7500000.0,
          7500000.0,
          7500000.0,
          7500000.0,
          7500000.0,
          7500000.0
         ],
         "yaxis": "y",
         "type": "scatter"
        },
        {
         "hovertemplate": "<b>OLS trendline</b><br> Launch Cost = -4.65661e-10 * Year + 7.5e+06<br>R<sup>2</sup>=-inf<br><br>Company Name=Rocket Lab<br>Year=%{x}<br> Launch Cost=%{y} <b>(trend)</b><extra></extra>",
         "legendgroup": "Rocket Lab",
         "marker": {
          "color": "#B6E880",
          "symbol": "circle"
         },
         "mode": "lines",
         "name": "Rocket Lab",
         "showlegend": false,
         "x": [
          2017.0,
          2018.0,
          2018.0,
          2018.0,
          2019.0,
          2019.0,
          2019.0,
          2019.0,
          2019.0,
          2019.0,
          2020.0,
          2020.0,
          2020.0
         ],
         "xaxis": "x",
         "y": [
          7499999.999999538,
          7499999.999999537,
          7499999.999999537,
          7499999.999999537,
          7499999.999999536,
          7499999.999999536,
          7499999.999999536,
          7499999.999999536,
          7499999.999999536,
          7499999.999999536,
          7499999.999999536,
          7499999.999999536,
          7499999.999999536
         ],
         "yaxis": "y",
         "type": "scatter"
        },
        {
         "hovertemplate": "Company Name=Virgin Orbit<br>Year=%{x}<br> Launch Cost=%{y}<extra></extra>",
         "legendgroup": "Virgin Orbit",
         "marker": {
          "color": "#FF97FF",
          "symbol": "circle"
         },
         "mode": "markers",
         "name": "Virgin Orbit",
         "orientation": "v",
         "showlegend": true,
         "x": [
          2020.0
         ],
         "xaxis": "x",
         "y": [
          1.2E7
         ],
         "yaxis": "y",
         "type": "scatter"
        },
        {
         "hovertemplate": "Company Name=Virgin Orbit<extra></extra>",
         "legendgroup": "Virgin Orbit",
         "marker": {
          "color": "#FF97FF",
          "symbol": "circle"
         },
         "mode": "lines",
         "name": "Virgin Orbit",
         "showlegend": false,
         "xaxis": "x",
         "yaxis": "y",
         "type": "scatter"
        },
        {
         "hovertemplate": "Company Name=MHI<br>Year=%{x}<br> Launch Cost=%{y}<extra></extra>",
         "legendgroup": "MHI",
         "marker": {
          "color": "#FECB52",
          "symbol": "circle"
         },
         "mode": "markers",
         "name": "MHI",
         "orientation": "v",
         "showlegend": true,
         "x": [
          2020.0,
          2020.0,
          2019.0,
          2018.0,
          2018.0,
          2018.0,
          2018.0,
          2017.0,
          2017.0,
          2017.0,
          2017.0,
          2016.0,
          2016.0,
          2016.0,
          2015.0,
          2015.0,
          2015.0,
          2014.0,
          2014.0,
          2014.0,
          2014.0,
          2013.0,
          2013.0,
          2012.0,
          2012.0,
          2011.0,
          2011.0,
          2011.0,
          2011.0,
          2010.0,
          2009.0,
          2009.0,
          2009.0,
          2008.0,
          2006.0,
          2002.0,
          2001.0
         ],
         "xaxis": "x",
         "y": [
          1.125E8,
          9.0E7,
          1.125E8,
          9.0E7,
          1.125E8,
          9.0E7,
          9.0E7,
          9.0E7,
          9.0E7,
          9.0E7,
          9.0E7,
          1.125E8,
          9.0E7,
          9.0E7,
          1.125E8,
          9.0E7,
          9.0E7,
          9.0E7,
          9.0E7,
          9.0E7,
          9.0E7,
          1.125E8,
          9.0E7,
          1.125E8,
          9.0E7,
          9.0E7,
          9.0E7,
          9.0E7,
          1.125E8,
          9.0E7,
          9.0E7,
          1.125E8,
          9.0E7,
          9.0E7,
          9.0E7,
          9.0E7,
          9.0E7
         ],
         "yaxis": "y",
         "type": "scatter"
        },
        {
         "hovertemplate": "<b>OLS trendline</b><br> Launch Cost = 371075 * Year + -6.51652e+08<br>R<sup>2</sup>=0.029909<br><br>Company Name=MHI<br>Year=%{x}<br> Launch Cost=%{y} <b>(trend)</b><extra></extra>",
         "legendgroup": "MHI",
         "marker": {
          "color": "#FECB52",
          "symbol": "circle"
         },
         "mode": "lines",
         "name": "MHI",
         "showlegend": false,
         "x": [
          2001.0,
          2002.0,
          2006.0,
          2008.0,
          2009.0,
          2009.0,
          2009.0,
          2010.0,
          2011.0,
          2011.0,
          2011.0,
          2011.0,
          2012.0,
          2012.0,
          2013.0,
          2013.0,
          2014.0,
          2014.0,
          2014.0,
          2014.0,
          2015.0,
          2015.0,
          2015.0,
          2016.0,
          2016.0,
          2016.0,
          2017.0,
          2017.0,
          2017.0,
          2017.0,
          2018.0,
          2018.0,
          2018.0,
          2018.0,
          2019.0,
          2020.0,
          2020.0
         ],
         "xaxis": "x",
         "y": [
          9.086963190183866E7,
          9.124070732587337E7,
          9.2725009022012E7,
          9.34671598700813E7,
          9.383823529411602E7,
          9.383823529411602E7,
          9.383823529411602E7,
          9.420931071815073E7,
          9.458038614218533E7,
          9.458038614218533E7,
          9.458038614218533E7,
          9.458038614218533E7,
          9.495146156622005E7,
          9.495146156622005E7,
          9.532253699025464E7,
          9.532253699025464E7,
          9.569361241428936E7,
          9.569361241428936E7,
          9.569361241428936E7,
          9.569361241428936E7,
          9.606468783832407E7,
          9.606468783832407E7,
          9.606468783832407E7,
          9.643576326235867E7,
          9.643576326235867E7,
          9.643576326235867E7,
          9.680683868639338E7,
          9.680683868639338E7,
          9.680683868639338E7,
          9.680683868639338E7,
          9.717791411042798E7,
          9.717791411042798E7,
          9.717791411042798E7,
          9.717791411042798E7,
          9.754898953446269E7,
          9.79200649584974E7,
          9.79200649584974E7
         ],
         "yaxis": "y",
         "type": "scatter"
        },
        {
         "hovertemplate": "Company Name=Arianespace<br>Year=%{x}<br> Launch Cost=%{y}<extra></extra>",
         "legendgroup": "Arianespace",
         "marker": {
          "color": "#636efa",
          "symbol": "circle"
         },
         "mode": "markers",
         "name": "Arianespace",
         "orientation": "v",
         "showlegend": true,
         "x": [
          2020.0,
          2020.0,
          2020.0,
          2020.0,
          2019.0,
          2019.0,
          2019.0,
          2019.0,
          2019.0,
          2019.0,
          2018.0,
          2018.0,
          2018.0,
          2018.0,
          2018.0,
          2018.0,
          2018.0,
          2017.0,
          2017.0,
          2017.0,
          2017.0,
          2017.0,
          2017.0,
          2017.0,
          2017.0,
          2016.0,
          2016.0,
          2016.0,
          2016.0,
          2016.0,
          2016.0,
          2016.0,
          2016.0,
          2015.0,
          2015.0,
          2015.0,
          2015.0,
          2015.0,
          2015.0,
          2015.0,
          2015.0,
          2015.0,
          2014.0,
          2014.0,
          2014.0,
          2014.0,
          2014.0,
          2014.0,
          2013.0,
          2013.0,
          2013.0,
          2013.0,
          2012.0,
          2012.0,
          2012.0,
          2012.0,
          2012.0,
          2012.0,
          2012.0,
          2011.0,
          2011.0,
          2011.0,
          2011.0,
          2011.0,
          2010.0,
          2010.0,
          2010.0,
          2010.0,
          2010.0,
          2010.0,
          2009.0,
          2009.0,
          2009.0,
          2009.0,
          2009.0,
          2009.0,
          2008.0,
          2008.0,
          2008.0,
          2008.0,
          2008.0,
          2007.0,
          2007.0,
          2007.0,
          2007.0,
          2006.0,
          2006.0,
          2006.0,
          2006.0,
          2006.0,
          2005.0,
          2005.0,
          2004.0,
          2004.0,
          2004.0,
          2002.0
         ],
         "xaxis": "x",
         "y": [
          4.85E7,
          2.0E8,
          4.85E7,
          2.0E8,
          2.0E8,
          2.0E8,
          3.7E7,
          2.0E8,
          3.7E7,
          2.0E8,
          2.0E8,
          3.7E7,
          2.0E8,
          2.0E8,
          3.7E7,
          2.0E8,
          2.0E8,
          3.7E7,
          2.0E8,
          3.7E7,
          2.0E8,
          2.0E8,
          2.0E8,
          3.7E7,
          2.0E8,
          2.0E8,
          3.7E7,
          2.0E8,
          3.7E7,
          2.0E8,
          2.0E8,
          2.0E8,
          2.0E8,
          3.7E7,
          2.0E8,
          2.0E8,
          2.0E8,
          2.0E8,
          3.7E7,
          2.0E8,
          2.0E8,
          3.7E7,
          2.0E8,
          2.0E8,
          2.0E8,
          3.7E7,
          2.0E8,
          2.0E8,
          2.0E8,
          2.0E8,
          3.7E7,
          2.0E8,
          2.0E8,
          8.0E7,
          2.0E8,
          2.0E8,
          2.0E8,
          2.0E8,
          2.0E8,
          8.0E7,
          2.0E8,
          2.0E8,
          2.0E8,
          2.0E8,
          2.0E8,
          2.0E8,
          2.0E8,
          2.0E8,
          2.0E8,
          2.0E8,
          2.0E8,
          2.0E8,
          2.0E8,
          2.0E8,
          2.0E8,
          2.0E8,
          2.0E8,
          2.0E8,
          2.0E8,
          2.0E8,
          2.0E8,
          2.0E8,
          2.0E8,
          2.0E8,
          2.0E8,
          2.0E8,
          2.0E8,
          2.0E8,
          2.0E8,
          2.0E8,
          2.0E8,
          2.0E8,
          1.9E8,
          1.9E8,
          1.9E8,
          2.0E8
         ],
         "yaxis": "y",
         "type": "scatter"
        },
        {
         "hovertemplate": "<b>OLS trendline</b><br> Launch Cost = -4.82286e+06 * Year + 9.87777e+09<br>R<sup>2</sup>=0.129039<br><br>Company Name=Arianespace<br>Year=%{x}<br> Launch Cost=%{y} <b>(trend)</b><extra></extra>",
         "legendgroup": "Arianespace",
         "marker": {
          "color": "#636efa",
          "symbol": "circle"
         },
         "mode": "lines",
         "name": "Arianespace",
         "showlegend": false,
         "x": [
          2002.0,
          2004.0,
          2004.0,
          2004.0,
          2005.0,
          2005.0,
          2006.0,
          2006.0,
          2006.0,
          2006.0,
          2006.0,
          2007.0,
          2007.0,
          2007.0,
          2007.0,
          2008.0,
          2008.0,
          2008.0,
          2008.0,
          2008.0,
          2009.0,
          2009.0,
          2009.0,
          2009.0,
          2009.0,
          2009.0,
          2010.0,
          2010.0,
          2010.0,
          2010.0,
          2010.0,
          2010.0,
          2011.0,
          2011.0,
          2011.0,
          2011.0,
          2011.0,
          2012.0,
          2012.0,
          2012.0,
          2012.0,
          2012.0,
          2012.0,
          2012.0,
          2013.0,
          2013.0,
          2013.0,
          2013.0,
          2014.0,
          2014.0,
          2014.0,
          2014.0,
          2014.0,
          2014.0,
          2015.0,
          2015.0,
          2015.0,
          2015.0,
          2015.0,
          2015.0,
          2015.0,
          2015.0,
          2015.0,
          2016.0,
          2016.0,
          2016.0,
          2016.0,
          2016.0,
          2016.0,
          2016.0,
          2016.0,
          2017.0,
          2017.0,
          2017.0,
          2017.0,
          2017.0,
          2017.0,
          2017.0,
          2017.0,
          2018.0,
          2018.0,
          2018.0,
          2018.0,
          2018.0,
          2018.0,
          2018.0,
          2019.0,
          2019.0,
          2019.0,
          2019.0,
          2019.0,
          2019.0,
          2020.0,
          2020.0,
          2020.0,
          2020.0
         ],
         "xaxis": "x",
         "y": [
          2.2240756529134178E8,
          2.127618499388008E8,
          2.127618499388008E8,
          2.127618499388008E8,
          2.0793899226252937E8,
          2.0793899226252937E8,
          2.0311613458625793E8,
          2.0311613458625793E8,
          2.0311613458625793E8,
          2.0311613458625793E8,
          2.0311613458625793E8,
          1.982932769099865E8,
          1.982932769099865E8,
          1.982932769099865E8,
          1.982932769099865E8,
          1.9347041923371506E8,
          1.9347041923371506E8,
          1.9347041923371506E8,
          1.9347041923371506E8,
          1.9347041923371506E8,
          1.8864756155744362E8,
          1.8864756155744362E8,
          1.8864756155744362E8,
          1.8864756155744362E8,
          1.8864756155744362E8,
          1.8864756155744362E8,
          1.838247038811741E8,
          1.838247038811741E8,
          1.838247038811741E8,
          1.838247038811741E8,
          1.838247038811741E8,
          1.838247038811741E8,
          1.7900184620490265E8,
          1.7900184620490265E8,
          1.7900184620490265E8,
          1.7900184620490265E8,
          1.7900184620490265E8,
          1.741789885286312E8,
          1.741789885286312E8,
          1.741789885286312E8,
          1.741789885286312E8,
          1.741789885286312E8,
          1.741789885286312E8,
          1.741789885286312E8,
          1.6935613085235977E8,
          1.6935613085235977E8,
          1.6935613085235977E8,
          1.6935613085235977E8,
          1.6453327317608833E8,
          1.6453327317608833E8,
          1.6453327317608833E8,
          1.6453327317608833E8,
          1.6453327317608833E8,
          1.6453327317608833E8,
          1.597104154998169E8,
          1.597104154998169E8,
          1.597104154998169E8,
          1.597104154998169E8,
          1.597104154998169E8,
          1.597104154998169E8,
          1.597104154998169E8,
          1.597104154998169E8,
          1.597104154998169E8,
          1.5488755782354546E8,
          1.5488755782354546E8,
          1.5488755782354546E8,
          1.5488755782354546E8,
          1.5488755782354546E8,
          1.5488755782354546E8,
          1.5488755782354546E8,
          1.5488755782354546E8,
          1.5006470014727592E8,
          1.5006470014727592E8,
          1.5006470014727592E8,
          1.5006470014727592E8,
          1.5006470014727592E8,
          1.5006470014727592E8,
          1.5006470014727592E8,
          1.5006470014727592E8,
          1.452418424710045E8,
          1.452418424710045E8,
          1.452418424710045E8,
          1.452418424710045E8,
          1.452418424710045E8,
          1.452418424710045E8,
          1.452418424710045E8,
          1.4041898479473305E8,
          1.4041898479473305E8,
          1.4041898479473305E8,
          1.4041898479473305E8,
          1.4041898479473305E8,
          1.4041898479473305E8,
          1.355961271184616E8,
          1.355961271184616E8,
          1.355961271184616E8,
          1.355961271184616E8
         ],
         "yaxis": "y",
         "type": "scatter"
        },
        {
         "hovertemplate": "Company Name=VKS RF<br>Year=%{x}<br> Launch Cost=%{y}<extra></extra>",
         "legendgroup": "VKS RF",
         "marker": {
          "color": "#EF553B",
          "symbol": "circle"
         },
         "mode": "markers",
         "name": "VKS RF",
         "orientation": "v",
         "showlegend": true,
         "x": [
          2020.0,
          2019.0,
          2019.0,
          2019.0,
          2019.0,
          2019.0,
          2018.0,
          2018.0,
          2018.0,
          2018.0,
          2017.0,
          2017.0,
          2017.0,
          2016.0,
          2016.0,
          2016.0,
          2016.0,
          2015.0,
          2015.0,
          2014.0,
          2014.0,
          2013.0,
          2013.0,
          2013.0,
          2013.0,
          2013.0,
          2012.0,
          2011.0,
          2010.0,
          2009.0,
          2008.0,
          2005.0,
          2004.0
         ],
         "xaxis": "x",
         "y": [
          4.85E7,
          4.18E7,
          4.85E7,
          4.85E7,
          4.18E7,
          4.85E7,
          6.5E7,
          4.18E7,
          4.85E7,
          6.5E7,
          3.5E7,
          6.5E7,
          6.5E7,
          4.18E7,
          4.85E7,
          4.85E7,
          4.85E7,
          4.18E7,
          4.18E7,
          4.18E7,
          4.18E7,
          4.18E7,
          4.18E7,
          4.18E7,
          6.5E7,
          4.18E7,
          4.18E7,
          4.18E7,
          4.18E7,
          4.18E7,
          4.18E7,
          4.18E7,
          4.85E7
         ],
         "yaxis": "y",
         "type": "scatter"
        },
        {
         "hovertemplate": "<b>OLS trendline</b><br> Launch Cost = 581368 * Year + -1.12433e+09<br>R<sup>2</sup>=0.079083<br><br>Company Name=VKS RF<br>Year=%{x}<br> Launch Cost=%{y} <b>(trend)</b><extra></extra>",
         "legendgroup": "VKS RF",
         "marker": {
          "color": "#EF553B",
          "symbol": "circle"
         },
         "mode": "lines",
         "name": "VKS RF",
         "showlegend": false,
         "x": [
          2004.0,
          2005.0,
          2008.0,
          2009.0,
          2010.0,
          2011.0,
          2012.0,
          2013.0,
          2013.0,
          2013.0,
          2013.0,
          2013.0,
          2014.0,
          2014.0,
          2015.0,
          2015.0,
          2016.0,
          2016.0,
          2016.0,
          2016.0,
          2017.0,
          2017.0,
          2017.0,
          2018.0,
          2018.0,
          2018.0,
          2018.0,
          2019.0,
          2019.0,
          2019.0,
          2019.0,
          2019.0,
          2020.0
         ],
         "xaxis": "x",
         "y": [
          4.0735108931221485E7,
          4.131647655982852E7,
          4.30605794456501E7,
          4.3641947074257135E7,
          4.422331470286417E7,
          4.480468233147144E7,
          4.538604996007848E7,
          4.596741758868575E7,
          4.596741758868575E7,
          4.596741758868575E7,
          4.596741758868575E7,
          4.596741758868575E7,
          4.6548785217292786E7,
          4.6548785217292786E7,
          4.713015284589982E7,
          4.713015284589982E7,
          4.771152047450709E7,
          4.771152047450709E7,
          4.771152047450709E7,
          4.771152047450709E7,
          4.829288810311413E7,
          4.829288810311413E7,
          4.829288810311413E7,
          4.88742557317214E7,
          4.88742557317214E7,
          4.88742557317214E7,
          4.88742557317214E7,
          4.9455623360328436E7,
          4.9455623360328436E7,
          4.9455623360328436E7,
          4.9455623360328436E7,
          4.9455623360328436E7,
          5.003699098893547E7
         ],
         "yaxis": "y",
         "type": "scatter"
        },
        {
         "hovertemplate": "Company Name=ISRO<br>Year=%{x}<br> Launch Cost=%{y}<extra></extra>",
         "legendgroup": "ISRO",
         "marker": {
          "color": "#00cc96",
          "symbol": "circle"
         },
         "mode": "markers",
         "name": "ISRO",
         "orientation": "v",
         "showlegend": true,
         "x": [
          2019.0,
          2019.0,
          2019.0,
          2019.0,
          2019.0,
          2018.0,
          2018.0,
          2018.0,
          2018.0,
          2018.0,
          2018.0,
          2018.0,
          2017.0,
          2017.0,
          2017.0,
          2017.0,
          2017.0,
          2016.0,
          2016.0,
          2016.0,
          2016.0,
          2016.0,
          2016.0,
          2016.0,
          2015.0,
          2015.0,
          2015.0,
          2015.0,
          2015.0,
          2014.0,
          2014.0,
          2014.0,
          2014.0,
          2014.0,
          2013.0,
          2013.0,
          2013.0,
          2012.0,
          2012.0,
          2011.0,
          2011.0,
          2011.0,
          2010.0,
          2010.0,
          2010.0,
          2009.0,
          2009.0,
          2008.0,
          2008.0,
          2008.0,
          2007.0,
          2007.0,
          2007.0,
          2006.0,
          2005.0,
          2004.0,
          2003.0,
          2003.0,
          2002.0,
          2001.0,
          2001.0,
          1999.0,
          1997.0,
          1996.0,
          1994.0,
          1993.0
         ],
         "xaxis": "x",
         "y": [
          2.1E7,
          3.1E7,
          6.2E7,
          2.1E7,
          2.1E7,
          4.7E7,
          2.1E7,
          6.2E7,
          2.1E7,
          3.1E7,
          4.7E7,
          3.1E7,
          3.1E7,
          3.1E7,
          6.2E7,
          4.7E7,
          3.1E7,
          3.1E7,
          2.5E7,
          4.7E7,
          3.1E7,
          3.1E7,
          3.1E7,
          3.1E7,
          2.1E7,
          3.1E7,
          4.7E7,
          3.1E7,
          3.1E7,
          6.2E7,
          3.1E7,
          2.1E7,
          3.1E7,
          4.7E7,
          3.1E7,
          3.1E7,
          2.1E7,
          2.1E7,
          3.1E7,
          2.1E7,
          3.1E7,
          2.5E7,
          4.7E7,
          2.1E7,
          4.7E7,
          2.1E7,
          2.1E7,
          3.1E7,
          2.1E7,
          2.1E7,
          4.7E7,
          2.1E7,
          2.5E7,
          4.7E7,
          2.5E7,
          4.7E7,
          2.5E7,
          4.7E7,
          2.5E7,
          2.5E7,
          4.7E7,
          2.5E7,
          2.5E7,
          2.5E7,
          2.5E7,
          2.5E7
         ],
         "yaxis": "y",
         "type": "scatter"
        },
        {
         "hovertemplate": "<b>OLS trendline</b><br> Launch Cost = 325505 * Year + -6.22223e+08<br>R<sup>2</sup>=0.034251<br><br>Company Name=ISRO<br>Year=%{x}<br> Launch Cost=%{y} <b>(trend)</b><extra></extra>",
         "legendgroup": "ISRO",
         "marker": {
          "color": "#00cc96",
          "symbol": "circle"
         },
         "mode": "lines",
         "name": "ISRO",
         "showlegend": false,
         "x": [
          1993.0,
          1994.0,
          1996.0,
          1997.0,
          1999.0,
          2001.0,
          2001.0,
          2002.0,
          2003.0,
          2003.0,
          2004.0,
          2005.0,
          2006.0,
          2007.0,
          2007.0,
          2007.0,
          2008.0,
          2008.0,
          2008.0,
          2009.0,
          2009.0,
          2010.0,
          2010.0,
          2010.0,
          2011.0,
          2011.0,
          2011.0,
          2012.0,
          2012.0,
          2013.0,
          2013.0,
          2013.0,
          2014.0,
          2014.0,
          2014.0,
          2014.0,
          2014.0,
          2015.0,
          2015.0,
          2015.0,
          2015.0,
          2015.0,
          2016.0,
          2016.0,
          2016.0,
          2016.0,
          2016.0,
          2016.0,
          2016.0,
          2017.0,
          2017.0,
          2017.0,
          2017.0,
          2017.0,
          2018.0,
          2018.0,
          2018.0,
          2018.0,
          2018.0,
          2018.0,
          2018.0,
          2019.0,
          2019.0,
          2019.0,
          2019.0,
          2019.0
         ],
         "xaxis": "x",
         "y": [
          2.6508108108108044E7,
          2.683361292326796E7,
          2.7484622553588033E7,
          2.781012736874795E7,
          2.846113699906802E7,
          2.9112146629387975E7,
          2.9112146629387975E7,
          2.943765144454801E7,
          2.9763156259707928E7,
          2.9763156259707928E7,
          3.0088661074867964E7,
          3.0414165890028E7,
          3.0739670705187917E7,
          3.1065175520347953E7,
          3.1065175520347953E7,
          3.1065175520347953E7,
          3.139068033550799E7,
          3.139068033550799E7,
          3.139068033550799E7,
          3.1716185150667906E7,
          3.1716185150667906E7,
          3.2041689965827942E7,
          3.2041689965827942E7,
          3.2041689965827942E7,
          3.2367194780987978E7,
          3.2367194780987978E7,
          3.2367194780987978E7,
          3.2692699596147895E7,
          3.2692699596147895E7,
          3.301820441130793E7,
          3.301820441130793E7,
          3.301820441130793E7,
          3.3343709226467967E7,
          3.3343709226467967E7,
          3.3343709226467967E7,
          3.3343709226467967E7,
          3.3343709226467967E7,
          3.3669214041627884E7,
          3.3669214041627884E7,
          3.3669214041627884E7,
          3.3669214041627884E7,
          3.3669214041627884E7,
          3.399471885678792E7,
          3.399471885678792E7,
          3.399471885678792E7,
          3.399471885678792E7,
          3.399471885678792E7,
          3.399471885678792E7,
          3.399471885678792E7,
          3.4320223671947956E7,
          3.4320223671947956E7,
          3.4320223671947956E7,
          3.4320223671947956E7,
          3.4320223671947956E7,
          3.464572848710787E7,
          3.464572848710787E7,
          3.464572848710787E7,
          3.464572848710787E7,
          3.464572848710787E7,
          3.464572848710787E7,
          3.464572848710787E7,
          3.497123330226791E7,
          3.497123330226791E7,
          3.497123330226791E7,
          3.497123330226791E7,
          3.497123330226791E7
         ],
         "yaxis": "y",
         "type": "scatter"
        },
        {
         "hovertemplate": "Company Name=ILS<br>Year=%{x}<br> Launch Cost=%{y}<extra></extra>",
         "legendgroup": "ILS",
         "marker": {
          "color": "#ab63fa",
          "symbol": "circle"
         },
         "mode": "markers",
         "name": "ILS",
         "orientation": "v",
         "showlegend": true,
         "x": [
          2019.0,
          2017.0,
          2017.0,
          2016.0,
          2016.0,
          2006.0,
          2006.0,
          2005.0,
          2005.0,
          2004.0,
          2003.0,
          2003.0,
          2002.0
         ],
         "xaxis": "x",
         "y": [
          6.5E7,
          6.5E7,
          6.5E7,
          6.5E7,
          6.5E7,
          1.15E8,
          1.53E8,
          1.09E8,
          1.3E8,
          1.35E8,
          1.35E8,
          1.09E8,
          1.09E8
         ],
         "yaxis": "y",
         "type": "scatter"
        },
        {
         "hovertemplate": "<b>OLS trendline</b><br> Launch Cost = -4.34179e+06 * Year + 8.82486e+09<br>R<sup>2</sup>=0.773076<br><br>Company Name=ILS<br>Year=%{x}<br> Launch Cost=%{y} <b>(trend)</b><extra></extra>",
         "legendgroup": "ILS",
         "marker": {
          "color": "#ab63fa",
          "symbol": "circle"
         },
         "mode": "lines",
         "name": "ILS",
         "showlegend": false,
         "x": [
          2002.0,
          2003.0,
          2003.0,
          2004.0,
          2005.0,
          2005.0,
          2006.0,
          2006.0,
          2016.0,
          2016.0,
          2017.0,
          2017.0,
          2019.0
         ],
         "xaxis": "x",
         "y": [
          1.3259893836626625E8,
          1.2825715128281021E8,
          1.2825715128281021E8,
          1.2391536419935417E8,
          1.1957357711589813E8,
          1.1957357711589813E8,
          1.152317900324421E8,
          1.152317900324421E8,
          7.181391919787598E7,
          7.181391919787598E7,
          6.747213211441994E7,
          6.747213211441994E7,
          5.878855794750786E7
         ],
         "yaxis": "y",
         "type": "scatter"
        },
        {
         "hovertemplate": "Company Name=Eurockot<br>Year=%{x}<br> Launch Cost=%{y}<extra></extra>",
         "legendgroup": "Eurockot",
         "marker": {
          "color": "#FFA15A",
          "symbol": "circle"
         },
         "mode": "markers",
         "name": "Eurockot",
         "orientation": "v",
         "showlegend": true,
         "x": [
          2018.0,
          2017.0,
          2016.0,
          2010.0,
          2009.0,
          2009.0,
          2006.0,
          2005.0,
          2003.0,
          2003.0,
          2002.0,
          2002.0,
          2000.0
         ],
         "xaxis": "x",
         "y": [
          4.18E7,
          4.18E7,
          4.18E7,
          4.18E7,
          4.18E7,
          4.18E7,
          4.18E7,
          4.18E7,
          4.18E7,
          4.18E7,
          4.18E7,
          4.18E7,
          4.18E7
         ],
         "yaxis": "y",
         "type": "scatter"
        },
        {
         "hovertemplate": "<b>OLS trendline</b><br> Launch Cost = -8.14907e-10 * Year + 4.18e+07<br>R<sup>2</sup>=-inf<br><br>Company Name=Eurockot<br>Year=%{x}<br> Launch Cost=%{y} <b>(trend)</b><extra></extra>",
         "legendgroup": "Eurockot",
         "marker": {
          "color": "#FFA15A",
          "symbol": "circle"
         },
         "mode": "lines",
         "name": "Eurockot",
         "showlegend": false,
         "x": [
          2000.0,
          2002.0,
          2002.0,
          2003.0,
          2003.0,
          2005.0,
          2006.0,
          2009.0,
          2009.0,
          2010.0,
          2016.0,
          2017.0,
          2018.0
         ],
         "xaxis": "x",
         "y": [
          4.17999999999998E7,
          4.17999999999998E7,
          4.17999999999998E7,
          4.17999999999998E7,
          4.17999999999998E7,
          4.17999999999998E7,
          4.17999999999998E7,
          4.179999999999979E7,
          4.179999999999979E7,
          4.179999999999979E7,
          4.179999999999979E7,
          4.1799999999999784E7,
          4.1799999999999784E7
         ],
         "yaxis": "y",
         "type": "scatter"
        },
        {
         "hovertemplate": "Company Name=Kosmotras<br>Year=%{x}<br> Launch Cost=%{y}<extra></extra>",
         "legendgroup": "Kosmotras",
         "marker": {
          "color": "#19d3f3",
          "symbol": "circle"
         },
         "mode": "markers",
         "name": "Kosmotras",
         "orientation": "v",
         "showlegend": true,
         "x": [
          2015.0,
          2014.0,
          2014.0,
          2013.0,
          2013.0,
          2011.0,
          2010.0,
          2010.0,
          2010.0,
          2009.0,
          2008.0,
          2008.0,
          2007.0,
          2007.0,
          2007.0,
          2006.0,
          2006.0,
          2005.0,
          2004.0,
          2000.0
         ],
         "xaxis": "x",
         "y": [
          2.9E7,
          2.9E7,
          2.9E7,
          2.9E7,
          2.9E7,
          2.9E7,
          2.9E7,
          2.9E7,
          2.9E7,
          2.9E7,
          2.9E7,
          2.9E7,
          2.9E7,
          2.9E7,
          2.9E7,
          2.9E7,
          2.9E7,
          2.9E7,
          2.9E7,
          2.9E7
         ],
         "yaxis": "y",
         "type": "scatter"
        },
        {
         "hovertemplate": "<b>OLS trendline</b><br> Launch Cost = 9.31323e-10 * Year + 2.9e+07<br>R<sup>2</sup>=-inf<br><br>Company Name=Kosmotras<br>Year=%{x}<br> Launch Cost=%{y} <b>(trend)</b><extra></extra>",
         "legendgroup": "Kosmotras",
         "marker": {
          "color": "#19d3f3",
          "symbol": "circle"
         },
         "mode": "lines",
         "name": "Kosmotras",
         "showlegend": false,
         "x": [
          2000.0,
          2004.0,
          2005.0,
          2006.0,
          2006.0,
          2007.0,
          2007.0,
          2007.0,
          2008.0,
          2008.0,
          2009.0,
          2010.0,
          2010.0,
          2010.0,
          2011.0,
          2013.0,
          2013.0,
          2014.0,
          2014.0,
          2015.0
         ],
         "xaxis": "x",
         "y": [
          2.8999999999999955E7,
          2.899999999999996E7,
          2.899999999999996E7,
          2.8999999999999963E7,
          2.8999999999999963E7,
          2.8999999999999963E7,
          2.8999999999999963E7,
          2.8999999999999963E7,
          2.8999999999999963E7,
          2.8999999999999963E7,
          2.8999999999999963E7,
          2.8999999999999963E7,
          2.8999999999999963E7,
          2.8999999999999963E7,
          2.8999999999999966E7,
          2.8999999999999966E7,
          2.8999999999999966E7,
          2.899999999999997E7,
          2.899999999999997E7,
          2.899999999999997E7
         ],
         "yaxis": "y",
         "type": "scatter"
        },
        {
         "hovertemplate": "Company Name=ESA<br>Year=%{x}<br> Launch Cost=%{y}<extra></extra>",
         "legendgroup": "ESA",
         "marker": {
          "color": "#FF6692",
          "symbol": "circle"
         },
         "mode": "markers",
         "name": "ESA",
         "orientation": "v",
         "showlegend": true,
         "x": [
          2012.0
         ],
         "xaxis": "x",
         "y": [
          3.7E7
         ],
         "yaxis": "y",
         "type": "scatter"
        },
        {
         "hovertemplate": "Company Name=ESA<extra></extra>",
         "legendgroup": "ESA",
         "marker": {
          "color": "#FF6692",
          "symbol": "circle"
         },
         "mode": "lines",
         "name": "ESA",
         "showlegend": false,
         "xaxis": "x",
         "yaxis": "y",
         "type": "scatter"
        },
        {
         "hovertemplate": "Company Name=Boeing<br>Year=%{x}<br> Launch Cost=%{y}<extra></extra>",
         "legendgroup": "Boeing",
         "marker": {
          "color": "#B6E880",
          "symbol": "circle"
         },
         "mode": "markers",
         "name": "Boeing",
         "orientation": "v",
         "showlegend": true,
         "x": [
          2006.0,
          2006.0,
          2006.0,
          2004.0,
          2003.0,
          2003.0,
          2002.0
         ],
         "xaxis": "x",
         "y": [
          1.33E8,
          1.64E8,
          1.64E8,
          3.5E8,
          1.33E8,
          1.33E8,
          1.64E8
         ],
         "yaxis": "y",
         "type": "scatter"
        },
        {
         "hovertemplate": "<b>OLS trendline</b><br> Launch Cost = -1.52459e+06 * Year + 3.233e+09<br>R<sup>2</sup>=0.001118<br><br>Company Name=Boeing<br>Year=%{x}<br> Launch Cost=%{y} <b>(trend)</b><extra></extra>",
         "legendgroup": "Boeing",
         "marker": {
          "color": "#B6E880",
          "symbol": "circle"
         },
         "mode": "lines",
         "name": "Boeing",
         "showlegend": false,
         "x": [
          2002.0,
          2003.0,
          2003.0,
          2004.0,
          2006.0,
          2006.0,
          2006.0
         ],
         "xaxis": "x",
         "y": [
          1.8077049180329037E8,
          1.7924590163935757E8,
          1.7924590163935757E8,
          1.7772131147542477E8,
          1.746721311475587E8,
          1.746721311475587E8,
          1.746721311475587E8
         ],
         "yaxis": "y",
         "type": "scatter"
        },
        {
         "hovertemplate": "Company Name=Lockheed<br>Year=%{x}<br> Launch Cost=%{y}<extra></extra>",
         "legendgroup": "Lockheed",
         "marker": {
          "color": "#FF97FF",
          "symbol": "circle"
         },
         "mode": "markers",
         "name": "Lockheed",
         "orientation": "v",
         "showlegend": true,
         "x": [
          2003.0,
          2003.0,
          2002.0,
          2000.0,
          1999.0,
          1999.0,
          1998.0,
          1997.0
         ],
         "xaxis": "x",
         "y": [
          3.5E7,
          3.5E7,
          3.5E7,
          3.5E7,
          3.5E7,
          3.5E7,
          3.5E7,
          3.5E7
         ],
         "yaxis": "y",
         "type": "scatter"
        },
        {
         "hovertemplate": "<b>OLS trendline</b><br> Launch Cost = 1.86265e-09 * Year + 3.5e+07<br>R<sup>2</sup>=-inf<br><br>Company Name=Lockheed<br>Year=%{x}<br> Launch Cost=%{y} <b>(trend)</b><extra></extra>",
         "legendgroup": "Lockheed",
         "marker": {
          "color": "#FF97FF",
          "symbol": "circle"
         },
         "mode": "lines",
         "name": "Lockheed",
         "showlegend": false,
         "x": [
          1997.0,
          1998.0,
          1999.0,
          1999.0,
          2000.0,
          2002.0,
          2003.0,
          2003.0
         ],
         "xaxis": "x",
         "y": [
          3.500000000000181E7,
          3.500000000000182E7,
          3.500000000000182E7,
          3.500000000000182E7,
          3.500000000000182E7,
          3.500000000000182E7,
          3.5000000000001825E7,
          3.5000000000001825E7
         ],
         "yaxis": "y",
         "type": "scatter"
        },
        {
         "hovertemplate": "Company Name=EER<br>Year=%{x}<br> Launch Cost=%{y}<extra></extra>",
         "legendgroup": "EER",
         "marker": {
          "color": "#FECB52",
          "symbol": "circle"
         },
         "mode": "markers",
         "name": "EER",
         "orientation": "v",
         "showlegend": true,
         "x": [
          1995.0
         ],
         "xaxis": "x",
         "y": [
          2.0E7
         ],
         "yaxis": "y",
         "type": "scatter"
        },
        {
         "hovertemplate": "Company Name=EER<extra></extra>",
         "legendgroup": "EER",
         "marker": {
          "color": "#FECB52",
          "symbol": "circle"
         },
         "mode": "lines",
         "name": "EER",
         "showlegend": false,
         "xaxis": "x",
         "yaxis": "y",
         "type": "scatter"
        },
        {
         "hovertemplate": "Company Name=Martin Marietta<br>Year=%{x}<br> Launch Cost=%{y}<extra></extra>",
         "legendgroup": "Martin Marietta",
         "marker": {
          "color": "#636efa",
          "symbol": "circle"
         },
         "mode": "markers",
         "name": "Martin Marietta",
         "orientation": "v",
         "showlegend": true,
         "x": [
          1994.0,
          1993.0,
          1992.0,
          1992.0,
          1990.0,
          1990.0,
          1990.0,
          1989.0,
          1988.0
         ],
         "xaxis": "x",
         "y": [
          3.5E7,
          3.5E7,
          1.366E8,
          3.5E7,
          1.366E8,
          1.366E8,
          1.366E8,
          3.5E7,
          3.5E7
         ],
         "yaxis": "y",
         "type": "scatter"
        },
        {
         "hovertemplate": "<b>OLS trendline</b><br> Launch Cost = -5.11655e+06 * Year + 1.02666e+10<br>R<sup>2</sup>=0.035252<br><br>Company Name=Martin Marietta<br>Year=%{x}<br> Launch Cost=%{y} <b>(trend)</b><extra></extra>",
         "legendgroup": "Martin Marietta",
         "marker": {
          "color": "#636efa",
          "symbol": "circle"
         },
         "mode": "lines",
         "name": "Martin Marietta",
         "showlegend": false,
         "x": [
          1988.0,
          1989.0,
          1990.0,
          1990.0,
          1990.0,
          1992.0,
          1992.0,
          1993.0,
          1994.0
         ],
         "xaxis": "x",
         "y": [
          9.493669064747429E7,
          8.982014388488579E7,
          8.470359712229729E7,
          8.470359712229729E7,
          8.470359712229729E7,
          7.447050359712029E7,
          7.447050359712029E7,
          6.935395683452988E7,
          6.4237410071941376E7
         ],
         "yaxis": "y",
         "type": "scatter"
        },
        {
         "hovertemplate": "Company Name=US Air Force<br>Year=%{x}<br> Launch Cost=%{y}<extra></extra>",
         "legendgroup": "US Air Force",
         "marker": {
          "color": "#EF553B",
          "symbol": "circle"
         },
         "mode": "markers",
         "name": "US Air Force",
         "orientation": "v",
         "showlegend": true,
         "x": [
          1969.0,
          1969.0,
          1969.0,
          1969.0,
          1968.0,
          1968.0,
          1968.0,
          1968.0,
          1968.0,
          1968.0,
          1968.0,
          1968.0,
          1967.0,
          1967.0,
          1967.0,
          1967.0,
          1967.0,
          1967.0,
          1966.0,
          1966.0,
          1966.0,
          1965.0,
          1965.0,
          1964.0,
          1964.0
         ],
         "xaxis": "x",
         "y": [
          5.9E7,
          5.9E7,
          5.9E7,
          5.9E7,
          5.9E7,
          5.9E7,
          5.9E7,
          5.9E7,
          5.9E7,
          5.9E7,
          5.9E7,
          5.9E7,
          5.9E7,
          5.9E7,
          5.9E7,
          5.9E7,
          5.9E7,
          5.9E7,
          5.9E7,
          5.9E7,
          5.9E7,
          6.323E7,
          6.323E7,
          6.323E7,
          6.323E7
         ],
         "yaxis": "y",
         "type": "scatter"
        },
        {
         "hovertemplate": "<b>OLS trendline</b><br> Launch Cost = -842143 * Year + 1.71627e+09<br>R<sup>2</sup>=0.620965<br><br>Company Name=US Air Force<br>Year=%{x}<br> Launch Cost=%{y} <b>(trend)</b><extra></extra>",
         "legendgroup": "US Air Force",
         "marker": {
          "color": "#EF553B",
          "symbol": "circle"
         },
         "mode": "lines",
         "name": "US Air Force",
         "showlegend": false,
         "x": [
          1964.0,
          1964.0,
          1965.0,
          1965.0,
          1966.0,
          1966.0,
          1966.0,
          1967.0,
          1967.0,
          1967.0,
          1967.0,
          1967.0,
          1967.0,
          1968.0,
          1968.0,
          1968.0,
          1968.0,
          1968.0,
          1968.0,
          1968.0,
          1968.0,
          1969.0,
          1969.0,
          1969.0,
          1969.0
         ],
         "xaxis": "x",
         "y": [
          6.230428571428752E7,
          6.230428571428752E7,
          6.1462142857144594E7,
          6.1462142857144594E7,
          6.062000000000167E7,
          6.062000000000167E7,
          6.062000000000167E7,
          5.977785714285898E7,
          5.977785714285898E7,
          5.977785714285898E7,
          5.977785714285898E7,
          5.977785714285898E7,
          5.977785714285898E7,
          5.893571428571606E7,
          5.893571428571606E7,
          5.893571428571606E7,
          5.893571428571606E7,
          5.893571428571606E7,
          5.893571428571606E7,
          5.893571428571606E7,
          5.893571428571606E7,
          5.809357142857313E7,
          5.809357142857313E7,
          5.809357142857313E7,
          5.809357142857313E7
         ],
         "yaxis": "y",
         "type": "scatter"
        },
        {
         "mode": "lines",
         "name": "overall Trend-line",
         "x": [
          2020.0,
          2020.0,
          2020.0,
          2020.0,
          2020.0,
          2020.0,
          2020.0,
          2020.0,
          2020.0,
          2020.0,
          2020.0,
          2020.0,
          2020.0,
          2020.0,
          2020.0,
          2020.0,
          2020.0,
          2020.0,
          2020.0,
          2020.0,
          2020.0,
          2020.0,
          2020.0,
          2020.0,
          2020.0,
          2020.0,
          2020.0,
          2020.0,
          2020.0,
          2020.0,
          2020.0,
          2020.0,
          2020.0,
          2020.0,
          2020.0,
          2020.0,
          2020.0,
          2020.0,
          2020.0,
          2020.0,
          2020.0,
          2020.0,
          2020.0,
          2020.0,
          2020.0,
          2020.0,
          2020.0,
          2020.0,
          2020.0,
          2020.0,
          2020.0,
          2020.0,
          2019.0,
          2019.0,
          2019.0,
          2019.0,
          2019.0,
          2019.0,
          2019.0,
          2019.0,
          2019.0,
          2019.0,
          2019.0,
          2019.0,
          2019.0,
          2019.0,
          2019.0,
          2019.0,
          2019.0,
          2019.0,
          2019.0,
          2019.0,
          2019.0,
          2019.0,
          2019.0,
          2019.0,
          2019.0,
          2019.0,
          2019.0,
          2019.0,
          2019.0,
          2019.0,
          2019.0,
          2019.0,
          2019.0,
          2019.0,
          2019.0,
          2019.0,
          2019.0,
          2019.0,
          2019.0,
          2019.0,
          2019.0,
          2019.0,
          2019.0,
          2019.0,
          2019.0,
          2019.0,
          2019.0,
          2019.0,
          2019.0,
          2019.0,
          2019.0,
          2019.0,
          2019.0,
          2019.0,
          2019.0,
          2019.0,
          2019.0,
          2019.0,
          2019.0,
          2019.0,
          2019.0,
          2019.0,
          2019.0,
          2019.0,
          2019.0,
          2019.0,
          2019.0,
          2019.0,
          2019.0,
          2019.0,
          2019.0,
          2019.0,
          2019.0,
          2018.0,
          2018.0,
          2018.0,
          2018.0,
          2018.0,
          2018.0,
          2018.0,
          2018.0,
          2018.0,
          2018.0,
          2018.0,
          2018.0,
          2018.0,
          2018.0,
          2018.0,
          2018.0,
          2018.0,
          2018.0,
          2018.0,
          2018.0,
          2018.0,
          2018.0,
          2018.0,
          2018.0,
          2018.0,
          2018.0,
          2018.0,
          2018.0,
          2018.0,
          2018.0,
          2018.0,
          2018.0,
          2018.0,
          2018.0,
          2018.0,
          2018.0,
          2018.0,
          2018.0,
          2018.0,
          2018.0,
          2018.0,
          2018.0,
          2018.0,
          2018.0,
          2018.0,
          2018.0,
          2018.0,
          2018.0,
          2018.0,
          2018.0,
          2018.0,
          2018.0,
          2018.0,
          2018.0,
          2018.0,
          2018.0,
          2018.0,
          2018.0,
          2018.0,
          2018.0,
          2018.0,
          2018.0,
          2018.0,
          2018.0,
          2018.0,
          2018.0,
          2018.0,
          2018.0,
          2018.0,
          2018.0,
          2018.0,
          2018.0,
          2018.0,
          2018.0,
          2018.0,
          2018.0,
          2018.0,
          2018.0,
          2018.0,
          2018.0,
          2018.0,
          2018.0,
          2018.0,
          2018.0,
          2018.0,
          2018.0,
          2018.0,
          2018.0,
          2017.0,
          2017.0,
          2017.0,
          2017.0,
          2017.0,
          2017.0,
          2017.0,
          2017.0,
          2017.0,
          2017.0,
          2017.0,
          2017.0,
          2017.0,
          2017.0,
          2017.0,
          2017.0,
          2017.0,
          2017.0,
          2017.0,
          2017.0,
          2017.0,
          2017.0,
          2017.0,
          2017.0,
          2017.0,
          2017.0,
          2017.0,
          2017.0,
          2017.0,
          2017.0,
          2017.0,
          2017.0,
          2017.0,
          2017.0,
          2017.0,
          2017.0,
          2017.0,
          2017.0,
          2017.0,
          2017.0,
          2017.0,
          2017.0,
          2017.0,
          2017.0,
          2017.0,
          2017.0,
          2017.0,
          2017.0,
          2017.0,
          2017.0,
          2017.0,
          2017.0,
          2017.0,
          2017.0,
          2017.0,
          2017.0,
          2017.0,
          2017.0,
          2017.0,
          2017.0,
          2017.0,
          2017.0,
          2017.0,
          2017.0,
          2017.0,
          2017.0,
          2016.0,
          2016.0,
          2016.0,
          2016.0,
          2016.0,
          2016.0,
          2016.0,
          2016.0,
          2016.0,
          2016.0,
          2016.0,
          2016.0,
          2016.0,
          2016.0,
          2016.0,
          2016.0,
          2016.0,
          2016.0,
          2016.0,
          2016.0,
          2016.0,
          2016.0,
          2016.0,
          2016.0,
          2016.0,
          2016.0,
          2016.0,
          2016.0,
          2016.0,
          2016.0,
          2016.0,
          2016.0,
          2016.0,
          2016.0,
          2016.0,
          2016.0,
          2016.0,
          2016.0,
          2016.0,
          2016.0,
          2016.0,
          2016.0,
          2016.0,
          2016.0,
          2016.0,
          2016.0,
          2016.0,
          2016.0,
          2016.0,
          2016.0,
          2016.0,
          2016.0,
          2016.0,
          2016.0,
          2016.0,
          2016.0,
          2016.0,
          2016.0,
          2016.0,
          2016.0,
          2016.0,
          2016.0,
          2016.0,
          2016.0,
          2015.0,
          2015.0,
          2015.0,
          2015.0,
          2015.0,
          2015.0,
          2015.0,
          2015.0,
          2015.0,
          2015.0,
          2015.0,
          2015.0,
          2015.0,
          2015.0,
          2015.0,
          2015.0,
          2015.0,
          2015.0,
          2015.0,
          2015.0,
          2015.0,
          2015.0,
          2015.0,
          2015.0,
          2015.0,
          2015.0,
          2015.0,
          2015.0,
          2015.0,
          2015.0,
          2015.0,
          2015.0,
          2015.0,
          2015.0,
          2015.0,
          2015.0,
          2015.0,
          2014.0,
          2014.0,
          2014.0,
          2014.0,
          2014.0,
          2014.0,
          2014.0,
          2014.0,
          2014.0,
          2014.0,
          2014.0,
          2014.0,
          2014.0,
          2014.0,
          2014.0,
          2014.0,
          2014.0,
          2014.0,
          2014.0,
          2014.0,
          2014.0,
          2014.0,
          2014.0,
          2014.0,
          2014.0,
          2014.0,
          2014.0,
          2014.0,
          2014.0,
          2014.0,
          2014.0,
          2014.0,
          2014.0,
          2014.0,
          2014.0,
          2014.0,
          2014.0,
          2014.0,
          2014.0,
          2014.0,
          2014.0,
          2013.0,
          2013.0,
          2013.0,
          2013.0,
          2013.0,
          2013.0,
          2013.0,
          2013.0,
          2013.0,
          2013.0,
          2013.0,
          2013.0,
          2013.0,
          2013.0,
          2013.0,
          2013.0,
          2013.0,
          2013.0,
          2013.0,
          2013.0,
          2013.0,
          2013.0,
          2013.0,
          2013.0,
          2013.0,
          2013.0,
          2013.0,
          2013.0,
          2013.0,
          2013.0,
          2013.0,
          2013.0,
          2013.0,
          2012.0,
          2012.0,
          2012.0,
          2012.0,
          2012.0,
          2012.0,
          2012.0,
          2012.0,
          2012.0,
          2012.0,
          2012.0,
          2012.0,
          2012.0,
          2012.0,
          2012.0,
          2012.0,
          2012.0,
          2012.0,
          2012.0,
          2012.0,
          2012.0,
          2012.0,
          2012.0,
          2012.0,
          2011.0,
          2011.0,
          2011.0,
          2011.0,
          2011.0,
          2011.0,
          2011.0,
          2011.0,
          2011.0,
          2011.0,
          2011.0,
          2011.0,
          2011.0,
          2011.0,
          2011.0,
          2011.0,
          2011.0,
          2011.0,
          2011.0,
          2011.0,
          2011.0,
          2011.0,
          2011.0,
          2011.0,
          2011.0,
          2011.0,
          2010.0,
          2010.0,
          2010.0,
          2010.0,
          2010.0,
          2010.0,
          2010.0,
          2010.0,
          2010.0,
          2010.0,
          2010.0,
          2010.0,
          2010.0,
          2010.0,
          2010.0,
          2010.0,
          2010.0,
          2010.0,
          2010.0,
          2010.0,
          2010.0,
          2010.0,
          2010.0,
          2010.0,
          2010.0,
          2010.0,
          2009.0,
          2009.0,
          2009.0,
          2009.0,
          2009.0,
          2009.0,
          2009.0,
          2009.0,
          2009.0,
          2009.0,
          2009.0,
          2009.0,
          2009.0,
          2009.0,
          2009.0,
          2009.0,
          2009.0,
          2009.0,
          2009.0,
          2009.0,
          2009.0,
          2009.0,
          2009.0,
          2009.0,
          2009.0,
          2008.0,
          2008.0,
          2008.0,
          2008.0,
          2008.0,
          2008.0,
          2008.0,
          2008.0,
          2008.0,
          2008.0,
          2008.0,
          2008.0,
          2008.0,
          2008.0,
          2008.0,
          2008.0,
          2008.0,
          2008.0,
          2008.0,
          2008.0,
          2008.0,
          2008.0,
          2008.0,
          2008.0,
          2007.0,
          2007.0,
          2007.0,
          2007.0,
          2007.0,
          2007.0,
          2007.0,
          2007.0,
          2007.0,
          2007.0,
          2007.0,
          2007.0,
          2007.0,
          2007.0,
          2007.0,
          2007.0,
          2007.0,
          2007.0,
          2007.0,
          2007.0,
          2007.0,
          2007.0,
          2007.0,
          2007.0,
          2007.0,
          2007.0,
          2006.0,
          2006.0,
          2006.0,
          2006.0,
          2006.0,
          2006.0,
          2006.0,
          2006.0,
          2006.0,
          2006.0,
          2006.0,
          2006.0,
          2006.0,
          2006.0,
          2006.0,
          2006.0,
          2006.0,
          2006.0,
          2006.0,
          2006.0,
          2006.0,
          2006.0,
          2006.0,
          2006.0,
          2005.0,
          2005.0,
          2005.0,
          2005.0,
          2005.0,
          2005.0,
          2005.0,
          2005.0,
          2005.0,
          2005.0,
          2005.0,
          2005.0,
          2005.0,
          2005.0,
          2004.0,
          2004.0,
          2004.0,
          2004.0,
          2004.0,
          2004.0,
          2004.0,
          2004.0,
          2004.0,
          2004.0,
          2004.0,
          2004.0,
          2004.0,
          2004.0,
          2004.0,
          2004.0,
          2004.0,
          2003.0,
          2003.0,
          2003.0,
          2003.0,
          2003.0,
          2003.0,
          2003.0,
          2003.0,
          2003.0,
          2003.0,
          2003.0,
          2003.0,
          2003.0,
          2003.0,
          2003.0,
          2003.0,
          2003.0,
          2003.0,
          2003.0,
          2002.0,
          2002.0,
          2002.0,
          2002.0,
          2002.0,
          2002.0,
          2002.0,
          2002.0,
          2002.0,
          2002.0,
          2002.0,
          2001.0,
          2001.0,
          2001.0,
          2001.0,
          2000.0,
          2000.0,
          2000.0,
          2000.0,
          2000.0,
          2000.0,
          2000.0,
          2000.0,
          2000.0,
          2000.0,
          2000.0,
          1999.0,
          1999.0,
          1999.0,
          1999.0,
          1999.0,
          1999.0,
          1999.0,
          1999.0,
          1999.0,
          1999.0,
          1998.0,
          1998.0,
          1998.0,
          1998.0,
          1998.0,
          1998.0,
          1998.0,
          1998.0,
          1998.0,
          1998.0,
          1998.0,
          1998.0,
          1998.0,
          1997.0,
          1997.0,
          1997.0,
          1997.0,
          1997.0,
          1997.0,
          1997.0,
          1997.0,
          1997.0,
          1997.0,
          1996.0,
          1996.0,
          1996.0,
          1996.0,
          1996.0,
          1996.0,
          1996.0,
          1995.0,
          1995.0,
          1995.0,
          1994.0,
          1994.0,
          1994.0,
          1994.0,
          1994.0,
          1994.0,
          1994.0,
          1994.0,
          1994.0,
          1993.0,
          1993.0,
          1993.0,
          1993.0,
          1993.0,
          1992.0,
          1992.0,
          1992.0,
          1992.0,
          1991.0,
          1990.0,
          1990.0,
          1990.0,
          1990.0,
          1990.0,
          1989.0,
          1988.0,
          1988.0,
          1987.0,
          1987.0,
          1986.0,
          1985.0,
          1984.0,
          1983.0,
          1982.0,
          1969.0,
          1969.0,
          1969.0,
          1969.0,
          1968.0,
          1968.0,
          1968.0,
          1968.0,
          1968.0,
          1968.0,
          1968.0,
          1968.0,
          1967.0,
          1967.0,
          1967.0,
          1967.0,
          1967.0,
          1967.0,
          1966.0,
          1966.0,
          1966.0,
          1965.0,
          1965.0,
          1964.0,
          1964.0
         ],
         "y": [
          8.060023525759894E7,
          8.060023525759894E7,
          8.060023525759894E7,
          8.060023525759894E7,
          8.060023525759894E7,
          8.060023525759894E7,
          8.060023525759894E7,
          8.060023525759894E7,
          8.060023525759894E7,
          8.060023525759894E7,
          8.060023525759894E7,
          8.060023525759894E7,
          8.060023525759894E7,
          8.060023525759894E7,
          8.060023525759894E7,
          8.060023525759894E7,
          8.060023525759894E7,
          8.060023525759894E7,
          8.060023525759894E7,
          8.060023525759894E7,
          8.060023525759894E7,
          8.060023525759894E7,
          8.060023525759894E7,
          8.060023525759894E7,
          8.060023525759894E7,
          8.060023525759894E7,
          8.060023525759894E7,
          8.060023525759894E7,
          8.060023525759894E7,
          8.060023525759894E7,
          8.060023525759894E7,
          8.060023525759894E7,
          8.060023525759894E7,
          8.060023525759894E7,
          8.060023525759894E7,
          8.060023525759894E7,
          8.060023525759894E7,
          8.060023525759894E7,
          8.060023525759894E7,
          8.060023525759894E7,
          8.060023525759894E7,
          8.060023525759894E7,
          8.060023525759894E7,
          8.060023525759894E7,
          8.060023525759894E7,
          8.060023525759894E7,
          8.060023525759894E7,
          8.060023525759894E7,
          8.060023525759894E7,
          8.060023525759894E7,
          8.060023525759894E7,
          8.060023525759894E7,
          8.01893950681229E7,
          8.01893950681229E7,
          8.01893950681229E7,
          8.01893950681229E7,
          8.01893950681229E7,
          8.01893950681229E7,
          8.01893950681229E7,
          8.01893950681229E7,
          8.01893950681229E7,
          8.01893950681229E7,
          8.01893950681229E7,
          8.01893950681229E7,
          8.01893950681229E7,
          8.01893950681229E7,
          8.01893950681229E7,
          8.01893950681229E7,
          8.01893950681229E7,
          8.01893950681229E7,
          8.01893950681229E7,
          8.01893950681229E7,
          8.01893950681229E7,
          8.01893950681229E7,
          8.01893950681229E7,
          8.01893950681229E7,
          8.01893950681229E7,
          8.01893950681229E7,
          8.01893950681229E7,
          8.01893950681229E7,
          8.01893950681229E7,
          8.01893950681229E7,
          8.01893950681229E7,
          8.01893950681229E7,
          8.01893950681229E7,
          8.01893950681229E7,
          8.01893950681229E7,
          8.01893950681229E7,
          8.01893950681229E7,
          8.01893950681229E7,
          8.01893950681229E7,
          8.01893950681229E7,
          8.01893950681229E7,
          8.01893950681229E7,
          8.01893950681229E7,
          8.01893950681229E7,
          8.01893950681229E7,
          8.01893950681229E7,
          8.01893950681229E7,
          8.01893950681229E7,
          8.01893950681229E7,
          8.01893950681229E7,
          8.01893950681229E7,
          8.01893950681229E7,
          8.01893950681229E7,
          8.01893950681229E7,
          8.01893950681229E7,
          8.01893950681229E7,
          8.01893950681229E7,
          8.01893950681229E7,
          8.01893950681229E7,
          8.01893950681229E7,
          8.01893950681229E7,
          8.01893950681229E7,
          8.01893950681229E7,
          8.01893950681229E7,
          8.01893950681229E7,
          8.01893950681229E7,
          8.01893950681229E7,
          8.01893950681229E7,
          8.01893950681229E7,
          8.01893950681229E7,
          8.01893950681229E7,
          8.01893950681229E7,
          8.01893950681229E7,
          7.977855487864687E7,
          7.977855487864687E7,
          7.977855487864687E7,
          7.977855487864687E7,
          7.977855487864687E7,
          7.977855487864687E7,
          7.977855487864687E7,
          7.977855487864687E7,
          7.977855487864687E7,
          7.977855487864687E7,
          7.977855487864687E7,
          7.977855487864687E7,
          7.977855487864687E7,
          7.977855487864687E7,
          7.977855487864687E7,
          7.977855487864687E7,
          7.977855487864687E7,
          7.977855487864687E7,
          7.977855487864687E7,
          7.977855487864687E7,
          7.977855487864687E7,
          7.977855487864687E7,
          7.977855487864687E7,
          7.977855487864687E7,
          7.977855487864687E7,
          7.977855487864687E7,
          7.977855487864687E7,
          7.977855487864687E7,
          7.977855487864687E7,
          7.977855487864687E7,
          7.977855487864687E7,
          7.977855487864687E7,
          7.977855487864687E7,
          7.977855487864687E7,
          7.977855487864687E7,
          7.977855487864687E7,
          7.977855487864687E7,
          7.977855487864687E7,
          7.977855487864687E7,
          7.977855487864687E7,
          7.977855487864687E7,
          7.977855487864687E7,
          7.977855487864687E7,
          7.977855487864687E7,
          7.977855487864687E7,
          7.977855487864687E7,
          7.977855487864687E7,
          7.977855487864687E7,
          7.977855487864687E7,
          7.977855487864687E7,
          7.977855487864687E7,
          7.977855487864687E7,
          7.977855487864687E7,
          7.977855487864687E7,
          7.977855487864687E7,
          7.977855487864687E7,
          7.977855487864687E7,
          7.977855487864687E7,
          7.977855487864687E7,
          7.977855487864687E7,
          7.977855487864687E7,
          7.977855487864687E7,
          7.977855487864687E7,
          7.977855487864687E7,
          7.977855487864687E7,
          7.977855487864687E7,
          7.977855487864687E7,
          7.977855487864687E7,
          7.977855487864687E7,
          7.977855487864687E7,
          7.977855487864687E7,
          7.977855487864687E7,
          7.977855487864687E7,
          7.977855487864687E7,
          7.977855487864687E7,
          7.977855487864687E7,
          7.977855487864687E7,
          7.977855487864687E7,
          7.977855487864687E7,
          7.977855487864687E7,
          7.977855487864687E7,
          7.977855487864687E7,
          7.977855487864687E7,
          7.977855487864687E7,
          7.977855487864687E7,
          7.977855487864687E7,
          7.977855487864687E7,
          7.977855487864687E7,
          7.936771468917082E7,
          7.936771468917082E7,
          7.936771468917082E7,
          7.936771468917082E7,
          7.936771468917082E7,
          7.936771468917082E7,
          7.936771468917082E7,
          7.936771468917082E7,
          7.936771468917082E7,
          7.936771468917082E7,
          7.936771468917082E7,
          7.936771468917082E7,
          7.936771468917082E7,
          7.936771468917082E7,
          7.936771468917082E7,
          7.936771468917082E7,
          7.936771468917082E7,
          7.936771468917082E7,
          7.936771468917082E7,
          7.936771468917082E7,
          7.936771468917082E7,
          7.936771468917082E7,
          7.936771468917082E7,
          7.936771468917082E7,
          7.936771468917082E7,
          7.936771468917082E7,
          7.936771468917082E7,
          7.936771468917082E7,
          7.936771468917082E7,
          7.936771468917082E7,
          7.936771468917082E7,
          7.936771468917082E7,
          7.936771468917082E7,
          7.936771468917082E7,
          7.936771468917082E7,
          7.936771468917082E7,
          7.936771468917082E7,
          7.936771468917082E7,
          7.936771468917082E7,
          7.936771468917082E7,
          7.936771468917082E7,
          7.936771468917082E7,
          7.936771468917082E7,
          7.936771468917082E7,
          7.936771468917082E7,
          7.936771468917082E7,
          7.936771468917082E7,
          7.936771468917082E7,
          7.936771468917082E7,
          7.936771468917082E7,
          7.936771468917082E7,
          7.936771468917082E7,
          7.936771468917082E7,
          7.936771468917082E7,
          7.936771468917082E7,
          7.936771468917082E7,
          7.936771468917082E7,
          7.936771468917082E7,
          7.936771468917082E7,
          7.936771468917082E7,
          7.936771468917082E7,
          7.936771468917082E7,
          7.936771468917082E7,
          7.936771468917082E7,
          7.936771468917082E7,
          7.936771468917082E7,
          7.895687449969478E7,
          7.895687449969478E7,
          7.895687449969478E7,
          7.895687449969478E7,
          7.895687449969478E7,
          7.895687449969478E7,
          7.895687449969478E7,
          7.895687449969478E7,
          7.895687449969478E7,
          7.895687449969478E7,
          7.895687449969478E7,
          7.895687449969478E7,
          7.895687449969478E7,
          7.895687449969478E7,
          7.895687449969478E7,
          7.895687449969478E7,
          7.895687449969478E7,
          7.895687449969478E7,
          7.895687449969478E7,
          7.895687449969478E7,
          7.895687449969478E7,
          7.895687449969478E7,
          7.895687449969478E7,
          7.895687449969478E7,
          7.895687449969478E7,
          7.895687449969478E7,
          7.895687449969478E7,
          7.895687449969478E7,
          7.895687449969478E7,
          7.895687449969478E7,
          7.895687449969478E7,
          7.895687449969478E7,
          7.895687449969478E7,
          7.895687449969478E7,
          7.895687449969478E7,
          7.895687449969478E7,
          7.895687449969478E7,
          7.895687449969478E7,
          7.895687449969478E7,
          7.895687449969478E7,
          7.895687449969478E7,
          7.895687449969478E7,
          7.895687449969478E7,
          7.895687449969478E7,
          7.895687449969478E7,
          7.895687449969478E7,
          7.895687449969478E7,
          7.895687449969478E7,
          7.895687449969478E7,
          7.895687449969478E7,
          7.895687449969478E7,
          7.895687449969478E7,
          7.895687449969478E7,
          7.895687449969478E7,
          7.895687449969478E7,
          7.895687449969478E7,
          7.895687449969478E7,
          7.895687449969478E7,
          7.895687449969478E7,
          7.895687449969478E7,
          7.895687449969478E7,
          7.895687449969478E7,
          7.895687449969478E7,
          7.895687449969478E7,
          7.854603431021874E7,
          7.854603431021874E7,
          7.854603431021874E7,
          7.854603431021874E7,
          7.854603431021874E7,
          7.854603431021874E7,
          7.854603431021874E7,
          7.854603431021874E7,
          7.854603431021874E7,
          7.854603431021874E7,
          7.854603431021874E7,
          7.854603431021874E7,
          7.854603431021874E7,
          7.854603431021874E7,
          7.854603431021874E7,
          7.854603431021874E7,
          7.854603431021874E7,
          7.854603431021874E7,
          7.854603431021874E7,
          7.854603431021874E7,
          7.854603431021874E7,
          7.854603431021874E7,
          7.854603431021874E7,
          7.854603431021874E7,
          7.854603431021874E7,
          7.854603431021874E7,
          7.854603431021874E7,
          7.854603431021874E7,
          7.854603431021874E7,
          7.854603431021874E7,
          7.854603431021874E7,
          7.854603431021874E7,
          7.854603431021874E7,
          7.854603431021874E7,
          7.854603431021874E7,
          7.854603431021874E7,
          7.854603431021874E7,
          7.81351941207427E7,
          7.81351941207427E7,
          7.81351941207427E7,
          7.81351941207427E7,
          7.81351941207427E7,
          7.81351941207427E7,
          7.81351941207427E7,
          7.81351941207427E7,
          7.81351941207427E7,
          7.81351941207427E7,
          7.81351941207427E7,
          7.81351941207427E7,
          7.81351941207427E7,
          7.81351941207427E7,
          7.81351941207427E7,
          7.81351941207427E7,
          7.81351941207427E7,
          7.81351941207427E7,
          7.81351941207427E7,
          7.81351941207427E7,
          7.81351941207427E7,
          7.81351941207427E7,
          7.81351941207427E7,
          7.81351941207427E7,
          7.81351941207427E7,
          7.81351941207427E7,
          7.81351941207427E7,
          7.81351941207427E7,
          7.81351941207427E7,
          7.81351941207427E7,
          7.81351941207427E7,
          7.81351941207427E7,
          7.81351941207427E7,
          7.81351941207427E7,
          7.81351941207427E7,
          7.81351941207427E7,
          7.81351941207427E7,
          7.81351941207427E7,
          7.81351941207427E7,
          7.81351941207427E7,
          7.81351941207427E7,
          7.772435393126665E7,
          7.772435393126665E7,
          7.772435393126665E7,
          7.772435393126665E7,
          7.772435393126665E7,
          7.772435393126665E7,
          7.772435393126665E7,
          7.772435393126665E7,
          7.772435393126665E7,
          7.772435393126665E7,
          7.772435393126665E7,
          7.772435393126665E7,
          7.772435393126665E7,
          7.772435393126665E7,
          7.772435393126665E7,
          7.772435393126665E7,
          7.772435393126665E7,
          7.772435393126665E7,
          7.772435393126665E7,
          7.772435393126665E7,
          7.772435393126665E7,
          7.772435393126665E7,
          7.772435393126665E7,
          7.772435393126665E7,
          7.772435393126665E7,
          7.772435393126665E7,
          7.772435393126665E7,
          7.772435393126665E7,
          7.772435393126665E7,
          7.772435393126665E7,
          7.772435393126665E7,
          7.772435393126665E7,
          7.772435393126665E7,
          7.731351374179061E7,
          7.731351374179061E7,
          7.731351374179061E7,
          7.731351374179061E7,
          7.731351374179061E7,
          7.731351374179061E7,
          7.731351374179061E7,
          7.731351374179061E7,
          7.731351374179061E7,
          7.731351374179061E7,
          7.731351374179061E7,
          7.731351374179061E7,
          7.731351374179061E7,
          7.731351374179061E7,
          7.731351374179061E7,
          7.731351374179061E7,
          7.731351374179061E7,
          7.731351374179061E7,
          7.731351374179061E7,
          7.731351374179061E7,
          7.731351374179061E7,
          7.731351374179061E7,
          7.731351374179061E7,
          7.731351374179061E7,
          7.690267355231458E7,
          7.690267355231458E7,
          7.690267355231458E7,
          7.690267355231458E7,
          7.690267355231458E7,
          7.690267355231458E7,
          7.690267355231458E7,
          7.690267355231458E7,
          7.690267355231458E7,
          7.690267355231458E7,
          7.690267355231458E7,
          7.690267355231458E7,
          7.690267355231458E7,
          7.690267355231458E7,
          7.690267355231458E7,
          7.690267355231458E7,
          7.690267355231458E7,
          7.690267355231458E7,
          7.690267355231458E7,
          7.690267355231458E7,
          7.690267355231458E7,
          7.690267355231458E7,
          7.690267355231458E7,
          7.690267355231458E7,
          7.690267355231458E7,
          7.690267355231458E7,
          7.649183336283854E7,
          7.649183336283854E7,
          7.649183336283854E7,
          7.649183336283854E7,
          7.649183336283854E7,
          7.649183336283854E7,
          7.649183336283854E7,
          7.649183336283854E7,
          7.649183336283854E7,
          7.649183336283854E7,
          7.649183336283854E7,
          7.649183336283854E7,
          7.649183336283854E7,
          7.649183336283854E7,
          7.649183336283854E7,
          7.649183336283854E7,
          7.649183336283854E7,
          7.649183336283854E7,
          7.649183336283854E7,
          7.649183336283854E7,
          7.649183336283854E7,
          7.649183336283854E7,
          7.649183336283854E7,
          7.649183336283854E7,
          7.649183336283854E7,
          7.649183336283854E7,
          7.60809931733625E7,
          7.60809931733625E7,
          7.60809931733625E7,
          7.60809931733625E7,
          7.60809931733625E7,
          7.60809931733625E7,
          7.60809931733625E7,
          7.60809931733625E7,
          7.60809931733625E7,
          7.60809931733625E7,
          7.60809931733625E7,
          7.60809931733625E7,
          7.60809931733625E7,
          7.60809931733625E7,
          7.60809931733625E7,
          7.60809931733625E7,
          7.60809931733625E7,
          7.60809931733625E7,
          7.60809931733625E7,
          7.60809931733625E7,
          7.60809931733625E7,
          7.60809931733625E7,
          7.60809931733625E7,
          7.60809931733625E7,
          7.60809931733625E7,
          7.567015298388645E7,
          7.567015298388645E7,
          7.567015298388645E7,
          7.567015298388645E7,
          7.567015298388645E7,
          7.567015298388645E7,
          7.567015298388645E7,
          7.567015298388645E7,
          7.567015298388645E7,
          7.567015298388645E7,
          7.567015298388645E7,
          7.567015298388645E7,
          7.567015298388645E7,
          7.567015298388645E7,
          7.567015298388645E7,
          7.567015298388645E7,
          7.567015298388645E7,
          7.567015298388645E7,
          7.567015298388645E7,
          7.567015298388645E7,
          7.567015298388645E7,
          7.567015298388645E7,
          7.567015298388645E7,
          7.567015298388645E7,
          7.525931279441041E7,
          7.525931279441041E7,
          7.525931279441041E7,
          7.525931279441041E7,
          7.525931279441041E7,
          7.525931279441041E7,
          7.525931279441041E7,
          7.525931279441041E7,
          7.525931279441041E7,
          7.525931279441041E7,
          7.525931279441041E7,
          7.525931279441041E7,
          7.525931279441041E7,
          7.525931279441041E7,
          7.525931279441041E7,
          7.525931279441041E7,
          7.525931279441041E7,
          7.525931279441041E7,
          7.525931279441041E7,
          7.525931279441041E7,
          7.525931279441041E7,
          7.525931279441041E7,
          7.525931279441041E7,
          7.525931279441041E7,
          7.525931279441041E7,
          7.525931279441041E7,
          7.484847260493436E7,
          7.484847260493436E7,
          7.484847260493436E7,
          7.484847260493436E7,
          7.484847260493436E7,
          7.484847260493436E7,
          7.484847260493436E7,
          7.484847260493436E7,
          7.484847260493436E7,
          7.484847260493436E7,
          7.484847260493436E7,
          7.484847260493436E7,
          7.484847260493436E7,
          7.484847260493436E7,
          7.484847260493436E7,
          7.484847260493436E7,
          7.484847260493436E7,
          7.484847260493436E7,
          7.484847260493436E7,
          7.484847260493436E7,
          7.484847260493436E7,
          7.484847260493436E7,
          7.484847260493436E7,
          7.484847260493436E7,
          7.443763241545834E7,
          7.443763241545834E7,
          7.443763241545834E7,
          7.443763241545834E7,
          7.443763241545834E7,
          7.443763241545834E7,
          7.443763241545834E7,
          7.443763241545834E7,
          7.443763241545834E7,
          7.443763241545834E7,
          7.443763241545834E7,
          7.443763241545834E7,
          7.443763241545834E7,
          7.443763241545834E7,
          7.40267922259823E7,
          7.40267922259823E7,
          7.40267922259823E7,
          7.40267922259823E7,
          7.40267922259823E7,
          7.40267922259823E7,
          7.40267922259823E7,
          7.40267922259823E7,
          7.40267922259823E7,
          7.40267922259823E7,
          7.40267922259823E7,
          7.40267922259823E7,
          7.40267922259823E7,
          7.40267922259823E7,
          7.40267922259823E7,
          7.40267922259823E7,
          7.40267922259823E7,
          7.361595203650625E7,
          7.361595203650625E7,
          7.361595203650625E7,
          7.361595203650625E7,
          7.361595203650625E7,
          7.361595203650625E7,
          7.361595203650625E7,
          7.361595203650625E7,
          7.361595203650625E7,
          7.361595203650625E7,
          7.361595203650625E7,
          7.361595203650625E7,
          7.361595203650625E7,
          7.361595203650625E7,
          7.361595203650625E7,
          7.361595203650625E7,
          7.361595203650625E7,
          7.361595203650625E7,
          7.361595203650625E7,
          7.320511184703021E7,
          7.320511184703021E7,
          7.320511184703021E7,
          7.320511184703021E7,
          7.320511184703021E7,
          7.320511184703021E7,
          7.320511184703021E7,
          7.320511184703021E7,
          7.320511184703021E7,
          7.320511184703021E7,
          7.320511184703021E7,
          7.279427165755416E7,
          7.279427165755416E7,
          7.279427165755416E7,
          7.279427165755416E7,
          7.238343146807812E7,
          7.238343146807812E7,
          7.238343146807812E7,
          7.238343146807812E7,
          7.238343146807812E7,
          7.238343146807812E7,
          7.238343146807812E7,
          7.238343146807812E7,
          7.238343146807812E7,
          7.238343146807812E7,
          7.238343146807812E7,
          7.197259127860208E7,
          7.197259127860208E7,
          7.197259127860208E7,
          7.197259127860208E7,
          7.197259127860208E7,
          7.197259127860208E7,
          7.197259127860208E7,
          7.197259127860208E7,
          7.197259127860208E7,
          7.197259127860208E7,
          7.156175108912605E7,
          7.156175108912605E7,
          7.156175108912605E7,
          7.156175108912605E7,
          7.156175108912605E7,
          7.156175108912605E7,
          7.156175108912605E7,
          7.156175108912605E7,
          7.156175108912605E7,
          7.156175108912605E7,
          7.156175108912605E7,
          7.156175108912605E7,
          7.156175108912605E7,
          7.115091089965001E7,
          7.115091089965001E7,
          7.115091089965001E7,
          7.115091089965001E7,
          7.115091089965001E7,
          7.115091089965001E7,
          7.115091089965001E7,
          7.115091089965001E7,
          7.115091089965001E7,
          7.115091089965001E7,
          7.074007071017396E7,
          7.074007071017396E7,
          7.074007071017396E7,
          7.074007071017396E7,
          7.074007071017396E7,
          7.074007071017396E7,
          7.074007071017396E7,
          7.032923052069792E7,
          7.032923052069792E7,
          7.032923052069792E7,
          6.991839033122188E7,
          6.991839033122188E7,
          6.991839033122188E7,
          6.991839033122188E7,
          6.991839033122188E7,
          6.991839033122188E7,
          6.991839033122188E7,
          6.991839033122188E7,
          6.991839033122188E7,
          6.950755014174584E7,
          6.950755014174584E7,
          6.950755014174584E7,
          6.950755014174584E7,
          6.950755014174584E7,
          6.909670995226981E7,
          6.909670995226981E7,
          6.909670995226981E7,
          6.909670995226981E7,
          6.868586976279376E7,
          6.827502957331772E7,
          6.827502957331772E7,
          6.827502957331772E7,
          6.827502957331772E7,
          6.827502957331772E7,
          6.786418938384168E7,
          6.745334919436564E7,
          6.745334919436564E7,
          6.70425090048896E7,
          6.70425090048896E7,
          6.663166881541356E7,
          6.6220828625937514E7,
          6.580998843646148E7,
          6.5399148246985435E7,
          6.498830805750939E7,
          5.964738559432086E7,
          5.964738559432086E7,
          5.964738559432086E7,
          5.964738559432086E7,
          5.923654540484482E7,
          5.923654540484482E7,
          5.923654540484482E7,
          5.923654540484482E7,
          5.923654540484482E7,
          5.923654540484482E7,
          5.923654540484482E7,
          5.923654540484482E7,
          5.8825705215368785E7,
          5.8825705215368785E7,
          5.8825705215368785E7,
          5.8825705215368785E7,
          5.8825705215368785E7,
          5.8825705215368785E7,
          5.841486502589274E7,
          5.841486502589274E7,
          5.841486502589274E7,
          5.80040248364167E7,
          5.80040248364167E7,
          5.759318464694066E7,
          5.759318464694066E7
         ],
         "type": "scatter"
        }
       ],
       "layout": {
        "template": {
         "data": {
          "histogram2dcontour": [
           {
            "type": "histogram2dcontour",
            "colorbar": {
             "outlinewidth": 0,
             "ticks": ""
            },
            "colorscale": [
             [
              0.0,
              "#0d0887"
             ],
             [
              0.1111111111111111,
              "#46039f"
             ],
             [
              0.2222222222222222,
              "#7201a8"
             ],
             [
              0.3333333333333333,
              "#9c179e"
             ],
             [
              0.4444444444444444,
              "#bd3786"
             ],
             [
              0.5555555555555556,
              "#d8576b"
             ],
             [
              0.6666666666666666,
              "#ed7953"
             ],
             [
              0.7777777777777778,
              "#fb9f3a"
             ],
             [
              0.8888888888888888,
              "#fdca26"
             ],
             [
              1.0,
              "#f0f921"
             ]
            ]
           }
          ],
          "choropleth": [
           {
            "type": "choropleth",
            "colorbar": {
             "outlinewidth": 0,
             "ticks": ""
            }
           }
          ],
          "histogram2d": [
           {
            "type": "histogram2d",
            "colorbar": {
             "outlinewidth": 0,
             "ticks": ""
            },
            "colorscale": [
             [
              0.0,
              "#0d0887"
             ],
             [
              0.1111111111111111,
              "#46039f"
             ],
             [
              0.2222222222222222,
              "#7201a8"
             ],
             [
              0.3333333333333333,
              "#9c179e"
             ],
             [
              0.4444444444444444,
              "#bd3786"
             ],
             [
              0.5555555555555556,
              "#d8576b"
             ],
             [
              0.6666666666666666,
              "#ed7953"
             ],
             [
              0.7777777777777778,
              "#fb9f3a"
             ],
             [
              0.8888888888888888,
              "#fdca26"
             ],
             [
              1.0,
              "#f0f921"
             ]
            ]
           }
          ],
          "heatmap": [
           {
            "type": "heatmap",
            "colorbar": {
             "outlinewidth": 0,
             "ticks": ""
            },
            "colorscale": [
             [
              0.0,
              "#0d0887"
             ],
             [
              0.1111111111111111,
              "#46039f"
             ],
             [
              0.2222222222222222,
              "#7201a8"
             ],
             [
              0.3333333333333333,
              "#9c179e"
             ],
             [
              0.4444444444444444,
              "#bd3786"
             ],
             [
              0.5555555555555556,
              "#d8576b"
             ],
             [
              0.6666666666666666,
              "#ed7953"
             ],
             [
              0.7777777777777778,
              "#fb9f3a"
             ],
             [
              0.8888888888888888,
              "#fdca26"
             ],
             [
              1.0,
              "#f0f921"
             ]
            ]
           }
          ],
          "heatmapgl": [
           {
            "type": "heatmapgl",
            "colorbar": {
             "outlinewidth": 0,
             "ticks": ""
            },
            "colorscale": [
             [
              0.0,
              "#0d0887"
             ],
             [
              0.1111111111111111,
              "#46039f"
             ],
             [
              0.2222222222222222,
              "#7201a8"
             ],
             [
              0.3333333333333333,
              "#9c179e"
             ],
             [
              0.4444444444444444,
              "#bd3786"
             ],
             [
              0.5555555555555556,
              "#d8576b"
             ],
             [
              0.6666666666666666,
              "#ed7953"
             ],
             [
              0.7777777777777778,
              "#fb9f3a"
             ],
             [
              0.8888888888888888,
              "#fdca26"
             ],
             [
              1.0,
              "#f0f921"
             ]
            ]
           }
          ],
          "contourcarpet": [
           {
            "type": "contourcarpet",
            "colorbar": {
             "outlinewidth": 0,
             "ticks": ""
            }
           }
          ],
          "contour": [
           {
            "type": "contour",
            "colorbar": {
             "outlinewidth": 0,
             "ticks": ""
            },
            "colorscale": [
             [
              0.0,
              "#0d0887"
             ],
             [
              0.1111111111111111,
              "#46039f"
             ],
             [
              0.2222222222222222,
              "#7201a8"
             ],
             [
              0.3333333333333333,
              "#9c179e"
             ],
             [
              0.4444444444444444,
              "#bd3786"
             ],
             [
              0.5555555555555556,
              "#d8576b"
             ],
             [
              0.6666666666666666,
              "#ed7953"
             ],
             [
              0.7777777777777778,
              "#fb9f3a"
             ],
             [
              0.8888888888888888,
              "#fdca26"
             ],
             [
              1.0,
              "#f0f921"
             ]
            ]
           }
          ],
          "surface": [
           {
            "type": "surface",
            "colorbar": {
             "outlinewidth": 0,
             "ticks": ""
            },
            "colorscale": [
             [
              0.0,
              "#0d0887"
             ],
             [
              0.1111111111111111,
              "#46039f"
             ],
             [
              0.2222222222222222,
              "#7201a8"
             ],
             [
              0.3333333333333333,
              "#9c179e"
             ],
             [
              0.4444444444444444,
              "#bd3786"
             ],
             [
              0.5555555555555556,
              "#d8576b"
             ],
             [
              0.6666666666666666,
              "#ed7953"
             ],
             [
              0.7777777777777778,
              "#fb9f3a"
             ],
             [
              0.8888888888888888,
              "#fdca26"
             ],
             [
              1.0,
              "#f0f921"
             ]
            ]
           }
          ],
          "mesh3d": [
           {
            "type": "mesh3d",
            "colorbar": {
             "outlinewidth": 0,
             "ticks": ""
            }
           }
          ],
          "scatter": [
           {
            "marker": {
             "line": {
              "color": "#283442"
             }
            },
            "type": "scatter"
           }
          ],
          "parcoords": [
           {
            "type": "parcoords",
            "line": {
             "colorbar": {
              "outlinewidth": 0,
              "ticks": ""
             }
            }
           }
          ],
          "scatterpolargl": [
           {
            "type": "scatterpolargl",
            "marker": {
             "colorbar": {
              "outlinewidth": 0,
              "ticks": ""
             }
            }
           }
          ],
          "bar": [
           {
            "error_x": {
             "color": "#f2f5fa"
            },
            "error_y": {
             "color": "#f2f5fa"
            },
            "marker": {
             "line": {
              "color": "rgb(17,17,17)",
              "width": 0.5
             },
             "pattern": {
              "fillmode": "overlay",
              "size": 10,
              "solidity": 0.2
             }
            },
            "type": "bar"
           }
          ],
          "scattergeo": [
           {
            "type": "scattergeo",
            "marker": {
             "colorbar": {
              "outlinewidth": 0,
              "ticks": ""
             }
            }
           }
          ],
          "scatterpolar": [
           {
            "type": "scatterpolar",
            "marker": {
             "colorbar": {
              "outlinewidth": 0,
              "ticks": ""
             }
            }
           }
          ],
          "histogram": [
           {
            "marker": {
             "pattern": {
              "fillmode": "overlay",
              "size": 10,
              "solidity": 0.2
             }
            },
            "type": "histogram"
           }
          ],
          "scattergl": [
           {
            "marker": {
             "line": {
              "color": "#283442"
             }
            },
            "type": "scattergl"
           }
          ],
          "scatter3d": [
           {
            "type": "scatter3d",
            "line": {
             "colorbar": {
              "outlinewidth": 0,
              "ticks": ""
             }
            },
            "marker": {
             "colorbar": {
              "outlinewidth": 0,
              "ticks": ""
             }
            }
           }
          ],
          "scattermapbox": [
           {
            "type": "scattermapbox",
            "marker": {
             "colorbar": {
              "outlinewidth": 0,
              "ticks": ""
             }
            }
           }
          ],
          "scatterternary": [
           {
            "type": "scatterternary",
            "marker": {
             "colorbar": {
              "outlinewidth": 0,
              "ticks": ""
             }
            }
           }
          ],
          "scattercarpet": [
           {
            "type": "scattercarpet",
            "marker": {
             "colorbar": {
              "outlinewidth": 0,
              "ticks": ""
             }
            }
           }
          ],
          "carpet": [
           {
            "aaxis": {
             "endlinecolor": "#A2B1C6",
             "gridcolor": "#506784",
             "linecolor": "#506784",
             "minorgridcolor": "#506784",
             "startlinecolor": "#A2B1C6"
            },
            "baxis": {
             "endlinecolor": "#A2B1C6",
             "gridcolor": "#506784",
             "linecolor": "#506784",
             "minorgridcolor": "#506784",
             "startlinecolor": "#A2B1C6"
            },
            "type": "carpet"
           }
          ],
          "table": [
           {
            "cells": {
             "fill": {
              "color": "#506784"
             },
             "line": {
              "color": "rgb(17,17,17)"
             }
            },
            "header": {
             "fill": {
              "color": "#2a3f5f"
             },
             "line": {
              "color": "rgb(17,17,17)"
             }
            },
            "type": "table"
           }
          ],
          "barpolar": [
           {
            "marker": {
             "line": {
              "color": "rgb(17,17,17)",
              "width": 0.5
             },
             "pattern": {
              "fillmode": "overlay",
              "size": 10,
              "solidity": 0.2
             }
            },
            "type": "barpolar"
           }
          ],
          "pie": [
           {
            "automargin": true,
            "type": "pie"
           }
          ]
         },
         "layout": {
          "autotypenumbers": "strict",
          "colorway": [
           "#636efa",
           "#EF553B",
           "#00cc96",
           "#ab63fa",
           "#FFA15A",
           "#19d3f3",
           "#FF6692",
           "#B6E880",
           "#FF97FF",
           "#FECB52"
          ],
          "font": {
           "color": "#f2f5fa"
          },
          "hovermode": "closest",
          "hoverlabel": {
           "align": "left"
          },
          "paper_bgcolor": "rgb(17,17,17)",
          "plot_bgcolor": "rgb(17,17,17)",
          "polar": {
           "bgcolor": "rgb(17,17,17)",
           "angularaxis": {
            "gridcolor": "#506784",
            "linecolor": "#506784",
            "ticks": ""
           },
           "radialaxis": {
            "gridcolor": "#506784",
            "linecolor": "#506784",
            "ticks": ""
           }
          },
          "ternary": {
           "bgcolor": "rgb(17,17,17)",
           "aaxis": {
            "gridcolor": "#506784",
            "linecolor": "#506784",
            "ticks": ""
           },
           "baxis": {
            "gridcolor": "#506784",
            "linecolor": "#506784",
            "ticks": ""
           },
           "caxis": {
            "gridcolor": "#506784",
            "linecolor": "#506784",
            "ticks": ""
           }
          },
          "coloraxis": {
           "colorbar": {
            "outlinewidth": 0,
            "ticks": ""
           }
          },
          "colorscale": {
           "sequential": [
            [
             0.0,
             "#0d0887"
            ],
            [
             0.1111111111111111,
             "#46039f"
            ],
            [
             0.2222222222222222,
             "#7201a8"
            ],
            [
             0.3333333333333333,
             "#9c179e"
            ],
            [
             0.4444444444444444,
             "#bd3786"
            ],
            [
             0.5555555555555556,
             "#d8576b"
            ],
            [
             0.6666666666666666,
             "#ed7953"
            ],
            [
             0.7777777777777778,
             "#fb9f3a"
            ],
            [
             0.8888888888888888,
             "#fdca26"
            ],
            [
             1.0,
             "#f0f921"
            ]
           ],
           "sequentialminus": [
            [
             0.0,
             "#0d0887"
            ],
            [
             0.1111111111111111,
             "#46039f"
            ],
            [
             0.2222222222222222,
             "#7201a8"
            ],
            [
             0.3333333333333333,
             "#9c179e"
            ],
            [
             0.4444444444444444,
             "#bd3786"
            ],
            [
             0.5555555555555556,
             "#d8576b"
            ],
            [
             0.6666666666666666,
             "#ed7953"
            ],
            [
             0.7777777777777778,
             "#fb9f3a"
            ],
            [
             0.8888888888888888,
             "#fdca26"
            ],
            [
             1.0,
             "#f0f921"
            ]
           ],
           "diverging": [
            [
             0,
             "#8e0152"
            ],
            [
             0.1,
             "#c51b7d"
            ],
            [
             0.2,
             "#de77ae"
            ],
            [
             0.3,
             "#f1b6da"
            ],
            [
             0.4,
             "#fde0ef"
            ],
            [
             0.5,
             "#f7f7f7"
            ],
            [
             0.6,
             "#e6f5d0"
            ],
            [
             0.7,
             "#b8e186"
            ],
            [
             0.8,
             "#7fbc41"
            ],
            [
             0.9,
             "#4d9221"
            ],
            [
             1,
             "#276419"
            ]
           ]
          },
          "xaxis": {
           "gridcolor": "#283442",
           "linecolor": "#506784",
           "ticks": "",
           "title": {
            "standoff": 15
           },
           "zerolinecolor": "#283442",
           "automargin": true,
           "zerolinewidth": 2
          },
          "yaxis": {
           "gridcolor": "#283442",
           "linecolor": "#506784",
           "ticks": "",
           "title": {
            "standoff": 15
           },
           "zerolinecolor": "#283442",
           "automargin": true,
           "zerolinewidth": 2
          },
          "scene": {
           "xaxis": {
            "backgroundcolor": "rgb(17,17,17)",
            "gridcolor": "#506784",
            "linecolor": "#506784",
            "showbackground": true,
            "ticks": "",
            "zerolinecolor": "#C8D4E3",
            "gridwidth": 2
           },
           "yaxis": {
            "backgroundcolor": "rgb(17,17,17)",
            "gridcolor": "#506784",
            "linecolor": "#506784",
            "showbackground": true,
            "ticks": "",
            "zerolinecolor": "#C8D4E3",
            "gridwidth": 2
           },
           "zaxis": {
            "backgroundcolor": "rgb(17,17,17)",
            "gridcolor": "#506784",
            "linecolor": "#506784",
            "showbackground": true,
            "ticks": "",
            "zerolinecolor": "#C8D4E3",
            "gridwidth": 2
           }
          },
          "shapedefaults": {
           "line": {
            "color": "#f2f5fa"
           }
          },
          "annotationdefaults": {
           "arrowcolor": "#f2f5fa",
           "arrowhead": 0,
           "arrowwidth": 1
          },
          "geo": {
           "bgcolor": "rgb(17,17,17)",
           "landcolor": "rgb(17,17,17)",
           "subunitcolor": "#506784",
           "showland": true,
           "showlakes": true,
           "lakecolor": "rgb(17,17,17)"
          },
          "title": {
           "x": 0.05
          },
          "updatemenudefaults": {
           "bgcolor": "#506784",
           "borderwidth": 0
          },
          "sliderdefaults": {
           "bgcolor": "#C8D4E3",
           "borderwidth": 1,
           "bordercolor": "rgb(17,17,17)",
           "tickwidth": 0
          },
          "mapbox": {
           "style": "dark"
          }
         }
        },
        "xaxis": {
         "anchor": "y",
         "domain": [
          0.0,
          1.0
         ],
         "title": {
          "text": "Year"
         }
        },
        "yaxis": {
         "anchor": "x",
         "domain": [
          0.0,
          1.0
         ],
         "title": {
          "text": " Launch Cost"
         }
        },
        "legend": {
         "title": {
          "text": "Company Name"
         },
         "tracegroupgap": 0
        },
        "title": {
         "text": "Cost of launches by year and company"
        }
       },
       "config": {
        "plotlyServerURL": "https://plot.ly"
       }
      },
      "text/html": "<div>                            <div id=\"69704d86-9031-405f-aba0-0387a28eb258\" class=\"plotly-graph-div\" style=\"height:525px; width:100%;\"></div>            <script type=\"text/javascript\">                require([\"plotly\"], function(Plotly) {                    window.PLOTLYENV=window.PLOTLYENV || {};                                    if (document.getElementById(\"69704d86-9031-405f-aba0-0387a28eb258\")) {                    Plotly.newPlot(                        \"69704d86-9031-405f-aba0-0387a28eb258\",                        [{\"hovertemplate\":\"Company Name=SpaceX\\u003cbr\\u003eYear=%{x}\\u003cbr\\u003e Launch Cost=%{y}\\u003cextra\\u003e\\u003c\\u002fextra\\u003e\",\"legendgroup\":\"SpaceX\",\"marker\":{\"color\":\"#636efa\",\"symbol\":\"circle\"},\"mode\":\"markers\",\"name\":\"SpaceX\",\"orientation\":\"v\",\"showlegend\":true,\"x\":[2020.0,2020.0,2020.0,2020.0,2020.0,2020.0,2020.0,2020.0,2020.0,2020.0,2020.0,2020.0,2020.0,2019.0,2019.0,2019.0,2019.0,2019.0,2019.0,2019.0,2019.0,2019.0,2019.0,2019.0,2019.0,2019.0,2018.0,2018.0,2018.0,2018.0,2018.0,2018.0,2018.0,2018.0,2018.0,2018.0,2018.0,2018.0,2018.0,2018.0,2018.0,2018.0,2018.0,2018.0,2018.0,2018.0,2018.0,2017.0,2017.0,2017.0,2017.0,2017.0,2017.0,2017.0,2017.0,2017.0,2017.0,2017.0,2017.0,2017.0,2017.0,2017.0,2017.0,2017.0,2017.0,2016.0,2016.0,2016.0,2016.0,2016.0,2016.0,2016.0,2016.0,2016.0,2015.0,2015.0,2015.0,2015.0,2015.0,2015.0,2015.0,2014.0,2014.0,2014.0,2014.0,2014.0,2014.0,2013.0,2013.0,2013.0,2012.0,2012.0,2010.0,2010.0,2009.0,2008.0,2008.0,2007.0,2006.0],\"xaxis\":\"x\",\"y\":[50000000.0,50000000.0,50000000.0,50000000.0,50000000.0,50000000.0,50000000.0,50000000.0,50000000.0,50000000.0,50000000.0,50000000.0,50000000.0,50000000.0,50000000.0,50000000.0,50000000.0,50000000.0,90000000.0,50000000.0,50000000.0,50000000.0,90000000.0,50000000.0,50000000.0,50000000.0,50000000.0,50000000.0,50000000.0,50000000.0,50000000.0,50000000.0,50000000.0,50000000.0,50000000.0,62000000.0,62000000.0,62000000.0,50000000.0,62000000.0,62000000.0,62000000.0,62000000.0,62000000.0,90000000.0,62000000.0,62000000.0,62000000.0,62000000.0,62000000.0,62000000.0,62000000.0,62000000.0,62000000.0,62000000.0,62000000.0,62000000.0,62000000.0,62000000.0,62000000.0,62000000.0,62000000.0,62000000.0,62000000.0,62000000.0,62000000.0,62000000.0,62000000.0,62000000.0,62000000.0,62000000.0,62000000.0,62000000.0,56500000.0,62000000.0,56500000.0,56500000.0,56500000.0,56500000.0,56500000.0,56500000.0,56500000.0,56500000.0,56500000.0,56500000.0,56500000.0,56500000.0,56500000.0,56500000.0,59500000.0,59500000.0,59500000.0,59500000.0,59500000.0,7000000.0,7000000.0,7000000.0,7000000.0,7000000.0],\"yaxis\":\"y\",\"type\":\"scatter\"},{\"hovertemplate\":\"\\u003cb\\u003eOLS trendline\\u003c\\u002fb\\u003e\\u003cbr\\u003e Launch Cost = 2.07949e+06 * Year + -4.13854e+09\\u003cbr\\u003eR\\u003csup\\u003e2\\u003c\\u002fsup\\u003e=0.218560\\u003cbr\\u003e\\u003cbr\\u003eCompany Name=SpaceX\\u003cbr\\u003eYear=%{x}\\u003cbr\\u003e Launch Cost=%{y} \\u003cb\\u003e(trend)\\u003c\\u002fb\\u003e\\u003cextra\\u003e\\u003c\\u002fextra\\u003e\",\"legendgroup\":\"SpaceX\",\"marker\":{\"color\":\"#636efa\",\"symbol\":\"circle\"},\"mode\":\"lines\",\"name\":\"SpaceX\",\"showlegend\":false,\"x\":[2006.0,2007.0,2008.0,2008.0,2009.0,2010.0,2010.0,2012.0,2012.0,2013.0,2013.0,2013.0,2014.0,2014.0,2014.0,2014.0,2014.0,2014.0,2015.0,2015.0,2015.0,2015.0,2015.0,2015.0,2015.0,2016.0,2016.0,2016.0,2016.0,2016.0,2016.0,2016.0,2016.0,2016.0,2017.0,2017.0,2017.0,2017.0,2017.0,2017.0,2017.0,2017.0,2017.0,2017.0,2017.0,2017.0,2017.0,2017.0,2017.0,2017.0,2017.0,2017.0,2018.0,2018.0,2018.0,2018.0,2018.0,2018.0,2018.0,2018.0,2018.0,2018.0,2018.0,2018.0,2018.0,2018.0,2018.0,2018.0,2018.0,2018.0,2018.0,2018.0,2018.0,2019.0,2019.0,2019.0,2019.0,2019.0,2019.0,2019.0,2019.0,2019.0,2019.0,2019.0,2019.0,2019.0,2020.0,2020.0,2020.0,2020.0,2020.0,2020.0,2020.0,2020.0,2020.0,2020.0,2020.0,2020.0,2020.0],\"xaxis\":\"x\",\"y\":[32913714.012797356,34993202.416920185,37072690.821043015,37072690.821043015,39152179.22516632,41231667.62928915,41231667.62928915,45390644.437535286,45390644.437535286,47470132.841658115,47470132.841658115,47470132.841658115,49549621.245780945,49549621.245780945,49549621.245780945,49549621.245780945,49549621.245780945,49549621.245780945,51629109.649903774,51629109.649903774,51629109.649903774,51629109.649903774,51629109.649903774,51629109.649903774,51629109.649903774,53708598.05402708,53708598.05402708,53708598.05402708,53708598.05402708,53708598.05402708,53708598.05402708,53708598.05402708,53708598.05402708,53708598.05402708,55788086.45814991,55788086.45814991,55788086.45814991,55788086.45814991,55788086.45814991,55788086.45814991,55788086.45814991,55788086.45814991,55788086.45814991,55788086.45814991,55788086.45814991,55788086.45814991,55788086.45814991,55788086.45814991,55788086.45814991,55788086.45814991,55788086.45814991,55788086.45814991,57867574.86227274,57867574.86227274,57867574.86227274,57867574.86227274,57867574.86227274,57867574.86227274,57867574.86227274,57867574.86227274,57867574.86227274,57867574.86227274,57867574.86227274,57867574.86227274,57867574.86227274,57867574.86227274,57867574.86227274,57867574.86227274,57867574.86227274,57867574.86227274,57867574.86227274,57867574.86227274,57867574.86227274,59947063.266396046,59947063.266396046,59947063.266396046,59947063.266396046,59947063.266396046,59947063.266396046,59947063.266396046,59947063.266396046,59947063.266396046,59947063.266396046,59947063.266396046,59947063.266396046,59947063.266396046,62026551.670518875,62026551.670518875,62026551.670518875,62026551.670518875,62026551.670518875,62026551.670518875,62026551.670518875,62026551.670518875,62026551.670518875,62026551.670518875,62026551.670518875,62026551.670518875,62026551.670518875],\"yaxis\":\"y\",\"type\":\"scatter\"},{\"hovertemplate\":\"Company Name=CASC\\u003cbr\\u003eYear=%{x}\\u003cbr\\u003e Launch Cost=%{y}\\u003cextra\\u003e\\u003c\\u002fextra\\u003e\",\"legendgroup\":\"CASC\",\"marker\":{\"color\":\"#EF553B\",\"symbol\":\"circle\"},\"mode\":\"markers\",\"name\":\"CASC\",\"orientation\":\"v\",\"showlegend\":true,\"x\":[2020.0,2020.0,2020.0,2020.0,2020.0,2020.0,2020.0,2020.0,2020.0,2020.0,2020.0,2020.0,2020.0,2020.0,2020.0,2020.0,2019.0,2019.0,2019.0,2019.0,2019.0,2019.0,2019.0,2019.0,2019.0,2019.0,2019.0,2019.0,2019.0,2019.0,2019.0,2019.0,2019.0,2019.0,2019.0,2019.0,2019.0,2018.0,2018.0,2018.0,2018.0,2018.0,2018.0,2018.0,2018.0,2018.0,2018.0,2018.0,2018.0,2018.0,2018.0,2018.0,2018.0,2018.0,2018.0,2018.0,2018.0,2018.0,2018.0,2018.0,2018.0,2018.0,2018.0,2018.0,2017.0,2017.0,2017.0,2017.0,2017.0,2017.0,2017.0,2017.0,2017.0,2017.0,2017.0,2017.0,2016.0,2016.0,2016.0,2016.0,2016.0,2016.0,2016.0,2016.0,2016.0,2016.0,2016.0,2016.0,2016.0,2016.0,2016.0,2008.0,2008.0,2008.0,2008.0,2008.0,2008.0,2007.0,2007.0,2007.0,2007.0,2007.0,2007.0,2007.0,2007.0,2006.0,2006.0,2006.0,2006.0,2006.0,2005.0,2005.0,2005.0,2004.0,2004.0,2004.0,2004.0,2004.0,2004.0,2004.0,2004.0,2003.0,2003.0,2003.0,2003.0,2003.0,2002.0,2002.0,2000.0,2000.0,2000.0,1999.0,1999.0,1999.0,1998.0,1998.0,1998.0,1998.0,1997.0,1997.0,1997.0,1996.0,1994.0,1994.0,1994.0,1993.0,1992.0,1992.0,1990.0,1988.0,1987.0,1987.0,1986.0,1985.0,1984.0,1983.0,1982.0],\"xaxis\":\"x\",\"y\":[29750000.0,64680000.00000001,29150000.0,29750000.0,64680000.00000001,29150000.0,29750000.0,30800000.0,29750000.0,5300000.0,29150000.0,30800000.0,29150000.0,29750000.0,29750000.0,29150000.0,64680000.00000001,64680000.00000001,29150000.0,64680000.00000001,29150000.0,64680000.00000001,29750000.0,5300000.0,64680000.00000001,29150000.0,7500000.0,30800000.0,29150000.0,5300000.0,64680000.00000001,64680000.00000001,29150000.0,29150000.0,29150000.0,5300000.0,29150000.0,5300000.0,29150000.0,29750000.0,29750000.0,29150000.0,30800000.0,64680000.00000001,30800000.0,30800000.0,64680000.00000001,69700000.0,30800000.0,30800000.0,69700000.0,29750000.0,64680000.00000001,64680000.00000001,29150000.0,5300000.0,64680000.00000001,64680000.00000001,29750000.0,29750000.0,30800000.0,5300000.0,29750000.0,29750000.0,30800000.0,29750000.0,29150000.0,29750000.0,30800000.0,64680000.00000001,29750000.0,30800000.0,29150000.0,64680000.00000001,29150000.0,29150000.0,29750000.0,29750000.0,29150000.0,29750000.0,5300000.0,64680000.00000001,29750000.0,64680000.00000001,29150000.0,64680000.00000001,64680000.00000001,29750000.0,29750000.0,69700000.0,29150000.0,29750000.0,29750000.0,29150000.0,64680000.00000001,64680000.00000001,20140000.0,64680000.00000001,64680000.00000001,69700000.0,29750000.0,29150000.0,69700000.0,30800000.0,69700000.0,69700000.0,64680000.00000001,69700000.0,30800000.0,64680000.00000001,29750000.0,30800000.0,29750000.0,30800000.0,64680000.00000001,69700000.0,29750000.0,64680000.00000001,30800000.0,30800000.0,30800000.0,30800000.0,69700000.0,29750000.0,64680000.00000001,69700000.0,64680000.00000001,64680000.00000001,69700000.0,69700000.0,69700000.0,64680000.00000001,30800000.0,64680000.00000001,30800000.0,30800000.0,30800000.0,30800000.0,30800000.0,30800000.0,69700000.0,29750000.0,69700000.0,29750000.0,69700000.0,30800000.0,30800000.0,29750000.0,30800000.0,30800000.0,30800000.0,30800000.0,30800000.0,30800000.0,30800000.0,30800000.0,30800000.0],\"yaxis\":\"y\",\"type\":\"scatter\"},{\"hovertemplate\":\"\\u003cb\\u003eOLS trendline\\u003c\\u002fb\\u003e\\u003cbr\\u003e Launch Cost = -215751 * Year + 4.74129e+08\\u003cbr\\u003eR\\u003csup\\u003e2\\u003c\\u002fsup\\u003e=0.013207\\u003cbr\\u003e\\u003cbr\\u003eCompany Name=CASC\\u003cbr\\u003eYear=%{x}\\u003cbr\\u003e Launch Cost=%{y} \\u003cb\\u003e(trend)\\u003c\\u002fb\\u003e\\u003cextra\\u003e\\u003c\\u002fextra\\u003e\",\"legendgroup\":\"CASC\",\"marker\":{\"color\":\"#EF553B\",\"symbol\":\"circle\"},\"mode\":\"lines\",\"name\":\"CASC\",\"showlegend\":false,\"x\":[1982.0,1983.0,1984.0,1985.0,1986.0,1987.0,1987.0,1988.0,1990.0,1992.0,1992.0,1993.0,1994.0,1994.0,1994.0,1996.0,1997.0,1997.0,1997.0,1998.0,1998.0,1998.0,1998.0,1999.0,1999.0,1999.0,2000.0,2000.0,2000.0,2002.0,2002.0,2003.0,2003.0,2003.0,2003.0,2003.0,2004.0,2004.0,2004.0,2004.0,2004.0,2004.0,2004.0,2004.0,2005.0,2005.0,2005.0,2006.0,2006.0,2006.0,2006.0,2006.0,2007.0,2007.0,2007.0,2007.0,2007.0,2007.0,2007.0,2007.0,2008.0,2008.0,2008.0,2008.0,2008.0,2008.0,2016.0,2016.0,2016.0,2016.0,2016.0,2016.0,2016.0,2016.0,2016.0,2016.0,2016.0,2016.0,2016.0,2016.0,2016.0,2017.0,2017.0,2017.0,2017.0,2017.0,2017.0,2017.0,2017.0,2017.0,2017.0,2017.0,2017.0,2018.0,2018.0,2018.0,2018.0,2018.0,2018.0,2018.0,2018.0,2018.0,2018.0,2018.0,2018.0,2018.0,2018.0,2018.0,2018.0,2018.0,2018.0,2018.0,2018.0,2018.0,2018.0,2018.0,2018.0,2018.0,2018.0,2018.0,2019.0,2019.0,2019.0,2019.0,2019.0,2019.0,2019.0,2019.0,2019.0,2019.0,2019.0,2019.0,2019.0,2019.0,2019.0,2019.0,2019.0,2019.0,2019.0,2019.0,2019.0,2020.0,2020.0,2020.0,2020.0,2020.0,2020.0,2020.0,2020.0,2020.0,2020.0,2020.0,2020.0,2020.0,2020.0,2020.0,2020.0],\"xaxis\":\"x\",\"y\":[46509286.41715711,46293534.97416431,46077783.53117144,45862032.088178635,45646280.64518583,45430529.20219302,45430529.20219302,45214777.759200215,44783274.8732146,44351771.98722893,44351771.98722893,44136020.54423612,43920269.10124332,43920269.10124332,43920269.10124332,43488766.215257704,43273014.7722649,43273014.7722649,43273014.7722649,43057263.32927203,43057263.32927203,43057263.32927203,43057263.32927203,42841511.886279225,42841511.886279225,42841511.886279225,42625760.44328642,42625760.44328642,42625760.44328642,42194257.557300806,42194257.557300806,41978506.114308,41978506.114308,41978506.114308,41978506.114308,41978506.114308,41762754.67131519,41762754.67131519,41762754.67131519,41762754.67131519,41762754.67131519,41762754.67131519,41762754.67131519,41762754.67131519,41547003.22832233,41547003.22832233,41547003.22832233,41331251.78532952,41331251.78532952,41331251.78532952,41331251.78532952,41331251.78532952,41115500.342336714,41115500.342336714,41115500.342336714,41115500.342336714,41115500.342336714,41115500.342336714,41115500.342336714,41115500.342336714,40899748.89934391,40899748.89934391,40899748.89934391,40899748.89934391,40899748.89934391,40899748.89934391,39173737.3554014,39173737.3554014,39173737.3554014,39173737.3554014,39173737.3554014,39173737.3554014,39173737.3554014,39173737.3554014,39173737.3554014,39173737.3554014,39173737.3554014,39173737.3554014,39173737.3554014,39173737.3554014,39173737.3554014,38957985.91240859,38957985.91240859,38957985.91240859,38957985.91240859,38957985.91240859,38957985.91240859,38957985.91240859,38957985.91240859,38957985.91240859,38957985.91240859,38957985.91240859,38957985.91240859,38742234.469415724,38742234.469415724,38742234.469415724,38742234.469415724,38742234.469415724,38742234.469415724,38742234.469415724,38742234.469415724,38742234.469415724,38742234.469415724,38742234.469415724,38742234.469415724,38742234.469415724,38742234.469415724,38742234.469415724,38742234.469415724,38742234.469415724,38742234.469415724,38742234.469415724,38742234.469415724,38742234.469415724,38742234.469415724,38742234.469415724,38742234.469415724,38742234.469415724,38742234.469415724,38742234.469415724,38526483.02642292,38526483.02642292,38526483.02642292,38526483.02642292,38526483.02642292,38526483.02642292,38526483.02642292,38526483.02642292,38526483.02642292,38526483.02642292,38526483.02642292,38526483.02642292,38526483.02642292,38526483.02642292,38526483.02642292,38526483.02642292,38526483.02642292,38526483.02642292,38526483.02642292,38526483.02642292,38526483.02642292,38310731.58343011,38310731.58343011,38310731.58343011,38310731.58343011,38310731.58343011,38310731.58343011,38310731.58343011,38310731.58343011,38310731.58343011,38310731.58343011,38310731.58343011,38310731.58343011,38310731.58343011,38310731.58343011,38310731.58343011,38310731.58343011],\"yaxis\":\"y\",\"type\":\"scatter\"},{\"hovertemplate\":\"Company Name=Roscosmos\\u003cbr\\u003eYear=%{x}\\u003cbr\\u003e Launch Cost=%{y}\\u003cextra\\u003e\\u003c\\u002fextra\\u003e\",\"legendgroup\":\"Roscosmos\",\"marker\":{\"color\":\"#00cc96\",\"symbol\":\"circle\"},\"mode\":\"markers\",\"name\":\"Roscosmos\",\"orientation\":\"v\",\"showlegend\":true,\"x\":[2020.0,2020.0,2020.0,2020.0,2019.0,2019.0,2019.0,2019.0,2019.0,2019.0,2019.0,2019.0,2018.0,2018.0,2018.0,2018.0,2018.0,2017.0,2017.0,2017.0,2016.0,2016.0,2016.0],\"xaxis\":\"x\",\"y\":[65000000.0,48500000.0,48500000.0,48500000.0,65000000.0,48500000.0,48500000.0,65000000.0,48500000.0,65000000.0,65000000.0,48500000.0,48500000.0,35000000.0,48500000.0,48500000.0,48500000.0,48500000.0,48500000.0,48500000.0,48500000.0,65000000.0,35000000.0],\"yaxis\":\"y\",\"type\":\"scatter\"},{\"hovertemplate\":\"\\u003cb\\u003eOLS trendline\\u003c\\u002fb\\u003e\\u003cbr\\u003e Launch Cost = 1.92807e+06 * Year + -3.83979e+09\\u003cbr\\u003eR\\u003csup\\u003e2\\u003c\\u002fsup\\u003e=0.077321\\u003cbr\\u003e\\u003cbr\\u003eCompany Name=Roscosmos\\u003cbr\\u003eYear=%{x}\\u003cbr\\u003e Launch Cost=%{y} \\u003cb\\u003e(trend)\\u003c\\u002fb\\u003e\\u003cextra\\u003e\\u003c\\u002fextra\\u003e\",\"legendgroup\":\"Roscosmos\",\"marker\":{\"color\":\"#00cc96\",\"symbol\":\"circle\"},\"mode\":\"lines\",\"name\":\"Roscosmos\",\"showlegend\":false,\"x\":[2016.0,2016.0,2016.0,2017.0,2017.0,2017.0,2018.0,2018.0,2018.0,2018.0,2018.0,2019.0,2019.0,2019.0,2019.0,2019.0,2019.0,2019.0,2019.0,2020.0,2020.0,2020.0,2020.0],\"xaxis\":\"x\",\"y\":[47187499.99999857,47187499.99999857,47187499.99999857,49115566.03773451,49115566.03773451,49115566.03773451,51043632.07547045,51043632.07547045,51043632.07547045,51043632.07547045,51043632.07547045,52971698.11320639,52971698.11320639,52971698.11320639,52971698.11320639,52971698.11320639,52971698.11320639,52971698.11320639,52971698.11320639,54899764.1509428,54899764.1509428,54899764.1509428,54899764.1509428],\"yaxis\":\"y\",\"type\":\"scatter\"},{\"hovertemplate\":\"Company Name=ULA\\u003cbr\\u003eYear=%{x}\\u003cbr\\u003e Launch Cost=%{y}\\u003cextra\\u003e\\u003c\\u002fextra\\u003e\",\"legendgroup\":\"ULA\",\"marker\":{\"color\":\"#ab63fa\",\"symbol\":\"circle\"},\"mode\":\"markers\",\"name\":\"ULA\",\"orientation\":\"v\",\"showlegend\":true,\"x\":[2020.0,2020.0,2020.0,2020.0,2019.0,2019.0,2019.0,2018.0,2018.0,2018.0,2018.0,2018.0,2018.0,2017.0,2017.0,2017.0,2017.0,2017.0,2017.0,2016.0,2016.0,2016.0,2016.0,2016.0,2016.0,2016.0,2016.0,2016.0,2016.0,2015.0,2015.0,2015.0,2015.0,2015.0,2015.0,2015.0,2015.0,2015.0,2015.0,2014.0,2014.0,2014.0,2014.0,2014.0,2014.0,2014.0,2014.0,2014.0,2014.0,2014.0,2014.0,2014.0,2013.0,2013.0,2013.0,2013.0,2013.0,2013.0,2013.0,2013.0,2013.0,2012.0,2012.0,2012.0,2012.0,2012.0,2012.0,2012.0,2012.0,2011.0,2011.0,2011.0,2011.0,2011.0,2011.0,2011.0,2011.0,2010.0,2010.0,2010.0,2010.0,2010.0,2010.0,2010.0,2009.0,2009.0,2009.0,2009.0,2009.0,2009.0,2009.0,2008.0,2008.0,2007.0,2007.0,2007.0,2007.0,2007.0],\"xaxis\":\"x\",\"y\":[145000000.0,120000000.0,153000000.0,115000000.0,164000000.0,153000000.0,350000000.0,153000000.0,350000000.0,109000000.0,153000000.0,145000000.0,115000000.0,123000000.0,145000000.0,109000000.0,109000000.0,109000000.0,109000000.0,130000000.0,145000000.0,109000000.0,115000000.0,164000000.0,123000000.0,153000000.0,350000000.0,109000000.0,109000000.0,109000000.0,109000000.0,109000000.0,123000000.0,153000000.0,109000000.0,120000000.0,164000000.0,123000000.0,153000000.0,145000000.0,350000000.0,109000000.0,109000000.0,109000000.0,109000000.0,164000000.0,109000000.0,164000000.0,145000000.0,109000000.0,164000000.0,109000000.0,120000000.0,109000000.0,140000000.0,350000000.0,153000000.0,109000000.0,109000000.0,109000000.0,109000000.0,120000000.0,164000000.0,109000000.0,109000000.0,350000000.0,109000000.0,140000000.0,153000000.0,145000000.0,153000000.0,164000000.0,109000000.0,115000000.0,164000000.0,120000000.0,350000000.0,350000000.0,120000000.0,140000000.0,164000000.0,120000000.0,164000000.0,109000000.0,130000000.0,109000000.0,109000000.0,164000000.0,123000000.0,123000000.0,350000000.0,123000000.0,115000000.0,109000000.0,350000000.0,123000000.0,109000000.0,109000000.0],\"yaxis\":\"y\",\"type\":\"scatter\"},{\"hovertemplate\":\"\\u003cb\\u003eOLS trendline\\u003c\\u002fb\\u003e\\u003cbr\\u003e Launch Cost = -658882 * Year + 1.47767e+09\\u003cbr\\u003eR\\u003csup\\u003e2\\u003c\\u002fsup\\u003e=0.001008\\u003cbr\\u003e\\u003cbr\\u003eCompany Name=ULA\\u003cbr\\u003eYear=%{x}\\u003cbr\\u003e Launch Cost=%{y} \\u003cb\\u003e(trend)\\u003c\\u002fb\\u003e\\u003cextra\\u003e\\u003c\\u002fextra\\u003e\",\"legendgroup\":\"ULA\",\"marker\":{\"color\":\"#ab63fa\",\"symbol\":\"circle\"},\"mode\":\"lines\",\"name\":\"ULA\",\"showlegend\":false,\"x\":[2007.0,2007.0,2007.0,2007.0,2007.0,2008.0,2008.0,2009.0,2009.0,2009.0,2009.0,2009.0,2009.0,2009.0,2010.0,2010.0,2010.0,2010.0,2010.0,2010.0,2010.0,2011.0,2011.0,2011.0,2011.0,2011.0,2011.0,2011.0,2011.0,2012.0,2012.0,2012.0,2012.0,2012.0,2012.0,2012.0,2012.0,2013.0,2013.0,2013.0,2013.0,2013.0,2013.0,2013.0,2013.0,2013.0,2014.0,2014.0,2014.0,2014.0,2014.0,2014.0,2014.0,2014.0,2014.0,2014.0,2014.0,2014.0,2014.0,2015.0,2015.0,2015.0,2015.0,2015.0,2015.0,2015.0,2015.0,2015.0,2015.0,2016.0,2016.0,2016.0,2016.0,2016.0,2016.0,2016.0,2016.0,2016.0,2016.0,2017.0,2017.0,2017.0,2017.0,2017.0,2017.0,2018.0,2018.0,2018.0,2018.0,2018.0,2018.0,2019.0,2019.0,2019.0,2020.0,2020.0,2020.0,2020.0],\"xaxis\":\"x\",\"y\":[155289459.20164156,155289459.20164156,155289459.20164156,155289459.20164156,155289459.20164156,154630576.7537403,154630576.7537403,153971694.30583882,153971694.30583882,153971694.30583882,153971694.30583882,153971694.30583882,153971694.30583882,153971694.30583882,153312811.85793757,153312811.85793757,153312811.85793757,153312811.85793757,153312811.85793757,153312811.85793757,153312811.85793757,152653929.4100361,152653929.4100361,152653929.4100361,152653929.4100361,152653929.4100361,152653929.4100361,152653929.4100361,152653929.4100361,151995046.96213484,151995046.96213484,151995046.96213484,151995046.96213484,151995046.96213484,151995046.96213484,151995046.96213484,151995046.96213484,151336164.51423335,151336164.51423335,151336164.51423335,151336164.51423335,151336164.51423335,151336164.51423335,151336164.51423335,151336164.51423335,151336164.51423335,150677282.0663321,150677282.0663321,150677282.0663321,150677282.0663321,150677282.0663321,150677282.0663321,150677282.0663321,150677282.0663321,150677282.0663321,150677282.0663321,150677282.0663321,150677282.0663321,150677282.0663321,150018399.6184306,150018399.6184306,150018399.6184306,150018399.6184306,150018399.6184306,150018399.6184306,150018399.6184306,150018399.6184306,150018399.6184306,150018399.6184306,149359517.17052937,149359517.17052937,149359517.17052937,149359517.17052937,149359517.17052937,149359517.17052937,149359517.17052937,149359517.17052937,149359517.17052937,149359517.17052937,148700634.72262812,148700634.72262812,148700634.72262812,148700634.72262812,148700634.72262812,148700634.72262812,148041752.27472663,148041752.27472663,148041752.27472663,148041752.27472663,148041752.27472663,148041752.27472663,147382869.82682538,147382869.82682538,147382869.82682538,146723987.3789239,146723987.3789239,146723987.3789239,146723987.3789239],\"yaxis\":\"y\",\"type\":\"scatter\"},{\"hovertemplate\":\"Company Name=JAXA\\u003cbr\\u003eYear=%{x}\\u003cbr\\u003e Launch Cost=%{y}\\u003cextra\\u003e\\u003c\\u002fextra\\u003e\",\"legendgroup\":\"JAXA\",\"marker\":{\"color\":\"#FFA15A\",\"symbol\":\"circle\"},\"mode\":\"markers\",\"name\":\"JAXA\",\"orientation\":\"v\",\"showlegend\":true,\"x\":[2020.0,2019.0,2018.0],\"xaxis\":\"x\",\"y\":[90000000.0,39000000.0,39000000.0],\"yaxis\":\"y\",\"type\":\"scatter\"},{\"hovertemplate\":\"\\u003cb\\u003eOLS trendline\\u003c\\u002fb\\u003e\\u003cbr\\u003e Launch Cost = 2.55e+07 * Year + -5.14285e+10\\u003cbr\\u003eR\\u003csup\\u003e2\\u003c\\u002fsup\\u003e=0.750000\\u003cbr\\u003e\\u003cbr\\u003eCompany Name=JAXA\\u003cbr\\u003eYear=%{x}\\u003cbr\\u003e Launch Cost=%{y} \\u003cb\\u003e(trend)\\u003c\\u002fb\\u003e\\u003cextra\\u003e\\u003c\\u002fextra\\u003e\",\"legendgroup\":\"JAXA\",\"marker\":{\"color\":\"#FFA15A\",\"symbol\":\"circle\"},\"mode\":\"lines\",\"name\":\"JAXA\",\"showlegend\":false,\"x\":[2018.0,2019.0,2020.0],\"xaxis\":\"x\",\"y\":[30500000.00001526,56000000.00001526,81500000.00000763],\"yaxis\":\"y\",\"type\":\"scatter\"},{\"hovertemplate\":\"Company Name=Northrop\\u003cbr\\u003eYear=%{x}\\u003cbr\\u003e Launch Cost=%{y}\\u003cextra\\u003e\\u003c\\u002fextra\\u003e\",\"legendgroup\":\"Northrop\",\"marker\":{\"color\":\"#19d3f3\",\"symbol\":\"circle\"},\"mode\":\"markers\",\"name\":\"Northrop\",\"orientation\":\"v\",\"showlegend\":true,\"x\":[2020.0,2020.0,2019.0,2019.0,2019.0,2018.0,2018.0,2017.0,2017.0,2017.0,2016.0,2016.0,2014.0,2014.0,2014.0,2013.0,2013.0,2013.0,2013.0,2013.0,2012.0,2011.0,2011.0,2011.0,2011.0,2010.0,2010.0,2009.0,2009.0,2008.0,2008.0,2007.0,2007.0,2006.0,2006.0,2006.0,2005.0,2005.0,2005.0,2004.0,2003.0,2003.0,2003.0,2003.0,2002.0,2001.0,2000.0,2000.0,2000.0,2000.0,2000.0,1999.0,1999.0,1999.0,1999.0,1998.0,1998.0,1998.0,1998.0,1998.0,1998.0,1998.0,1998.0,1997.0,1997.0,1997.0,1997.0,1997.0,1996.0,1996.0,1996.0,1996.0,1996.0,1995.0,1995.0,1994.0,1994.0,1994.0,1994.0,1993.0,1993.0,1991.0,1990.0],\"xaxis\":\"x\",\"y\":[46000000.0,85000000.0,85000000.0,40000000.0,85000000.0,85000000.0,85000000.0,85000000.0,45000000.0,46000000.0,40000000.0,85000000.0,80000000.0,80000000.0,80000000.0,40000000.0,80000000.0,55000000.0,40000000.0,80000000.0,40000000.0,46000000.0,40000000.0,45000000.0,40000000.0,46000000.0,46000000.0,40000000.0,45000000.0,40000000.0,40000000.0,40000000.0,40000000.0,40000000.0,40000000.0,40000000.0,40000000.0,40000000.0,40000000.0,45000000.0,40000000.0,40000000.0,40000000.0,40000000.0,40000000.0,45000000.0,40000000.0,40000000.0,40000000.0,45000000.0,40000000.0,45000000.0,40000000.0,40000000.0,40000000.0,40000000.0,40000000.0,45000000.0,40000000.0,40000000.0,40000000.0,40000000.0,45000000.0,40000000.0,40000000.0,40000000.0,40000000.0,40000000.0,40000000.0,40000000.0,40000000.0,40000000.0,40000000.0,40000000.0,40000000.0,40000000.0,40000000.0,40000000.0,45000000.0,40000000.0,40000000.0,40000000.0,40000000.0],\"yaxis\":\"y\",\"type\":\"scatter\"},{\"hovertemplate\":\"\\u003cb\\u003eOLS trendline\\u003c\\u002fb\\u003e\\u003cbr\\u003e Launch Cost = 1.12266e+06 * Year + -2.20306e+09\\u003cbr\\u003eR\\u003csup\\u003e2\\u003c\\u002fsup\\u003e=0.392984\\u003cbr\\u003e\\u003cbr\\u003eCompany Name=Northrop\\u003cbr\\u003eYear=%{x}\\u003cbr\\u003e Launch Cost=%{y} \\u003cb\\u003e(trend)\\u003c\\u002fb\\u003e\\u003cextra\\u003e\\u003c\\u002fextra\\u003e\",\"legendgroup\":\"Northrop\",\"marker\":{\"color\":\"#19d3f3\",\"symbol\":\"circle\"},\"mode\":\"lines\",\"name\":\"Northrop\",\"showlegend\":false,\"x\":[1990.0,1991.0,1993.0,1993.0,1994.0,1994.0,1994.0,1994.0,1995.0,1995.0,1996.0,1996.0,1996.0,1996.0,1996.0,1997.0,1997.0,1997.0,1997.0,1997.0,1998.0,1998.0,1998.0,1998.0,1998.0,1998.0,1998.0,1998.0,1999.0,1999.0,1999.0,1999.0,2000.0,2000.0,2000.0,2000.0,2000.0,2001.0,2002.0,2003.0,2003.0,2003.0,2003.0,2004.0,2005.0,2005.0,2005.0,2006.0,2006.0,2006.0,2007.0,2007.0,2008.0,2008.0,2009.0,2009.0,2010.0,2010.0,2011.0,2011.0,2011.0,2011.0,2012.0,2013.0,2013.0,2013.0,2013.0,2013.0,2014.0,2014.0,2014.0,2016.0,2016.0,2017.0,2017.0,2017.0,2018.0,2018.0,2019.0,2019.0,2019.0,2020.0,2020.0],\"xaxis\":\"x\",\"y\":[31023523.093447685,32146180.577493668,34391495.54558611,34391495.54558611,35514153.02963257,35514153.02963257,35514153.02963257,35514153.02963257,36636810.51367855,36636810.51367855,37759467.99772501,37759467.99772501,37759467.99772501,37759467.99772501,37759467.99772501,38882125.48177147,38882125.48177147,38882125.48177147,38882125.48177147,38882125.48177147,40004782.96581745,40004782.96581745,40004782.96581745,40004782.96581745,40004782.96581745,40004782.96581745,40004782.96581745,40004782.96581745,41127440.44986391,41127440.44986391,41127440.44986391,41127440.44986391,42250097.93390989,42250097.93390989,42250097.93390989,42250097.93390989,42250097.93390989,43372755.41795635,44495412.90200281,45618070.386048794,45618070.386048794,45618070.386048794,45618070.386048794,46740727.87009525,47863385.354141235,47863385.354141235,47863385.354141235,48986042.838187695,48986042.838187695,48986042.838187695,50108700.32223368,50108700.32223368,51231357.806280136,51231357.806280136,52354015.290326595,52354015.290326595,53476672.77437258,53476672.77437258,54599330.25841904,54599330.25841904,54599330.25841904,54599330.25841904,55721987.74246502,56844645.22651148,56844645.22651148,56844645.22651148,56844645.22651148,56844645.22651148,57967302.71055746,57967302.71055746,57967302.71055746,60212617.67865038,60212617.67865038,61335275.16269636,61335275.16269636,61335275.16269636,62457932.64674282,62457932.64674282,63580590.1307888,63580590.1307888,63580590.1307888,64703247.61483526,64703247.61483526],\"yaxis\":\"y\",\"type\":\"scatter\"},{\"hovertemplate\":\"Company Name=ExPace\\u003cbr\\u003eYear=%{x}\\u003cbr\\u003e Launch Cost=%{y}\\u003cextra\\u003e\\u003c\\u002fextra\\u003e\",\"legendgroup\":\"ExPace\",\"marker\":{\"color\":\"#FF6692\",\"symbol\":\"circle\"},\"mode\":\"markers\",\"name\":\"ExPace\",\"orientation\":\"v\",\"showlegend\":true,\"x\":[2020.0],\"xaxis\":\"x\",\"y\":[28300000.0],\"yaxis\":\"y\",\"type\":\"scatter\"},{\"hovertemplate\":\"Company Name=ExPace\\u003cextra\\u003e\\u003c\\u002fextra\\u003e\",\"legendgroup\":\"ExPace\",\"marker\":{\"color\":\"#FF6692\",\"symbol\":\"circle\"},\"mode\":\"lines\",\"name\":\"ExPace\",\"showlegend\":false,\"xaxis\":\"x\",\"yaxis\":\"y\",\"type\":\"scatter\"},{\"hovertemplate\":\"Company Name=Rocket Lab\\u003cbr\\u003eYear=%{x}\\u003cbr\\u003e Launch Cost=%{y}\\u003cextra\\u003e\\u003c\\u002fextra\\u003e\",\"legendgroup\":\"Rocket Lab\",\"marker\":{\"color\":\"#B6E880\",\"symbol\":\"circle\"},\"mode\":\"markers\",\"name\":\"Rocket Lab\",\"orientation\":\"v\",\"showlegend\":true,\"x\":[2020.0,2020.0,2020.0,2019.0,2019.0,2019.0,2019.0,2019.0,2019.0,2018.0,2018.0,2018.0,2017.0],\"xaxis\":\"x\",\"y\":[7500000.0,7500000.0,7500000.0,7500000.0,7500000.0,7500000.0,7500000.0,7500000.0,7500000.0,7500000.0,7500000.0,7500000.0,7500000.0],\"yaxis\":\"y\",\"type\":\"scatter\"},{\"hovertemplate\":\"\\u003cb\\u003eOLS trendline\\u003c\\u002fb\\u003e\\u003cbr\\u003e Launch Cost = -4.65661e-10 * Year + 7.5e+06\\u003cbr\\u003eR\\u003csup\\u003e2\\u003c\\u002fsup\\u003e=-inf\\u003cbr\\u003e\\u003cbr\\u003eCompany Name=Rocket Lab\\u003cbr\\u003eYear=%{x}\\u003cbr\\u003e Launch Cost=%{y} \\u003cb\\u003e(trend)\\u003c\\u002fb\\u003e\\u003cextra\\u003e\\u003c\\u002fextra\\u003e\",\"legendgroup\":\"Rocket Lab\",\"marker\":{\"color\":\"#B6E880\",\"symbol\":\"circle\"},\"mode\":\"lines\",\"name\":\"Rocket Lab\",\"showlegend\":false,\"x\":[2017.0,2018.0,2018.0,2018.0,2019.0,2019.0,2019.0,2019.0,2019.0,2019.0,2020.0,2020.0,2020.0],\"xaxis\":\"x\",\"y\":[7499999.999999538,7499999.999999537,7499999.999999537,7499999.999999537,7499999.999999536,7499999.999999536,7499999.999999536,7499999.999999536,7499999.999999536,7499999.999999536,7499999.999999536,7499999.999999536,7499999.999999536],\"yaxis\":\"y\",\"type\":\"scatter\"},{\"hovertemplate\":\"Company Name=Virgin Orbit\\u003cbr\\u003eYear=%{x}\\u003cbr\\u003e Launch Cost=%{y}\\u003cextra\\u003e\\u003c\\u002fextra\\u003e\",\"legendgroup\":\"Virgin Orbit\",\"marker\":{\"color\":\"#FF97FF\",\"symbol\":\"circle\"},\"mode\":\"markers\",\"name\":\"Virgin Orbit\",\"orientation\":\"v\",\"showlegend\":true,\"x\":[2020.0],\"xaxis\":\"x\",\"y\":[12000000.0],\"yaxis\":\"y\",\"type\":\"scatter\"},{\"hovertemplate\":\"Company Name=Virgin Orbit\\u003cextra\\u003e\\u003c\\u002fextra\\u003e\",\"legendgroup\":\"Virgin Orbit\",\"marker\":{\"color\":\"#FF97FF\",\"symbol\":\"circle\"},\"mode\":\"lines\",\"name\":\"Virgin Orbit\",\"showlegend\":false,\"xaxis\":\"x\",\"yaxis\":\"y\",\"type\":\"scatter\"},{\"hovertemplate\":\"Company Name=MHI\\u003cbr\\u003eYear=%{x}\\u003cbr\\u003e Launch Cost=%{y}\\u003cextra\\u003e\\u003c\\u002fextra\\u003e\",\"legendgroup\":\"MHI\",\"marker\":{\"color\":\"#FECB52\",\"symbol\":\"circle\"},\"mode\":\"markers\",\"name\":\"MHI\",\"orientation\":\"v\",\"showlegend\":true,\"x\":[2020.0,2020.0,2019.0,2018.0,2018.0,2018.0,2018.0,2017.0,2017.0,2017.0,2017.0,2016.0,2016.0,2016.0,2015.0,2015.0,2015.0,2014.0,2014.0,2014.0,2014.0,2013.0,2013.0,2012.0,2012.0,2011.0,2011.0,2011.0,2011.0,2010.0,2009.0,2009.0,2009.0,2008.0,2006.0,2002.0,2001.0],\"xaxis\":\"x\",\"y\":[112500000.0,90000000.0,112500000.0,90000000.0,112500000.0,90000000.0,90000000.0,90000000.0,90000000.0,90000000.0,90000000.0,112500000.0,90000000.0,90000000.0,112500000.0,90000000.0,90000000.0,90000000.0,90000000.0,90000000.0,90000000.0,112500000.0,90000000.0,112500000.0,90000000.0,90000000.0,90000000.0,90000000.0,112500000.0,90000000.0,90000000.0,112500000.0,90000000.0,90000000.0,90000000.0,90000000.0,90000000.0],\"yaxis\":\"y\",\"type\":\"scatter\"},{\"hovertemplate\":\"\\u003cb\\u003eOLS trendline\\u003c\\u002fb\\u003e\\u003cbr\\u003e Launch Cost = 371075 * Year + -6.51652e+08\\u003cbr\\u003eR\\u003csup\\u003e2\\u003c\\u002fsup\\u003e=0.029909\\u003cbr\\u003e\\u003cbr\\u003eCompany Name=MHI\\u003cbr\\u003eYear=%{x}\\u003cbr\\u003e Launch Cost=%{y} \\u003cb\\u003e(trend)\\u003c\\u002fb\\u003e\\u003cextra\\u003e\\u003c\\u002fextra\\u003e\",\"legendgroup\":\"MHI\",\"marker\":{\"color\":\"#FECB52\",\"symbol\":\"circle\"},\"mode\":\"lines\",\"name\":\"MHI\",\"showlegend\":false,\"x\":[2001.0,2002.0,2006.0,2008.0,2009.0,2009.0,2009.0,2010.0,2011.0,2011.0,2011.0,2011.0,2012.0,2012.0,2013.0,2013.0,2014.0,2014.0,2014.0,2014.0,2015.0,2015.0,2015.0,2016.0,2016.0,2016.0,2017.0,2017.0,2017.0,2017.0,2018.0,2018.0,2018.0,2018.0,2019.0,2020.0,2020.0],\"xaxis\":\"x\",\"y\":[90869631.90183866,91240707.32587337,92725009.022012,93467159.8700813,93838235.29411602,93838235.29411602,93838235.29411602,94209310.71815073,94580386.14218533,94580386.14218533,94580386.14218533,94580386.14218533,94951461.56622005,94951461.56622005,95322536.99025464,95322536.99025464,95693612.41428936,95693612.41428936,95693612.41428936,95693612.41428936,96064687.83832407,96064687.83832407,96064687.83832407,96435763.26235867,96435763.26235867,96435763.26235867,96806838.68639338,96806838.68639338,96806838.68639338,96806838.68639338,97177914.11042798,97177914.11042798,97177914.11042798,97177914.11042798,97548989.53446269,97920064.9584974,97920064.9584974],\"yaxis\":\"y\",\"type\":\"scatter\"},{\"hovertemplate\":\"Company Name=Arianespace\\u003cbr\\u003eYear=%{x}\\u003cbr\\u003e Launch Cost=%{y}\\u003cextra\\u003e\\u003c\\u002fextra\\u003e\",\"legendgroup\":\"Arianespace\",\"marker\":{\"color\":\"#636efa\",\"symbol\":\"circle\"},\"mode\":\"markers\",\"name\":\"Arianespace\",\"orientation\":\"v\",\"showlegend\":true,\"x\":[2020.0,2020.0,2020.0,2020.0,2019.0,2019.0,2019.0,2019.0,2019.0,2019.0,2018.0,2018.0,2018.0,2018.0,2018.0,2018.0,2018.0,2017.0,2017.0,2017.0,2017.0,2017.0,2017.0,2017.0,2017.0,2016.0,2016.0,2016.0,2016.0,2016.0,2016.0,2016.0,2016.0,2015.0,2015.0,2015.0,2015.0,2015.0,2015.0,2015.0,2015.0,2015.0,2014.0,2014.0,2014.0,2014.0,2014.0,2014.0,2013.0,2013.0,2013.0,2013.0,2012.0,2012.0,2012.0,2012.0,2012.0,2012.0,2012.0,2011.0,2011.0,2011.0,2011.0,2011.0,2010.0,2010.0,2010.0,2010.0,2010.0,2010.0,2009.0,2009.0,2009.0,2009.0,2009.0,2009.0,2008.0,2008.0,2008.0,2008.0,2008.0,2007.0,2007.0,2007.0,2007.0,2006.0,2006.0,2006.0,2006.0,2006.0,2005.0,2005.0,2004.0,2004.0,2004.0,2002.0],\"xaxis\":\"x\",\"y\":[48500000.0,200000000.0,48500000.0,200000000.0,200000000.0,200000000.0,37000000.0,200000000.0,37000000.0,200000000.0,200000000.0,37000000.0,200000000.0,200000000.0,37000000.0,200000000.0,200000000.0,37000000.0,200000000.0,37000000.0,200000000.0,200000000.0,200000000.0,37000000.0,200000000.0,200000000.0,37000000.0,200000000.0,37000000.0,200000000.0,200000000.0,200000000.0,200000000.0,37000000.0,200000000.0,200000000.0,200000000.0,200000000.0,37000000.0,200000000.0,200000000.0,37000000.0,200000000.0,200000000.0,200000000.0,37000000.0,200000000.0,200000000.0,200000000.0,200000000.0,37000000.0,200000000.0,200000000.0,80000000.0,200000000.0,200000000.0,200000000.0,200000000.0,200000000.0,80000000.0,200000000.0,200000000.0,200000000.0,200000000.0,200000000.0,200000000.0,200000000.0,200000000.0,200000000.0,200000000.0,200000000.0,200000000.0,200000000.0,200000000.0,200000000.0,200000000.0,200000000.0,200000000.0,200000000.0,200000000.0,200000000.0,200000000.0,200000000.0,200000000.0,200000000.0,200000000.0,200000000.0,200000000.0,200000000.0,200000000.0,200000000.0,200000000.0,190000000.0,190000000.0,190000000.0,200000000.0],\"yaxis\":\"y\",\"type\":\"scatter\"},{\"hovertemplate\":\"\\u003cb\\u003eOLS trendline\\u003c\\u002fb\\u003e\\u003cbr\\u003e Launch Cost = -4.82286e+06 * Year + 9.87777e+09\\u003cbr\\u003eR\\u003csup\\u003e2\\u003c\\u002fsup\\u003e=0.129039\\u003cbr\\u003e\\u003cbr\\u003eCompany Name=Arianespace\\u003cbr\\u003eYear=%{x}\\u003cbr\\u003e Launch Cost=%{y} \\u003cb\\u003e(trend)\\u003c\\u002fb\\u003e\\u003cextra\\u003e\\u003c\\u002fextra\\u003e\",\"legendgroup\":\"Arianespace\",\"marker\":{\"color\":\"#636efa\",\"symbol\":\"circle\"},\"mode\":\"lines\",\"name\":\"Arianespace\",\"showlegend\":false,\"x\":[2002.0,2004.0,2004.0,2004.0,2005.0,2005.0,2006.0,2006.0,2006.0,2006.0,2006.0,2007.0,2007.0,2007.0,2007.0,2008.0,2008.0,2008.0,2008.0,2008.0,2009.0,2009.0,2009.0,2009.0,2009.0,2009.0,2010.0,2010.0,2010.0,2010.0,2010.0,2010.0,2011.0,2011.0,2011.0,2011.0,2011.0,2012.0,2012.0,2012.0,2012.0,2012.0,2012.0,2012.0,2013.0,2013.0,2013.0,2013.0,2014.0,2014.0,2014.0,2014.0,2014.0,2014.0,2015.0,2015.0,2015.0,2015.0,2015.0,2015.0,2015.0,2015.0,2015.0,2016.0,2016.0,2016.0,2016.0,2016.0,2016.0,2016.0,2016.0,2017.0,2017.0,2017.0,2017.0,2017.0,2017.0,2017.0,2017.0,2018.0,2018.0,2018.0,2018.0,2018.0,2018.0,2018.0,2019.0,2019.0,2019.0,2019.0,2019.0,2019.0,2020.0,2020.0,2020.0,2020.0],\"xaxis\":\"x\",\"y\":[222407565.29134178,212761849.9388008,212761849.9388008,212761849.9388008,207938992.26252937,207938992.26252937,203116134.58625793,203116134.58625793,203116134.58625793,203116134.58625793,203116134.58625793,198293276.9099865,198293276.9099865,198293276.9099865,198293276.9099865,193470419.23371506,193470419.23371506,193470419.23371506,193470419.23371506,193470419.23371506,188647561.55744362,188647561.55744362,188647561.55744362,188647561.55744362,188647561.55744362,188647561.55744362,183824703.8811741,183824703.8811741,183824703.8811741,183824703.8811741,183824703.8811741,183824703.8811741,179001846.20490265,179001846.20490265,179001846.20490265,179001846.20490265,179001846.20490265,174178988.5286312,174178988.5286312,174178988.5286312,174178988.5286312,174178988.5286312,174178988.5286312,174178988.5286312,169356130.85235977,169356130.85235977,169356130.85235977,169356130.85235977,164533273.17608833,164533273.17608833,164533273.17608833,164533273.17608833,164533273.17608833,164533273.17608833,159710415.4998169,159710415.4998169,159710415.4998169,159710415.4998169,159710415.4998169,159710415.4998169,159710415.4998169,159710415.4998169,159710415.4998169,154887557.82354546,154887557.82354546,154887557.82354546,154887557.82354546,154887557.82354546,154887557.82354546,154887557.82354546,154887557.82354546,150064700.14727592,150064700.14727592,150064700.14727592,150064700.14727592,150064700.14727592,150064700.14727592,150064700.14727592,150064700.14727592,145241842.4710045,145241842.4710045,145241842.4710045,145241842.4710045,145241842.4710045,145241842.4710045,145241842.4710045,140418984.79473305,140418984.79473305,140418984.79473305,140418984.79473305,140418984.79473305,140418984.79473305,135596127.1184616,135596127.1184616,135596127.1184616,135596127.1184616],\"yaxis\":\"y\",\"type\":\"scatter\"},{\"hovertemplate\":\"Company Name=VKS RF\\u003cbr\\u003eYear=%{x}\\u003cbr\\u003e Launch Cost=%{y}\\u003cextra\\u003e\\u003c\\u002fextra\\u003e\",\"legendgroup\":\"VKS RF\",\"marker\":{\"color\":\"#EF553B\",\"symbol\":\"circle\"},\"mode\":\"markers\",\"name\":\"VKS RF\",\"orientation\":\"v\",\"showlegend\":true,\"x\":[2020.0,2019.0,2019.0,2019.0,2019.0,2019.0,2018.0,2018.0,2018.0,2018.0,2017.0,2017.0,2017.0,2016.0,2016.0,2016.0,2016.0,2015.0,2015.0,2014.0,2014.0,2013.0,2013.0,2013.0,2013.0,2013.0,2012.0,2011.0,2010.0,2009.0,2008.0,2005.0,2004.0],\"xaxis\":\"x\",\"y\":[48500000.0,41800000.0,48500000.0,48500000.0,41800000.0,48500000.0,65000000.0,41800000.0,48500000.0,65000000.0,35000000.0,65000000.0,65000000.0,41800000.0,48500000.0,48500000.0,48500000.0,41800000.0,41800000.0,41800000.0,41800000.0,41800000.0,41800000.0,41800000.0,65000000.0,41800000.0,41800000.0,41800000.0,41800000.0,41800000.0,41800000.0,41800000.0,48500000.0],\"yaxis\":\"y\",\"type\":\"scatter\"},{\"hovertemplate\":\"\\u003cb\\u003eOLS trendline\\u003c\\u002fb\\u003e\\u003cbr\\u003e Launch Cost = 581368 * Year + -1.12433e+09\\u003cbr\\u003eR\\u003csup\\u003e2\\u003c\\u002fsup\\u003e=0.079083\\u003cbr\\u003e\\u003cbr\\u003eCompany Name=VKS RF\\u003cbr\\u003eYear=%{x}\\u003cbr\\u003e Launch Cost=%{y} \\u003cb\\u003e(trend)\\u003c\\u002fb\\u003e\\u003cextra\\u003e\\u003c\\u002fextra\\u003e\",\"legendgroup\":\"VKS RF\",\"marker\":{\"color\":\"#EF553B\",\"symbol\":\"circle\"},\"mode\":\"lines\",\"name\":\"VKS RF\",\"showlegend\":false,\"x\":[2004.0,2005.0,2008.0,2009.0,2010.0,2011.0,2012.0,2013.0,2013.0,2013.0,2013.0,2013.0,2014.0,2014.0,2015.0,2015.0,2016.0,2016.0,2016.0,2016.0,2017.0,2017.0,2017.0,2018.0,2018.0,2018.0,2018.0,2019.0,2019.0,2019.0,2019.0,2019.0,2020.0],\"xaxis\":\"x\",\"y\":[40735108.931221485,41316476.55982852,43060579.4456501,43641947.074257135,44223314.70286417,44804682.33147144,45386049.96007848,45967417.58868575,45967417.58868575,45967417.58868575,45967417.58868575,45967417.58868575,46548785.217292786,46548785.217292786,47130152.84589982,47130152.84589982,47711520.47450709,47711520.47450709,47711520.47450709,47711520.47450709,48292888.10311413,48292888.10311413,48292888.10311413,48874255.7317214,48874255.7317214,48874255.7317214,48874255.7317214,49455623.360328436,49455623.360328436,49455623.360328436,49455623.360328436,49455623.360328436,50036990.98893547],\"yaxis\":\"y\",\"type\":\"scatter\"},{\"hovertemplate\":\"Company Name=ISRO\\u003cbr\\u003eYear=%{x}\\u003cbr\\u003e Launch Cost=%{y}\\u003cextra\\u003e\\u003c\\u002fextra\\u003e\",\"legendgroup\":\"ISRO\",\"marker\":{\"color\":\"#00cc96\",\"symbol\":\"circle\"},\"mode\":\"markers\",\"name\":\"ISRO\",\"orientation\":\"v\",\"showlegend\":true,\"x\":[2019.0,2019.0,2019.0,2019.0,2019.0,2018.0,2018.0,2018.0,2018.0,2018.0,2018.0,2018.0,2017.0,2017.0,2017.0,2017.0,2017.0,2016.0,2016.0,2016.0,2016.0,2016.0,2016.0,2016.0,2015.0,2015.0,2015.0,2015.0,2015.0,2014.0,2014.0,2014.0,2014.0,2014.0,2013.0,2013.0,2013.0,2012.0,2012.0,2011.0,2011.0,2011.0,2010.0,2010.0,2010.0,2009.0,2009.0,2008.0,2008.0,2008.0,2007.0,2007.0,2007.0,2006.0,2005.0,2004.0,2003.0,2003.0,2002.0,2001.0,2001.0,1999.0,1997.0,1996.0,1994.0,1993.0],\"xaxis\":\"x\",\"y\":[21000000.0,31000000.0,62000000.0,21000000.0,21000000.0,47000000.0,21000000.0,62000000.0,21000000.0,31000000.0,47000000.0,31000000.0,31000000.0,31000000.0,62000000.0,47000000.0,31000000.0,31000000.0,25000000.0,47000000.0,31000000.0,31000000.0,31000000.0,31000000.0,21000000.0,31000000.0,47000000.0,31000000.0,31000000.0,62000000.0,31000000.0,21000000.0,31000000.0,47000000.0,31000000.0,31000000.0,21000000.0,21000000.0,31000000.0,21000000.0,31000000.0,25000000.0,47000000.0,21000000.0,47000000.0,21000000.0,21000000.0,31000000.0,21000000.0,21000000.0,47000000.0,21000000.0,25000000.0,47000000.0,25000000.0,47000000.0,25000000.0,47000000.0,25000000.0,25000000.0,47000000.0,25000000.0,25000000.0,25000000.0,25000000.0,25000000.0],\"yaxis\":\"y\",\"type\":\"scatter\"},{\"hovertemplate\":\"\\u003cb\\u003eOLS trendline\\u003c\\u002fb\\u003e\\u003cbr\\u003e Launch Cost = 325505 * Year + -6.22223e+08\\u003cbr\\u003eR\\u003csup\\u003e2\\u003c\\u002fsup\\u003e=0.034251\\u003cbr\\u003e\\u003cbr\\u003eCompany Name=ISRO\\u003cbr\\u003eYear=%{x}\\u003cbr\\u003e Launch Cost=%{y} \\u003cb\\u003e(trend)\\u003c\\u002fb\\u003e\\u003cextra\\u003e\\u003c\\u002fextra\\u003e\",\"legendgroup\":\"ISRO\",\"marker\":{\"color\":\"#00cc96\",\"symbol\":\"circle\"},\"mode\":\"lines\",\"name\":\"ISRO\",\"showlegend\":false,\"x\":[1993.0,1994.0,1996.0,1997.0,1999.0,2001.0,2001.0,2002.0,2003.0,2003.0,2004.0,2005.0,2006.0,2007.0,2007.0,2007.0,2008.0,2008.0,2008.0,2009.0,2009.0,2010.0,2010.0,2010.0,2011.0,2011.0,2011.0,2012.0,2012.0,2013.0,2013.0,2013.0,2014.0,2014.0,2014.0,2014.0,2014.0,2015.0,2015.0,2015.0,2015.0,2015.0,2016.0,2016.0,2016.0,2016.0,2016.0,2016.0,2016.0,2017.0,2017.0,2017.0,2017.0,2017.0,2018.0,2018.0,2018.0,2018.0,2018.0,2018.0,2018.0,2019.0,2019.0,2019.0,2019.0,2019.0],\"xaxis\":\"x\",\"y\":[26508108.108108044,26833612.92326796,27484622.553588033,27810127.36874795,28461136.99906802,29112146.629387975,29112146.629387975,29437651.44454801,29763156.259707928,29763156.259707928,30088661.074867964,30414165.890028,30739670.705187917,31065175.520347953,31065175.520347953,31065175.520347953,31390680.33550799,31390680.33550799,31390680.33550799,31716185.150667906,31716185.150667906,32041689.965827942,32041689.965827942,32041689.965827942,32367194.780987978,32367194.780987978,32367194.780987978,32692699.596147895,32692699.596147895,33018204.41130793,33018204.41130793,33018204.41130793,33343709.226467967,33343709.226467967,33343709.226467967,33343709.226467967,33343709.226467967,33669214.041627884,33669214.041627884,33669214.041627884,33669214.041627884,33669214.041627884,33994718.85678792,33994718.85678792,33994718.85678792,33994718.85678792,33994718.85678792,33994718.85678792,33994718.85678792,34320223.671947956,34320223.671947956,34320223.671947956,34320223.671947956,34320223.671947956,34645728.48710787,34645728.48710787,34645728.48710787,34645728.48710787,34645728.48710787,34645728.48710787,34645728.48710787,34971233.30226791,34971233.30226791,34971233.30226791,34971233.30226791,34971233.30226791],\"yaxis\":\"y\",\"type\":\"scatter\"},{\"hovertemplate\":\"Company Name=ILS\\u003cbr\\u003eYear=%{x}\\u003cbr\\u003e Launch Cost=%{y}\\u003cextra\\u003e\\u003c\\u002fextra\\u003e\",\"legendgroup\":\"ILS\",\"marker\":{\"color\":\"#ab63fa\",\"symbol\":\"circle\"},\"mode\":\"markers\",\"name\":\"ILS\",\"orientation\":\"v\",\"showlegend\":true,\"x\":[2019.0,2017.0,2017.0,2016.0,2016.0,2006.0,2006.0,2005.0,2005.0,2004.0,2003.0,2003.0,2002.0],\"xaxis\":\"x\",\"y\":[65000000.0,65000000.0,65000000.0,65000000.0,65000000.0,115000000.0,153000000.0,109000000.0,130000000.0,135000000.0,135000000.0,109000000.0,109000000.0],\"yaxis\":\"y\",\"type\":\"scatter\"},{\"hovertemplate\":\"\\u003cb\\u003eOLS trendline\\u003c\\u002fb\\u003e\\u003cbr\\u003e Launch Cost = -4.34179e+06 * Year + 8.82486e+09\\u003cbr\\u003eR\\u003csup\\u003e2\\u003c\\u002fsup\\u003e=0.773076\\u003cbr\\u003e\\u003cbr\\u003eCompany Name=ILS\\u003cbr\\u003eYear=%{x}\\u003cbr\\u003e Launch Cost=%{y} \\u003cb\\u003e(trend)\\u003c\\u002fb\\u003e\\u003cextra\\u003e\\u003c\\u002fextra\\u003e\",\"legendgroup\":\"ILS\",\"marker\":{\"color\":\"#ab63fa\",\"symbol\":\"circle\"},\"mode\":\"lines\",\"name\":\"ILS\",\"showlegend\":false,\"x\":[2002.0,2003.0,2003.0,2004.0,2005.0,2005.0,2006.0,2006.0,2016.0,2016.0,2017.0,2017.0,2019.0],\"xaxis\":\"x\",\"y\":[132598938.36626625,128257151.28281021,128257151.28281021,123915364.19935417,119573577.11589813,119573577.11589813,115231790.0324421,115231790.0324421,71813919.19787598,71813919.19787598,67472132.11441994,67472132.11441994,58788557.94750786],\"yaxis\":\"y\",\"type\":\"scatter\"},{\"hovertemplate\":\"Company Name=Eurockot\\u003cbr\\u003eYear=%{x}\\u003cbr\\u003e Launch Cost=%{y}\\u003cextra\\u003e\\u003c\\u002fextra\\u003e\",\"legendgroup\":\"Eurockot\",\"marker\":{\"color\":\"#FFA15A\",\"symbol\":\"circle\"},\"mode\":\"markers\",\"name\":\"Eurockot\",\"orientation\":\"v\",\"showlegend\":true,\"x\":[2018.0,2017.0,2016.0,2010.0,2009.0,2009.0,2006.0,2005.0,2003.0,2003.0,2002.0,2002.0,2000.0],\"xaxis\":\"x\",\"y\":[41800000.0,41800000.0,41800000.0,41800000.0,41800000.0,41800000.0,41800000.0,41800000.0,41800000.0,41800000.0,41800000.0,41800000.0,41800000.0],\"yaxis\":\"y\",\"type\":\"scatter\"},{\"hovertemplate\":\"\\u003cb\\u003eOLS trendline\\u003c\\u002fb\\u003e\\u003cbr\\u003e Launch Cost = -8.14907e-10 * Year + 4.18e+07\\u003cbr\\u003eR\\u003csup\\u003e2\\u003c\\u002fsup\\u003e=-inf\\u003cbr\\u003e\\u003cbr\\u003eCompany Name=Eurockot\\u003cbr\\u003eYear=%{x}\\u003cbr\\u003e Launch Cost=%{y} \\u003cb\\u003e(trend)\\u003c\\u002fb\\u003e\\u003cextra\\u003e\\u003c\\u002fextra\\u003e\",\"legendgroup\":\"Eurockot\",\"marker\":{\"color\":\"#FFA15A\",\"symbol\":\"circle\"},\"mode\":\"lines\",\"name\":\"Eurockot\",\"showlegend\":false,\"x\":[2000.0,2002.0,2002.0,2003.0,2003.0,2005.0,2006.0,2009.0,2009.0,2010.0,2016.0,2017.0,2018.0],\"xaxis\":\"x\",\"y\":[41799999.9999998,41799999.9999998,41799999.9999998,41799999.9999998,41799999.9999998,41799999.9999998,41799999.9999998,41799999.99999979,41799999.99999979,41799999.99999979,41799999.99999979,41799999.999999784,41799999.999999784],\"yaxis\":\"y\",\"type\":\"scatter\"},{\"hovertemplate\":\"Company Name=Kosmotras\\u003cbr\\u003eYear=%{x}\\u003cbr\\u003e Launch Cost=%{y}\\u003cextra\\u003e\\u003c\\u002fextra\\u003e\",\"legendgroup\":\"Kosmotras\",\"marker\":{\"color\":\"#19d3f3\",\"symbol\":\"circle\"},\"mode\":\"markers\",\"name\":\"Kosmotras\",\"orientation\":\"v\",\"showlegend\":true,\"x\":[2015.0,2014.0,2014.0,2013.0,2013.0,2011.0,2010.0,2010.0,2010.0,2009.0,2008.0,2008.0,2007.0,2007.0,2007.0,2006.0,2006.0,2005.0,2004.0,2000.0],\"xaxis\":\"x\",\"y\":[29000000.0,29000000.0,29000000.0,29000000.0,29000000.0,29000000.0,29000000.0,29000000.0,29000000.0,29000000.0,29000000.0,29000000.0,29000000.0,29000000.0,29000000.0,29000000.0,29000000.0,29000000.0,29000000.0,29000000.0],\"yaxis\":\"y\",\"type\":\"scatter\"},{\"hovertemplate\":\"\\u003cb\\u003eOLS trendline\\u003c\\u002fb\\u003e\\u003cbr\\u003e Launch Cost = 9.31323e-10 * Year + 2.9e+07\\u003cbr\\u003eR\\u003csup\\u003e2\\u003c\\u002fsup\\u003e=-inf\\u003cbr\\u003e\\u003cbr\\u003eCompany Name=Kosmotras\\u003cbr\\u003eYear=%{x}\\u003cbr\\u003e Launch Cost=%{y} \\u003cb\\u003e(trend)\\u003c\\u002fb\\u003e\\u003cextra\\u003e\\u003c\\u002fextra\\u003e\",\"legendgroup\":\"Kosmotras\",\"marker\":{\"color\":\"#19d3f3\",\"symbol\":\"circle\"},\"mode\":\"lines\",\"name\":\"Kosmotras\",\"showlegend\":false,\"x\":[2000.0,2004.0,2005.0,2006.0,2006.0,2007.0,2007.0,2007.0,2008.0,2008.0,2009.0,2010.0,2010.0,2010.0,2011.0,2013.0,2013.0,2014.0,2014.0,2015.0],\"xaxis\":\"x\",\"y\":[28999999.999999955,28999999.99999996,28999999.99999996,28999999.999999963,28999999.999999963,28999999.999999963,28999999.999999963,28999999.999999963,28999999.999999963,28999999.999999963,28999999.999999963,28999999.999999963,28999999.999999963,28999999.999999963,28999999.999999966,28999999.999999966,28999999.999999966,28999999.99999997,28999999.99999997,28999999.99999997],\"yaxis\":\"y\",\"type\":\"scatter\"},{\"hovertemplate\":\"Company Name=ESA\\u003cbr\\u003eYear=%{x}\\u003cbr\\u003e Launch Cost=%{y}\\u003cextra\\u003e\\u003c\\u002fextra\\u003e\",\"legendgroup\":\"ESA\",\"marker\":{\"color\":\"#FF6692\",\"symbol\":\"circle\"},\"mode\":\"markers\",\"name\":\"ESA\",\"orientation\":\"v\",\"showlegend\":true,\"x\":[2012.0],\"xaxis\":\"x\",\"y\":[37000000.0],\"yaxis\":\"y\",\"type\":\"scatter\"},{\"hovertemplate\":\"Company Name=ESA\\u003cextra\\u003e\\u003c\\u002fextra\\u003e\",\"legendgroup\":\"ESA\",\"marker\":{\"color\":\"#FF6692\",\"symbol\":\"circle\"},\"mode\":\"lines\",\"name\":\"ESA\",\"showlegend\":false,\"xaxis\":\"x\",\"yaxis\":\"y\",\"type\":\"scatter\"},{\"hovertemplate\":\"Company Name=Boeing\\u003cbr\\u003eYear=%{x}\\u003cbr\\u003e Launch Cost=%{y}\\u003cextra\\u003e\\u003c\\u002fextra\\u003e\",\"legendgroup\":\"Boeing\",\"marker\":{\"color\":\"#B6E880\",\"symbol\":\"circle\"},\"mode\":\"markers\",\"name\":\"Boeing\",\"orientation\":\"v\",\"showlegend\":true,\"x\":[2006.0,2006.0,2006.0,2004.0,2003.0,2003.0,2002.0],\"xaxis\":\"x\",\"y\":[133000000.0,164000000.0,164000000.0,350000000.0,133000000.0,133000000.0,164000000.0],\"yaxis\":\"y\",\"type\":\"scatter\"},{\"hovertemplate\":\"\\u003cb\\u003eOLS trendline\\u003c\\u002fb\\u003e\\u003cbr\\u003e Launch Cost = -1.52459e+06 * Year + 3.233e+09\\u003cbr\\u003eR\\u003csup\\u003e2\\u003c\\u002fsup\\u003e=0.001118\\u003cbr\\u003e\\u003cbr\\u003eCompany Name=Boeing\\u003cbr\\u003eYear=%{x}\\u003cbr\\u003e Launch Cost=%{y} \\u003cb\\u003e(trend)\\u003c\\u002fb\\u003e\\u003cextra\\u003e\\u003c\\u002fextra\\u003e\",\"legendgroup\":\"Boeing\",\"marker\":{\"color\":\"#B6E880\",\"symbol\":\"circle\"},\"mode\":\"lines\",\"name\":\"Boeing\",\"showlegend\":false,\"x\":[2002.0,2003.0,2003.0,2004.0,2006.0,2006.0,2006.0],\"xaxis\":\"x\",\"y\":[180770491.80329037,179245901.63935757,179245901.63935757,177721311.47542477,174672131.1475587,174672131.1475587,174672131.1475587],\"yaxis\":\"y\",\"type\":\"scatter\"},{\"hovertemplate\":\"Company Name=Lockheed\\u003cbr\\u003eYear=%{x}\\u003cbr\\u003e Launch Cost=%{y}\\u003cextra\\u003e\\u003c\\u002fextra\\u003e\",\"legendgroup\":\"Lockheed\",\"marker\":{\"color\":\"#FF97FF\",\"symbol\":\"circle\"},\"mode\":\"markers\",\"name\":\"Lockheed\",\"orientation\":\"v\",\"showlegend\":true,\"x\":[2003.0,2003.0,2002.0,2000.0,1999.0,1999.0,1998.0,1997.0],\"xaxis\":\"x\",\"y\":[35000000.0,35000000.0,35000000.0,35000000.0,35000000.0,35000000.0,35000000.0,35000000.0],\"yaxis\":\"y\",\"type\":\"scatter\"},{\"hovertemplate\":\"\\u003cb\\u003eOLS trendline\\u003c\\u002fb\\u003e\\u003cbr\\u003e Launch Cost = 1.86265e-09 * Year + 3.5e+07\\u003cbr\\u003eR\\u003csup\\u003e2\\u003c\\u002fsup\\u003e=-inf\\u003cbr\\u003e\\u003cbr\\u003eCompany Name=Lockheed\\u003cbr\\u003eYear=%{x}\\u003cbr\\u003e Launch Cost=%{y} \\u003cb\\u003e(trend)\\u003c\\u002fb\\u003e\\u003cextra\\u003e\\u003c\\u002fextra\\u003e\",\"legendgroup\":\"Lockheed\",\"marker\":{\"color\":\"#FF97FF\",\"symbol\":\"circle\"},\"mode\":\"lines\",\"name\":\"Lockheed\",\"showlegend\":false,\"x\":[1997.0,1998.0,1999.0,1999.0,2000.0,2002.0,2003.0,2003.0],\"xaxis\":\"x\",\"y\":[35000000.00000181,35000000.00000182,35000000.00000182,35000000.00000182,35000000.00000182,35000000.00000182,35000000.000001825,35000000.000001825],\"yaxis\":\"y\",\"type\":\"scatter\"},{\"hovertemplate\":\"Company Name=EER\\u003cbr\\u003eYear=%{x}\\u003cbr\\u003e Launch Cost=%{y}\\u003cextra\\u003e\\u003c\\u002fextra\\u003e\",\"legendgroup\":\"EER\",\"marker\":{\"color\":\"#FECB52\",\"symbol\":\"circle\"},\"mode\":\"markers\",\"name\":\"EER\",\"orientation\":\"v\",\"showlegend\":true,\"x\":[1995.0],\"xaxis\":\"x\",\"y\":[20000000.0],\"yaxis\":\"y\",\"type\":\"scatter\"},{\"hovertemplate\":\"Company Name=EER\\u003cextra\\u003e\\u003c\\u002fextra\\u003e\",\"legendgroup\":\"EER\",\"marker\":{\"color\":\"#FECB52\",\"symbol\":\"circle\"},\"mode\":\"lines\",\"name\":\"EER\",\"showlegend\":false,\"xaxis\":\"x\",\"yaxis\":\"y\",\"type\":\"scatter\"},{\"hovertemplate\":\"Company Name=Martin Marietta\\u003cbr\\u003eYear=%{x}\\u003cbr\\u003e Launch Cost=%{y}\\u003cextra\\u003e\\u003c\\u002fextra\\u003e\",\"legendgroup\":\"Martin Marietta\",\"marker\":{\"color\":\"#636efa\",\"symbol\":\"circle\"},\"mode\":\"markers\",\"name\":\"Martin Marietta\",\"orientation\":\"v\",\"showlegend\":true,\"x\":[1994.0,1993.0,1992.0,1992.0,1990.0,1990.0,1990.0,1989.0,1988.0],\"xaxis\":\"x\",\"y\":[35000000.0,35000000.0,136600000.0,35000000.0,136600000.0,136600000.0,136600000.0,35000000.0,35000000.0],\"yaxis\":\"y\",\"type\":\"scatter\"},{\"hovertemplate\":\"\\u003cb\\u003eOLS trendline\\u003c\\u002fb\\u003e\\u003cbr\\u003e Launch Cost = -5.11655e+06 * Year + 1.02666e+10\\u003cbr\\u003eR\\u003csup\\u003e2\\u003c\\u002fsup\\u003e=0.035252\\u003cbr\\u003e\\u003cbr\\u003eCompany Name=Martin Marietta\\u003cbr\\u003eYear=%{x}\\u003cbr\\u003e Launch Cost=%{y} \\u003cb\\u003e(trend)\\u003c\\u002fb\\u003e\\u003cextra\\u003e\\u003c\\u002fextra\\u003e\",\"legendgroup\":\"Martin Marietta\",\"marker\":{\"color\":\"#636efa\",\"symbol\":\"circle\"},\"mode\":\"lines\",\"name\":\"Martin Marietta\",\"showlegend\":false,\"x\":[1988.0,1989.0,1990.0,1990.0,1990.0,1992.0,1992.0,1993.0,1994.0],\"xaxis\":\"x\",\"y\":[94936690.64747429,89820143.88488579,84703597.12229729,84703597.12229729,84703597.12229729,74470503.59712029,74470503.59712029,69353956.83452988,64237410.071941376],\"yaxis\":\"y\",\"type\":\"scatter\"},{\"hovertemplate\":\"Company Name=US Air Force\\u003cbr\\u003eYear=%{x}\\u003cbr\\u003e Launch Cost=%{y}\\u003cextra\\u003e\\u003c\\u002fextra\\u003e\",\"legendgroup\":\"US Air Force\",\"marker\":{\"color\":\"#EF553B\",\"symbol\":\"circle\"},\"mode\":\"markers\",\"name\":\"US Air Force\",\"orientation\":\"v\",\"showlegend\":true,\"x\":[1969.0,1969.0,1969.0,1969.0,1968.0,1968.0,1968.0,1968.0,1968.0,1968.0,1968.0,1968.0,1967.0,1967.0,1967.0,1967.0,1967.0,1967.0,1966.0,1966.0,1966.0,1965.0,1965.0,1964.0,1964.0],\"xaxis\":\"x\",\"y\":[59000000.0,59000000.0,59000000.0,59000000.0,59000000.0,59000000.0,59000000.0,59000000.0,59000000.0,59000000.0,59000000.0,59000000.0,59000000.0,59000000.0,59000000.0,59000000.0,59000000.0,59000000.0,59000000.0,59000000.0,59000000.0,63230000.0,63230000.0,63230000.0,63230000.0],\"yaxis\":\"y\",\"type\":\"scatter\"},{\"hovertemplate\":\"\\u003cb\\u003eOLS trendline\\u003c\\u002fb\\u003e\\u003cbr\\u003e Launch Cost = -842143 * Year + 1.71627e+09\\u003cbr\\u003eR\\u003csup\\u003e2\\u003c\\u002fsup\\u003e=0.620965\\u003cbr\\u003e\\u003cbr\\u003eCompany Name=US Air Force\\u003cbr\\u003eYear=%{x}\\u003cbr\\u003e Launch Cost=%{y} \\u003cb\\u003e(trend)\\u003c\\u002fb\\u003e\\u003cextra\\u003e\\u003c\\u002fextra\\u003e\",\"legendgroup\":\"US Air Force\",\"marker\":{\"color\":\"#EF553B\",\"symbol\":\"circle\"},\"mode\":\"lines\",\"name\":\"US Air Force\",\"showlegend\":false,\"x\":[1964.0,1964.0,1965.0,1965.0,1966.0,1966.0,1966.0,1967.0,1967.0,1967.0,1967.0,1967.0,1967.0,1968.0,1968.0,1968.0,1968.0,1968.0,1968.0,1968.0,1968.0,1969.0,1969.0,1969.0,1969.0],\"xaxis\":\"x\",\"y\":[62304285.71428752,62304285.71428752,61462142.857144594,61462142.857144594,60620000.00000167,60620000.00000167,60620000.00000167,59777857.14285898,59777857.14285898,59777857.14285898,59777857.14285898,59777857.14285898,59777857.14285898,58935714.28571606,58935714.28571606,58935714.28571606,58935714.28571606,58935714.28571606,58935714.28571606,58935714.28571606,58935714.28571606,58093571.42857313,58093571.42857313,58093571.42857313,58093571.42857313],\"yaxis\":\"y\",\"type\":\"scatter\"},{\"mode\":\"lines\",\"name\":\"overall Trend-line\",\"x\":[2020.0,2020.0,2020.0,2020.0,2020.0,2020.0,2020.0,2020.0,2020.0,2020.0,2020.0,2020.0,2020.0,2020.0,2020.0,2020.0,2020.0,2020.0,2020.0,2020.0,2020.0,2020.0,2020.0,2020.0,2020.0,2020.0,2020.0,2020.0,2020.0,2020.0,2020.0,2020.0,2020.0,2020.0,2020.0,2020.0,2020.0,2020.0,2020.0,2020.0,2020.0,2020.0,2020.0,2020.0,2020.0,2020.0,2020.0,2020.0,2020.0,2020.0,2020.0,2020.0,2019.0,2019.0,2019.0,2019.0,2019.0,2019.0,2019.0,2019.0,2019.0,2019.0,2019.0,2019.0,2019.0,2019.0,2019.0,2019.0,2019.0,2019.0,2019.0,2019.0,2019.0,2019.0,2019.0,2019.0,2019.0,2019.0,2019.0,2019.0,2019.0,2019.0,2019.0,2019.0,2019.0,2019.0,2019.0,2019.0,2019.0,2019.0,2019.0,2019.0,2019.0,2019.0,2019.0,2019.0,2019.0,2019.0,2019.0,2019.0,2019.0,2019.0,2019.0,2019.0,2019.0,2019.0,2019.0,2019.0,2019.0,2019.0,2019.0,2019.0,2019.0,2019.0,2019.0,2019.0,2019.0,2019.0,2019.0,2019.0,2019.0,2019.0,2019.0,2019.0,2019.0,2018.0,2018.0,2018.0,2018.0,2018.0,2018.0,2018.0,2018.0,2018.0,2018.0,2018.0,2018.0,2018.0,2018.0,2018.0,2018.0,2018.0,2018.0,2018.0,2018.0,2018.0,2018.0,2018.0,2018.0,2018.0,2018.0,2018.0,2018.0,2018.0,2018.0,2018.0,2018.0,2018.0,2018.0,2018.0,2018.0,2018.0,2018.0,2018.0,2018.0,2018.0,2018.0,2018.0,2018.0,2018.0,2018.0,2018.0,2018.0,2018.0,2018.0,2018.0,2018.0,2018.0,2018.0,2018.0,2018.0,2018.0,2018.0,2018.0,2018.0,2018.0,2018.0,2018.0,2018.0,2018.0,2018.0,2018.0,2018.0,2018.0,2018.0,2018.0,2018.0,2018.0,2018.0,2018.0,2018.0,2018.0,2018.0,2018.0,2018.0,2018.0,2018.0,2018.0,2018.0,2018.0,2018.0,2018.0,2018.0,2017.0,2017.0,2017.0,2017.0,2017.0,2017.0,2017.0,2017.0,2017.0,2017.0,2017.0,2017.0,2017.0,2017.0,2017.0,2017.0,2017.0,2017.0,2017.0,2017.0,2017.0,2017.0,2017.0,2017.0,2017.0,2017.0,2017.0,2017.0,2017.0,2017.0,2017.0,2017.0,2017.0,2017.0,2017.0,2017.0,2017.0,2017.0,2017.0,2017.0,2017.0,2017.0,2017.0,2017.0,2017.0,2017.0,2017.0,2017.0,2017.0,2017.0,2017.0,2017.0,2017.0,2017.0,2017.0,2017.0,2017.0,2017.0,2017.0,2017.0,2017.0,2017.0,2017.0,2017.0,2017.0,2017.0,2016.0,2016.0,2016.0,2016.0,2016.0,2016.0,2016.0,2016.0,2016.0,2016.0,2016.0,2016.0,2016.0,2016.0,2016.0,2016.0,2016.0,2016.0,2016.0,2016.0,2016.0,2016.0,2016.0,2016.0,2016.0,2016.0,2016.0,2016.0,2016.0,2016.0,2016.0,2016.0,2016.0,2016.0,2016.0,2016.0,2016.0,2016.0,2016.0,2016.0,2016.0,2016.0,2016.0,2016.0,2016.0,2016.0,2016.0,2016.0,2016.0,2016.0,2016.0,2016.0,2016.0,2016.0,2016.0,2016.0,2016.0,2016.0,2016.0,2016.0,2016.0,2016.0,2016.0,2016.0,2015.0,2015.0,2015.0,2015.0,2015.0,2015.0,2015.0,2015.0,2015.0,2015.0,2015.0,2015.0,2015.0,2015.0,2015.0,2015.0,2015.0,2015.0,2015.0,2015.0,2015.0,2015.0,2015.0,2015.0,2015.0,2015.0,2015.0,2015.0,2015.0,2015.0,2015.0,2015.0,2015.0,2015.0,2015.0,2015.0,2015.0,2014.0,2014.0,2014.0,2014.0,2014.0,2014.0,2014.0,2014.0,2014.0,2014.0,2014.0,2014.0,2014.0,2014.0,2014.0,2014.0,2014.0,2014.0,2014.0,2014.0,2014.0,2014.0,2014.0,2014.0,2014.0,2014.0,2014.0,2014.0,2014.0,2014.0,2014.0,2014.0,2014.0,2014.0,2014.0,2014.0,2014.0,2014.0,2014.0,2014.0,2014.0,2013.0,2013.0,2013.0,2013.0,2013.0,2013.0,2013.0,2013.0,2013.0,2013.0,2013.0,2013.0,2013.0,2013.0,2013.0,2013.0,2013.0,2013.0,2013.0,2013.0,2013.0,2013.0,2013.0,2013.0,2013.0,2013.0,2013.0,2013.0,2013.0,2013.0,2013.0,2013.0,2013.0,2012.0,2012.0,2012.0,2012.0,2012.0,2012.0,2012.0,2012.0,2012.0,2012.0,2012.0,2012.0,2012.0,2012.0,2012.0,2012.0,2012.0,2012.0,2012.0,2012.0,2012.0,2012.0,2012.0,2012.0,2011.0,2011.0,2011.0,2011.0,2011.0,2011.0,2011.0,2011.0,2011.0,2011.0,2011.0,2011.0,2011.0,2011.0,2011.0,2011.0,2011.0,2011.0,2011.0,2011.0,2011.0,2011.0,2011.0,2011.0,2011.0,2011.0,2010.0,2010.0,2010.0,2010.0,2010.0,2010.0,2010.0,2010.0,2010.0,2010.0,2010.0,2010.0,2010.0,2010.0,2010.0,2010.0,2010.0,2010.0,2010.0,2010.0,2010.0,2010.0,2010.0,2010.0,2010.0,2010.0,2009.0,2009.0,2009.0,2009.0,2009.0,2009.0,2009.0,2009.0,2009.0,2009.0,2009.0,2009.0,2009.0,2009.0,2009.0,2009.0,2009.0,2009.0,2009.0,2009.0,2009.0,2009.0,2009.0,2009.0,2009.0,2008.0,2008.0,2008.0,2008.0,2008.0,2008.0,2008.0,2008.0,2008.0,2008.0,2008.0,2008.0,2008.0,2008.0,2008.0,2008.0,2008.0,2008.0,2008.0,2008.0,2008.0,2008.0,2008.0,2008.0,2007.0,2007.0,2007.0,2007.0,2007.0,2007.0,2007.0,2007.0,2007.0,2007.0,2007.0,2007.0,2007.0,2007.0,2007.0,2007.0,2007.0,2007.0,2007.0,2007.0,2007.0,2007.0,2007.0,2007.0,2007.0,2007.0,2006.0,2006.0,2006.0,2006.0,2006.0,2006.0,2006.0,2006.0,2006.0,2006.0,2006.0,2006.0,2006.0,2006.0,2006.0,2006.0,2006.0,2006.0,2006.0,2006.0,2006.0,2006.0,2006.0,2006.0,2005.0,2005.0,2005.0,2005.0,2005.0,2005.0,2005.0,2005.0,2005.0,2005.0,2005.0,2005.0,2005.0,2005.0,2004.0,2004.0,2004.0,2004.0,2004.0,2004.0,2004.0,2004.0,2004.0,2004.0,2004.0,2004.0,2004.0,2004.0,2004.0,2004.0,2004.0,2003.0,2003.0,2003.0,2003.0,2003.0,2003.0,2003.0,2003.0,2003.0,2003.0,2003.0,2003.0,2003.0,2003.0,2003.0,2003.0,2003.0,2003.0,2003.0,2002.0,2002.0,2002.0,2002.0,2002.0,2002.0,2002.0,2002.0,2002.0,2002.0,2002.0,2001.0,2001.0,2001.0,2001.0,2000.0,2000.0,2000.0,2000.0,2000.0,2000.0,2000.0,2000.0,2000.0,2000.0,2000.0,1999.0,1999.0,1999.0,1999.0,1999.0,1999.0,1999.0,1999.0,1999.0,1999.0,1998.0,1998.0,1998.0,1998.0,1998.0,1998.0,1998.0,1998.0,1998.0,1998.0,1998.0,1998.0,1998.0,1997.0,1997.0,1997.0,1997.0,1997.0,1997.0,1997.0,1997.0,1997.0,1997.0,1996.0,1996.0,1996.0,1996.0,1996.0,1996.0,1996.0,1995.0,1995.0,1995.0,1994.0,1994.0,1994.0,1994.0,1994.0,1994.0,1994.0,1994.0,1994.0,1993.0,1993.0,1993.0,1993.0,1993.0,1992.0,1992.0,1992.0,1992.0,1991.0,1990.0,1990.0,1990.0,1990.0,1990.0,1989.0,1988.0,1988.0,1987.0,1987.0,1986.0,1985.0,1984.0,1983.0,1982.0,1969.0,1969.0,1969.0,1969.0,1968.0,1968.0,1968.0,1968.0,1968.0,1968.0,1968.0,1968.0,1967.0,1967.0,1967.0,1967.0,1967.0,1967.0,1966.0,1966.0,1966.0,1965.0,1965.0,1964.0,1964.0],\"y\":[80600235.25759894,80600235.25759894,80600235.25759894,80600235.25759894,80600235.25759894,80600235.25759894,80600235.25759894,80600235.25759894,80600235.25759894,80600235.25759894,80600235.25759894,80600235.25759894,80600235.25759894,80600235.25759894,80600235.25759894,80600235.25759894,80600235.25759894,80600235.25759894,80600235.25759894,80600235.25759894,80600235.25759894,80600235.25759894,80600235.25759894,80600235.25759894,80600235.25759894,80600235.25759894,80600235.25759894,80600235.25759894,80600235.25759894,80600235.25759894,80600235.25759894,80600235.25759894,80600235.25759894,80600235.25759894,80600235.25759894,80600235.25759894,80600235.25759894,80600235.25759894,80600235.25759894,80600235.25759894,80600235.25759894,80600235.25759894,80600235.25759894,80600235.25759894,80600235.25759894,80600235.25759894,80600235.25759894,80600235.25759894,80600235.25759894,80600235.25759894,80600235.25759894,80600235.25759894,80189395.0681229,80189395.0681229,80189395.0681229,80189395.0681229,80189395.0681229,80189395.0681229,80189395.0681229,80189395.0681229,80189395.0681229,80189395.0681229,80189395.0681229,80189395.0681229,80189395.0681229,80189395.0681229,80189395.0681229,80189395.0681229,80189395.0681229,80189395.0681229,80189395.0681229,80189395.0681229,80189395.0681229,80189395.0681229,80189395.0681229,80189395.0681229,80189395.0681229,80189395.0681229,80189395.0681229,80189395.0681229,80189395.0681229,80189395.0681229,80189395.0681229,80189395.0681229,80189395.0681229,80189395.0681229,80189395.0681229,80189395.0681229,80189395.0681229,80189395.0681229,80189395.0681229,80189395.0681229,80189395.0681229,80189395.0681229,80189395.0681229,80189395.0681229,80189395.0681229,80189395.0681229,80189395.0681229,80189395.0681229,80189395.0681229,80189395.0681229,80189395.0681229,80189395.0681229,80189395.0681229,80189395.0681229,80189395.0681229,80189395.0681229,80189395.0681229,80189395.0681229,80189395.0681229,80189395.0681229,80189395.0681229,80189395.0681229,80189395.0681229,80189395.0681229,80189395.0681229,80189395.0681229,80189395.0681229,80189395.0681229,80189395.0681229,80189395.0681229,80189395.0681229,80189395.0681229,80189395.0681229,79778554.87864687,79778554.87864687,79778554.87864687,79778554.87864687,79778554.87864687,79778554.87864687,79778554.87864687,79778554.87864687,79778554.87864687,79778554.87864687,79778554.87864687,79778554.87864687,79778554.87864687,79778554.87864687,79778554.87864687,79778554.87864687,79778554.87864687,79778554.87864687,79778554.87864687,79778554.87864687,79778554.87864687,79778554.87864687,79778554.87864687,79778554.87864687,79778554.87864687,79778554.87864687,79778554.87864687,79778554.87864687,79778554.87864687,79778554.87864687,79778554.87864687,79778554.87864687,79778554.87864687,79778554.87864687,79778554.87864687,79778554.87864687,79778554.87864687,79778554.87864687,79778554.87864687,79778554.87864687,79778554.87864687,79778554.87864687,79778554.87864687,79778554.87864687,79778554.87864687,79778554.87864687,79778554.87864687,79778554.87864687,79778554.87864687,79778554.87864687,79778554.87864687,79778554.87864687,79778554.87864687,79778554.87864687,79778554.87864687,79778554.87864687,79778554.87864687,79778554.87864687,79778554.87864687,79778554.87864687,79778554.87864687,79778554.87864687,79778554.87864687,79778554.87864687,79778554.87864687,79778554.87864687,79778554.87864687,79778554.87864687,79778554.87864687,79778554.87864687,79778554.87864687,79778554.87864687,79778554.87864687,79778554.87864687,79778554.87864687,79778554.87864687,79778554.87864687,79778554.87864687,79778554.87864687,79778554.87864687,79778554.87864687,79778554.87864687,79778554.87864687,79778554.87864687,79778554.87864687,79778554.87864687,79778554.87864687,79778554.87864687,79367714.68917082,79367714.68917082,79367714.68917082,79367714.68917082,79367714.68917082,79367714.68917082,79367714.68917082,79367714.68917082,79367714.68917082,79367714.68917082,79367714.68917082,79367714.68917082,79367714.68917082,79367714.68917082,79367714.68917082,79367714.68917082,79367714.68917082,79367714.68917082,79367714.68917082,79367714.68917082,79367714.68917082,79367714.68917082,79367714.68917082,79367714.68917082,79367714.68917082,79367714.68917082,79367714.68917082,79367714.68917082,79367714.68917082,79367714.68917082,79367714.68917082,79367714.68917082,79367714.68917082,79367714.68917082,79367714.68917082,79367714.68917082,79367714.68917082,79367714.68917082,79367714.68917082,79367714.68917082,79367714.68917082,79367714.68917082,79367714.68917082,79367714.68917082,79367714.68917082,79367714.68917082,79367714.68917082,79367714.68917082,79367714.68917082,79367714.68917082,79367714.68917082,79367714.68917082,79367714.68917082,79367714.68917082,79367714.68917082,79367714.68917082,79367714.68917082,79367714.68917082,79367714.68917082,79367714.68917082,79367714.68917082,79367714.68917082,79367714.68917082,79367714.68917082,79367714.68917082,79367714.68917082,78956874.49969478,78956874.49969478,78956874.49969478,78956874.49969478,78956874.49969478,78956874.49969478,78956874.49969478,78956874.49969478,78956874.49969478,78956874.49969478,78956874.49969478,78956874.49969478,78956874.49969478,78956874.49969478,78956874.49969478,78956874.49969478,78956874.49969478,78956874.49969478,78956874.49969478,78956874.49969478,78956874.49969478,78956874.49969478,78956874.49969478,78956874.49969478,78956874.49969478,78956874.49969478,78956874.49969478,78956874.49969478,78956874.49969478,78956874.49969478,78956874.49969478,78956874.49969478,78956874.49969478,78956874.49969478,78956874.49969478,78956874.49969478,78956874.49969478,78956874.49969478,78956874.49969478,78956874.49969478,78956874.49969478,78956874.49969478,78956874.49969478,78956874.49969478,78956874.49969478,78956874.49969478,78956874.49969478,78956874.49969478,78956874.49969478,78956874.49969478,78956874.49969478,78956874.49969478,78956874.49969478,78956874.49969478,78956874.49969478,78956874.49969478,78956874.49969478,78956874.49969478,78956874.49969478,78956874.49969478,78956874.49969478,78956874.49969478,78956874.49969478,78956874.49969478,78546034.31021874,78546034.31021874,78546034.31021874,78546034.31021874,78546034.31021874,78546034.31021874,78546034.31021874,78546034.31021874,78546034.31021874,78546034.31021874,78546034.31021874,78546034.31021874,78546034.31021874,78546034.31021874,78546034.31021874,78546034.31021874,78546034.31021874,78546034.31021874,78546034.31021874,78546034.31021874,78546034.31021874,78546034.31021874,78546034.31021874,78546034.31021874,78546034.31021874,78546034.31021874,78546034.31021874,78546034.31021874,78546034.31021874,78546034.31021874,78546034.31021874,78546034.31021874,78546034.31021874,78546034.31021874,78546034.31021874,78546034.31021874,78546034.31021874,78135194.1207427,78135194.1207427,78135194.1207427,78135194.1207427,78135194.1207427,78135194.1207427,78135194.1207427,78135194.1207427,78135194.1207427,78135194.1207427,78135194.1207427,78135194.1207427,78135194.1207427,78135194.1207427,78135194.1207427,78135194.1207427,78135194.1207427,78135194.1207427,78135194.1207427,78135194.1207427,78135194.1207427,78135194.1207427,78135194.1207427,78135194.1207427,78135194.1207427,78135194.1207427,78135194.1207427,78135194.1207427,78135194.1207427,78135194.1207427,78135194.1207427,78135194.1207427,78135194.1207427,78135194.1207427,78135194.1207427,78135194.1207427,78135194.1207427,78135194.1207427,78135194.1207427,78135194.1207427,78135194.1207427,77724353.93126665,77724353.93126665,77724353.93126665,77724353.93126665,77724353.93126665,77724353.93126665,77724353.93126665,77724353.93126665,77724353.93126665,77724353.93126665,77724353.93126665,77724353.93126665,77724353.93126665,77724353.93126665,77724353.93126665,77724353.93126665,77724353.93126665,77724353.93126665,77724353.93126665,77724353.93126665,77724353.93126665,77724353.93126665,77724353.93126665,77724353.93126665,77724353.93126665,77724353.93126665,77724353.93126665,77724353.93126665,77724353.93126665,77724353.93126665,77724353.93126665,77724353.93126665,77724353.93126665,77313513.74179061,77313513.74179061,77313513.74179061,77313513.74179061,77313513.74179061,77313513.74179061,77313513.74179061,77313513.74179061,77313513.74179061,77313513.74179061,77313513.74179061,77313513.74179061,77313513.74179061,77313513.74179061,77313513.74179061,77313513.74179061,77313513.74179061,77313513.74179061,77313513.74179061,77313513.74179061,77313513.74179061,77313513.74179061,77313513.74179061,77313513.74179061,76902673.55231458,76902673.55231458,76902673.55231458,76902673.55231458,76902673.55231458,76902673.55231458,76902673.55231458,76902673.55231458,76902673.55231458,76902673.55231458,76902673.55231458,76902673.55231458,76902673.55231458,76902673.55231458,76902673.55231458,76902673.55231458,76902673.55231458,76902673.55231458,76902673.55231458,76902673.55231458,76902673.55231458,76902673.55231458,76902673.55231458,76902673.55231458,76902673.55231458,76902673.55231458,76491833.36283854,76491833.36283854,76491833.36283854,76491833.36283854,76491833.36283854,76491833.36283854,76491833.36283854,76491833.36283854,76491833.36283854,76491833.36283854,76491833.36283854,76491833.36283854,76491833.36283854,76491833.36283854,76491833.36283854,76491833.36283854,76491833.36283854,76491833.36283854,76491833.36283854,76491833.36283854,76491833.36283854,76491833.36283854,76491833.36283854,76491833.36283854,76491833.36283854,76491833.36283854,76080993.1733625,76080993.1733625,76080993.1733625,76080993.1733625,76080993.1733625,76080993.1733625,76080993.1733625,76080993.1733625,76080993.1733625,76080993.1733625,76080993.1733625,76080993.1733625,76080993.1733625,76080993.1733625,76080993.1733625,76080993.1733625,76080993.1733625,76080993.1733625,76080993.1733625,76080993.1733625,76080993.1733625,76080993.1733625,76080993.1733625,76080993.1733625,76080993.1733625,75670152.98388645,75670152.98388645,75670152.98388645,75670152.98388645,75670152.98388645,75670152.98388645,75670152.98388645,75670152.98388645,75670152.98388645,75670152.98388645,75670152.98388645,75670152.98388645,75670152.98388645,75670152.98388645,75670152.98388645,75670152.98388645,75670152.98388645,75670152.98388645,75670152.98388645,75670152.98388645,75670152.98388645,75670152.98388645,75670152.98388645,75670152.98388645,75259312.79441041,75259312.79441041,75259312.79441041,75259312.79441041,75259312.79441041,75259312.79441041,75259312.79441041,75259312.79441041,75259312.79441041,75259312.79441041,75259312.79441041,75259312.79441041,75259312.79441041,75259312.79441041,75259312.79441041,75259312.79441041,75259312.79441041,75259312.79441041,75259312.79441041,75259312.79441041,75259312.79441041,75259312.79441041,75259312.79441041,75259312.79441041,75259312.79441041,75259312.79441041,74848472.60493436,74848472.60493436,74848472.60493436,74848472.60493436,74848472.60493436,74848472.60493436,74848472.60493436,74848472.60493436,74848472.60493436,74848472.60493436,74848472.60493436,74848472.60493436,74848472.60493436,74848472.60493436,74848472.60493436,74848472.60493436,74848472.60493436,74848472.60493436,74848472.60493436,74848472.60493436,74848472.60493436,74848472.60493436,74848472.60493436,74848472.60493436,74437632.41545834,74437632.41545834,74437632.41545834,74437632.41545834,74437632.41545834,74437632.41545834,74437632.41545834,74437632.41545834,74437632.41545834,74437632.41545834,74437632.41545834,74437632.41545834,74437632.41545834,74437632.41545834,74026792.2259823,74026792.2259823,74026792.2259823,74026792.2259823,74026792.2259823,74026792.2259823,74026792.2259823,74026792.2259823,74026792.2259823,74026792.2259823,74026792.2259823,74026792.2259823,74026792.2259823,74026792.2259823,74026792.2259823,74026792.2259823,74026792.2259823,73615952.03650625,73615952.03650625,73615952.03650625,73615952.03650625,73615952.03650625,73615952.03650625,73615952.03650625,73615952.03650625,73615952.03650625,73615952.03650625,73615952.03650625,73615952.03650625,73615952.03650625,73615952.03650625,73615952.03650625,73615952.03650625,73615952.03650625,73615952.03650625,73615952.03650625,73205111.84703021,73205111.84703021,73205111.84703021,73205111.84703021,73205111.84703021,73205111.84703021,73205111.84703021,73205111.84703021,73205111.84703021,73205111.84703021,73205111.84703021,72794271.65755416,72794271.65755416,72794271.65755416,72794271.65755416,72383431.46807812,72383431.46807812,72383431.46807812,72383431.46807812,72383431.46807812,72383431.46807812,72383431.46807812,72383431.46807812,72383431.46807812,72383431.46807812,72383431.46807812,71972591.27860208,71972591.27860208,71972591.27860208,71972591.27860208,71972591.27860208,71972591.27860208,71972591.27860208,71972591.27860208,71972591.27860208,71972591.27860208,71561751.08912605,71561751.08912605,71561751.08912605,71561751.08912605,71561751.08912605,71561751.08912605,71561751.08912605,71561751.08912605,71561751.08912605,71561751.08912605,71561751.08912605,71561751.08912605,71561751.08912605,71150910.89965001,71150910.89965001,71150910.89965001,71150910.89965001,71150910.89965001,71150910.89965001,71150910.89965001,71150910.89965001,71150910.89965001,71150910.89965001,70740070.71017396,70740070.71017396,70740070.71017396,70740070.71017396,70740070.71017396,70740070.71017396,70740070.71017396,70329230.52069792,70329230.52069792,70329230.52069792,69918390.33122188,69918390.33122188,69918390.33122188,69918390.33122188,69918390.33122188,69918390.33122188,69918390.33122188,69918390.33122188,69918390.33122188,69507550.14174584,69507550.14174584,69507550.14174584,69507550.14174584,69507550.14174584,69096709.95226981,69096709.95226981,69096709.95226981,69096709.95226981,68685869.76279376,68275029.57331772,68275029.57331772,68275029.57331772,68275029.57331772,68275029.57331772,67864189.38384168,67453349.19436564,67453349.19436564,67042509.0048896,67042509.0048896,66631668.81541356,66220828.625937514,65809988.43646148,65399148.246985435,64988308.05750939,59647385.59432086,59647385.59432086,59647385.59432086,59647385.59432086,59236545.40484482,59236545.40484482,59236545.40484482,59236545.40484482,59236545.40484482,59236545.40484482,59236545.40484482,59236545.40484482,58825705.215368785,58825705.215368785,58825705.215368785,58825705.215368785,58825705.215368785,58825705.215368785,58414865.02589274,58414865.02589274,58414865.02589274,58004024.8364167,58004024.8364167,57593184.64694066,57593184.64694066],\"type\":\"scatter\"}],                        {\"template\":{\"data\":{\"histogram2dcontour\":[{\"type\":\"histogram2dcontour\",\"colorbar\":{\"outlinewidth\":0,\"ticks\":\"\"},\"colorscale\":[[0.0,\"#0d0887\"],[0.1111111111111111,\"#46039f\"],[0.2222222222222222,\"#7201a8\"],[0.3333333333333333,\"#9c179e\"],[0.4444444444444444,\"#bd3786\"],[0.5555555555555556,\"#d8576b\"],[0.6666666666666666,\"#ed7953\"],[0.7777777777777778,\"#fb9f3a\"],[0.8888888888888888,\"#fdca26\"],[1.0,\"#f0f921\"]]}],\"choropleth\":[{\"type\":\"choropleth\",\"colorbar\":{\"outlinewidth\":0,\"ticks\":\"\"}}],\"histogram2d\":[{\"type\":\"histogram2d\",\"colorbar\":{\"outlinewidth\":0,\"ticks\":\"\"},\"colorscale\":[[0.0,\"#0d0887\"],[0.1111111111111111,\"#46039f\"],[0.2222222222222222,\"#7201a8\"],[0.3333333333333333,\"#9c179e\"],[0.4444444444444444,\"#bd3786\"],[0.5555555555555556,\"#d8576b\"],[0.6666666666666666,\"#ed7953\"],[0.7777777777777778,\"#fb9f3a\"],[0.8888888888888888,\"#fdca26\"],[1.0,\"#f0f921\"]]}],\"heatmap\":[{\"type\":\"heatmap\",\"colorbar\":{\"outlinewidth\":0,\"ticks\":\"\"},\"colorscale\":[[0.0,\"#0d0887\"],[0.1111111111111111,\"#46039f\"],[0.2222222222222222,\"#7201a8\"],[0.3333333333333333,\"#9c179e\"],[0.4444444444444444,\"#bd3786\"],[0.5555555555555556,\"#d8576b\"],[0.6666666666666666,\"#ed7953\"],[0.7777777777777778,\"#fb9f3a\"],[0.8888888888888888,\"#fdca26\"],[1.0,\"#f0f921\"]]}],\"heatmapgl\":[{\"type\":\"heatmapgl\",\"colorbar\":{\"outlinewidth\":0,\"ticks\":\"\"},\"colorscale\":[[0.0,\"#0d0887\"],[0.1111111111111111,\"#46039f\"],[0.2222222222222222,\"#7201a8\"],[0.3333333333333333,\"#9c179e\"],[0.4444444444444444,\"#bd3786\"],[0.5555555555555556,\"#d8576b\"],[0.6666666666666666,\"#ed7953\"],[0.7777777777777778,\"#fb9f3a\"],[0.8888888888888888,\"#fdca26\"],[1.0,\"#f0f921\"]]}],\"contourcarpet\":[{\"type\":\"contourcarpet\",\"colorbar\":{\"outlinewidth\":0,\"ticks\":\"\"}}],\"contour\":[{\"type\":\"contour\",\"colorbar\":{\"outlinewidth\":0,\"ticks\":\"\"},\"colorscale\":[[0.0,\"#0d0887\"],[0.1111111111111111,\"#46039f\"],[0.2222222222222222,\"#7201a8\"],[0.3333333333333333,\"#9c179e\"],[0.4444444444444444,\"#bd3786\"],[0.5555555555555556,\"#d8576b\"],[0.6666666666666666,\"#ed7953\"],[0.7777777777777778,\"#fb9f3a\"],[0.8888888888888888,\"#fdca26\"],[1.0,\"#f0f921\"]]}],\"surface\":[{\"type\":\"surface\",\"colorbar\":{\"outlinewidth\":0,\"ticks\":\"\"},\"colorscale\":[[0.0,\"#0d0887\"],[0.1111111111111111,\"#46039f\"],[0.2222222222222222,\"#7201a8\"],[0.3333333333333333,\"#9c179e\"],[0.4444444444444444,\"#bd3786\"],[0.5555555555555556,\"#d8576b\"],[0.6666666666666666,\"#ed7953\"],[0.7777777777777778,\"#fb9f3a\"],[0.8888888888888888,\"#fdca26\"],[1.0,\"#f0f921\"]]}],\"mesh3d\":[{\"type\":\"mesh3d\",\"colorbar\":{\"outlinewidth\":0,\"ticks\":\"\"}}],\"scatter\":[{\"marker\":{\"line\":{\"color\":\"#283442\"}},\"type\":\"scatter\"}],\"parcoords\":[{\"type\":\"parcoords\",\"line\":{\"colorbar\":{\"outlinewidth\":0,\"ticks\":\"\"}}}],\"scatterpolargl\":[{\"type\":\"scatterpolargl\",\"marker\":{\"colorbar\":{\"outlinewidth\":0,\"ticks\":\"\"}}}],\"bar\":[{\"error_x\":{\"color\":\"#f2f5fa\"},\"error_y\":{\"color\":\"#f2f5fa\"},\"marker\":{\"line\":{\"color\":\"rgb(17,17,17)\",\"width\":0.5},\"pattern\":{\"fillmode\":\"overlay\",\"size\":10,\"solidity\":0.2}},\"type\":\"bar\"}],\"scattergeo\":[{\"type\":\"scattergeo\",\"marker\":{\"colorbar\":{\"outlinewidth\":0,\"ticks\":\"\"}}}],\"scatterpolar\":[{\"type\":\"scatterpolar\",\"marker\":{\"colorbar\":{\"outlinewidth\":0,\"ticks\":\"\"}}}],\"histogram\":[{\"marker\":{\"pattern\":{\"fillmode\":\"overlay\",\"size\":10,\"solidity\":0.2}},\"type\":\"histogram\"}],\"scattergl\":[{\"marker\":{\"line\":{\"color\":\"#283442\"}},\"type\":\"scattergl\"}],\"scatter3d\":[{\"type\":\"scatter3d\",\"line\":{\"colorbar\":{\"outlinewidth\":0,\"ticks\":\"\"}},\"marker\":{\"colorbar\":{\"outlinewidth\":0,\"ticks\":\"\"}}}],\"scattermapbox\":[{\"type\":\"scattermapbox\",\"marker\":{\"colorbar\":{\"outlinewidth\":0,\"ticks\":\"\"}}}],\"scatterternary\":[{\"type\":\"scatterternary\",\"marker\":{\"colorbar\":{\"outlinewidth\":0,\"ticks\":\"\"}}}],\"scattercarpet\":[{\"type\":\"scattercarpet\",\"marker\":{\"colorbar\":{\"outlinewidth\":0,\"ticks\":\"\"}}}],\"carpet\":[{\"aaxis\":{\"endlinecolor\":\"#A2B1C6\",\"gridcolor\":\"#506784\",\"linecolor\":\"#506784\",\"minorgridcolor\":\"#506784\",\"startlinecolor\":\"#A2B1C6\"},\"baxis\":{\"endlinecolor\":\"#A2B1C6\",\"gridcolor\":\"#506784\",\"linecolor\":\"#506784\",\"minorgridcolor\":\"#506784\",\"startlinecolor\":\"#A2B1C6\"},\"type\":\"carpet\"}],\"table\":[{\"cells\":{\"fill\":{\"color\":\"#506784\"},\"line\":{\"color\":\"rgb(17,17,17)\"}},\"header\":{\"fill\":{\"color\":\"#2a3f5f\"},\"line\":{\"color\":\"rgb(17,17,17)\"}},\"type\":\"table\"}],\"barpolar\":[{\"marker\":{\"line\":{\"color\":\"rgb(17,17,17)\",\"width\":0.5},\"pattern\":{\"fillmode\":\"overlay\",\"size\":10,\"solidity\":0.2}},\"type\":\"barpolar\"}],\"pie\":[{\"automargin\":true,\"type\":\"pie\"}]},\"layout\":{\"autotypenumbers\":\"strict\",\"colorway\":[\"#636efa\",\"#EF553B\",\"#00cc96\",\"#ab63fa\",\"#FFA15A\",\"#19d3f3\",\"#FF6692\",\"#B6E880\",\"#FF97FF\",\"#FECB52\"],\"font\":{\"color\":\"#f2f5fa\"},\"hovermode\":\"closest\",\"hoverlabel\":{\"align\":\"left\"},\"paper_bgcolor\":\"rgb(17,17,17)\",\"plot_bgcolor\":\"rgb(17,17,17)\",\"polar\":{\"bgcolor\":\"rgb(17,17,17)\",\"angularaxis\":{\"gridcolor\":\"#506784\",\"linecolor\":\"#506784\",\"ticks\":\"\"},\"radialaxis\":{\"gridcolor\":\"#506784\",\"linecolor\":\"#506784\",\"ticks\":\"\"}},\"ternary\":{\"bgcolor\":\"rgb(17,17,17)\",\"aaxis\":{\"gridcolor\":\"#506784\",\"linecolor\":\"#506784\",\"ticks\":\"\"},\"baxis\":{\"gridcolor\":\"#506784\",\"linecolor\":\"#506784\",\"ticks\":\"\"},\"caxis\":{\"gridcolor\":\"#506784\",\"linecolor\":\"#506784\",\"ticks\":\"\"}},\"coloraxis\":{\"colorbar\":{\"outlinewidth\":0,\"ticks\":\"\"}},\"colorscale\":{\"sequential\":[[0.0,\"#0d0887\"],[0.1111111111111111,\"#46039f\"],[0.2222222222222222,\"#7201a8\"],[0.3333333333333333,\"#9c179e\"],[0.4444444444444444,\"#bd3786\"],[0.5555555555555556,\"#d8576b\"],[0.6666666666666666,\"#ed7953\"],[0.7777777777777778,\"#fb9f3a\"],[0.8888888888888888,\"#fdca26\"],[1.0,\"#f0f921\"]],\"sequentialminus\":[[0.0,\"#0d0887\"],[0.1111111111111111,\"#46039f\"],[0.2222222222222222,\"#7201a8\"],[0.3333333333333333,\"#9c179e\"],[0.4444444444444444,\"#bd3786\"],[0.5555555555555556,\"#d8576b\"],[0.6666666666666666,\"#ed7953\"],[0.7777777777777778,\"#fb9f3a\"],[0.8888888888888888,\"#fdca26\"],[1.0,\"#f0f921\"]],\"diverging\":[[0,\"#8e0152\"],[0.1,\"#c51b7d\"],[0.2,\"#de77ae\"],[0.3,\"#f1b6da\"],[0.4,\"#fde0ef\"],[0.5,\"#f7f7f7\"],[0.6,\"#e6f5d0\"],[0.7,\"#b8e186\"],[0.8,\"#7fbc41\"],[0.9,\"#4d9221\"],[1,\"#276419\"]]},\"xaxis\":{\"gridcolor\":\"#283442\",\"linecolor\":\"#506784\",\"ticks\":\"\",\"title\":{\"standoff\":15},\"zerolinecolor\":\"#283442\",\"automargin\":true,\"zerolinewidth\":2},\"yaxis\":{\"gridcolor\":\"#283442\",\"linecolor\":\"#506784\",\"ticks\":\"\",\"title\":{\"standoff\":15},\"zerolinecolor\":\"#283442\",\"automargin\":true,\"zerolinewidth\":2},\"scene\":{\"xaxis\":{\"backgroundcolor\":\"rgb(17,17,17)\",\"gridcolor\":\"#506784\",\"linecolor\":\"#506784\",\"showbackground\":true,\"ticks\":\"\",\"zerolinecolor\":\"#C8D4E3\",\"gridwidth\":2},\"yaxis\":{\"backgroundcolor\":\"rgb(17,17,17)\",\"gridcolor\":\"#506784\",\"linecolor\":\"#506784\",\"showbackground\":true,\"ticks\":\"\",\"zerolinecolor\":\"#C8D4E3\",\"gridwidth\":2},\"zaxis\":{\"backgroundcolor\":\"rgb(17,17,17)\",\"gridcolor\":\"#506784\",\"linecolor\":\"#506784\",\"showbackground\":true,\"ticks\":\"\",\"zerolinecolor\":\"#C8D4E3\",\"gridwidth\":2}},\"shapedefaults\":{\"line\":{\"color\":\"#f2f5fa\"}},\"annotationdefaults\":{\"arrowcolor\":\"#f2f5fa\",\"arrowhead\":0,\"arrowwidth\":1},\"geo\":{\"bgcolor\":\"rgb(17,17,17)\",\"landcolor\":\"rgb(17,17,17)\",\"subunitcolor\":\"#506784\",\"showland\":true,\"showlakes\":true,\"lakecolor\":\"rgb(17,17,17)\"},\"title\":{\"x\":0.05},\"updatemenudefaults\":{\"bgcolor\":\"#506784\",\"borderwidth\":0},\"sliderdefaults\":{\"bgcolor\":\"#C8D4E3\",\"borderwidth\":1,\"bordercolor\":\"rgb(17,17,17)\",\"tickwidth\":0},\"mapbox\":{\"style\":\"dark\"}}},\"xaxis\":{\"anchor\":\"y\",\"domain\":[0.0,1.0],\"title\":{\"text\":\"Year\"}},\"yaxis\":{\"anchor\":\"x\",\"domain\":[0.0,1.0],\"title\":{\"text\":\" Launch Cost\"}},\"legend\":{\"title\":{\"text\":\"Company Name\"},\"tracegroupgap\":0},\"title\":{\"text\":\"Cost of launches by year and company\"}},                        {\"responsive\": true}                    ).then(function(){\n                            \nvar gd = document.getElementById('69704d86-9031-405f-aba0-0387a28eb258');\nvar x = new MutationObserver(function (mutations, observer) {{\n        var display = window.getComputedStyle(gd).display;\n        if (!display || display === 'none') {{\n            console.log([gd, 'removed!']);\n            Plotly.purge(gd);\n            observer.disconnect();\n        }}\n}});\n\n// Listen for the removal of the full notebook cells\nvar notebookContainer = gd.closest('#notebook-container');\nif (notebookContainer) {{\n    x.observe(notebookContainer, {childList: true});\n}}\n\n// Listen for the clearing of the current output cell\nvar outputEl = gd.closest('.output');\nif (outputEl) {{\n    x.observe(outputEl, {childList: true});\n}}\n\n                        })                };                });            </script>        </div>"
     },
     "metadata": {},
     "output_type": "display_data"
    }
   ],
   "source": [
    "import plotly.graph_objs as go\n",
    "# create a new dataframe with the year, company and cost of each launch\n",
    "df_cost_company = df[['Year', 'Company Name', ' Launch Cost']].dropna()\n",
    "\n",
    "# remove 0 cost launches\n",
    "df_cost_company = df_cost_company[df_cost_company[' Launch Cost'] != 0]\n",
    "\n",
    "# convert cost to a float\n",
    "df_cost_company[' Launch Cost'] = df_cost_company[' Launch Cost'].str.replace(',', '').astype(float)\n",
    "\n",
    "# convert from \"##.#\" to millions\n",
    "df_cost_company[' Launch Cost'] = df_cost_company[' Launch Cost'] * 1000000\n",
    "\n",
    "# remove outliers\n",
    "df_cost_company = df_cost_company[df_cost_company[' Launch Cost'] < 400000000]\n",
    "\n",
    "# Fit the regression model\n",
    "X = df_cost_company['Year']\n",
    "y = df_cost_company[' Launch Cost']\n",
    "X = sm.add_constant(X)\n",
    "model = sm.OLS(y, X).fit()\n",
    "\n",
    "# Get the predicted values\n",
    "predictions = model.predict(X)\n",
    "\n",
    "# Add the trendline to the scatter plot\n",
    "fig = px.scatter(df_cost_company, x='Year', y=' Launch Cost', color='Company Name', title='Cost of launches by year and company', trendline='ols')\n",
    "fig.add_traces(go.Scatter(x=df_cost_company['Year'], y=predictions, mode='lines', name='overall Trend-line'))\n",
    "fig.show()\n"
   ],
   "metadata": {
    "collapsed": false,
    "ExecuteTime": {
     "end_time": "2023-07-13T23:39:20.283629900Z",
     "start_time": "2023-07-13T23:39:19.980079300Z"
    }
   }
  },
  {
   "cell_type": "markdown",
   "source": [
    "# Conclusion\n",
    "\n",
    "The data was very clean and simple to work with, the only data cleaning necessary was converting the date to datetime format.\n",
    "\n",
    "## How did the rate of launches change over the years?\n",
    "* When looking at the data there are two peak times of space exploration the first starting in the 60's and dying down a bit in the late 70's.\n",
    "     The second starting in 2016 where launches where doubled that of previous years, this peak  slowed down in 2020 most likely due to the pandemic.\n",
    "\n",
    "## How many launches per location ?\n",
    "* The country with the most Launches is Russia with 1395 launches.\n",
    "* The country with the second most Launches is the USA with 1344 launches.\n",
    "* The country with the third most Launches is Kazakhstan with 701 launches.\n",
    "* France, China and Japan are the only other countries with more than 100 launches.\n",
    "\n",
    "## How many launches per company ?\n",
    "* The company with the most launches is RVSN USSR with 1777 launches.\n",
    "* All other companies have less than 300 Launches with Arianespace being the second most with 279 launches.\n",
    "* Nasa sits in fifth place with 203 launches sitting just behind General Dynamics and CASC.\n",
    "\n",
    "## What is the success rate of all launches ?\n",
    "* The success rate of all launches is 89.7%.\n",
    "* The failure rate of all launches is 7.84%.\n",
    "* The partial failure rate of all launches is 2.36%.\n",
    "* The preliminary failure rate of all launches is 0.0925%.\n",
    "\n",
    "## What is the success rate of all launches per year?\n",
    "* in the early days of space exploration, the success was significantly lower than it is now and yet it was still bellow 10% of all launches, but as technology improved, the success rate also increased.\n",
    "\n",
    "## How has the cost of the launches changed over time ?\n",
    "* The average cost of launches has slowly risen over the years but at a rather slow rate and this is primarily due to some outliers in the data where the cost of the launch is far greater than the average.\n",
    "\n",
    "## How has the cost of launches changed over time per company ?\n",
    "* While the average cost of launches has increased slightly over the years, some companies have managed to have a downward trend in cost , this is most likely due to increase in technology and the ability to reuse rockets or pieces of rockets.\n",
    "\n",
    "\n",
    "\n"
   ],
   "metadata": {
    "collapsed": false
   }
  },
  {
   "cell_type": "code",
   "execution_count": null,
   "outputs": [],
   "source": [],
   "metadata": {
    "collapsed": false
   }
  }
 ],
 "metadata": {
  "kernelspec": {
   "display_name": "Python 3",
   "language": "python",
   "name": "python3"
  },
  "language_info": {
   "codemirror_mode": {
    "name": "ipython",
    "version": 2
   },
   "file_extension": ".py",
   "mimetype": "text/x-python",
   "name": "python",
   "nbconvert_exporter": "python",
   "pygments_lexer": "ipython2",
   "version": "2.7.6"
  }
 },
 "nbformat": 4,
 "nbformat_minor": 0
}
